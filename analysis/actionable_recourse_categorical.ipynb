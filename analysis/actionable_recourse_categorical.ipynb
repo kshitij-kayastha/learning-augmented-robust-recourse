{
 "cells": [
  {
   "cell_type": "code",
   "execution_count": 32,
   "metadata": {},
   "outputs": [],
   "source": [
    "import sys\n",
    "sys.path.append('..')"
   ]
  },
  {
   "cell_type": "code",
   "execution_count": 33,
   "metadata": {},
   "outputs": [],
   "source": [
    "import numpy as np\n",
    "import pandas as pd\n",
    "import plotly.express as px\n",
    "import plotly.graph_objects as go"
   ]
  },
  {
   "cell_type": "code",
   "execution_count": 71,
   "metadata": {},
   "outputs": [],
   "source": [
    "dataset = 'german'\n",
    "base_model = 'lr'\n",
    "algs = ['alg1', 'roar']\n",
    "seeds = range(1)\n",
    "\n",
    "df_results = pd.DataFrame()\n",
    "# df_results_actionable = pd.DataFrame()\n",
    "for alg in algs:\n",
    "    for seed in seeds:\n",
    "        df_results = pd.concat((df_results, pd.read_pickle(f'../results/rob_con_tradeoff/history/{base_model}_{dataset}_{alg}_{seed}.pkl')))\n",
    "        # df_results_actionable = pd.concat((df_results_actionable, pd.read_pickle(f'../results/rob_con_tradeoff/history/{base_model}_{dataset}_{alg}_{seed}_actionable.pkl')))"
   ]
  },
  {
   "cell_type": "code",
   "execution_count": 37,
   "metadata": {},
   "outputs": [],
   "source": [
    "df_agg = df_results.groupby(['alg', 'p', 'beta'], as_index=False).mean()\n",
    "df_agg_actionable = df_results_actionable.groupby(['alg', 'p', 'beta'], as_index=False).mean()"
   ]
  },
  {
   "cell_type": "code",
   "execution_count": 75,
   "metadata": {},
   "outputs": [
    {
     "data": {
      "text/html": [
       "<div>\n",
       "<style scoped>\n",
       "    .dataframe tbody tr th:only-of-type {\n",
       "        vertical-align: middle;\n",
       "    }\n",
       "\n",
       "    .dataframe tbody tr th {\n",
       "        vertical-align: top;\n",
       "    }\n",
       "\n",
       "    .dataframe thead th {\n",
       "        text-align: right;\n",
       "    }\n",
       "</style>\n",
       "<table border=\"1\" class=\"dataframe\">\n",
       "  <thead>\n",
       "    <tr style=\"text-align: right;\">\n",
       "      <th></th>\n",
       "      <th>alg</th>\n",
       "      <th>beta</th>\n",
       "      <th>J_r</th>\n",
       "      <th>J_c</th>\n",
       "      <th>robustness</th>\n",
       "      <th>consistency</th>\n",
       "      <th>x_0</th>\n",
       "      <th>x_r</th>\n",
       "      <th>theta_0</th>\n",
       "    </tr>\n",
       "  </thead>\n",
       "  <tbody>\n",
       "    <tr>\n",
       "      <th>2525</th>\n",
       "      <td>OPT</td>\n",
       "      <td>0.0</td>\n",
       "      <td>4.432885</td>\n",
       "      <td>1.097614</td>\n",
       "      <td>0.474294</td>\n",
       "      <td>0.000000</td>\n",
       "      <td>[2.2482, 2.3708, -0.8396, 0.0, 1.0, 0.0, 0.0]</td>\n",
       "      <td>[2.2482, 2.3708, -0.8396, 0.0, 1.0, 0.0, 0.0]</td>\n",
       "      <td>[-0.4486, -0.0668, 0.169, -0.4235, -0.1368, 0....</td>\n",
       "    </tr>\n",
       "    <tr>\n",
       "      <th>2575</th>\n",
       "      <td>OPT</td>\n",
       "      <td>0.5</td>\n",
       "      <td>4.432927</td>\n",
       "      <td>1.097639</td>\n",
       "      <td>0.474336</td>\n",
       "      <td>0.000025</td>\n",
       "      <td>[2.2482, 2.3708, -0.8396, 0.0, 1.0, 0.0, 0.0]</td>\n",
       "      <td>[2.2482, 2.3708, -0.8396, -0.0, 1.0, 0.0, -0.0]</td>\n",
       "      <td>[-0.4486, -0.0668, 0.169, -0.4235, -0.1368, 0....</td>\n",
       "    </tr>\n",
       "    <tr>\n",
       "      <th>2625</th>\n",
       "      <td>OPT</td>\n",
       "      <td>1.0</td>\n",
       "      <td>3.958592</td>\n",
       "      <td>2.120911</td>\n",
       "      <td>0.000000</td>\n",
       "      <td>1.023297</td>\n",
       "      <td>[2.2482, 2.3708, -0.8396, 0.0, 1.0, 0.0, 0.0]</td>\n",
       "      <td>[0.0, 2.3708, -0.8396, 0.0, 1.0, 0.0, 0.0]</td>\n",
       "      <td>[-0.4486, -0.0668, 0.169, -0.4235, -0.1368, 0....</td>\n",
       "    </tr>\n",
       "    <tr>\n",
       "      <th>2525</th>\n",
       "      <td>ROAR</td>\n",
       "      <td>0.0</td>\n",
       "      <td>4.434937</td>\n",
       "      <td>1.099253</td>\n",
       "      <td>0.476345</td>\n",
       "      <td>0.001639</td>\n",
       "      <td>[2.2482, 2.3708, -0.8396, 0.0, 1.0, 0.0, 0.0]</td>\n",
       "      <td>[2.248, 2.3702, -0.8395, -0.0011, 1.0001, -0.0...</td>\n",
       "      <td>[-0.4486, -0.0668, 0.169, -0.4235, -0.1368, 0....</td>\n",
       "    </tr>\n",
       "    <tr>\n",
       "      <th>2575</th>\n",
       "      <td>ROAR</td>\n",
       "      <td>0.5</td>\n",
       "      <td>4.433602</td>\n",
       "      <td>1.099745</td>\n",
       "      <td>0.475011</td>\n",
       "      <td>0.002131</td>\n",
       "      <td>[2.2482, 2.3708, -0.8396, 0.0, 1.0, 0.0, 0.0]</td>\n",
       "      <td>[2.2469, 2.3708, -0.8391, 0.0, 0.9987, 1e-04, ...</td>\n",
       "      <td>[-0.4486, -0.0668, 0.169, -0.4235, -0.1368, 0....</td>\n",
       "    </tr>\n",
       "    <tr>\n",
       "      <th>2625</th>\n",
       "      <td>ROAR</td>\n",
       "      <td>1.0</td>\n",
       "      <td>4.431287</td>\n",
       "      <td>1.105317</td>\n",
       "      <td>0.472696</td>\n",
       "      <td>0.007703</td>\n",
       "      <td>[2.2482, 2.3708, -0.8396, 0.0, 1.0, 0.0, 0.0]</td>\n",
       "      <td>[2.2365, 2.3703, -0.8368, 1e-04, 0.999, 0.0003...</td>\n",
       "      <td>[-0.4486, -0.0668, 0.169, -0.4235, -0.1368, 0....</td>\n",
       "    </tr>\n",
       "  </tbody>\n",
       "</table>\n",
       "</div>"
      ],
      "text/plain": [
       "       alg  beta       J_r       J_c  robustness  consistency  \\\n",
       "2525   OPT   0.0  4.432885  1.097614    0.474294     0.000000   \n",
       "2575   OPT   0.5  4.432927  1.097639    0.474336     0.000025   \n",
       "2625   OPT   1.0  3.958592  2.120911    0.000000     1.023297   \n",
       "2525  ROAR   0.0  4.434937  1.099253    0.476345     0.001639   \n",
       "2575  ROAR   0.5  4.433602  1.099745    0.475011     0.002131   \n",
       "2625  ROAR   1.0  4.431287  1.105317    0.472696     0.007703   \n",
       "\n",
       "                                                x_0  \\\n",
       "2525  [2.2482, 2.3708, -0.8396, 0.0, 1.0, 0.0, 0.0]   \n",
       "2575  [2.2482, 2.3708, -0.8396, 0.0, 1.0, 0.0, 0.0]   \n",
       "2625  [2.2482, 2.3708, -0.8396, 0.0, 1.0, 0.0, 0.0]   \n",
       "2525  [2.2482, 2.3708, -0.8396, 0.0, 1.0, 0.0, 0.0]   \n",
       "2575  [2.2482, 2.3708, -0.8396, 0.0, 1.0, 0.0, 0.0]   \n",
       "2625  [2.2482, 2.3708, -0.8396, 0.0, 1.0, 0.0, 0.0]   \n",
       "\n",
       "                                                    x_r  \\\n",
       "2525      [2.2482, 2.3708, -0.8396, 0.0, 1.0, 0.0, 0.0]   \n",
       "2575    [2.2482, 2.3708, -0.8396, -0.0, 1.0, 0.0, -0.0]   \n",
       "2625         [0.0, 2.3708, -0.8396, 0.0, 1.0, 0.0, 0.0]   \n",
       "2525  [2.248, 2.3702, -0.8395, -0.0011, 1.0001, -0.0...   \n",
       "2575  [2.2469, 2.3708, -0.8391, 0.0, 0.9987, 1e-04, ...   \n",
       "2625  [2.2365, 2.3703, -0.8368, 1e-04, 0.999, 0.0003...   \n",
       "\n",
       "                                                theta_0  \n",
       "2525  [-0.4486, -0.0668, 0.169, -0.4235, -0.1368, 0....  \n",
       "2575  [-0.4486, -0.0668, 0.169, -0.4235, -0.1368, 0....  \n",
       "2625  [-0.4486, -0.0668, 0.169, -0.4235, -0.1368, 0....  \n",
       "2525  [-0.4486, -0.0668, 0.169, -0.4235, -0.1368, 0....  \n",
       "2575  [-0.4486, -0.0668, 0.169, -0.4235, -0.1368, 0....  \n",
       "2625  [-0.4486, -0.0668, 0.169, -0.4235, -0.1368, 0....  "
      ]
     },
     "execution_count": 75,
     "metadata": {},
     "output_type": "execute_result"
    }
   ],
   "source": [
    "i = 5\n",
    "df_results[((df_results['beta']==0) | (df_results['beta']==0.5) | (df_results['beta']==1)) & (df_results['p'] == 0) & (df_results['seed']==0) & (df_results['i']==i)][['alg', 'beta', 'J_r', 'J_c', 'robustness', 'consistency', 'x_0', 'x_r', 'theta_0']]"
   ]
  },
  {
   "cell_type": "code",
   "execution_count": 68,
   "metadata": {},
   "outputs": [
    {
     "data": {
      "text/html": [
       "<div>\n",
       "<style scoped>\n",
       "    .dataframe tbody tr th:only-of-type {\n",
       "        vertical-align: middle;\n",
       "    }\n",
       "\n",
       "    .dataframe tbody tr th {\n",
       "        vertical-align: top;\n",
       "    }\n",
       "\n",
       "    .dataframe thead th {\n",
       "        text-align: right;\n",
       "    }\n",
       "</style>\n",
       "<table border=\"1\" class=\"dataframe\">\n",
       "  <thead>\n",
       "    <tr style=\"text-align: right;\">\n",
       "      <th></th>\n",
       "      <th>beta</th>\n",
       "      <th>J_r</th>\n",
       "      <th>J_c</th>\n",
       "      <th>robustness</th>\n",
       "      <th>consistency</th>\n",
       "      <th>x_0</th>\n",
       "      <th>x_r</th>\n",
       "    </tr>\n",
       "  </thead>\n",
       "  <tbody>\n",
       "    <tr>\n",
       "      <th>1010</th>\n",
       "      <td>0.0</td>\n",
       "      <td>2.514289</td>\n",
       "      <td>0.882108</td>\n",
       "      <td>0.142923</td>\n",
       "      <td>0.000000</td>\n",
       "      <td>[1.2526, -0.1599, -0.7516, 1.0, 0.0, 0.0, 0.0]</td>\n",
       "      <td>[1.2526, -0.1599, -0.7516, 1.0, 0.0, 0.0, 0.0]</td>\n",
       "    </tr>\n",
       "    <tr>\n",
       "      <th>1060</th>\n",
       "      <td>0.5</td>\n",
       "      <td>2.514289</td>\n",
       "      <td>0.882108</td>\n",
       "      <td>0.142923</td>\n",
       "      <td>0.000000</td>\n",
       "      <td>[1.2526, -0.1599, -0.7516, 1.0, 0.0, 0.0, 0.0]</td>\n",
       "      <td>[1.2526, -0.1599, -0.7516, 1.0, 0.0, 0.0, 0.0]</td>\n",
       "    </tr>\n",
       "    <tr>\n",
       "      <th>1110</th>\n",
       "      <td>1.0</td>\n",
       "      <td>2.372269</td>\n",
       "      <td>1.468611</td>\n",
       "      <td>0.000903</td>\n",
       "      <td>0.586504</td>\n",
       "      <td>[1.2526, -0.1599, -0.7516, 1.0, 0.0, 0.0, 0.0]</td>\n",
       "      <td>[0.0, -0.1599, -0.7516, 1.0, 0.0, 0.0, 0.0]</td>\n",
       "    </tr>\n",
       "  </tbody>\n",
       "</table>\n",
       "</div>"
      ],
      "text/plain": [
       "      beta       J_r       J_c  robustness  consistency  \\\n",
       "1010   0.0  2.514289  0.882108    0.142923     0.000000   \n",
       "1060   0.5  2.514289  0.882108    0.142923     0.000000   \n",
       "1110   1.0  2.372269  1.468611    0.000903     0.586504   \n",
       "\n",
       "                                                 x_0  \\\n",
       "1010  [1.2526, -0.1599, -0.7516, 1.0, 0.0, 0.0, 0.0]   \n",
       "1060  [1.2526, -0.1599, -0.7516, 1.0, 0.0, 0.0, 0.0]   \n",
       "1110  [1.2526, -0.1599, -0.7516, 1.0, 0.0, 0.0, 0.0]   \n",
       "\n",
       "                                                 x_r  \n",
       "1010  [1.2526, -0.1599, -0.7516, 1.0, 0.0, 0.0, 0.0]  \n",
       "1060  [1.2526, -0.1599, -0.7516, 1.0, 0.0, 0.0, 0.0]  \n",
       "1110     [0.0, -0.1599, -0.7516, 1.0, 0.0, 0.0, 0.0]  "
      ]
     },
     "execution_count": 68,
     "metadata": {},
     "output_type": "execute_result"
    }
   ],
   "source": [
    "df_results_actionable[((df_results_actionable['beta']==0) | (df_results_actionable['beta']==0.5) | (df_results_actionable['beta']==1)) & (df_results_actionable['p'] == 0) & (df_results_actionable['seed']==0) & (df_results_actionable['i']==i)][['beta', 'J_r', 'J_c', 'robustness', 'consistency', 'x_0', 'x_r']]"
   ]
  },
  {
   "cell_type": "code",
   "execution_count": 17,
   "metadata": {},
   "outputs": [
    {
     "data": {
      "application/vnd.plotly.v1+json": {
       "config": {
        "plotlyServerURL": "https://plot.ly"
       },
       "data": [
        {
         "hovertemplate": "seed=1.9852941176470589<br>p=0<br>beta=%{x}<br>L1x=%{y}<br>robustness=%{marker.color}<extra></extra>",
         "legendgroup": "",
         "marker": {
          "color": {
           "bdata": "JQVMKw722D8lBUwrDvbYPyUFTCsO9tg/JQVMKw722D8lBUwrDvbYPyUFTCsO9tg/JQVMKw722D8lBUwrDvbYPyUFTCsO9tg/JQVMKw722D8lBUwrDvbYPyUFTCsO9tg/JQVMKw722D8lBUwrDvbYPyUFTCsO9tg/JQVMKw722D8lBUwrDvbYPyUFTCsO9tg/JQVMKw722D8lBUwrDvbYPyUFTCsO9tg/JQVMKw722D8lBUwrDvbYPyUFTCsO9tg/JQVMKw722D8lBUwrDvbYP+OodJAu4Ng/5mval1bK2D/PykHah7TYP6PcEkXEntg/kK15Kw6J2D9lArvCc13YP6iPpz3wMdg/EcbcWIgG2D+IgbND5MXXPwGkGgskZdc/Oq0oUbja1j8T7TxpOmbWP2hcgn9g3dU/qb0si/lK1T94hwyNarrUP9Ahju9KKtQ/2EuwBGGw0z84q9DfWy7TP5Kv2vGEvdI/l471uPZd0j8wEFJGHBLSP7hG3Nou59E/KmrOwXet0T/1hbDvtXzRP036ODdMRNE/r1pPHf8W0T9LK9/x+/XQP/jeMLOa2dA/o31N4Te/0D9OnxC8ZarQPylfHy9TjtA/lZgW6MmH0D/BJN+ReW/QPw5ukB6KbNA/qd0vvN9a0D+1dGjRDlDQP07I9h81P9A/HEdIG+kl0D9cj7JoK9DPPxFb1YWm6s4/oWxu7DS9zT9yldDQxH7MP/jB+5L7y8o/XjsJUlTUyD92aIkYK7bGP/6X5CmRcsQ/fVxvPZuJwj9KeDrByanAPxUnk4y4jL0/0U3pt2cVuj+pC8ORVm+3P0ujnBigzrc/uk15iXEAtj+AjJU/IJm0P+FaXkIYCK4/QviFqLB0sD9jKpO1+bOtP5KAeT2r1qk/wW4/9Q6Lpz9o0rNqzCGkP+6u5Hotw6E/thNyvvPioD+GcGKGerCbP0awrrAF25g/02uKIkq5mz8eKbjw5m6EP6hKzHQsApM/V9YwHO6WkT/+fcu0KZuQP8JZevX4vJQ/cYxlL8F/cj/iZsh6uTSNP1yl5YqCTpA/GoU/W99Pkz9pg19L0rJtPw==",
           "dtype": "f8"
          },
          "coloraxis": "coloraxis",
          "symbol": "circle"
         },
         "mode": "markers",
         "name": "",
         "orientation": "v",
         "showlegend": false,
         "type": "scatter",
         "x": {
          "bdata": "AAAAAAAAAAB7FK5H4XqEP3sUrkfhepQ/uB6F61G4nj97FK5H4XqkP5qZmZmZmak/uB6F61G4rj/sUbgeheuxP3sUrkfherQ/CtejcD0Ktz+amZmZmZm5Pylcj8L1KLw/uB6F61G4vj+kcD0K16PAP+xRuB6F68E/MzMzMzMzwz97FK5H4XrEP8P1KFyPwsU/CtejcD0Kxz9SuB6F61HIP5qZmZmZmck/4XoUrkfhyj8pXI/C9SjMP3E9CtejcM0/uB6F61G4zj8AAAAAAADQP6RwPQrXo9A/SOF6FK5H0T/sUbgehevRP4/C9Shcj9I/MzMzMzMz0z/Xo3A9CtfTP3sUrkfhetQ/H4XrUbge1T/D9Shcj8LVP2ZmZmZmZtY/CtejcD0K1z+uR+F6FK7XP1K4HoXrUdg/9ihcj8L12D+amZmZmZnZPz0K16NwPdo/4XoUrkfh2j+F61G4HoXbPylcj8L1KNw/zczMzMzM3D9xPQrXo3DdPxSuR+F6FN4/uB6F61G43j9cj8L1KFzfPwAAAAAAAOA/UrgehetR4D+kcD0K16PgP/YoXI/C9eA/SOF6FK5H4T+amZmZmZnhP+xRuB6F6+E/PQrXo3A94j+PwvUoXI/iP+F6FK5H4eI/MzMzMzMz4z+F61G4HoXjP9ejcD0K1+M/KVyPwvUo5D97FK5H4XrkP83MzMzMzOQ/H4XrUbge5T9xPQrXo3DlP8P1KFyPwuU/FK5H4XoU5j9mZmZmZmbmP7gehetRuOY/CtejcD0K5z9cj8L1KFznP65H4XoUruc/AAAAAAAA6D9SuB6F61HoP6RwPQrXo+g/9ihcj8L16D9I4XoUrkfpP5qZmZmZmek/7FG4HoXr6T89CtejcD3qP4/C9Shcj+o/4XoUrkfh6j8zMzMzMzPrP4XrUbgehes/16NwPQrX6z8pXI/C9SjsP3sUrkfheuw/zczMzMzM7D8fhetRuB7tP3E9CtejcO0/w/UoXI/C7T8UrkfhehTuP2ZmZmZmZu4/uB6F61G47j8K16NwPQrvP1yPwvUoXO8/rkfhehSu7z8AAAAAAADwPw==",
          "dtype": "f8"
         },
         "xaxis": "x",
         "y": {
          "bdata": "AAAAAAAAAAAAAAAAAAAAAAAAAAAAAAAAAAAAAAAAAAAAAAAAAAAAAAAAAAAAAAAAAAAAAAAAAAAAAAAAAAAAAAAAAAAAAAAAAAAAAAAAAAAAAAAAAAAAAAAAAAAAAAAAAAAAAAAAAAAAAAAAAAAAAAAAAAAAAAAAAAAAAAAAAAAAAAAAAAAAAAAAAAAAAAAAAAAAAAAAAAAAAAAAAAAAAAAAAAAAAAAAAAAAAAAAAAAAAAAAAAAAAAAAAAAAAAAAAAAAAAAAAAAAAAAAAAAAAA8YGBgYGGg/FxgYGBgYeD8PEhISEhKCPxcYGBgYGIg/Hh4eHh4ejj8TFRUVFRWVPxkbGxsbG5s/j5CQkJCQoD8UFRUVFRWlP9zb29vb26s/09LS0tLSsj/39vb29va2P9zb29vb27s/kZCQkJCQwD8zMzMzMzPDP9fV1dXV1cU/GBgYGBgYyD+KioqKiorKPwTpudy3scw/rzd52b6Pzj/hhPUyPRTQP1n9bau1jNA/AqYWVF410T+TNqfk7sXRPzvfT42XbtI/zG/gHSj/0j92+LiDJWvTP9ZYGeSFy9M/N7l5ROYr1D9+AcKMLnTUPyiKmvIr4NQ/QKKyCkT41D+gAhNrpFjVPwluqYjYZdU/Urbx0CCu1T+C5iEBUd7VP8ouakmZJtY/dLdCr5aS1j99wEu4n5vXP3e6RbKZldk/eAfKv+hE3D+phH79ZyTfP088ufgtjOE/qZYTU4jm4z9ALarpHn3mPx8Micj9W+k/nYoHR3za6z/RPlHUlF/uP7nwebsbgfA/pOdy38bC8T+o6nXiycXyPwaLdsiAH/Q/ljd9Mycl9T8r6omk0zD2P/jCZKpglPY/23hoENfi9z9YyAUQ58r4P8IFkf3koPk/ITtqR2yy+j8d3adJj4X7P4hlipARZ/w/JMGwWB8r/T+iU/HgiA/+P6Y8q71Awf4/T92flb5a/z8Ras4J6Xj/P4m2aAb2PQBA3gIJih+DAEBO3Z+VvroAQJkkkXh0/gBA2U3h+f3zAEDZU2gWXl8BQFK28dAgjgFANKYOoI2qAUAWbHqnWZcBQA==",
          "dtype": "f8"
         },
         "yaxis": "y"
        },
        {
         "hovertemplate": "seed=1.9852941176470589<br>p=1<br>beta=%{x}<br>L1x=%{y}<br>robustness=%{marker.color}<extra></extra>",
         "legendgroup": "",
         "marker": {
          "color": {
           "bdata": "JQVMKw722D8lBUwrDvbYPyUFTCsO9tg/JQVMKw722D8lBUwrDvbYPyUFTCsO9tg/JQVMKw722D8lBUwrDvbYPyUFTCsO9tg/JQVMKw722D8lBUwrDvbYPyUFTCsO9tg/nEw/gB3r2D/jqHSQLuDYP+A/IYhB1dg/5mval1bK2D/PykHah7TYP07ABYikqdg/o9wSRcSe2D8RoB5f55PYP5CteSsOidg/vXZ8LMNz2D9eCvRXil7YP3f6lmtlSdg/XfmRTVY02D+peb8PXx/YP8OsK3Xn9Nc/kyOxhBXA1z++KJMthnXXPyxN/6suNtc/AxEx0VDs1j+yihF2+o3WPwuUeh73L9Y/vLJDHJ/w1T9y9ar3T57VP5/Rau9ILNU/nH48CTLb1D+Asi7LiVvUP26XNlT/AdQ/4cYJHiKX0z+y7RyK3zjTP474Fn8ozdI/5zZe4UF+0j/glRji3BTSP0QGn4Soy9E/3IpjCCyL0T/UubjBMF3RP3hD7JZiG9E/N/KmhBT/0D/lEDi7neHQPwNH6rXRvdA/Lf8+DTem0D8wdYxeqpXQP9h9y1/bgdA/hFSTNVhs0D/NNMCY90vQP0wo/vQEINA/Ghvufq/+zz+LCYiwEofPP2ttLxucBc8/OGk5Rg0wzj+5L8YDDIPNP40HKeKBqsw/7ZvKV5Xdyz8VP/S74qnKP2ea/cT/NMk/VGMqyWzdxz8teSEJkUHGP98O7huhhsQ/iQnQ5j/8wj9y+tOobnHBP0+z7jRmvr8/HEndxxk5vT+r+h0AUCy6P+Pa93mjkrc/pAE6KAfFuD89xzZfd0G3PxirfLX2T7Q/rMDZgcBgsz8N9hSsc66xP8Bc1EAG3q4/OLo0pZ8brD8AMQRMYTKrP07GrAX/vqc/tIycKQMUpT8zgtn6wPKkPwMt6Y2xGqE/vixNrwQ7oT9xTJs2k+ebP7HSnj+qZZc/HiEGLbtelT/TZ7bo2eqYPzojiWv5MZI/gja3xn4vkz+zHD0uspiVP+185Y02gZE/QiQqFMsllD9eS2K4MZyQP5wTPooQTpA/Wq1dAJNMbj9pg19L0rJtPw==",
           "dtype": "f8"
          },
          "coloraxis": "coloraxis",
          "symbol": "circle"
         },
         "mode": "markers",
         "name": "",
         "orientation": "v",
         "showlegend": false,
         "type": "scatter",
         "x": {
          "bdata": "AAAAAAAAAAB7FK5H4XqEP3sUrkfhepQ/uB6F61G4nj97FK5H4XqkP5qZmZmZmak/uB6F61G4rj/sUbgeheuxP3sUrkfherQ/CtejcD0Ktz+amZmZmZm5Pylcj8L1KLw/uB6F61G4vj+kcD0K16PAP+xRuB6F68E/MzMzMzMzwz97FK5H4XrEP8P1KFyPwsU/CtejcD0Kxz9SuB6F61HIP5qZmZmZmck/4XoUrkfhyj8pXI/C9SjMP3E9CtejcM0/uB6F61G4zj8AAAAAAADQP6RwPQrXo9A/SOF6FK5H0T/sUbgehevRP4/C9Shcj9I/MzMzMzMz0z/Xo3A9CtfTP3sUrkfhetQ/H4XrUbge1T/D9Shcj8LVP2ZmZmZmZtY/CtejcD0K1z+uR+F6FK7XP1K4HoXrUdg/9ihcj8L12D+amZmZmZnZPz0K16NwPdo/4XoUrkfh2j+F61G4HoXbPylcj8L1KNw/zczMzMzM3D9xPQrXo3DdPxSuR+F6FN4/uB6F61G43j9cj8L1KFzfPwAAAAAAAOA/UrgehetR4D+kcD0K16PgP/YoXI/C9eA/SOF6FK5H4T+amZmZmZnhP+xRuB6F6+E/PQrXo3A94j+PwvUoXI/iP+F6FK5H4eI/MzMzMzMz4z+F61G4HoXjP9ejcD0K1+M/KVyPwvUo5D97FK5H4XrkP83MzMzMzOQ/H4XrUbge5T9xPQrXo3DlP8P1KFyPwuU/FK5H4XoU5j9mZmZmZmbmP7gehetRuOY/CtejcD0K5z9cj8L1KFznP65H4XoUruc/AAAAAAAA6D9SuB6F61HoP6RwPQrXo+g/9ihcj8L16D9I4XoUrkfpP5qZmZmZmek/7FG4HoXr6T89CtejcD3qP4/C9Shcj+o/4XoUrkfh6j8zMzMzMzPrP4XrUbgehes/16NwPQrX6z8pXI/C9SjsP3sUrkfheuw/zczMzMzM7D8fhetRuB7tP3E9CtejcO0/w/UoXI/C7T8UrkfhehTuP2ZmZmZmZu4/uB6F61G47j8K16NwPQrvP1yPwvUoXO8/rkfhehSu7z8AAAAAAADwPw==",
          "dtype": "f8"
         },
         "xaxis": "x2",
         "y": {
          "bdata": "AAAAAAAAAAAAAAAAAAAAAAAAAAAAAAAAAAAAAAAAAAAAAAAAAAAAAAAAAAAAAAAAAAAAAAAAAAAAAAAAAAAAAAAAAAAAAAAAAAAAAAAAAAAAAAAAAAAAAAAAAAAAAAAAABgYGBgYWD8PGBgYGBhoPw8SEhISEnI/FxgYGBgYeD8PEhISEhKCPxMVFRUVFYU/FxgYGBgYiD8aGxsbGxuLPx4eHh4eHo4/DxISEhISkj8TFRUVFRWVPxcYGBgYGJg/GRsbGxsbmz8dHh4eHh6ePxESEhISEqI/1tXV1dXVpT8aGxsbGxurP6Cfn5+fn68/c3JycnJysj/X1dXV1dW1Pzk5OTk5Obk/fHt7e3t7uz+Afn5+fn6+P1FRUVFRUcE/09LS0tLSwj9GRUVFRUXFP/j29vb29sY/CQkJCQkJyT/r6urq6urKP2RJGj0YEs0/5sqbvpmTzj/FFs/tcl7QP4bXj64zH9E/eKiwXHnT0T/wICnV8UvSP7Hh6ZWyDNM/LNBAfohf0z+NMKHe6L/TPwapGVdhONQ/lxnapEaM1D8wtaDyqsnUP3j96DrzEdU/2F1Jm1Ny1T+a/jkZafbVP1u/+tkpt9Y/60+LarpH1z/1WJRzw1DYPxZ6tZTkcdk/+FuXdsZT2z/CBZH95ODcP2I8NrUf3N4/Ig+MywBf4D+LePU0asjhP0g2s/InhuM/7ttYmM0r5T/14V6e0zHnPyoYldQJaOk/MR6b2g9u6z9DMK3sIYDtPyKQoiXmsO8/9iy291e98D+k99qAHOHxP78Cjvrh3fI/JKdnMtQZ9D8tqLxqshP1Px6ZrVujBPY/31Pn/wPa9j+xTj7mrLj3P34bC7N5hfg/SujXf0ZS+T9HgmGxPhb6P/wmrsSdrPo/BiBPLFGX+z9YNVpg4Tb8Pxi1pEwTH/0/tFFB6a+7/T9pAG+BBIX+Px6tb2WOKv8/rz0A9h67/z9olUfl1BwAQAMVmFgjZQBALbx+dJ2ZAEBY5qiex8MAQKMtmoF9BwFAFoodNjowAUDZU2gWXl8BQFK28dAgjgFA+GnSY1FuAUAWbHqnWZcBQA==",
          "dtype": "f8"
         },
         "yaxis": "y2"
        },
        {
         "hovertemplate": "seed=1.9852941176470589<br>p=2<br>beta=%{x}<br>L1x=%{y}<br>robustness=%{marker.color}<extra></extra>",
         "legendgroup": "",
         "marker": {
          "color": {
           "bdata": "JQVMKw722D8lBUwrDvbYPyUFTCsO9tg/JQVMKw722D8lBUwrDvbYPyUFTCsO9tg/JQVMKw722D8lBUwrDvbYPyUFTCsO9tg/JQVMKw722D8lBUwrDvbYPyUFTCsO9tg/JQVMKw722D8lBUwrDvbYPyUFTCsO9tg/JQVMKw722D8lBUwrDvbYPyUFTCsO9tg/JQVMKw722D8lBUwrDvbYPyUFTCsO9tg/JQVMKw722D8lBUwrDvbYPyUFTCsO9tg/JQVMKw722D8lBUwrDvbYPyUFTCsO9tg/JQVMKw722D8lBUwrDvbYPyUFTCsO9tg/JQVMKw722D8lBUwrDvbYPyUFTCsO9tg/JQVMKw722D8lBUwrDvbYP56kgYET69g/vCBnLoOI2D8YiB8iJTHYP/O8/G4Z2tc/ohv53hyZ1z8XB/P92zfXP+7ngE9pjNY/UKvPEOT31T/RuvMuBxvVP/dS5LhnZtQ/4okfRInD0z84jPBZcB/TPzYlRHt3zNI/QVnmk6h70j/M+A2PADzSP9J7nThV/tE/RCszSErL0T8JNMBwiZrRP0jGG9rMYtE/hg983Vg/0T9DtrStsBLRP5A8V5Z17tA/ygETj+LO0D9ejDmXIrTQPy4DGZtwoNA/YsMpqwaH0D8gSyUmMXvQPxBJ9XBnadA/XR+vOS9V0D94x6JgqkrQP6BRpbKnQtA/QXCzM/s40D89LbuhhxzQPw3AqU6fzM8/KXnlr0abzj/LoI0LBw/NP+dc3Uwpnco/cWkLeiDVxz+KsVcEBgbFP4GLM88YosI/JwCSi/8vwD/qD6m/DuG8P4qefHnLd7k/GnNZxkXjuj93zsIAvWy4P5M41Q8+S7U/XMFgOUIwsD9GHPtfoXWwPxr1DurlR7I/0kXahNAhqz8i9ThoPi6rP0T6UMCxI6w/gdhxkX9uoT9Edjs7esGfP6+n9QnUgZA/+kfVyQkTmj9Lx58kqn2VPylvI/QPqpM/SHFDu24Tkj+V782y4sSSPzjsTyAmB5U/C2nT4js8jj8XGnml8WaNP2ZHiQy3m4w/F7m1oNhWjD9pg19L0rJtPw==",
           "dtype": "f8"
          },
          "coloraxis": "coloraxis",
          "symbol": "circle"
         },
         "mode": "markers",
         "name": "",
         "orientation": "v",
         "showlegend": false,
         "type": "scatter",
         "x": {
          "bdata": "AAAAAAAAAAB7FK5H4XqEP3sUrkfhepQ/uB6F61G4nj97FK5H4XqkP5qZmZmZmak/uB6F61G4rj/sUbgeheuxP3sUrkfherQ/CtejcD0Ktz+amZmZmZm5Pylcj8L1KLw/uB6F61G4vj+kcD0K16PAP+xRuB6F68E/MzMzMzMzwz97FK5H4XrEP8P1KFyPwsU/CtejcD0Kxz9SuB6F61HIP5qZmZmZmck/4XoUrkfhyj8pXI/C9SjMP3E9CtejcM0/uB6F61G4zj8AAAAAAADQP6RwPQrXo9A/SOF6FK5H0T/sUbgehevRP4/C9Shcj9I/MzMzMzMz0z/Xo3A9CtfTP3sUrkfhetQ/H4XrUbge1T/D9Shcj8LVP2ZmZmZmZtY/CtejcD0K1z+uR+F6FK7XP1K4HoXrUdg/9ihcj8L12D+amZmZmZnZPz0K16NwPdo/4XoUrkfh2j+F61G4HoXbPylcj8L1KNw/zczMzMzM3D9xPQrXo3DdPxSuR+F6FN4/uB6F61G43j9cj8L1KFzfPwAAAAAAAOA/UrgehetR4D+kcD0K16PgP/YoXI/C9eA/SOF6FK5H4T+amZmZmZnhP+xRuB6F6+E/PQrXo3A94j+PwvUoXI/iP+F6FK5H4eI/MzMzMzMz4z+F61G4HoXjP9ejcD0K1+M/KVyPwvUo5D97FK5H4XrkP83MzMzMzOQ/H4XrUbge5T9xPQrXo3DlP8P1KFyPwuU/FK5H4XoU5j9mZmZmZmbmP7gehetRuOY/CtejcD0K5z9cj8L1KFznP65H4XoUruc/AAAAAAAA6D9SuB6F61HoP6RwPQrXo+g/9ihcj8L16D9I4XoUrkfpP5qZmZmZmek/7FG4HoXr6T89CtejcD3qP4/C9Shcj+o/4XoUrkfh6j8zMzMzMzPrP4XrUbgehes/16NwPQrX6z8pXI/C9SjsP3sUrkfheuw/zczMzMzM7D8fhetRuB7tP3E9CtejcO0/w/UoXI/C7T8UrkfhehTuP2ZmZmZmZu4/uB6F61G47j8K16NwPQrvP1yPwvUoXO8/rkfhehSu7z8AAAAAAADwPw==",
          "dtype": "f8"
         },
         "xaxis": "x3",
         "y": {
          "bdata": "AAAAAAAAAAAAAAAAAAAAAAAAAAAAAAAAAAAAAAAAAAAAAAAAAAAAAAAAAAAAAAAAAAAAAAAAAAAAAAAAAAAAAAAAAAAAAAAAAAAAAAAAAAAAAAAAAAAAAAAAAAAAAAAAAAAAAAAAAAAAAAAAAAAAAAAAAAAAAAAAAAAAAAAAAAAAAAAAAAAAAAAAAAAAAAAAAAAAAAAAAAAAAAAAAAAAAAAAAAAAAAAAAAAAAAAAAAAAAAAAAAAAAAAAAAAAAAAAAAAAAAAAAAAAAAAAAAAAAAAAAAAAAAAAAAAAAAAAAAAAAAAAAAAAAAAAAAAAAAAAAAAAAAAAAAAAAAAAAAAAAAAAAAAAAAAAAAAAAAAAAAAAAAAAAAAAAAAYGBgYGFg/Gh4eHh4ejj8aGxsbGxubP5OTk5OTk6M/FxgYGBgYqD/e3t7e3t6uP3Z1dXV1dbU/urq6urq6uj9RUVFRUVHBP+vQocSfmcQ/7tOkx6Kcxz9YI8UKwbTKP2z1Npd8Tcw/gMeoIzjmzT/RGPp0iTfPPxG1JWNtRNA/okW28/3U0D8z1kaEjmXRP9t+7yw3DtI/hQfIkjR60j8VmFgjxQrTP40Q0Zs9g9M/N5mpATvv0z+Y+Qlim0/UP+BBUqrjl9Q/QKKyCkT41D9w0uI6dCjVP7gaK4O8cNU/as4J6TjG1T+a/jkZafbVP/s+yjYeGtY/K2/6Zk5K1j+k53LfxsLWP9tqLSNMqNc/xZ+ZGIM/2j9AGxWU/rrdP39s6ShevOE/18NAgLUT5T9SP7z7MI/oPxaElhnapOs/Ys/hZCXw7j+V2GPQt7PwP6TxU2S89fE/S9C7DcZk8z9iIMDaCWf0P2spyeMScPU/xLsP85j09T+NKhrCiJT3P47+O0YdAfk/zwE1aJuO+T8lEo/OAyL7P5tbJsgNBPw/hyQUvIKO/D8j3SYzNaD9P18Rr55Gzf0/7Xw/NV76/j86nKwEPrL/P26bTevaIgBAwOhE1JZsAEBF1JaMtbEAQH4N0MXu6gBADIEULTEnAUDNR1wKUlMBQFK28dAgjgFAOawUppOwAUAWbHqnWZcBQA==",
          "dtype": "f8"
         },
         "yaxis": "y3"
        },
        {
         "hovertemplate": "seed=1.9852941176470589<br>p=3<br>beta=%{x}<br>L1x=%{y}<br>robustness=%{marker.color}<extra></extra>",
         "legendgroup": "",
         "marker": {
          "color": {
           "bdata": "JQVMKw722D8lBUwrDvbYPyUFTCsO9tg/JQVMKw722D8lBUwrDvbYP5xMP4Ad69g/46h0kC7g2D/gPyGIQdXYPwzVAvVtv9g/z8pB2oe02D9OwAWIpKnYP6PcEkXEntg/qE9jhCZ+2D+A6rtabGjYPwXtSGbeR9g/mLZjzWcR2D+YTXbO+eXXP6F6pkQlsNc/hMFXQW961z9NoHwLETrXP9q0cWUE+tY/jsMUOC261j8Ghc1QNHDWPwQfooT7ENY/az5Lwq/H1T+taGOTo3TVPxpqS30TItU/5n0pJAHa1D9d/re89JHUPwv9ISXiQNQ/IyY70qDl0z9IIPbF9pXTP5vTZJJKWtM/4/zHqyga0z+6fyJA98vSPxVEQb33nNI/RrXUh+120j9eE2NnoT7SP4h2s1A4CdI/yMyQ4Brm0T/tPpKULKDRP4o7c1UKc9E/+KOyfmJT0T+FaoM+dyzRPyTmpxhKFtE/n6y8QEz10D+t4KNCO+DQP2FD65ejy9A/Tdvn95i90D9NXeqgGp3QP7iW4VmRltA/D9zJlB5v0D+kjAFp2FPQP6ualLOHHdA/MX/qXFbAzz8oVn7YbQnPP+/lkZomU84/7boRIoW+zT9Gg4088/rMP7qrJEMKH8w/hg58z7wRyz+NTpNjo9bJP4ag1/T0RMg/UwGqdO0Ixz/I33bV9IfFP+OL+7AKRcQ/lAX1L+LZwj8Jif8YAWDBPz6v7QB9GsA/GBm3R1F+vT9j+DUoaC+7P02d32e+9bg/XrBx9Z2atj/yEVZdLFS0P+qFDwKNgLI/WRYe50jHsD/jPKhTutatPxzlnNJbpKo/CwTpV4BuqD+E8iTmEvClPxMKXP14yKM/su86U18Doj88RXpOUu2fP60ET0rM4Js/8c1MrXwfmD+CeB/I38qUP/VtwVMVqpE/OLGlTn+zmT+LvGakT4CZP00ZIv8SqJU/1dQWllbokz9xzNilZLqAPyK3ktZdhJY/V0eQBTyckD/4wqRdsbSPP/ynn3OHNJE/l/eGciTocT9TYM02tXxwPwjI3ja0XpM/F7m1oNhWjD9pg19L0rJtPw==",
           "dtype": "f8"
          },
          "coloraxis": "coloraxis",
          "symbol": "circle"
         },
         "mode": "markers",
         "name": "",
         "orientation": "v",
         "showlegend": false,
         "type": "scatter",
         "x": {
          "bdata": "AAAAAAAAAAB7FK5H4XqEP3sUrkfhepQ/uB6F61G4nj97FK5H4XqkP5qZmZmZmak/uB6F61G4rj/sUbgeheuxP3sUrkfherQ/CtejcD0Ktz+amZmZmZm5Pylcj8L1KLw/uB6F61G4vj+kcD0K16PAP+xRuB6F68E/MzMzMzMzwz97FK5H4XrEP8P1KFyPwsU/CtejcD0Kxz9SuB6F61HIP5qZmZmZmck/4XoUrkfhyj8pXI/C9SjMP3E9CtejcM0/uB6F61G4zj8AAAAAAADQP6RwPQrXo9A/SOF6FK5H0T/sUbgehevRP4/C9Shcj9I/MzMzMzMz0z/Xo3A9CtfTP3sUrkfhetQ/H4XrUbge1T/D9Shcj8LVP2ZmZmZmZtY/CtejcD0K1z+uR+F6FK7XP1K4HoXrUdg/9ihcj8L12D+amZmZmZnZPz0K16NwPdo/4XoUrkfh2j+F61G4HoXbPylcj8L1KNw/zczMzMzM3D9xPQrXo3DdPxSuR+F6FN4/uB6F61G43j9cj8L1KFzfPwAAAAAAAOA/UrgehetR4D+kcD0K16PgP/YoXI/C9eA/SOF6FK5H4T+amZmZmZnhP+xRuB6F6+E/PQrXo3A94j+PwvUoXI/iP+F6FK5H4eI/MzMzMzMz4z+F61G4HoXjP9ejcD0K1+M/KVyPwvUo5D97FK5H4XrkP83MzMzMzOQ/H4XrUbge5T9xPQrXo3DlP8P1KFyPwuU/FK5H4XoU5j9mZmZmZmbmP7gehetRuOY/CtejcD0K5z9cj8L1KFznP65H4XoUruc/AAAAAAAA6D9SuB6F61HoP6RwPQrXo+g/9ihcj8L16D9I4XoUrkfpP5qZmZmZmek/7FG4HoXr6T89CtejcD3qP4/C9Shcj+o/4XoUrkfh6j8zMzMzMzPrP4XrUbgehes/16NwPQrX6z8pXI/C9SjsP3sUrkfheuw/zczMzMzM7D8fhetRuB7tP3E9CtejcO0/w/UoXI/C7T8UrkfhehTuP2ZmZmZmZu4/uB6F61G47j8K16NwPQrvP1yPwvUoXO8/rkfhehSu7z8AAAAAAADwPw==",
          "dtype": "f8"
         },
         "xaxis": "x4",
         "y": {
          "bdata": "AAAAAAAAAAAAAAAAAAAAAAAAAAAAAAAAAAAAAAAAAAAAAAAAAAAAAAAYGBgYGFg/DxgYGBgYaD8PEhISEhJyPx4eHh4eHn4/DxISEhISgj8TFRUVFRWFPxcYGBgYGIg/kZCQkJCQkD+Tk5OTk5OTPxgYGBgYGJg/np+fn5+fnz/T0tLS0tKiP5aWlpaWlqY/WlpaWlpaqj/e3t7e3t6uP7GxsbGxsbE/9PPz8/Pzsz+XlpaWlpa2P/r5+fn5+bk/nZycnJycvD+gn5+fn5+/P1JRUVFRUcE/o6KioqKiwj/08/Pz8/PDP3Z1dXV1dcU/KCcnJycnxz+oqKioqKjIP8nJycnJyck/fTvb9SQCyz//vFx3poPMP7gaK4O8cM0/eNvrQ30xzj+a/AxlnlLPP94OF8PfOdA/Pm93I0Ca0D//LzjkAFvRP6tOv/wG3tE/C68fXWc+0j+EJ5jV37bSP8xv4B0o/9I/dvi4gyVr0z++QAHMbbPTPwaJSRS2+9M/N7l5ROYr1D+vMfK8XqTUP8dJCtV2vNQ/oAITa6RY1T8Ye4vjHNHVPwlsfNQNwtY/fOAb+0rY1z8WerWU5HHZP68TTy5+C9s/AWWgf89c3D/7Pso2HhreP3ocYhgMCuA/tFWbUUVD4T8pyxDHurjiP15LyAc9m+Q/38xJib4c5j/BritroP7nP1tIxQQ6mOk/MR6b2g9u6z8qGJXUCWjtP+nVUpLHJe8/U6aJL8uP8D8xhWgOqm7xPy9y/WlRTfI/IGPuWkI+8z8jXj2NGjL0P0aouBBK/vQ/DW9/1xDF9T8i8xXx6qn2P71ItZyYgvc/60kETloc+D+zCBdE9tP4P+0VcgHEefk/IhUT6GAK+j+TQIhp5Lj6P99f9TjEcPs/Ib6tVRwo/D/PbFwEy9b8PxfJZlb+hP0/INJvXweO/j8RoWNZgh7/P5cl6N0Go/8/Y49B384WAEBZhjjWxQ0AQK3gE0d6jQBATt2flb66AECIEn9mYuwAQLpFspmVHwFA6FzwCA0DAUCoIzjmLS8BQF7C/dwsmgFAOawUppOwAUAWbHqnWZcBQA==",
          "dtype": "f8"
         },
         "yaxis": "y4"
        },
        {
         "hovertemplate": "seed=1.9852941176470589<br>p=4<br>beta=%{x}<br>L1x=%{y}<br>robustness=%{marker.color}<extra></extra>",
         "legendgroup": "",
         "marker": {
          "color": {
           "bdata": "JQVMKw722D8lBUwrDvbYPyUFTCsO9tg/JQVMKw722D8lBUwrDvbYPyUFTCsO9tg/JQVMKw722D8lBUwrDvbYPyUFTCsO9tg/JQVMKw722D8lBUwrDvbYPyUFTCsO9tg/JQVMKw722D8lBUwrDvbYPyUFTCsO9tg/JQVMKw722D8lBUwrDvbYPyUFTCsO9tg/JQVMKw722D8lBUwrDvbYPyUFTCsO9tg/JQVMKw722D8lBUwrDvbYPyUFTCsO9tg/JQVMKw722D8lBUwrDvbYPyUFTCsO9tg/JQVMKw722D8lBUwrDvbYPyUFTCsO9tg/JQVMKw722D8lBUwrDvbYPyUFTCsO9tg/JQVMKw722D8lBUwrDvbYPyUFTCsO9tg/JQVMKw722D8lBUwrDvbYPyUFTCsO9tg/4D8hiEHV2D9OwAWIpKnYP0jenhJTUtg/QicSEBoG2D+IOEH94JrXPxbXpA+qMNc/bzGoAfyn1j+3Ud2gXdTVP73uxNTG49Q/s8xJIvj20z+jNuXC/EHTPywpsiR5nNI/WwMauhI60j/Mt0lUO/DRP3aThWu1pNE/9aVMK99s0T8rW0Ut0j3RPx6CsIjaC9E/QARgzCvo0D9MW2EVRcXQPyhkRWg2p9A/nHkQNk+O0D+VmBboyYfQPw5ukB6KbNA/XZKm/Xdm0D8BM+lTv1XQPxtNKURBRdA/+JzbpI5A0D9LI0lu/DPQP4sLsNixMdA/o7wJp58B0D/ChweSfSHPP2jOCTntzM0/7nM4V05JzD8f5vdh/L/JP4PTf5fdy8Y/6f7LM0Pgwz/tNHg6hcbCP1tPKA6awsA/Z+vyUmopuj8iVI7BFXe5P2J15m89tbc/c5JcRlvwtD/NdKlMfGiyPyLf/Tz4dLA/huqV8wcTsD++ZBHx75ykP5h8V5YEyqk/tSv+fJF3qT+ksqcP2/CqPxoML4E4uaM/PlkHgCeLpD9LxEx09aacP84Er4kZNKo/L5jLM9SYmz8aMtovDUOXPxzrmmyD/pU/bawy4iaQjj/aTEGKN4qNP+0plEHBsow/Xg6hassvkD9pg19L0rJtPw==",
           "dtype": "f8"
          },
          "coloraxis": "coloraxis",
          "symbol": "circle"
         },
         "mode": "markers",
         "name": "",
         "orientation": "v",
         "showlegend": false,
         "type": "scatter",
         "x": {
          "bdata": "AAAAAAAAAAB7FK5H4XqEP3sUrkfhepQ/uB6F61G4nj97FK5H4XqkP5qZmZmZmak/uB6F61G4rj/sUbgeheuxP3sUrkfherQ/CtejcD0Ktz+amZmZmZm5Pylcj8L1KLw/uB6F61G4vj+kcD0K16PAP+xRuB6F68E/MzMzMzMzwz97FK5H4XrEP8P1KFyPwsU/CtejcD0Kxz9SuB6F61HIP5qZmZmZmck/4XoUrkfhyj8pXI/C9SjMP3E9CtejcM0/uB6F61G4zj8AAAAAAADQP6RwPQrXo9A/SOF6FK5H0T/sUbgehevRP4/C9Shcj9I/MzMzMzMz0z/Xo3A9CtfTP3sUrkfhetQ/H4XrUbge1T/D9Shcj8LVP2ZmZmZmZtY/CtejcD0K1z+uR+F6FK7XP1K4HoXrUdg/9ihcj8L12D+amZmZmZnZPz0K16NwPdo/4XoUrkfh2j+F61G4HoXbPylcj8L1KNw/zczMzMzM3D9xPQrXo3DdPxSuR+F6FN4/uB6F61G43j9cj8L1KFzfPwAAAAAAAOA/UrgehetR4D+kcD0K16PgP/YoXI/C9eA/SOF6FK5H4T+amZmZmZnhP+xRuB6F6+E/PQrXo3A94j+PwvUoXI/iP+F6FK5H4eI/MzMzMzMz4z+F61G4HoXjP9ejcD0K1+M/KVyPwvUo5D97FK5H4XrkP83MzMzMzOQ/H4XrUbge5T9xPQrXo3DlP8P1KFyPwuU/FK5H4XoU5j9mZmZmZmbmP7gehetRuOY/CtejcD0K5z9cj8L1KFznP65H4XoUruc/AAAAAAAA6D9SuB6F61HoP6RwPQrXo+g/9ihcj8L16D9I4XoUrkfpP5qZmZmZmek/7FG4HoXr6T89CtejcD3qP4/C9Shcj+o/4XoUrkfh6j8zMzMzMzPrP4XrUbgehes/16NwPQrX6z8pXI/C9SjsP3sUrkfheuw/zczMzMzM7D8fhetRuB7tP3E9CtejcO0/w/UoXI/C7T8UrkfhehTuP2ZmZmZmZu4/uB6F61G47j8K16NwPQrvP1yPwvUoXO8/rkfhehSu7z8AAAAAAADwPw==",
          "dtype": "f8"
         },
         "xaxis": "x5",
         "y": {
          "bdata": "AAAAAAAAAAAAAAAAAAAAAAAAAAAAAAAAAAAAAAAAAAAAAAAAAAAAAAAAAAAAAAAAAAAAAAAAAAAAAAAAAAAAAAAAAAAAAAAAAAAAAAAAAAAAAAAAAAAAAAAAAAAAAAAAAAAAAAAAAAAAAAAAAAAAAAAAAAAAAAAAAAAAAAAAAAAAAAAAAAAAAAAAAAAAAAAAAAAAAAAAAAAAAAAAAAAAAAAAAAAAAAAAAAAAAAAAAAAAAAAAAAAAAAAAAAAAAAAAAAAAAAAAAAAAAAAAAAAAAAAAAAAAAAAAAAAAAAAAAAAAAAAAAAAAAAAAAAAAAAAAAAAAAAAAAAAAAAAAAAAAAAAAAAAAAAAAAAAAAAAAAAAAAAAAAAAAAAAAAAAAAAAAAAAAAAAAAAAAAAAAAAAAAAAAAAAAAAAADxISEhIScj8TFRUVFRWFP5WWlpaWlpY/j5CQkJCQoD8YGBgYGBioP56fn5+fn68/tbS0tLS0tD88PDw8PDy8P3NycnJycsI/yMbGxsbGxj/IkjR6MCTKP/vFZ61jV80/b/g5mn9Qzz9C5VWTnXTQPxq+Lmx2TdE/w2bXFB/20T9U92elr4bSPy2wcDvdItM/pijps1Wb0z8eoWEszhPUP8gpOpLLf9Q/KIqa8ivg1D9AorIKRPjUPwluqYjYZdU/IobBoPB91T9qzgnpOMbVP7IWUjGBDtY/yi5qSZkm1j9EhxJ/ZmLWP6Mx9OkSb9Y/wpyWFYA81z+kfnj3YR7ZP45pY+JMCdw/CeXeXciE3z+IdfIxZ8XiPygVktEGZeY/38xJib4c6j9ALarpHn3uP3DWPKMJ8PA/0FIT3n/F8T+NEv5PCKfzPynLEMe6uPQ/j03tBzeU9T/stlieVIj2P4ckFLyCjvc/D4C9x56C+D9uodQHOy75P6vF9NH2PPs/3Z1oClBG/D8kwbBYHyv9P303gY2P+v0/qzr98hu4/j/xU2S89Wn/P4y5awn5QABAqtMvv4FXAEAzwoR6o58AQE7dn5W+ugBA/XEFHiIYAUDEPlMBSUoBQEmt6McXhQFANKYOoI2qAUAWbHqnWZcBQA==",
          "dtype": "f8"
         },
         "yaxis": "y5"
        }
       ],
       "layout": {
        "annotations": [
         {
          "font": {},
          "showarrow": false,
          "text": "p=0",
          "x": 0.09200000000000001,
          "xanchor": "center",
          "xref": "paper",
          "y": 1,
          "yanchor": "bottom",
          "yref": "paper"
         },
         {
          "font": {},
          "showarrow": false,
          "text": "p=1",
          "x": 0.29600000000000004,
          "xanchor": "center",
          "xref": "paper",
          "y": 1,
          "yanchor": "bottom",
          "yref": "paper"
         },
         {
          "font": {},
          "showarrow": false,
          "text": "p=2",
          "x": 0.5,
          "xanchor": "center",
          "xref": "paper",
          "y": 1,
          "yanchor": "bottom",
          "yref": "paper"
         },
         {
          "font": {},
          "showarrow": false,
          "text": "p=3",
          "x": 0.7040000000000002,
          "xanchor": "center",
          "xref": "paper",
          "y": 1,
          "yanchor": "bottom",
          "yref": "paper"
         },
         {
          "font": {},
          "showarrow": false,
          "text": "p=4",
          "x": 0.908,
          "xanchor": "center",
          "xref": "paper",
          "y": 1,
          "yanchor": "bottom",
          "yref": "paper"
         }
        ],
        "coloraxis": {
         "colorbar": {
          "title": {
           "text": "robustness"
          }
         },
         "colorscale": [
          [
           0,
           "#0d0887"
          ],
          [
           0.1111111111111111,
           "#46039f"
          ],
          [
           0.2222222222222222,
           "#7201a8"
          ],
          [
           0.3333333333333333,
           "#9c179e"
          ],
          [
           0.4444444444444444,
           "#bd3786"
          ],
          [
           0.5555555555555556,
           "#d8576b"
          ],
          [
           0.6666666666666666,
           "#ed7953"
          ],
          [
           0.7777777777777778,
           "#fb9f3a"
          ],
          [
           0.8888888888888888,
           "#fdca26"
          ],
          [
           1,
           "#f0f921"
          ]
         ]
        },
        "legend": {
         "tracegroupgap": 0
        },
        "margin": {
         "t": 60
        },
        "template": {
         "data": {
          "bar": [
           {
            "error_x": {
             "color": "#2a3f5f"
            },
            "error_y": {
             "color": "#2a3f5f"
            },
            "marker": {
             "line": {
              "color": "#E5ECF6",
              "width": 0.5
             },
             "pattern": {
              "fillmode": "overlay",
              "size": 10,
              "solidity": 0.2
             }
            },
            "type": "bar"
           }
          ],
          "barpolar": [
           {
            "marker": {
             "line": {
              "color": "#E5ECF6",
              "width": 0.5
             },
             "pattern": {
              "fillmode": "overlay",
              "size": 10,
              "solidity": 0.2
             }
            },
            "type": "barpolar"
           }
          ],
          "carpet": [
           {
            "aaxis": {
             "endlinecolor": "#2a3f5f",
             "gridcolor": "white",
             "linecolor": "white",
             "minorgridcolor": "white",
             "startlinecolor": "#2a3f5f"
            },
            "baxis": {
             "endlinecolor": "#2a3f5f",
             "gridcolor": "white",
             "linecolor": "white",
             "minorgridcolor": "white",
             "startlinecolor": "#2a3f5f"
            },
            "type": "carpet"
           }
          ],
          "choropleth": [
           {
            "colorbar": {
             "outlinewidth": 0,
             "ticks": ""
            },
            "type": "choropleth"
           }
          ],
          "contour": [
           {
            "colorbar": {
             "outlinewidth": 0,
             "ticks": ""
            },
            "colorscale": [
             [
              0,
              "#0d0887"
             ],
             [
              0.1111111111111111,
              "#46039f"
             ],
             [
              0.2222222222222222,
              "#7201a8"
             ],
             [
              0.3333333333333333,
              "#9c179e"
             ],
             [
              0.4444444444444444,
              "#bd3786"
             ],
             [
              0.5555555555555556,
              "#d8576b"
             ],
             [
              0.6666666666666666,
              "#ed7953"
             ],
             [
              0.7777777777777778,
              "#fb9f3a"
             ],
             [
              0.8888888888888888,
              "#fdca26"
             ],
             [
              1,
              "#f0f921"
             ]
            ],
            "type": "contour"
           }
          ],
          "contourcarpet": [
           {
            "colorbar": {
             "outlinewidth": 0,
             "ticks": ""
            },
            "type": "contourcarpet"
           }
          ],
          "heatmap": [
           {
            "colorbar": {
             "outlinewidth": 0,
             "ticks": ""
            },
            "colorscale": [
             [
              0,
              "#0d0887"
             ],
             [
              0.1111111111111111,
              "#46039f"
             ],
             [
              0.2222222222222222,
              "#7201a8"
             ],
             [
              0.3333333333333333,
              "#9c179e"
             ],
             [
              0.4444444444444444,
              "#bd3786"
             ],
             [
              0.5555555555555556,
              "#d8576b"
             ],
             [
              0.6666666666666666,
              "#ed7953"
             ],
             [
              0.7777777777777778,
              "#fb9f3a"
             ],
             [
              0.8888888888888888,
              "#fdca26"
             ],
             [
              1,
              "#f0f921"
             ]
            ],
            "type": "heatmap"
           }
          ],
          "histogram": [
           {
            "marker": {
             "pattern": {
              "fillmode": "overlay",
              "size": 10,
              "solidity": 0.2
             }
            },
            "type": "histogram"
           }
          ],
          "histogram2d": [
           {
            "colorbar": {
             "outlinewidth": 0,
             "ticks": ""
            },
            "colorscale": [
             [
              0,
              "#0d0887"
             ],
             [
              0.1111111111111111,
              "#46039f"
             ],
             [
              0.2222222222222222,
              "#7201a8"
             ],
             [
              0.3333333333333333,
              "#9c179e"
             ],
             [
              0.4444444444444444,
              "#bd3786"
             ],
             [
              0.5555555555555556,
              "#d8576b"
             ],
             [
              0.6666666666666666,
              "#ed7953"
             ],
             [
              0.7777777777777778,
              "#fb9f3a"
             ],
             [
              0.8888888888888888,
              "#fdca26"
             ],
             [
              1,
              "#f0f921"
             ]
            ],
            "type": "histogram2d"
           }
          ],
          "histogram2dcontour": [
           {
            "colorbar": {
             "outlinewidth": 0,
             "ticks": ""
            },
            "colorscale": [
             [
              0,
              "#0d0887"
             ],
             [
              0.1111111111111111,
              "#46039f"
             ],
             [
              0.2222222222222222,
              "#7201a8"
             ],
             [
              0.3333333333333333,
              "#9c179e"
             ],
             [
              0.4444444444444444,
              "#bd3786"
             ],
             [
              0.5555555555555556,
              "#d8576b"
             ],
             [
              0.6666666666666666,
              "#ed7953"
             ],
             [
              0.7777777777777778,
              "#fb9f3a"
             ],
             [
              0.8888888888888888,
              "#fdca26"
             ],
             [
              1,
              "#f0f921"
             ]
            ],
            "type": "histogram2dcontour"
           }
          ],
          "mesh3d": [
           {
            "colorbar": {
             "outlinewidth": 0,
             "ticks": ""
            },
            "type": "mesh3d"
           }
          ],
          "parcoords": [
           {
            "line": {
             "colorbar": {
              "outlinewidth": 0,
              "ticks": ""
             }
            },
            "type": "parcoords"
           }
          ],
          "pie": [
           {
            "automargin": true,
            "type": "pie"
           }
          ],
          "scatter": [
           {
            "fillpattern": {
             "fillmode": "overlay",
             "size": 10,
             "solidity": 0.2
            },
            "type": "scatter"
           }
          ],
          "scatter3d": [
           {
            "line": {
             "colorbar": {
              "outlinewidth": 0,
              "ticks": ""
             }
            },
            "marker": {
             "colorbar": {
              "outlinewidth": 0,
              "ticks": ""
             }
            },
            "type": "scatter3d"
           }
          ],
          "scattercarpet": [
           {
            "marker": {
             "colorbar": {
              "outlinewidth": 0,
              "ticks": ""
             }
            },
            "type": "scattercarpet"
           }
          ],
          "scattergeo": [
           {
            "marker": {
             "colorbar": {
              "outlinewidth": 0,
              "ticks": ""
             }
            },
            "type": "scattergeo"
           }
          ],
          "scattergl": [
           {
            "marker": {
             "colorbar": {
              "outlinewidth": 0,
              "ticks": ""
             }
            },
            "type": "scattergl"
           }
          ],
          "scattermap": [
           {
            "marker": {
             "colorbar": {
              "outlinewidth": 0,
              "ticks": ""
             }
            },
            "type": "scattermap"
           }
          ],
          "scattermapbox": [
           {
            "marker": {
             "colorbar": {
              "outlinewidth": 0,
              "ticks": ""
             }
            },
            "type": "scattermapbox"
           }
          ],
          "scatterpolar": [
           {
            "marker": {
             "colorbar": {
              "outlinewidth": 0,
              "ticks": ""
             }
            },
            "type": "scatterpolar"
           }
          ],
          "scatterpolargl": [
           {
            "marker": {
             "colorbar": {
              "outlinewidth": 0,
              "ticks": ""
             }
            },
            "type": "scatterpolargl"
           }
          ],
          "scatterternary": [
           {
            "marker": {
             "colorbar": {
              "outlinewidth": 0,
              "ticks": ""
             }
            },
            "type": "scatterternary"
           }
          ],
          "surface": [
           {
            "colorbar": {
             "outlinewidth": 0,
             "ticks": ""
            },
            "colorscale": [
             [
              0,
              "#0d0887"
             ],
             [
              0.1111111111111111,
              "#46039f"
             ],
             [
              0.2222222222222222,
              "#7201a8"
             ],
             [
              0.3333333333333333,
              "#9c179e"
             ],
             [
              0.4444444444444444,
              "#bd3786"
             ],
             [
              0.5555555555555556,
              "#d8576b"
             ],
             [
              0.6666666666666666,
              "#ed7953"
             ],
             [
              0.7777777777777778,
              "#fb9f3a"
             ],
             [
              0.8888888888888888,
              "#fdca26"
             ],
             [
              1,
              "#f0f921"
             ]
            ],
            "type": "surface"
           }
          ],
          "table": [
           {
            "cells": {
             "fill": {
              "color": "#EBF0F8"
             },
             "line": {
              "color": "white"
             }
            },
            "header": {
             "fill": {
              "color": "#C8D4E3"
             },
             "line": {
              "color": "white"
             }
            },
            "type": "table"
           }
          ]
         },
         "layout": {
          "annotationdefaults": {
           "arrowcolor": "#2a3f5f",
           "arrowhead": 0,
           "arrowwidth": 1
          },
          "autotypenumbers": "strict",
          "coloraxis": {
           "colorbar": {
            "outlinewidth": 0,
            "ticks": ""
           }
          },
          "colorscale": {
           "diverging": [
            [
             0,
             "#8e0152"
            ],
            [
             0.1,
             "#c51b7d"
            ],
            [
             0.2,
             "#de77ae"
            ],
            [
             0.3,
             "#f1b6da"
            ],
            [
             0.4,
             "#fde0ef"
            ],
            [
             0.5,
             "#f7f7f7"
            ],
            [
             0.6,
             "#e6f5d0"
            ],
            [
             0.7,
             "#b8e186"
            ],
            [
             0.8,
             "#7fbc41"
            ],
            [
             0.9,
             "#4d9221"
            ],
            [
             1,
             "#276419"
            ]
           ],
           "sequential": [
            [
             0,
             "#0d0887"
            ],
            [
             0.1111111111111111,
             "#46039f"
            ],
            [
             0.2222222222222222,
             "#7201a8"
            ],
            [
             0.3333333333333333,
             "#9c179e"
            ],
            [
             0.4444444444444444,
             "#bd3786"
            ],
            [
             0.5555555555555556,
             "#d8576b"
            ],
            [
             0.6666666666666666,
             "#ed7953"
            ],
            [
             0.7777777777777778,
             "#fb9f3a"
            ],
            [
             0.8888888888888888,
             "#fdca26"
            ],
            [
             1,
             "#f0f921"
            ]
           ],
           "sequentialminus": [
            [
             0,
             "#0d0887"
            ],
            [
             0.1111111111111111,
             "#46039f"
            ],
            [
             0.2222222222222222,
             "#7201a8"
            ],
            [
             0.3333333333333333,
             "#9c179e"
            ],
            [
             0.4444444444444444,
             "#bd3786"
            ],
            [
             0.5555555555555556,
             "#d8576b"
            ],
            [
             0.6666666666666666,
             "#ed7953"
            ],
            [
             0.7777777777777778,
             "#fb9f3a"
            ],
            [
             0.8888888888888888,
             "#fdca26"
            ],
            [
             1,
             "#f0f921"
            ]
           ]
          },
          "colorway": [
           "#636efa",
           "#EF553B",
           "#00cc96",
           "#ab63fa",
           "#FFA15A",
           "#19d3f3",
           "#FF6692",
           "#B6E880",
           "#FF97FF",
           "#FECB52"
          ],
          "font": {
           "color": "#2a3f5f"
          },
          "geo": {
           "bgcolor": "white",
           "lakecolor": "white",
           "landcolor": "#E5ECF6",
           "showlakes": true,
           "showland": true,
           "subunitcolor": "white"
          },
          "hoverlabel": {
           "align": "left"
          },
          "hovermode": "closest",
          "mapbox": {
           "style": "light"
          },
          "paper_bgcolor": "white",
          "plot_bgcolor": "#E5ECF6",
          "polar": {
           "angularaxis": {
            "gridcolor": "white",
            "linecolor": "white",
            "ticks": ""
           },
           "bgcolor": "#E5ECF6",
           "radialaxis": {
            "gridcolor": "white",
            "linecolor": "white",
            "ticks": ""
           }
          },
          "scene": {
           "xaxis": {
            "backgroundcolor": "#E5ECF6",
            "gridcolor": "white",
            "gridwidth": 2,
            "linecolor": "white",
            "showbackground": true,
            "ticks": "",
            "zerolinecolor": "white"
           },
           "yaxis": {
            "backgroundcolor": "#E5ECF6",
            "gridcolor": "white",
            "gridwidth": 2,
            "linecolor": "white",
            "showbackground": true,
            "ticks": "",
            "zerolinecolor": "white"
           },
           "zaxis": {
            "backgroundcolor": "#E5ECF6",
            "gridcolor": "white",
            "gridwidth": 2,
            "linecolor": "white",
            "showbackground": true,
            "ticks": "",
            "zerolinecolor": "white"
           }
          },
          "shapedefaults": {
           "line": {
            "color": "#2a3f5f"
           }
          },
          "ternary": {
           "aaxis": {
            "gridcolor": "white",
            "linecolor": "white",
            "ticks": ""
           },
           "baxis": {
            "gridcolor": "white",
            "linecolor": "white",
            "ticks": ""
           },
           "bgcolor": "#E5ECF6",
           "caxis": {
            "gridcolor": "white",
            "linecolor": "white",
            "ticks": ""
           }
          },
          "title": {
           "x": 0.05
          },
          "xaxis": {
           "automargin": true,
           "gridcolor": "white",
           "linecolor": "white",
           "ticks": "",
           "title": {
            "standoff": 15
           },
           "zerolinecolor": "white",
           "zerolinewidth": 2
          },
          "yaxis": {
           "automargin": true,
           "gridcolor": "white",
           "linecolor": "white",
           "ticks": "",
           "title": {
            "standoff": 15
           },
           "zerolinecolor": "white",
           "zerolinewidth": 2
          }
         }
        },
        "xaxis": {
         "anchor": "y",
         "domain": [
          0,
          0.18400000000000002
         ],
         "title": {
          "text": "beta"
         }
        },
        "xaxis2": {
         "anchor": "y2",
         "domain": [
          0.20400000000000001,
          0.388
         ],
         "matches": "x",
         "title": {
          "text": "beta"
         }
        },
        "xaxis3": {
         "anchor": "y3",
         "domain": [
          0.40800000000000003,
          0.5920000000000001
         ],
         "matches": "x",
         "title": {
          "text": "beta"
         }
        },
        "xaxis4": {
         "anchor": "y4",
         "domain": [
          0.6120000000000001,
          0.7960000000000002
         ],
         "matches": "x",
         "title": {
          "text": "beta"
         }
        },
        "xaxis5": {
         "anchor": "y5",
         "domain": [
          0.8160000000000001,
          1
         ],
         "matches": "x",
         "title": {
          "text": "beta"
         }
        },
        "yaxis": {
         "anchor": "x",
         "domain": [
          0,
          1
         ],
         "title": {
          "text": "L1x"
         }
        },
        "yaxis2": {
         "anchor": "x2",
         "domain": [
          0,
          1
         ],
         "matches": "y",
         "showticklabels": false
        },
        "yaxis3": {
         "anchor": "x3",
         "domain": [
          0,
          1
         ],
         "matches": "y",
         "showticklabels": false
        },
        "yaxis4": {
         "anchor": "x4",
         "domain": [
          0,
          1
         ],
         "matches": "y",
         "showticklabels": false
        },
        "yaxis5": {
         "anchor": "x5",
         "domain": [
          0,
          1
         ],
         "matches": "y",
         "showticklabels": false
        }
       }
      }
     },
     "metadata": {},
     "output_type": "display_data"
    }
   ],
   "source": [
    "px.scatter(df_agg, x='beta', y='L1x', facet_col='p', color='robustness')"
   ]
  }
 ],
 "metadata": {
  "kernelspec": {
   "display_name": ".env",
   "language": "python",
   "name": "python3"
  },
  "language_info": {
   "codemirror_mode": {
    "name": "ipython",
    "version": 3
   },
   "file_extension": ".py",
   "mimetype": "text/x-python",
   "name": "python",
   "nbconvert_exporter": "python",
   "pygments_lexer": "ipython3",
   "version": "3.12.7"
  }
 },
 "nbformat": 4,
 "nbformat_minor": 2
}
