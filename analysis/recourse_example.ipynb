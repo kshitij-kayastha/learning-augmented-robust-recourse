{
 "cells": [
  {
   "cell_type": "code",
   "execution_count": 1,
   "metadata": {},
   "outputs": [],
   "source": [
    "import sys\n",
    "sys.path.append('..')"
   ]
  },
  {
   "cell_type": "code",
   "execution_count": 2,
   "metadata": {},
   "outputs": [],
   "source": [
    "import numpy as np\n",
    "import pandas as pd\n",
    "import plotly.express as px\n",
    "import plotly.graph_objects as go\n",
    "\n",
    "from src.utils import pareto_frontier"
   ]
  },
  {
   "cell_type": "code",
   "execution_count": 3,
   "metadata": {},
   "outputs": [],
   "source": [
    "dataset = 'synthetic'\n",
    "base_model = 'lr'\n",
    "algs = ['alg1']\n",
    "seeds = range(5)\n",
    "\n",
    "df_results = pd.DataFrame()\n",
    "for alg in algs:\n",
    "    for seed in seeds:\n",
    "        df_results = pd.concat((df_results, pd.read_pickle(f'../results/rob_con_tradeoff/history/{base_model}_{dataset}_{alg}_{seed}.pkl')))"
   ]
  },
  {
   "cell_type": "code",
   "execution_count": 4,
   "metadata": {},
   "outputs": [],
   "source": [
    "# L1 norm between x_0 (original) and x_r (recourse)\n",
    "df_results['L1x'] = np.linalg.norm(np.stack((df_results['x_0'] - df_results['x_r']).values), 1, 1)"
   ]
  },
  {
   "cell_type": "code",
   "execution_count": 5,
   "metadata": {},
   "outputs": [
    {
     "data": {
      "text/html": [
       "<div>\n",
       "<style scoped>\n",
       "    .dataframe tbody tr th:only-of-type {\n",
       "        vertical-align: middle;\n",
       "    }\n",
       "\n",
       "    .dataframe tbody tr th {\n",
       "        vertical-align: top;\n",
       "    }\n",
       "\n",
       "    .dataframe thead th {\n",
       "        text-align: right;\n",
       "    }\n",
       "</style>\n",
       "<table border=\"1\" class=\"dataframe\">\n",
       "  <thead>\n",
       "    <tr style=\"text-align: right;\">\n",
       "      <th></th>\n",
       "      <th>alg</th>\n",
       "      <th>seed</th>\n",
       "      <th>alpha</th>\n",
       "      <th>lambda</th>\n",
       "      <th>i</th>\n",
       "      <th>x_0</th>\n",
       "      <th>theta_0</th>\n",
       "      <th>beta</th>\n",
       "      <th>x_r</th>\n",
       "      <th>theta_r</th>\n",
       "      <th>p</th>\n",
       "      <th>theta_p</th>\n",
       "      <th>J_r</th>\n",
       "      <th>J_c</th>\n",
       "      <th>robustness</th>\n",
       "      <th>consistency</th>\n",
       "      <th>L1x</th>\n",
       "    </tr>\n",
       "  </thead>\n",
       "  <tbody>\n",
       "    <tr>\n",
       "      <th>25654</th>\n",
       "      <td>OPT</td>\n",
       "      <td>0</td>\n",
       "      <td>0.5</td>\n",
       "      <td>1.0</td>\n",
       "      <td>50</td>\n",
       "      <td>[-1.8037, -1.4605]</td>\n",
       "      <td>[1.9661, 1.9713, 0.0506]</td>\n",
       "      <td>0.00</td>\n",
       "      <td>[-1.8037, 1.9094]</td>\n",
       "      <td>[2.4661, 1.4713, -0.4494]</td>\n",
       "      <td>4</td>\n",
       "      <td>[2.4184, 2.4705, 0.0307]</td>\n",
       "      <td>5.574971</td>\n",
       "      <td>3.888719</td>\n",
       "      <td>1.367814</td>\n",
       "      <td>0.000000</td>\n",
       "      <td>3.3699</td>\n",
       "    </tr>\n",
       "    <tr>\n",
       "      <th>25655</th>\n",
       "      <td>OPT</td>\n",
       "      <td>0</td>\n",
       "      <td>0.5</td>\n",
       "      <td>1.0</td>\n",
       "      <td>50</td>\n",
       "      <td>[-1.8037, -1.4605]</td>\n",
       "      <td>[1.9661, 1.9713, 0.0506]</td>\n",
       "      <td>0.01</td>\n",
       "      <td>[-1.8037, 1.9]</td>\n",
       "      <td>[2.4661, 1.4713, -0.4494]</td>\n",
       "      <td>4</td>\n",
       "      <td>[2.4184, 2.4705, 0.0307]</td>\n",
       "      <td>5.577876</td>\n",
       "      <td>3.888784</td>\n",
       "      <td>1.370719</td>\n",
       "      <td>0.000065</td>\n",
       "      <td>3.3605</td>\n",
       "    </tr>\n",
       "    <tr>\n",
       "      <th>25656</th>\n",
       "      <td>OPT</td>\n",
       "      <td>0</td>\n",
       "      <td>0.5</td>\n",
       "      <td>1.0</td>\n",
       "      <td>50</td>\n",
       "      <td>[-1.8037, -1.4605]</td>\n",
       "      <td>[1.9661, 1.9713, 0.0506]</td>\n",
       "      <td>0.02</td>\n",
       "      <td>[-1.8037, 1.9]</td>\n",
       "      <td>[2.4661, 1.4713, -0.4494]</td>\n",
       "      <td>4</td>\n",
       "      <td>[2.4184, 2.4705, 0.0307]</td>\n",
       "      <td>5.577876</td>\n",
       "      <td>3.888784</td>\n",
       "      <td>1.370719</td>\n",
       "      <td>0.000065</td>\n",
       "      <td>3.3605</td>\n",
       "    </tr>\n",
       "    <tr>\n",
       "      <th>25657</th>\n",
       "      <td>OPT</td>\n",
       "      <td>0</td>\n",
       "      <td>0.5</td>\n",
       "      <td>1.0</td>\n",
       "      <td>50</td>\n",
       "      <td>[-1.8037, -1.4605]</td>\n",
       "      <td>[1.9661, 1.9713, 0.0506]</td>\n",
       "      <td>0.03</td>\n",
       "      <td>[0.0, 0.1]</td>\n",
       "      <td>[1.4661, 1.4713, -0.4494]</td>\n",
       "      <td>4</td>\n",
       "      <td>[2.4184, 2.4705, 0.0307]</td>\n",
       "      <td>4.219932</td>\n",
       "      <td>3.928169</td>\n",
       "      <td>0.012775</td>\n",
       "      <td>0.039449</td>\n",
       "      <td>3.3642</td>\n",
       "    </tr>\n",
       "    <tr>\n",
       "      <th>25658</th>\n",
       "      <td>OPT</td>\n",
       "      <td>0</td>\n",
       "      <td>0.5</td>\n",
       "      <td>1.0</td>\n",
       "      <td>50</td>\n",
       "      <td>[-1.8037, -1.4605]</td>\n",
       "      <td>[1.9661, 1.9713, 0.0506]</td>\n",
       "      <td>0.04</td>\n",
       "      <td>[0.0, 0.1]</td>\n",
       "      <td>[1.4661, 1.4713, -0.4494]</td>\n",
       "      <td>4</td>\n",
       "      <td>[2.4184, 2.4705, 0.0307]</td>\n",
       "      <td>4.219932</td>\n",
       "      <td>3.928169</td>\n",
       "      <td>0.012775</td>\n",
       "      <td>0.039449</td>\n",
       "      <td>3.3642</td>\n",
       "    </tr>\n",
       "    <tr>\n",
       "      <th>...</th>\n",
       "      <td>...</td>\n",
       "      <td>...</td>\n",
       "      <td>...</td>\n",
       "      <td>...</td>\n",
       "      <td>...</td>\n",
       "      <td>...</td>\n",
       "      <td>...</td>\n",
       "      <td>...</td>\n",
       "      <td>...</td>\n",
       "      <td>...</td>\n",
       "      <td>...</td>\n",
       "      <td>...</td>\n",
       "      <td>...</td>\n",
       "      <td>...</td>\n",
       "      <td>...</td>\n",
       "      <td>...</td>\n",
       "      <td>...</td>\n",
       "    </tr>\n",
       "    <tr>\n",
       "      <th>25750</th>\n",
       "      <td>OPT</td>\n",
       "      <td>0</td>\n",
       "      <td>0.5</td>\n",
       "      <td>1.0</td>\n",
       "      <td>50</td>\n",
       "      <td>[-1.8037, -1.4605]</td>\n",
       "      <td>[1.9661, 1.9713, 0.0506]</td>\n",
       "      <td>0.96</td>\n",
       "      <td>[0.0, 0.0]</td>\n",
       "      <td>[1.4661, 1.4713, -0.4494]</td>\n",
       "      <td>4</td>\n",
       "      <td>[2.4184, 2.4705, 0.0307]</td>\n",
       "      <td>4.207157</td>\n",
       "      <td>3.942199</td>\n",
       "      <td>0.000000</td>\n",
       "      <td>0.053480</td>\n",
       "      <td>3.2642</td>\n",
       "    </tr>\n",
       "    <tr>\n",
       "      <th>25751</th>\n",
       "      <td>OPT</td>\n",
       "      <td>0</td>\n",
       "      <td>0.5</td>\n",
       "      <td>1.0</td>\n",
       "      <td>50</td>\n",
       "      <td>[-1.8037, -1.4605]</td>\n",
       "      <td>[1.9661, 1.9713, 0.0506]</td>\n",
       "      <td>0.97</td>\n",
       "      <td>[0.0, 0.0]</td>\n",
       "      <td>[1.4661, 1.4713, -0.4494]</td>\n",
       "      <td>4</td>\n",
       "      <td>[2.4184, 2.4705, 0.0307]</td>\n",
       "      <td>4.207157</td>\n",
       "      <td>3.942199</td>\n",
       "      <td>0.000000</td>\n",
       "      <td>0.053480</td>\n",
       "      <td>3.2642</td>\n",
       "    </tr>\n",
       "    <tr>\n",
       "      <th>25752</th>\n",
       "      <td>OPT</td>\n",
       "      <td>0</td>\n",
       "      <td>0.5</td>\n",
       "      <td>1.0</td>\n",
       "      <td>50</td>\n",
       "      <td>[-1.8037, -1.4605]</td>\n",
       "      <td>[1.9661, 1.9713, 0.0506]</td>\n",
       "      <td>0.98</td>\n",
       "      <td>[0.0, 0.0]</td>\n",
       "      <td>[1.4661, 1.4713, -0.4494]</td>\n",
       "      <td>4</td>\n",
       "      <td>[2.4184, 2.4705, 0.0307]</td>\n",
       "      <td>4.207157</td>\n",
       "      <td>3.942199</td>\n",
       "      <td>0.000000</td>\n",
       "      <td>0.053480</td>\n",
       "      <td>3.2642</td>\n",
       "    </tr>\n",
       "    <tr>\n",
       "      <th>25753</th>\n",
       "      <td>OPT</td>\n",
       "      <td>0</td>\n",
       "      <td>0.5</td>\n",
       "      <td>1.0</td>\n",
       "      <td>50</td>\n",
       "      <td>[-1.8037, -1.4605]</td>\n",
       "      <td>[1.9661, 1.9713, 0.0506]</td>\n",
       "      <td>0.99</td>\n",
       "      <td>[0.0, 0.0]</td>\n",
       "      <td>[1.4661, 1.4713, -0.4494]</td>\n",
       "      <td>4</td>\n",
       "      <td>[2.4184, 2.4705, 0.0307]</td>\n",
       "      <td>4.207157</td>\n",
       "      <td>3.942199</td>\n",
       "      <td>0.000000</td>\n",
       "      <td>0.053480</td>\n",
       "      <td>3.2642</td>\n",
       "    </tr>\n",
       "    <tr>\n",
       "      <th>25754</th>\n",
       "      <td>OPT</td>\n",
       "      <td>0</td>\n",
       "      <td>0.5</td>\n",
       "      <td>1.0</td>\n",
       "      <td>50</td>\n",
       "      <td>[-1.8037, -1.4605]</td>\n",
       "      <td>[1.9661, 1.9713, 0.0506]</td>\n",
       "      <td>1.00</td>\n",
       "      <td>[0.0, 0.0]</td>\n",
       "      <td>[1.4661, 1.4713, -0.4494]</td>\n",
       "      <td>4</td>\n",
       "      <td>[2.4184, 2.4705, 0.0307]</td>\n",
       "      <td>4.207157</td>\n",
       "      <td>3.942199</td>\n",
       "      <td>0.000000</td>\n",
       "      <td>0.053480</td>\n",
       "      <td>3.2642</td>\n",
       "    </tr>\n",
       "  </tbody>\n",
       "</table>\n",
       "<p>101 rows × 17 columns</p>\n",
       "</div>"
      ],
      "text/plain": [
       "       alg  seed  alpha  lambda   i                 x_0  \\\n",
       "25654  OPT     0    0.5     1.0  50  [-1.8037, -1.4605]   \n",
       "25655  OPT     0    0.5     1.0  50  [-1.8037, -1.4605]   \n",
       "25656  OPT     0    0.5     1.0  50  [-1.8037, -1.4605]   \n",
       "25657  OPT     0    0.5     1.0  50  [-1.8037, -1.4605]   \n",
       "25658  OPT     0    0.5     1.0  50  [-1.8037, -1.4605]   \n",
       "...    ...   ...    ...     ...  ..                 ...   \n",
       "25750  OPT     0    0.5     1.0  50  [-1.8037, -1.4605]   \n",
       "25751  OPT     0    0.5     1.0  50  [-1.8037, -1.4605]   \n",
       "25752  OPT     0    0.5     1.0  50  [-1.8037, -1.4605]   \n",
       "25753  OPT     0    0.5     1.0  50  [-1.8037, -1.4605]   \n",
       "25754  OPT     0    0.5     1.0  50  [-1.8037, -1.4605]   \n",
       "\n",
       "                        theta_0  beta                x_r  \\\n",
       "25654  [1.9661, 1.9713, 0.0506]  0.00  [-1.8037, 1.9094]   \n",
       "25655  [1.9661, 1.9713, 0.0506]  0.01     [-1.8037, 1.9]   \n",
       "25656  [1.9661, 1.9713, 0.0506]  0.02     [-1.8037, 1.9]   \n",
       "25657  [1.9661, 1.9713, 0.0506]  0.03         [0.0, 0.1]   \n",
       "25658  [1.9661, 1.9713, 0.0506]  0.04         [0.0, 0.1]   \n",
       "...                         ...   ...                ...   \n",
       "25750  [1.9661, 1.9713, 0.0506]  0.96         [0.0, 0.0]   \n",
       "25751  [1.9661, 1.9713, 0.0506]  0.97         [0.0, 0.0]   \n",
       "25752  [1.9661, 1.9713, 0.0506]  0.98         [0.0, 0.0]   \n",
       "25753  [1.9661, 1.9713, 0.0506]  0.99         [0.0, 0.0]   \n",
       "25754  [1.9661, 1.9713, 0.0506]  1.00         [0.0, 0.0]   \n",
       "\n",
       "                         theta_r  p                   theta_p       J_r  \\\n",
       "25654  [2.4661, 1.4713, -0.4494]  4  [2.4184, 2.4705, 0.0307]  5.574971   \n",
       "25655  [2.4661, 1.4713, -0.4494]  4  [2.4184, 2.4705, 0.0307]  5.577876   \n",
       "25656  [2.4661, 1.4713, -0.4494]  4  [2.4184, 2.4705, 0.0307]  5.577876   \n",
       "25657  [1.4661, 1.4713, -0.4494]  4  [2.4184, 2.4705, 0.0307]  4.219932   \n",
       "25658  [1.4661, 1.4713, -0.4494]  4  [2.4184, 2.4705, 0.0307]  4.219932   \n",
       "...                          ... ..                       ...       ...   \n",
       "25750  [1.4661, 1.4713, -0.4494]  4  [2.4184, 2.4705, 0.0307]  4.207157   \n",
       "25751  [1.4661, 1.4713, -0.4494]  4  [2.4184, 2.4705, 0.0307]  4.207157   \n",
       "25752  [1.4661, 1.4713, -0.4494]  4  [2.4184, 2.4705, 0.0307]  4.207157   \n",
       "25753  [1.4661, 1.4713, -0.4494]  4  [2.4184, 2.4705, 0.0307]  4.207157   \n",
       "25754  [1.4661, 1.4713, -0.4494]  4  [2.4184, 2.4705, 0.0307]  4.207157   \n",
       "\n",
       "            J_c  robustness  consistency     L1x  \n",
       "25654  3.888719    1.367814     0.000000  3.3699  \n",
       "25655  3.888784    1.370719     0.000065  3.3605  \n",
       "25656  3.888784    1.370719     0.000065  3.3605  \n",
       "25657  3.928169    0.012775     0.039449  3.3642  \n",
       "25658  3.928169    0.012775     0.039449  3.3642  \n",
       "...         ...         ...          ...     ...  \n",
       "25750  3.942199    0.000000     0.053480  3.2642  \n",
       "25751  3.942199    0.000000     0.053480  3.2642  \n",
       "25752  3.942199    0.000000     0.053480  3.2642  \n",
       "25753  3.942199    0.000000     0.053480  3.2642  \n",
       "25754  3.942199    0.000000     0.053480  3.2642  \n",
       "\n",
       "[101 rows x 17 columns]"
      ]
     },
     "execution_count": 5,
     "metadata": {},
     "output_type": "execute_result"
    }
   ],
   "source": [
    "df_im = df_results[(df_results['seed']==0) & (df_results['i']==50) & (df_results['p']==4)]\n",
    "df_im"
   ]
  },
  {
   "cell_type": "code",
   "execution_count": 6,
   "metadata": {},
   "outputs": [],
   "source": [
    "X_0 = []\n",
    "X_r = []\n",
    "betas = [0, 0.5, 1]\n",
    "for beta in betas:\n",
    "    temp = df_im[df_im['beta']==beta]\n",
    "    X_0.append(temp['x_0'].to_numpy()[0])\n",
    "    X_r.append(temp['x_r'].to_numpy()[0])\n",
    "\n",
    "X_0 = np.array(X_0)\n",
    "X_r = np.array(X_r)"
   ]
  },
  {
   "cell_type": "code",
   "execution_count": 8,
   "metadata": {},
   "outputs": [
    {
     "data": {
      "text/plain": [
       "array([[-1.8037, -1.4605],\n",
       "       [-1.8037, -1.4605],\n",
       "       [-1.8037, -1.4605]])"
      ]
     },
     "execution_count": 8,
     "metadata": {},
     "output_type": "execute_result"
    }
   ],
   "source": [
    "X_0"
   ]
  },
  {
   "cell_type": "code",
   "execution_count": 9,
   "metadata": {},
   "outputs": [
    {
     "data": {
      "text/plain": [
       "array([[-1.8037,  1.9094],\n",
       "       [ 0.    ,  0.1   ],\n",
       "       [ 0.    ,  0.    ]])"
      ]
     },
     "execution_count": 9,
     "metadata": {},
     "output_type": "execute_result"
    }
   ],
   "source": [
    "X_r"
   ]
  },
  {
   "cell_type": "code",
   "execution_count": 80,
   "metadata": {},
   "outputs": [
    {
     "data": {
      "application/vnd.plotly.v1+json": {
       "config": {
        "plotlyServerURL": "https://plot.ly"
       },
       "data": [
        {
         "marker": {
          "size": 5
         },
         "mode": "markers",
         "name": "x_0",
         "type": "scatter",
         "x": {
          "bdata": "JLn8h/Tb/L8kufyH9Nv8vyS5/If02/y/",
          "dtype": "f8"
         },
         "y": {
          "bdata": "ke18PzVe97+R7Xw/NV73v5HtfD81Xve/",
          "dtype": "f8"
         }
        },
        {
         "line": {
          "color": "#009AFF",
          "dash": "dot",
          "width": 0.8
         },
         "marker": {
          "color": "#009AFF"
         },
         "mode": "markers",
         "name": "x_c",
         "text": "x_c",
         "type": "scatter",
         "x": [
          -1.8037
         ],
         "y": [
          1.9094
         ]
        },
        {
         "line": {
          "color": "#009AFF",
          "dash": "dot",
          "width": 0.8
         },
         "marker": {
          "color": "#8700FF"
         },
         "mode": "markers",
         "name": "x'",
         "text": "x'",
         "type": "scatter",
         "x": [
          0
         ],
         "y": [
          0.1
         ]
        },
        {
         "line": {
          "color": "#009AFF",
          "dash": "dot",
          "width": 0.8
         },
         "marker": {
          "color": "#D20D8C"
         },
         "mode": "markers",
         "name": "x_r",
         "text": "x_r",
         "type": "scatter",
         "x": [
          0
         ],
         "y": [
          0
         ]
        }
       ],
       "layout": {
        "annotations": [
         {
          "arrowcolor": "green",
          "arrowhead": 3,
          "arrowsize": 2,
          "arrowwidth": 1,
          "ax": -1.8037,
          "axref": "x",
          "ay": -1.4605,
          "ayref": "y",
          "standoff": 5,
          "x": -1.8037,
          "xref": "x",
          "y": 1.9094,
          "yref": "y"
         },
         {
          "arrowcolor": "green",
          "arrowhead": 3,
          "arrowsize": 2,
          "arrowwidth": 1,
          "ax": -1.8037,
          "axref": "x",
          "ay": -1.4605,
          "ayref": "y",
          "standoff": 5,
          "x": 0,
          "xref": "x",
          "y": 0.1,
          "yref": "y"
         },
         {
          "arrowcolor": "green",
          "arrowhead": 3,
          "arrowsize": 2,
          "arrowwidth": 1,
          "ax": -1.8037,
          "axref": "x",
          "ay": -1.4605,
          "ayref": "y",
          "standoff": 5,
          "x": 0,
          "xref": "x",
          "y": 0,
          "yref": "y"
         }
        ],
        "height": 540,
        "legend": {
         "bgcolor": "rgba(255, 255, 255, 0.7)",
         "bordercolor": "lightgrey",
         "borderwidth": 1,
         "entrywidth": 0.1,
         "entrywidthmode": "pixels",
         "font": {
          "color": "black",
          "family": "Times New Roman",
          "size": 15
         },
         "x": 0.975,
         "xanchor": "right",
         "y": 0.975
        },
        "margin": {
         "b": 0,
         "l": 1,
         "r": 5,
         "t": 5
        },
        "paper_bgcolor": "white",
        "plot_bgcolor": "white",
        "template": {
         "data": {
          "bar": [
           {
            "error_x": {
             "color": "#2a3f5f"
            },
            "error_y": {
             "color": "#2a3f5f"
            },
            "marker": {
             "line": {
              "color": "#E5ECF6",
              "width": 0.5
             },
             "pattern": {
              "fillmode": "overlay",
              "size": 10,
              "solidity": 0.2
             }
            },
            "type": "bar"
           }
          ],
          "barpolar": [
           {
            "marker": {
             "line": {
              "color": "#E5ECF6",
              "width": 0.5
             },
             "pattern": {
              "fillmode": "overlay",
              "size": 10,
              "solidity": 0.2
             }
            },
            "type": "barpolar"
           }
          ],
          "carpet": [
           {
            "aaxis": {
             "endlinecolor": "#2a3f5f",
             "gridcolor": "white",
             "linecolor": "white",
             "minorgridcolor": "white",
             "startlinecolor": "#2a3f5f"
            },
            "baxis": {
             "endlinecolor": "#2a3f5f",
             "gridcolor": "white",
             "linecolor": "white",
             "minorgridcolor": "white",
             "startlinecolor": "#2a3f5f"
            },
            "type": "carpet"
           }
          ],
          "choropleth": [
           {
            "colorbar": {
             "outlinewidth": 0,
             "ticks": ""
            },
            "type": "choropleth"
           }
          ],
          "contour": [
           {
            "colorbar": {
             "outlinewidth": 0,
             "ticks": ""
            },
            "colorscale": [
             [
              0,
              "#0d0887"
             ],
             [
              0.1111111111111111,
              "#46039f"
             ],
             [
              0.2222222222222222,
              "#7201a8"
             ],
             [
              0.3333333333333333,
              "#9c179e"
             ],
             [
              0.4444444444444444,
              "#bd3786"
             ],
             [
              0.5555555555555556,
              "#d8576b"
             ],
             [
              0.6666666666666666,
              "#ed7953"
             ],
             [
              0.7777777777777778,
              "#fb9f3a"
             ],
             [
              0.8888888888888888,
              "#fdca26"
             ],
             [
              1,
              "#f0f921"
             ]
            ],
            "type": "contour"
           }
          ],
          "contourcarpet": [
           {
            "colorbar": {
             "outlinewidth": 0,
             "ticks": ""
            },
            "type": "contourcarpet"
           }
          ],
          "heatmap": [
           {
            "colorbar": {
             "outlinewidth": 0,
             "ticks": ""
            },
            "colorscale": [
             [
              0,
              "#0d0887"
             ],
             [
              0.1111111111111111,
              "#46039f"
             ],
             [
              0.2222222222222222,
              "#7201a8"
             ],
             [
              0.3333333333333333,
              "#9c179e"
             ],
             [
              0.4444444444444444,
              "#bd3786"
             ],
             [
              0.5555555555555556,
              "#d8576b"
             ],
             [
              0.6666666666666666,
              "#ed7953"
             ],
             [
              0.7777777777777778,
              "#fb9f3a"
             ],
             [
              0.8888888888888888,
              "#fdca26"
             ],
             [
              1,
              "#f0f921"
             ]
            ],
            "type": "heatmap"
           }
          ],
          "histogram": [
           {
            "marker": {
             "pattern": {
              "fillmode": "overlay",
              "size": 10,
              "solidity": 0.2
             }
            },
            "type": "histogram"
           }
          ],
          "histogram2d": [
           {
            "colorbar": {
             "outlinewidth": 0,
             "ticks": ""
            },
            "colorscale": [
             [
              0,
              "#0d0887"
             ],
             [
              0.1111111111111111,
              "#46039f"
             ],
             [
              0.2222222222222222,
              "#7201a8"
             ],
             [
              0.3333333333333333,
              "#9c179e"
             ],
             [
              0.4444444444444444,
              "#bd3786"
             ],
             [
              0.5555555555555556,
              "#d8576b"
             ],
             [
              0.6666666666666666,
              "#ed7953"
             ],
             [
              0.7777777777777778,
              "#fb9f3a"
             ],
             [
              0.8888888888888888,
              "#fdca26"
             ],
             [
              1,
              "#f0f921"
             ]
            ],
            "type": "histogram2d"
           }
          ],
          "histogram2dcontour": [
           {
            "colorbar": {
             "outlinewidth": 0,
             "ticks": ""
            },
            "colorscale": [
             [
              0,
              "#0d0887"
             ],
             [
              0.1111111111111111,
              "#46039f"
             ],
             [
              0.2222222222222222,
              "#7201a8"
             ],
             [
              0.3333333333333333,
              "#9c179e"
             ],
             [
              0.4444444444444444,
              "#bd3786"
             ],
             [
              0.5555555555555556,
              "#d8576b"
             ],
             [
              0.6666666666666666,
              "#ed7953"
             ],
             [
              0.7777777777777778,
              "#fb9f3a"
             ],
             [
              0.8888888888888888,
              "#fdca26"
             ],
             [
              1,
              "#f0f921"
             ]
            ],
            "type": "histogram2dcontour"
           }
          ],
          "mesh3d": [
           {
            "colorbar": {
             "outlinewidth": 0,
             "ticks": ""
            },
            "type": "mesh3d"
           }
          ],
          "parcoords": [
           {
            "line": {
             "colorbar": {
              "outlinewidth": 0,
              "ticks": ""
             }
            },
            "type": "parcoords"
           }
          ],
          "pie": [
           {
            "automargin": true,
            "type": "pie"
           }
          ],
          "scatter": [
           {
            "fillpattern": {
             "fillmode": "overlay",
             "size": 10,
             "solidity": 0.2
            },
            "type": "scatter"
           }
          ],
          "scatter3d": [
           {
            "line": {
             "colorbar": {
              "outlinewidth": 0,
              "ticks": ""
             }
            },
            "marker": {
             "colorbar": {
              "outlinewidth": 0,
              "ticks": ""
             }
            },
            "type": "scatter3d"
           }
          ],
          "scattercarpet": [
           {
            "marker": {
             "colorbar": {
              "outlinewidth": 0,
              "ticks": ""
             }
            },
            "type": "scattercarpet"
           }
          ],
          "scattergeo": [
           {
            "marker": {
             "colorbar": {
              "outlinewidth": 0,
              "ticks": ""
             }
            },
            "type": "scattergeo"
           }
          ],
          "scattergl": [
           {
            "marker": {
             "colorbar": {
              "outlinewidth": 0,
              "ticks": ""
             }
            },
            "type": "scattergl"
           }
          ],
          "scattermap": [
           {
            "marker": {
             "colorbar": {
              "outlinewidth": 0,
              "ticks": ""
             }
            },
            "type": "scattermap"
           }
          ],
          "scattermapbox": [
           {
            "marker": {
             "colorbar": {
              "outlinewidth": 0,
              "ticks": ""
             }
            },
            "type": "scattermapbox"
           }
          ],
          "scatterpolar": [
           {
            "marker": {
             "colorbar": {
              "outlinewidth": 0,
              "ticks": ""
             }
            },
            "type": "scatterpolar"
           }
          ],
          "scatterpolargl": [
           {
            "marker": {
             "colorbar": {
              "outlinewidth": 0,
              "ticks": ""
             }
            },
            "type": "scatterpolargl"
           }
          ],
          "scatterternary": [
           {
            "marker": {
             "colorbar": {
              "outlinewidth": 0,
              "ticks": ""
             }
            },
            "type": "scatterternary"
           }
          ],
          "surface": [
           {
            "colorbar": {
             "outlinewidth": 0,
             "ticks": ""
            },
            "colorscale": [
             [
              0,
              "#0d0887"
             ],
             [
              0.1111111111111111,
              "#46039f"
             ],
             [
              0.2222222222222222,
              "#7201a8"
             ],
             [
              0.3333333333333333,
              "#9c179e"
             ],
             [
              0.4444444444444444,
              "#bd3786"
             ],
             [
              0.5555555555555556,
              "#d8576b"
             ],
             [
              0.6666666666666666,
              "#ed7953"
             ],
             [
              0.7777777777777778,
              "#fb9f3a"
             ],
             [
              0.8888888888888888,
              "#fdca26"
             ],
             [
              1,
              "#f0f921"
             ]
            ],
            "type": "surface"
           }
          ],
          "table": [
           {
            "cells": {
             "fill": {
              "color": "#EBF0F8"
             },
             "line": {
              "color": "white"
             }
            },
            "header": {
             "fill": {
              "color": "#C8D4E3"
             },
             "line": {
              "color": "white"
             }
            },
            "type": "table"
           }
          ]
         },
         "layout": {
          "annotationdefaults": {
           "arrowcolor": "#2a3f5f",
           "arrowhead": 0,
           "arrowwidth": 1
          },
          "autotypenumbers": "strict",
          "coloraxis": {
           "colorbar": {
            "outlinewidth": 0,
            "ticks": ""
           }
          },
          "colorscale": {
           "diverging": [
            [
             0,
             "#8e0152"
            ],
            [
             0.1,
             "#c51b7d"
            ],
            [
             0.2,
             "#de77ae"
            ],
            [
             0.3,
             "#f1b6da"
            ],
            [
             0.4,
             "#fde0ef"
            ],
            [
             0.5,
             "#f7f7f7"
            ],
            [
             0.6,
             "#e6f5d0"
            ],
            [
             0.7,
             "#b8e186"
            ],
            [
             0.8,
             "#7fbc41"
            ],
            [
             0.9,
             "#4d9221"
            ],
            [
             1,
             "#276419"
            ]
           ],
           "sequential": [
            [
             0,
             "#0d0887"
            ],
            [
             0.1111111111111111,
             "#46039f"
            ],
            [
             0.2222222222222222,
             "#7201a8"
            ],
            [
             0.3333333333333333,
             "#9c179e"
            ],
            [
             0.4444444444444444,
             "#bd3786"
            ],
            [
             0.5555555555555556,
             "#d8576b"
            ],
            [
             0.6666666666666666,
             "#ed7953"
            ],
            [
             0.7777777777777778,
             "#fb9f3a"
            ],
            [
             0.8888888888888888,
             "#fdca26"
            ],
            [
             1,
             "#f0f921"
            ]
           ],
           "sequentialminus": [
            [
             0,
             "#0d0887"
            ],
            [
             0.1111111111111111,
             "#46039f"
            ],
            [
             0.2222222222222222,
             "#7201a8"
            ],
            [
             0.3333333333333333,
             "#9c179e"
            ],
            [
             0.4444444444444444,
             "#bd3786"
            ],
            [
             0.5555555555555556,
             "#d8576b"
            ],
            [
             0.6666666666666666,
             "#ed7953"
            ],
            [
             0.7777777777777778,
             "#fb9f3a"
            ],
            [
             0.8888888888888888,
             "#fdca26"
            ],
            [
             1,
             "#f0f921"
            ]
           ]
          },
          "colorway": [
           "#636efa",
           "#EF553B",
           "#00cc96",
           "#ab63fa",
           "#FFA15A",
           "#19d3f3",
           "#FF6692",
           "#B6E880",
           "#FF97FF",
           "#FECB52"
          ],
          "font": {
           "color": "#2a3f5f"
          },
          "geo": {
           "bgcolor": "white",
           "lakecolor": "white",
           "landcolor": "#E5ECF6",
           "showlakes": true,
           "showland": true,
           "subunitcolor": "white"
          },
          "hoverlabel": {
           "align": "left"
          },
          "hovermode": "closest",
          "mapbox": {
           "style": "light"
          },
          "paper_bgcolor": "white",
          "plot_bgcolor": "#E5ECF6",
          "polar": {
           "angularaxis": {
            "gridcolor": "white",
            "linecolor": "white",
            "ticks": ""
           },
           "bgcolor": "#E5ECF6",
           "radialaxis": {
            "gridcolor": "white",
            "linecolor": "white",
            "ticks": ""
           }
          },
          "scene": {
           "xaxis": {
            "backgroundcolor": "#E5ECF6",
            "gridcolor": "white",
            "gridwidth": 2,
            "linecolor": "white",
            "showbackground": true,
            "ticks": "",
            "zerolinecolor": "white"
           },
           "yaxis": {
            "backgroundcolor": "#E5ECF6",
            "gridcolor": "white",
            "gridwidth": 2,
            "linecolor": "white",
            "showbackground": true,
            "ticks": "",
            "zerolinecolor": "white"
           },
           "zaxis": {
            "backgroundcolor": "#E5ECF6",
            "gridcolor": "white",
            "gridwidth": 2,
            "linecolor": "white",
            "showbackground": true,
            "ticks": "",
            "zerolinecolor": "white"
           }
          },
          "shapedefaults": {
           "line": {
            "color": "#2a3f5f"
           }
          },
          "ternary": {
           "aaxis": {
            "gridcolor": "white",
            "linecolor": "white",
            "ticks": ""
           },
           "baxis": {
            "gridcolor": "white",
            "linecolor": "white",
            "ticks": ""
           },
           "bgcolor": "#E5ECF6",
           "caxis": {
            "gridcolor": "white",
            "linecolor": "white",
            "ticks": ""
           }
          },
          "title": {
           "x": 0.05
          },
          "xaxis": {
           "automargin": true,
           "gridcolor": "white",
           "linecolor": "white",
           "ticks": "",
           "title": {
            "standoff": 15
           },
           "zerolinecolor": "white",
           "zerolinewidth": 2
          },
          "yaxis": {
           "automargin": true,
           "gridcolor": "white",
           "linecolor": "white",
           "ticks": "",
           "title": {
            "standoff": 15
           },
           "zerolinecolor": "white",
           "zerolinewidth": 2
          }
         }
        },
        "width": 720,
        "xaxis": {
         "gridcolor": "lightgrey",
         "linecolor": "black",
         "mirror": true,
         "showline": true,
         "tickfont": {
          "color": "black",
          "family": "Times New Roman",
          "size": 20
         },
         "title": {
          "font": {
           "color": "black",
           "family": "Times New Roman",
           "size": 20
          },
          "text": "Feature 1"
         },
         "zerolinecolor": "lightgrey",
         "zerolinewidth": 1
        },
        "yaxis": {
         "gridcolor": "lightgrey",
         "linecolor": "black",
         "mirror": true,
         "showline": true,
         "tickfont": {
          "color": "black",
          "family": "Times New Roman",
          "size": 20
         },
         "title": {
          "font": {
           "color": "black",
           "family": "Times New Roman",
           "size": 20
          },
          "text": "Feature 2"
         },
         "zerolinecolor": "lightgrey",
         "zerolinewidth": 1
        }
       }
      }
     },
     "metadata": {},
     "output_type": "display_data"
    }
   ],
   "source": [
    "font_family = 'Times New Roman'\n",
    "font_color = 'black'\n",
    "width, height = 720, 540\n",
    "\n",
    "x_val = 'Feature 1'\n",
    "y_val = 'Feature 2'\n",
    "\n",
    "\n",
    "fig = go.Figure()\n",
    "\n",
    "fig.add_trace(go.Scatter(\n",
    "    x = X_0[:,0],\n",
    "    y = X_0[:,1],\n",
    "    name = 'x_0',\n",
    "    mode = 'markers',\n",
    "    marker=dict(size=5)\n",
    "))\n",
    "\n",
    "\n",
    "\n",
    "colors = ['#009AFF', '#8700FF', '#D20D8C', '#FE2201']\n",
    "names = ['x_c', 'x\\'', 'x_r']\n",
    "\n",
    "for i, x_r in enumerate(X_r):\n",
    "    x_0 = X_0[i]\n",
    "    fig.add_trace(go.Scatter(\n",
    "        x = [x_r[0]],\n",
    "        y = [x_r[1]],\n",
    "        mode='markers',\n",
    "        marker=dict(color=colors[i]),\n",
    "        line=dict(color='#009AFF', width=0.8, dash='dot'),\n",
    "        name=names[i],\n",
    "        text=names[i]\n",
    "    ))\n",
    "    fig.add_annotation(go.layout.Annotation(\n",
    "        x=x_r[0], y=x_r[1], ax=x_0[0], ay=x_0[1], xref='x', yref='y', axref='x', ayref='y', arrowhead=3, arrowsize=2, arrowwidth=1, arrowcolor='green', standoff=5\n",
    "    ))\n",
    "    \n",
    "fig.update_xaxes(\n",
    "    title=dict(\n",
    "        text=x_val.capitalize(),\n",
    "        font=dict(\n",
    "            family=font_family,\n",
    "            color=font_color,\n",
    "            size=20\n",
    "        )\n",
    "        ), \n",
    "    showline=True, \n",
    "    mirror=True,\n",
    "    linecolor='black', \n",
    "    gridcolor='lightgrey', \n",
    "    zerolinewidth=1,\n",
    "    zerolinecolor='lightgrey',\n",
    "    )\n",
    "\n",
    "fig.update_yaxes(\n",
    "    title=dict(\n",
    "        text=y_val.capitalize(),\n",
    "        font=dict(\n",
    "            family=font_family,\n",
    "            color=font_color,\n",
    "            size=20\n",
    "        ), \n",
    "        ), \n",
    "    showline=True, \n",
    "    mirror=True,\n",
    "    linecolor='black', \n",
    "    gridcolor='lightgrey',\n",
    "    zerolinewidth=1,\n",
    "    zerolinecolor='lightgrey',\n",
    "    )\n",
    "\n",
    "fig.update_layout(\n",
    "    legend=dict(\n",
    "        # y=0.975, \n",
    "        # y=0.0255, \n",
    "        x=0.975, \n",
    "        y=0.975, \n",
    "        xanchor='right',\n",
    "        font=dict(\n",
    "            family=font_family,\n",
    "            color=font_color,\n",
    "            size=15\n",
    "            ), \n",
    "        bgcolor='rgba(255, 255, 255, 0.7)',\n",
    "        bordercolor='lightgrey',\n",
    "        borderwidth=1,\n",
    "        entrywidth=0.1,\n",
    "        entrywidthmode='pixels',\n",
    "        ),\n",
    "    margin=dict(t=5, b=0, l=1, r=5),\n",
    "    width=width,\n",
    "    height=height,\n",
    "    plot_bgcolor='white',\n",
    "    paper_bgcolor='white',\n",
    "    xaxis=dict(\n",
    "        tickfont=dict(\n",
    "            family=font_family,\n",
    "            color=font_color,\n",
    "            size=20,\n",
    "        ),\n",
    "    ),\n",
    "    yaxis=dict(\n",
    "        tickfont=dict(\n",
    "            family=font_family,\n",
    "            color=font_color,\n",
    "            size=20\n",
    "        )\n",
    "    )\n",
    "    )\n",
    "\n",
    "\n",
    "fig.show()"
   ]
  }
 ],
 "metadata": {
  "kernelspec": {
   "display_name": ".env",
   "language": "python",
   "name": "python3"
  },
  "language_info": {
   "codemirror_mode": {
    "name": "ipython",
    "version": 3
   },
   "file_extension": ".py",
   "mimetype": "text/x-python",
   "name": "python",
   "nbconvert_exporter": "python",
   "pygments_lexer": "ipython3",
   "version": "3.12.7"
  }
 },
 "nbformat": 4,
 "nbformat_minor": 2
}
