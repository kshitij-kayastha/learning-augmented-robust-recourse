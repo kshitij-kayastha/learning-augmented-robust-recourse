{
 "cells": [
  {
   "cell_type": "code",
   "execution_count": 1,
   "metadata": {},
   "outputs": [],
   "source": [
    "import sys\n",
    "sys.path.append('..')"
   ]
  },
  {
   "cell_type": "code",
   "execution_count": 2,
   "metadata": {},
   "outputs": [
    {
     "name": "stderr",
     "output_type": "stream",
     "text": [
      "/Users/kk985/PhD/Research/LARRecourse/experiments/../src/utils.py:131: SyntaxWarning: invalid escape sequence '\\e'\n",
      "  (f'theta_s-2\\epsilon', (theta_p_minus_2eps[:-1], theta_p_minus_2eps[[-1]])),\n",
      "/Users/kk985/PhD/Research/LARRecourse/experiments/../src/utils.py:132: SyntaxWarning: invalid escape sequence '\\e'\n",
      "  (f'theta_s-\\epsilon', (theta_p_minus_eps[:-1], theta_p_minus_eps[[-1]])),\n",
      "/Users/kk985/PhD/Research/LARRecourse/experiments/../src/utils.py:134: SyntaxWarning: invalid escape sequence '\\e'\n",
      "  (f'theta_s+\\epsilon', (theta_p_plus_eps[:-1], theta_p_plus_eps[[-1]])),\n",
      "/Users/kk985/PhD/Research/LARRecourse/experiments/../src/utils.py:135: SyntaxWarning: invalid escape sequence '\\e'\n",
      "  (f'theta_s+2\\epsilon', (theta_p_plus_2eps[:-1], theta_p_plus_2eps[[-1]])),\n",
      "/Users/kk985/PhD/Research/LARRecourse/experiments/../src/utils.py:150: SyntaxWarning: invalid escape sequence '\\e'\n",
      "  (f'theta_s-2\\epsilon', (theta_p_minus_2eps[:-1], theta_p_minus_2eps[[-1]])),\n",
      "/Users/kk985/PhD/Research/LARRecourse/experiments/../src/utils.py:151: SyntaxWarning: invalid escape sequence '\\e'\n",
      "  (f'theta_s-\\epsilon', (theta_p_minus_eps[:-1], theta_p_minus_eps[[-1]])),\n",
      "/Users/kk985/PhD/Research/LARRecourse/experiments/../src/utils.py:153: SyntaxWarning: invalid escape sequence '\\e'\n",
      "  (f'theta_s+\\epsilon', (theta_p_plus_eps[:-1], theta_p_plus_eps[[-1]])),\n",
      "/Users/kk985/PhD/Research/LARRecourse/experiments/../src/utils.py:154: SyntaxWarning: invalid escape sequence '\\e'\n",
      "  (f'theta_s+2\\epsilon', (theta_p_plus_2eps[:-1], theta_p_plus_2eps[[-1]])),\n"
     ]
    }
   ],
   "source": [
    "import tqdm\n",
    "import torch\n",
    "import pickle\n",
    "import warnings\n",
    "import numpy as np\n",
    "import pandas as pd\n",
    "import torch.optim as optim\n",
    "from copy import deepcopy\n",
    "import plotly.express as px\n",
    "import plotly.graph_objects as go\n",
    "from plotly.subplots import make_subplots\n",
    "\n",
    "from src.data import *\n",
    "from src.utils import *\n",
    "from src.model import *\n",
    "from src.recourse import *\n",
    "\n",
    "warnings.filterwarnings('ignore')"
   ]
  },
  {
   "cell_type": "code",
   "execution_count": 3,
   "metadata": {},
   "outputs": [],
   "source": [
    "def append_result(d, rob, loss, cost, m1_validity, wc_validity, m1_expectation, wc_expectation):\n",
    "    d['Cost'].append(cost)\n",
    "    d['M1 Validity'].append(m1_validity)\n",
    "    d['WC Validity'].append(wc_validity)\n",
    "    d['M1 Expectation'].append(m1_expectation)\n",
    "    d['WC Expectation'].append(wc_expectation)\n",
    "    d['J'].append(rob) \n",
    "    d['Loss'].append(loss)\n",
    "    \n",
    "def get_result(d, alg, seed, alpha, lamb):\n",
    "    result = {\n",
    "        'alg': alg, \n",
    "        'seed': seed,\n",
    "        'alpha': alpha,\n",
    "        'lambda': lamb,\n",
    "        }\n",
    "    \n",
    "    for key in d.keys():\n",
    "        result[key] = np.mean(d[key])\n",
    "    return result"
   ]
  },
  {
   "cell_type": "code",
   "execution_count": 4,
   "metadata": {},
   "outputs": [],
   "source": [
    "def get_model_adv_pga(X_0, X_r, cfr, alpha, lamb, pga_max_iter: int = 100):\n",
    "    X_0 = torch.tensor(np.stack(X_0)).float()\n",
    "    X_r = torch.tensor(np.stack(X_r)).float()\n",
    "    \n",
    "    loss_fn = torch.nn.BCELoss(reduction='mean')\n",
    "    cfr_adv = deepcopy(cfr)\n",
    "    optimizer = optim.Adam(cfr_adv.parameters(), maximize=True)\n",
    "    weights_min = [cfr.fc1.weight.data-alpha, cfr.fc2.weight.data-alpha, cfr.fc3.weight.data-alpha, cfr.out.weight.data-alpha]\n",
    "    weights_max = [cfr.fc1.weight.data+alpha, cfr.fc2.weight.data+alpha, cfr.fc3.weight.data+alpha, cfr.out.weight.data+alpha]\n",
    "    bias_min = [cfr.fc1.bias.data-alpha, cfr.fc2.bias.data-alpha, cfr.fc3.bias.data-alpha, cfr.out.bias.data-alpha]\n",
    "    bias_max = [cfr.fc1.bias.data+alpha, cfr.fc2.bias.data+alpha, cfr.fc3.bias.data+alpha, cfr.out.bias.data+alpha]\n",
    "        \n",
    "    loss = torch.tensor(1.)\n",
    "    loss_diff = 1\n",
    "    i = 0\n",
    "    # while loss_diff > 1e-4:\n",
    "    for epoch in range(pga_max_iter):\n",
    "        prev_loss = loss.clone().detach()\n",
    "        optimizer.zero_grad()\n",
    "        \n",
    "        f_x = cfr_adv(X_r)\n",
    "        y_target = torch.ones(f_x.shape).float()\n",
    "        bce_loss = loss_fn(f_x, y_target)\n",
    "        cost = torch.dist(X_r, X_0, 1)\n",
    "        loss = bce_loss + lamb*cost\n",
    "        \n",
    "        loss.backward()\n",
    "        optimizer.step()\n",
    "        \n",
    "        loss_diff = torch.dist(prev_loss, loss, 1)\n",
    "        i += 1\n",
    "        \n",
    "        # clamp model parameters to -alpha, alpha range\n",
    "        cfr_adv.fc1.weight.data = cfr_adv.fc1.weight.data.clamp(weights_min[0], weights_max[0])\n",
    "        cfr_adv.fc2.weight.data = cfr_adv.fc2.weight.data.clamp(weights_min[1], weights_max[1])\n",
    "        cfr_adv.fc3.weight.data = cfr_adv.fc3.weight.data.clamp(weights_min[2], weights_max[2])\n",
    "        cfr_adv.out.weight.data = cfr_adv.out.weight.data.clamp(weights_min[3], weights_max[3])\n",
    "        \n",
    "        cfr_adv.fc1.bias.data = cfr_adv.fc1.bias.data.clamp(bias_min[0], bias_max[0])\n",
    "        cfr_adv.fc2.bias.data = cfr_adv.fc2.bias.data.clamp(bias_min[1], bias_max[1])\n",
    "        cfr_adv.fc3.bias.data = cfr_adv.fc3.bias.data.clamp(bias_min[2], bias_max[2])\n",
    "        cfr_adv.out.bias.data = cfr_adv.out.bias.data.clamp(bias_min[3], bias_max[3])\n",
    "    \n",
    "    wnorms = [\n",
    "        torch.dist(cfr.fc1.weight.data, cfr_adv.fc1.weight.data, torch.inf),\n",
    "        torch.dist(cfr.fc2.weight.data, cfr_adv.fc2.weight.data, torch.inf),\n",
    "        torch.dist(cfr.fc3.weight.data, cfr_adv.fc3.weight.data, torch.inf),\n",
    "        torch.dist(cfr.out.weight.data, cfr_adv.out.weight.data, torch.inf),\n",
    "    ]\n",
    "    \n",
    "    bnorms = [\n",
    "        torch.dist(cfr.fc1.bias.data, cfr_adv.fc1.bias.data, torch.inf),\n",
    "        torch.dist(cfr.fc2.bias.data, cfr_adv.fc2.bias.data, torch.inf),\n",
    "        torch.dist(cfr.fc3.bias.data, cfr_adv.fc3.bias.data, torch.inf),\n",
    "        torch.dist(cfr.out.bias.data, cfr_adv.out.bias.data, torch.inf),\n",
    "    ]\n",
    "    \n",
    "    # print(f'Final Loss: {loss}')\n",
    "    # print(f'Num Iterations: {i}')\n",
    "    # print(f'weights_alpha, bias_alpha: {max(wnorms), max(bnorms)}')\n",
    "            \n",
    "    return cfr_adv"
   ]
  },
  {
   "cell_type": "code",
   "execution_count": 5,
   "metadata": {},
   "outputs": [],
   "source": [
    "def evaluate_performance(X_0, X_r, cfr, alpha, lamb, seed, alg, method='search'):\n",
    "    results = {'Cost': [], 'M1 Validity': [], 'WC Validity': [], 'M1 Expectation': [], 'WC Expectation': [], 'J': [], 'Loss': []}\n",
    "\n",
    "    cfr_adv = get_model_adv_pga(X_0, X_r, cfr, alpha, lamb, 99)    \n",
    "    n = len(X_r)\n",
    "\n",
    "    for i in tqdm.trange(n, desc=f'Eval alpha={alpha:.4f}; lambda={lamb}', colour='#0091ff'):\n",
    "        x_0 = torch.from_numpy(X_0[i]).float()\n",
    "        x_r = torch.from_numpy(X_r[i]).float()\n",
    "        J = RecourseCost(x_0, lamb)\n",
    "        \n",
    "        bce_loss_opt, cost_opt, rob_opt = J.eval_nonlinear(x_r.reshape((1,len(x_r))), cfr_adv, True)\n",
    "        m1_validity_opt = cfr.predict(x_r.reshape(1,-1))[0]\n",
    "        m1_expectation_opt = cfr.predict_proba(x_r.reshape(1,-1))[0,1]\n",
    "        \n",
    "        wc_validity_opt = cfr_adv.predict(x_r.reshape(1,-1))[0]\n",
    "        wc_expectation_opt = cfr_adv.predict_proba(x_r.reshape(1,-1))[0,1]\n",
    "        \n",
    "        append_result(results, rob_opt, bce_loss_opt, cost_opt, m1_validity_opt, wc_validity_opt, m1_expectation_opt, wc_expectation_opt)\n",
    "        \n",
    "    return get_result(results, alg, seed, alpha, lamb)"
   ]
  },
  {
   "cell_type": "code",
   "execution_count": 6,
   "metadata": {},
   "outputs": [],
   "source": [
    "method_map = {\n",
    "    'alg1_lamb0.05': 'Alg1 (λ=0.05)', \n",
    "    'alg1_lamb0.1': 'Alg1 (λ=0.1)',\n",
    "    'alg1_lamb0.2': 'Alg1 (λ=0.2)', \n",
    "    'alg1_lamb0.3': 'Alg1 (λ=0.3)',\n",
    "    'roar': 'ROAR ', \n",
    "    'rbr': 'RBR', \n",
    "    'wachter': 'WACHTER'\n",
    "    }\n",
    "\n",
    "data_map = {'synthetic': 'Synthetic', 'sba': 'Small Business Administration', 'german': 'German', 'income': 'ACS Income'}\n",
    "model_map = {'lr': 'Logistic Regression', 'nn': 'Neural Network'}"
   ]
  },
  {
   "cell_type": "code",
   "execution_count": 7,
   "metadata": {},
   "outputs": [
    {
     "name": "stderr",
     "output_type": "stream",
     "text": [
      "Eval alpha=0.0000; lambda=0.1: 100%|\u001b[38;2;0;145;255m██████████\u001b[0m| 100/100 [00:00<00:00, 4384.05it/s]\n",
      "Eval alpha=0.0000; lambda=0.1: 100%|\u001b[38;2;0;145;255m██████████\u001b[0m| 100/100 [00:00<00:00, 4337.44it/s]\n",
      "Eval alpha=0.0000; lambda=0.1: 100%|\u001b[38;2;0;145;255m██████████\u001b[0m| 100/100 [00:00<00:00, 4671.39it/s]\n",
      "Eval alpha=0.0001; lambda=0.1: 100%|\u001b[38;2;0;145;255m██████████\u001b[0m| 100/100 [00:00<00:00, 4523.48it/s]\n",
      "Eval alpha=0.0001; lambda=0.1: 100%|\u001b[38;2;0;145;255m██████████\u001b[0m| 100/100 [00:00<00:00, 4582.94it/s]\n",
      "Eval alpha=0.0001; lambda=0.1: 100%|\u001b[38;2;0;145;255m██████████\u001b[0m| 100/100 [00:00<00:00, 4432.04it/s]\n",
      "Eval alpha=0.0001; lambda=0.1: 100%|\u001b[38;2;0;145;255m██████████\u001b[0m| 100/100 [00:00<00:00, 4492.57it/s]\n",
      "Eval alpha=0.0001; lambda=0.1: 100%|\u001b[38;2;0;145;255m██████████\u001b[0m| 100/100 [00:00<00:00, 4495.79it/s]\n",
      "Eval alpha=0.0002; lambda=0.1: 100%|\u001b[38;2;0;145;255m██████████\u001b[0m| 100/100 [00:00<00:00, 4347.83it/s]\n",
      "Eval alpha=0.0002; lambda=0.1: 100%|\u001b[38;2;0;145;255m██████████\u001b[0m| 100/100 [00:00<00:00, 4247.01it/s]\n",
      "Eval alpha=0.0002; lambda=0.1: 100%|\u001b[38;2;0;145;255m██████████\u001b[0m| 100/100 [00:00<00:00, 4555.86it/s]\n",
      "Eval alpha=0.0000; lambda=0.2: 100%|\u001b[38;2;0;145;255m██████████\u001b[0m| 100/100 [00:00<00:00, 4245.55it/s]\n",
      "Eval alpha=0.0000; lambda=0.2: 100%|\u001b[38;2;0;145;255m██████████\u001b[0m| 100/100 [00:00<00:00, 4363.75it/s]\n",
      "Eval alpha=0.0000; lambda=0.2: 100%|\u001b[38;2;0;145;255m██████████\u001b[0m| 100/100 [00:00<00:00, 4272.58it/s]\n",
      "Eval alpha=0.0001; lambda=0.2: 100%|\u001b[38;2;0;145;255m██████████\u001b[0m| 100/100 [00:00<00:00, 4496.61it/s]\n",
      "Eval alpha=0.0001; lambda=0.2: 100%|\u001b[38;2;0;145;255m██████████\u001b[0m| 100/100 [00:00<00:00, 4282.13it/s]\n",
      "Eval alpha=0.0001; lambda=0.2: 100%|\u001b[38;2;0;145;255m██████████\u001b[0m| 100/100 [00:00<00:00, 4240.74it/s]\n",
      "Eval alpha=0.0001; lambda=0.2: 100%|\u001b[38;2;0;145;255m██████████\u001b[0m| 100/100 [00:00<00:00, 2079.69it/s]\n",
      "Eval alpha=0.0001; lambda=0.2: 100%|\u001b[38;2;0;145;255m██████████\u001b[0m| 100/100 [00:00<00:00, 4190.91it/s]\n",
      "Eval alpha=0.0002; lambda=0.2: 100%|\u001b[38;2;0;145;255m██████████\u001b[0m| 100/100 [00:00<00:00, 4591.77it/s]\n",
      "Eval alpha=0.0002; lambda=0.2: 100%|\u001b[38;2;0;145;255m██████████\u001b[0m| 100/100 [00:00<00:00, 4389.41it/s]\n",
      "Eval alpha=0.0002; lambda=0.2: 100%|\u001b[38;2;0;145;255m██████████\u001b[0m| 100/100 [00:00<00:00, 4440.06it/s]\n",
      "Eval alpha=0.0000; lambda=0.3: 100%|\u001b[38;2;0;145;255m██████████\u001b[0m| 100/100 [00:00<00:00, 4476.93it/s]\n",
      "Eval alpha=0.0000; lambda=0.3: 100%|\u001b[38;2;0;145;255m██████████\u001b[0m| 100/100 [00:00<00:00, 4460.70it/s]\n",
      "Eval alpha=0.0000; lambda=0.3: 100%|\u001b[38;2;0;145;255m██████████\u001b[0m| 100/100 [00:00<00:00, 4503.90it/s]\n",
      "Eval alpha=0.0001; lambda=0.3: 100%|\u001b[38;2;0;145;255m██████████\u001b[0m| 100/100 [00:00<00:00, 4548.94it/s]\n",
      "Eval alpha=0.0001; lambda=0.3: 100%|\u001b[38;2;0;145;255m██████████\u001b[0m| 100/100 [00:00<00:00, 4715.67it/s]\n",
      "Eval alpha=0.0001; lambda=0.3: 100%|\u001b[38;2;0;145;255m██████████\u001b[0m| 100/100 [00:00<00:00, 4366.25it/s]\n",
      "Eval alpha=0.0001; lambda=0.3: 100%|\u001b[38;2;0;145;255m██████████\u001b[0m| 100/100 [00:00<00:00, 4647.69it/s]\n",
      "Eval alpha=0.0001; lambda=0.3: 100%|\u001b[38;2;0;145;255m██████████\u001b[0m| 100/100 [00:00<00:00, 4389.60it/s]\n",
      "Eval alpha=0.0002; lambda=0.3: 100%|\u001b[38;2;0;145;255m██████████\u001b[0m| 100/100 [00:00<00:00, 4323.04it/s]\n",
      "Eval alpha=0.0002; lambda=0.3: 100%|\u001b[38;2;0;145;255m██████████\u001b[0m| 100/100 [00:00<00:00, 4340.09it/s]\n",
      "Eval alpha=0.0002; lambda=0.3: 100%|\u001b[38;2;0;145;255m██████████\u001b[0m| 100/100 [00:00<00:00, 3807.91it/s]\n",
      "Eval alpha=0.0000; lambda=0.1: 100%|\u001b[38;2;0;145;255m██████████\u001b[0m| 100/100 [00:00<00:00, 4506.90it/s]\n",
      "Eval alpha=0.0000; lambda=0.1: 100%|\u001b[38;2;0;145;255m██████████\u001b[0m| 100/100 [00:00<00:00, 4255.28it/s]\n",
      "Eval alpha=0.0000; lambda=0.1: 100%|\u001b[38;2;0;145;255m██████████\u001b[0m| 100/100 [00:00<00:00, 4132.93it/s]\n",
      "Eval alpha=0.0001; lambda=0.1: 100%|\u001b[38;2;0;145;255m██████████\u001b[0m| 100/100 [00:00<00:00, 4280.99it/s]\n",
      "Eval alpha=0.0001; lambda=0.1: 100%|\u001b[38;2;0;145;255m██████████\u001b[0m| 100/100 [00:00<00:00, 4367.34it/s]\n",
      "Eval alpha=0.0001; lambda=0.1: 100%|\u001b[38;2;0;145;255m██████████\u001b[0m| 100/100 [00:00<00:00, 4202.20it/s]\n",
      "Eval alpha=0.0001; lambda=0.1: 100%|\u001b[38;2;0;145;255m██████████\u001b[0m| 100/100 [00:00<00:00, 4173.64it/s]\n",
      "Eval alpha=0.0001; lambda=0.1: 100%|\u001b[38;2;0;145;255m██████████\u001b[0m| 100/100 [00:00<00:00, 4290.19it/s]\n",
      "Eval alpha=0.0002; lambda=0.1: 100%|\u001b[38;2;0;145;255m██████████\u001b[0m| 100/100 [00:00<00:00, 4229.24it/s]\n",
      "Eval alpha=0.0002; lambda=0.1: 100%|\u001b[38;2;0;145;255m██████████\u001b[0m| 100/100 [00:00<00:00, 4116.10it/s]\n",
      "Eval alpha=0.0002; lambda=0.1: 100%|\u001b[38;2;0;145;255m██████████\u001b[0m| 100/100 [00:00<00:00, 4233.34it/s]\n"
     ]
    }
   ],
   "source": [
    "torch.manual_seed(0)\n",
    "params = {}\n",
    "# 'synthetic', 'german', 'sba'\n",
    "params['data'] = 'sba'\n",
    "# 'lr', 'nn'\n",
    "params['base_model'] = 'nn'\n",
    "params['algs'] = ['alg1', 'roar']\n",
    "params['alpha'] = 0.2\n",
    "lambdas = [0.1, 0.2, 0.3]\n",
    "\n",
    "\n",
    "results = {\n",
    "    'Algorithm': [],\n",
    "    'Cost': [],\n",
    "    'Current Validity': [],\n",
    "    'Worst Case Validity': []\n",
    "}\n",
    "\n",
    "# Synthesis\n",
    "methods = []\n",
    "for method in params['algs']:\n",
    "    for li, lamb in enumerate(lambdas):\n",
    "        if method == 'alg1':\n",
    "            methods.append(f'{method}_lamb{lamb}')\n",
    "        else:\n",
    "            if li > 0:\n",
    "                break\n",
    "            methods.append(f'{method}')\n",
    "\n",
    "for li, mname in enumerate(methods):\n",
    "    with open(f\"../results/cost_validity/{params['base_model']}_{params['data']}_{mname}.pickle\", 'rb') as f:\n",
    "        data = pickle.load(f)\n",
    "\n",
    "    lamb = lambdas[li%len(lambdas)]\n",
    "    \n",
    "    for i in range(len(data[\"params\"])):\n",
    "        # alpha = 0.002\n",
    "        if mname != 'rbr':\n",
    "            alpha = data['params'][i]['delta_max'] * 0.001\n",
    "        else:\n",
    "            alpha = 0.02\n",
    "        \n",
    "        X_0 = data['x_0'][i]\n",
    "        X_r = data['x_r'][i]\n",
    "        theta_0 = data['theta_0']\n",
    "        cfr = Net0(len(X_0[i]))\n",
    "        cfr.load_state_dict(theta_0)\n",
    "        \n",
    "        res = evaluate_performance(X_0, X_r, deepcopy(cfr), alpha, lamb, i, mname)\n",
    "        \n",
    "        results['Algorithm'].append(method_map[mname])\n",
    "        results['Cost'].append(res['Cost'])\n",
    "        results['Current Validity'].append(res['M1 Validity'])\n",
    "        results['Worst Case Validity'].append(res['WC Validity'])\n",
    "        \n",
    "df_results = pd.DataFrame(results)"
   ]
  },
  {
   "cell_type": "code",
   "execution_count": 8,
   "metadata": {},
   "outputs": [
    {
     "name": "stdout",
     "output_type": "stream",
     "text": [
      "Small Business Administration  |  NN\n"
     ]
    },
    {
     "data": {
      "text/html": [
       "<div>\n",
       "<style scoped>\n",
       "    .dataframe tbody tr th:only-of-type {\n",
       "        vertical-align: middle;\n",
       "    }\n",
       "\n",
       "    .dataframe tbody tr th {\n",
       "        vertical-align: top;\n",
       "    }\n",
       "\n",
       "    .dataframe thead th {\n",
       "        text-align: right;\n",
       "    }\n",
       "</style>\n",
       "<table border=\"1\" class=\"dataframe\">\n",
       "  <thead>\n",
       "    <tr style=\"text-align: right;\">\n",
       "      <th></th>\n",
       "      <th>Cost</th>\n",
       "      <th>Current Validity</th>\n",
       "      <th>Worst Case Validity</th>\n",
       "    </tr>\n",
       "    <tr>\n",
       "      <th>Algorithm</th>\n",
       "      <th></th>\n",
       "      <th></th>\n",
       "      <th></th>\n",
       "    </tr>\n",
       "  </thead>\n",
       "  <tbody>\n",
       "    <tr>\n",
       "      <th>Alg1 (λ=0.1)</th>\n",
       "      <td>2.52±0.86</td>\n",
       "      <td>0.99±0.02</td>\n",
       "      <td>0.99±0.02</td>\n",
       "    </tr>\n",
       "    <tr>\n",
       "      <th>Alg1 (λ=0.2)</th>\n",
       "      <td>1.35±0.67</td>\n",
       "      <td>0.92±0.12</td>\n",
       "      <td>0.92±0.12</td>\n",
       "    </tr>\n",
       "    <tr>\n",
       "      <th>Alg1 (λ=0.3)</th>\n",
       "      <td>2.4±0.76</td>\n",
       "      <td>0.99±0.01</td>\n",
       "      <td>0.99±0.01</td>\n",
       "    </tr>\n",
       "    <tr>\n",
       "      <th>ROAR</th>\n",
       "      <td>0.32±0.11</td>\n",
       "      <td>0.56±0.0</td>\n",
       "      <td>0.56±0.0</td>\n",
       "    </tr>\n",
       "  </tbody>\n",
       "</table>\n",
       "</div>"
      ],
      "text/plain": [
       "                   Cost Current Validity Worst Case Validity\n",
       "Algorithm                                                   \n",
       "Alg1 (λ=0.1)  2.52±0.86        0.99±0.02           0.99±0.02\n",
       "Alg1 (λ=0.2)  1.35±0.67        0.92±0.12           0.92±0.12\n",
       "Alg1 (λ=0.3)   2.4±0.76        0.99±0.01           0.99±0.01\n",
       "ROAR          0.32±0.11         0.56±0.0            0.56±0.0"
      ]
     },
     "execution_count": 8,
     "metadata": {},
     "output_type": "execute_result"
    }
   ],
   "source": [
    "print(f'{data_map[params[\"data\"]]}  |  {params[\"base_model\"].upper()}')\n",
    "df_results_avg = df_results.groupby('Algorithm').mean(True)\n",
    "df_results_avg[['Cost', 'Current Validity', 'Worst Case Validity']] = df_results_avg[['Cost', 'Current Validity', 'Worst Case Validity']].round(2).astype(str) + '±' + df_results.groupby('Algorithm').std(numeric_only=True)[['Cost', 'Current Validity', 'Worst Case Validity']].round(2).astype(str)\n",
    "\n",
    "df_results_avg"
   ]
  },
  {
   "cell_type": "code",
   "execution_count": 9,
   "metadata": {},
   "outputs": [
    {
     "data": {
      "application/vnd.plotly.v1+json": {
       "config": {
        "plotlyServerURL": "https://plot.ly"
       },
       "data": [
        {
         "hovertemplate": "Cost: %{x}<br>Validity: %{y}",
         "marker": {
          "color": "#17becf",
          "size": 7,
          "symbol": "x"
         },
         "mode": "lines+markers",
         "name": "Alg1 (λ=0.1)",
         "showlegend": true,
         "type": "scatter",
         "x": {
          "bdata": "7FG4qgkK9T/sUbimk2j4P2ZmZm5o7/s/cT0K18uc/z9SuB5hsLgBQOF6FHqGuQNAuB6Fi9PSBUAzMzMfCAUIQClcj26/SgpArkfhKn7ADECkcD36zlgPQA==",
          "dtype": "f8"
         },
         "y": {
          "bdata": "ZmZmZmZm7j9cj8L1KFzvPwAAAAAAAPA/AAAAAAAA8D8AAAAAAADwPwAAAAAAAPA/AAAAAAAA8D8AAAAAAADwPwAAAAAAAPA/AAAAAAAA8D8AAAAAAADwPw==",
          "dtype": "f8"
         }
        },
        {
         "hovertemplate": "Cost: %{x}<br>Validity: %{y}",
         "marker": {
          "color": "#9467bd",
          "size": 7,
          "symbol": "x"
         },
         "mode": "lines+markers",
         "name": "Alg1 (λ=0.2)",
         "showlegend": true,
         "type": "scatter",
         "x": {
          "bdata": "PQrXQ+YI3D9xPQqrZUPiP2ZmZghjh+c/j8L13pyB7j/Xo3DxP97xP8P1KAgkb/Q/exSupy2X9z+kcD2wyD77P3E9CkORE/8/AAAAgh+KAUCkcD0ki5gDQA==",
          "dtype": "f8"
         },
         "y": {
          "bdata": "CtejcD0K5z9cj8L1KFznPwAAAAAAAOg/FK5H4XoU7j+4HoXrUbjuPwAAAAAAAPA/AAAAAAAA8D8AAAAAAADwPwAAAAAAAPA/AAAAAAAA8D8AAAAAAADwPw==",
          "dtype": "f8"
         }
        },
        {
         "hovertemplate": "Cost: %{x}<br>Validity: %{y}",
         "marker": {
          "color": "#e377c2",
          "size": 7,
          "symbol": "x"
         },
         "mode": "lines+markers",
         "name": "Alg1 (λ=0.3)",
         "showlegend": true,
         "type": "scatter",
         "x": {
          "bdata": "16Nwg0AE9T+4HoVLjiD4P8P1KEQ2Wvs/pHA9Itaj/j8AAACULggBQFK4Hlnc0AJAj8L1PPSsBEApXI8KfJ0GQArXo4x6owhArkfhpoi4CkAK16OEL+QMQA==",
          "dtype": "f8"
         },
         "y": {
          "bdata": "uB6F61G47j9cj8L1KFzvPwAAAAAAAPA/AAAAAAAA8D8AAAAAAADwPwAAAAAAAPA/AAAAAAAA8D8AAAAAAADwPwAAAAAAAPA/AAAAAAAA8D8AAAAAAADwPw==",
          "dtype": "f8"
         }
        },
        {
         "hovertemplate": "Cost: %{x}<br>Validity: %{y}",
         "marker": {
          "color": "#2ca02c",
          "size": 5,
          "symbol": "circle"
         },
         "mode": "lines+markers",
         "name": "ROAR ",
         "showlegend": true,
         "type": "scatter",
         "x": {
          "bdata": "7FG47Jp4xj/D9Si8ldHJPx+F61FySM0/UrgeTUxv0D9SuB6NyT7SP3E9CpdgGdQ/cT2KbNUe1j97FK53Ml7YP/YoXI1AwNo/KVyPTqpZ3T+amTkm0QrgPw==",
          "dtype": "f8"
         },
         "y": {
          "bdata": "7FG4HoXr4T/sUbgehevhP+xRuB6F6+E/7FG4HoXr4T/sUbgehevhP+xRuB6F6+E/7FG4HoXr4T/sUbgehevhP+xRuB6F6+E/7FG4HoXr4T89CtejcD3iPw==",
          "dtype": "f8"
         }
        }
       ],
       "layout": {
        "height": 540,
        "legend": {
         "bgcolor": "rgba(255, 255, 255, 0.7)",
         "bordercolor": "lightgrey",
         "borderwidth": 1,
         "entrywidth": 100.5,
         "font": {
          "color": "black",
          "family": "Times New Roman",
          "size": 15
         },
         "orientation": "v",
         "x": 0.975,
         "xanchor": "right",
         "y": 0.025
        },
        "paper_bgcolor": "white",
        "plot_bgcolor": "white",
        "template": {
         "data": {
          "bar": [
           {
            "error_x": {
             "color": "#2a3f5f"
            },
            "error_y": {
             "color": "#2a3f5f"
            },
            "marker": {
             "line": {
              "color": "#E5ECF6",
              "width": 0.5
             },
             "pattern": {
              "fillmode": "overlay",
              "size": 10,
              "solidity": 0.2
             }
            },
            "type": "bar"
           }
          ],
          "barpolar": [
           {
            "marker": {
             "line": {
              "color": "#E5ECF6",
              "width": 0.5
             },
             "pattern": {
              "fillmode": "overlay",
              "size": 10,
              "solidity": 0.2
             }
            },
            "type": "barpolar"
           }
          ],
          "carpet": [
           {
            "aaxis": {
             "endlinecolor": "#2a3f5f",
             "gridcolor": "white",
             "linecolor": "white",
             "minorgridcolor": "white",
             "startlinecolor": "#2a3f5f"
            },
            "baxis": {
             "endlinecolor": "#2a3f5f",
             "gridcolor": "white",
             "linecolor": "white",
             "minorgridcolor": "white",
             "startlinecolor": "#2a3f5f"
            },
            "type": "carpet"
           }
          ],
          "choropleth": [
           {
            "colorbar": {
             "outlinewidth": 0,
             "ticks": ""
            },
            "type": "choropleth"
           }
          ],
          "contour": [
           {
            "colorbar": {
             "outlinewidth": 0,
             "ticks": ""
            },
            "colorscale": [
             [
              0,
              "#0d0887"
             ],
             [
              0.1111111111111111,
              "#46039f"
             ],
             [
              0.2222222222222222,
              "#7201a8"
             ],
             [
              0.3333333333333333,
              "#9c179e"
             ],
             [
              0.4444444444444444,
              "#bd3786"
             ],
             [
              0.5555555555555556,
              "#d8576b"
             ],
             [
              0.6666666666666666,
              "#ed7953"
             ],
             [
              0.7777777777777778,
              "#fb9f3a"
             ],
             [
              0.8888888888888888,
              "#fdca26"
             ],
             [
              1,
              "#f0f921"
             ]
            ],
            "type": "contour"
           }
          ],
          "contourcarpet": [
           {
            "colorbar": {
             "outlinewidth": 0,
             "ticks": ""
            },
            "type": "contourcarpet"
           }
          ],
          "heatmap": [
           {
            "colorbar": {
             "outlinewidth": 0,
             "ticks": ""
            },
            "colorscale": [
             [
              0,
              "#0d0887"
             ],
             [
              0.1111111111111111,
              "#46039f"
             ],
             [
              0.2222222222222222,
              "#7201a8"
             ],
             [
              0.3333333333333333,
              "#9c179e"
             ],
             [
              0.4444444444444444,
              "#bd3786"
             ],
             [
              0.5555555555555556,
              "#d8576b"
             ],
             [
              0.6666666666666666,
              "#ed7953"
             ],
             [
              0.7777777777777778,
              "#fb9f3a"
             ],
             [
              0.8888888888888888,
              "#fdca26"
             ],
             [
              1,
              "#f0f921"
             ]
            ],
            "type": "heatmap"
           }
          ],
          "histogram": [
           {
            "marker": {
             "pattern": {
              "fillmode": "overlay",
              "size": 10,
              "solidity": 0.2
             }
            },
            "type": "histogram"
           }
          ],
          "histogram2d": [
           {
            "colorbar": {
             "outlinewidth": 0,
             "ticks": ""
            },
            "colorscale": [
             [
              0,
              "#0d0887"
             ],
             [
              0.1111111111111111,
              "#46039f"
             ],
             [
              0.2222222222222222,
              "#7201a8"
             ],
             [
              0.3333333333333333,
              "#9c179e"
             ],
             [
              0.4444444444444444,
              "#bd3786"
             ],
             [
              0.5555555555555556,
              "#d8576b"
             ],
             [
              0.6666666666666666,
              "#ed7953"
             ],
             [
              0.7777777777777778,
              "#fb9f3a"
             ],
             [
              0.8888888888888888,
              "#fdca26"
             ],
             [
              1,
              "#f0f921"
             ]
            ],
            "type": "histogram2d"
           }
          ],
          "histogram2dcontour": [
           {
            "colorbar": {
             "outlinewidth": 0,
             "ticks": ""
            },
            "colorscale": [
             [
              0,
              "#0d0887"
             ],
             [
              0.1111111111111111,
              "#46039f"
             ],
             [
              0.2222222222222222,
              "#7201a8"
             ],
             [
              0.3333333333333333,
              "#9c179e"
             ],
             [
              0.4444444444444444,
              "#bd3786"
             ],
             [
              0.5555555555555556,
              "#d8576b"
             ],
             [
              0.6666666666666666,
              "#ed7953"
             ],
             [
              0.7777777777777778,
              "#fb9f3a"
             ],
             [
              0.8888888888888888,
              "#fdca26"
             ],
             [
              1,
              "#f0f921"
             ]
            ],
            "type": "histogram2dcontour"
           }
          ],
          "mesh3d": [
           {
            "colorbar": {
             "outlinewidth": 0,
             "ticks": ""
            },
            "type": "mesh3d"
           }
          ],
          "parcoords": [
           {
            "line": {
             "colorbar": {
              "outlinewidth": 0,
              "ticks": ""
             }
            },
            "type": "parcoords"
           }
          ],
          "pie": [
           {
            "automargin": true,
            "type": "pie"
           }
          ],
          "scatter": [
           {
            "fillpattern": {
             "fillmode": "overlay",
             "size": 10,
             "solidity": 0.2
            },
            "type": "scatter"
           }
          ],
          "scatter3d": [
           {
            "line": {
             "colorbar": {
              "outlinewidth": 0,
              "ticks": ""
             }
            },
            "marker": {
             "colorbar": {
              "outlinewidth": 0,
              "ticks": ""
             }
            },
            "type": "scatter3d"
           }
          ],
          "scattercarpet": [
           {
            "marker": {
             "colorbar": {
              "outlinewidth": 0,
              "ticks": ""
             }
            },
            "type": "scattercarpet"
           }
          ],
          "scattergeo": [
           {
            "marker": {
             "colorbar": {
              "outlinewidth": 0,
              "ticks": ""
             }
            },
            "type": "scattergeo"
           }
          ],
          "scattergl": [
           {
            "marker": {
             "colorbar": {
              "outlinewidth": 0,
              "ticks": ""
             }
            },
            "type": "scattergl"
           }
          ],
          "scattermap": [
           {
            "marker": {
             "colorbar": {
              "outlinewidth": 0,
              "ticks": ""
             }
            },
            "type": "scattermap"
           }
          ],
          "scattermapbox": [
           {
            "marker": {
             "colorbar": {
              "outlinewidth": 0,
              "ticks": ""
             }
            },
            "type": "scattermapbox"
           }
          ],
          "scatterpolar": [
           {
            "marker": {
             "colorbar": {
              "outlinewidth": 0,
              "ticks": ""
             }
            },
            "type": "scatterpolar"
           }
          ],
          "scatterpolargl": [
           {
            "marker": {
             "colorbar": {
              "outlinewidth": 0,
              "ticks": ""
             }
            },
            "type": "scatterpolargl"
           }
          ],
          "scatterternary": [
           {
            "marker": {
             "colorbar": {
              "outlinewidth": 0,
              "ticks": ""
             }
            },
            "type": "scatterternary"
           }
          ],
          "surface": [
           {
            "colorbar": {
             "outlinewidth": 0,
             "ticks": ""
            },
            "colorscale": [
             [
              0,
              "#0d0887"
             ],
             [
              0.1111111111111111,
              "#46039f"
             ],
             [
              0.2222222222222222,
              "#7201a8"
             ],
             [
              0.3333333333333333,
              "#9c179e"
             ],
             [
              0.4444444444444444,
              "#bd3786"
             ],
             [
              0.5555555555555556,
              "#d8576b"
             ],
             [
              0.6666666666666666,
              "#ed7953"
             ],
             [
              0.7777777777777778,
              "#fb9f3a"
             ],
             [
              0.8888888888888888,
              "#fdca26"
             ],
             [
              1,
              "#f0f921"
             ]
            ],
            "type": "surface"
           }
          ],
          "table": [
           {
            "cells": {
             "fill": {
              "color": "#EBF0F8"
             },
             "line": {
              "color": "white"
             }
            },
            "header": {
             "fill": {
              "color": "#C8D4E3"
             },
             "line": {
              "color": "white"
             }
            },
            "type": "table"
           }
          ]
         },
         "layout": {
          "annotationdefaults": {
           "arrowcolor": "#2a3f5f",
           "arrowhead": 0,
           "arrowwidth": 1
          },
          "autotypenumbers": "strict",
          "coloraxis": {
           "colorbar": {
            "outlinewidth": 0,
            "ticks": ""
           }
          },
          "colorscale": {
           "diverging": [
            [
             0,
             "#8e0152"
            ],
            [
             0.1,
             "#c51b7d"
            ],
            [
             0.2,
             "#de77ae"
            ],
            [
             0.3,
             "#f1b6da"
            ],
            [
             0.4,
             "#fde0ef"
            ],
            [
             0.5,
             "#f7f7f7"
            ],
            [
             0.6,
             "#e6f5d0"
            ],
            [
             0.7,
             "#b8e186"
            ],
            [
             0.8,
             "#7fbc41"
            ],
            [
             0.9,
             "#4d9221"
            ],
            [
             1,
             "#276419"
            ]
           ],
           "sequential": [
            [
             0,
             "#0d0887"
            ],
            [
             0.1111111111111111,
             "#46039f"
            ],
            [
             0.2222222222222222,
             "#7201a8"
            ],
            [
             0.3333333333333333,
             "#9c179e"
            ],
            [
             0.4444444444444444,
             "#bd3786"
            ],
            [
             0.5555555555555556,
             "#d8576b"
            ],
            [
             0.6666666666666666,
             "#ed7953"
            ],
            [
             0.7777777777777778,
             "#fb9f3a"
            ],
            [
             0.8888888888888888,
             "#fdca26"
            ],
            [
             1,
             "#f0f921"
            ]
           ],
           "sequentialminus": [
            [
             0,
             "#0d0887"
            ],
            [
             0.1111111111111111,
             "#46039f"
            ],
            [
             0.2222222222222222,
             "#7201a8"
            ],
            [
             0.3333333333333333,
             "#9c179e"
            ],
            [
             0.4444444444444444,
             "#bd3786"
            ],
            [
             0.5555555555555556,
             "#d8576b"
            ],
            [
             0.6666666666666666,
             "#ed7953"
            ],
            [
             0.7777777777777778,
             "#fb9f3a"
            ],
            [
             0.8888888888888888,
             "#fdca26"
            ],
            [
             1,
             "#f0f921"
            ]
           ]
          },
          "colorway": [
           "#636efa",
           "#EF553B",
           "#00cc96",
           "#ab63fa",
           "#FFA15A",
           "#19d3f3",
           "#FF6692",
           "#B6E880",
           "#FF97FF",
           "#FECB52"
          ],
          "font": {
           "color": "#2a3f5f"
          },
          "geo": {
           "bgcolor": "white",
           "lakecolor": "white",
           "landcolor": "#E5ECF6",
           "showlakes": true,
           "showland": true,
           "subunitcolor": "white"
          },
          "hoverlabel": {
           "align": "left"
          },
          "hovermode": "closest",
          "mapbox": {
           "style": "light"
          },
          "paper_bgcolor": "white",
          "plot_bgcolor": "#E5ECF6",
          "polar": {
           "angularaxis": {
            "gridcolor": "white",
            "linecolor": "white",
            "ticks": ""
           },
           "bgcolor": "#E5ECF6",
           "radialaxis": {
            "gridcolor": "white",
            "linecolor": "white",
            "ticks": ""
           }
          },
          "scene": {
           "xaxis": {
            "backgroundcolor": "#E5ECF6",
            "gridcolor": "white",
            "gridwidth": 2,
            "linecolor": "white",
            "showbackground": true,
            "ticks": "",
            "zerolinecolor": "white"
           },
           "yaxis": {
            "backgroundcolor": "#E5ECF6",
            "gridcolor": "white",
            "gridwidth": 2,
            "linecolor": "white",
            "showbackground": true,
            "ticks": "",
            "zerolinecolor": "white"
           },
           "zaxis": {
            "backgroundcolor": "#E5ECF6",
            "gridcolor": "white",
            "gridwidth": 2,
            "linecolor": "white",
            "showbackground": true,
            "ticks": "",
            "zerolinecolor": "white"
           }
          },
          "shapedefaults": {
           "line": {
            "color": "#2a3f5f"
           }
          },
          "ternary": {
           "aaxis": {
            "gridcolor": "white",
            "linecolor": "white",
            "ticks": ""
           },
           "baxis": {
            "gridcolor": "white",
            "linecolor": "white",
            "ticks": ""
           },
           "bgcolor": "#E5ECF6",
           "caxis": {
            "gridcolor": "white",
            "linecolor": "white",
            "ticks": ""
           }
          },
          "title": {
           "x": 0.05
          },
          "xaxis": {
           "automargin": true,
           "gridcolor": "white",
           "linecolor": "white",
           "ticks": "",
           "title": {
            "standoff": 15
           },
           "zerolinecolor": "white",
           "zerolinewidth": 2
          },
          "yaxis": {
           "automargin": true,
           "gridcolor": "white",
           "linecolor": "white",
           "ticks": "",
           "title": {
            "standoff": 15
           },
           "zerolinecolor": "white",
           "zerolinewidth": 2
          }
         }
        },
        "width": 720,
        "xaxis": {
         "gridcolor": "lightgrey",
         "linecolor": "black",
         "mirror": true,
         "showline": true,
         "tickfont": {
          "color": "black",
          "family": "Times New Roman",
          "size": 20
         },
         "title": {
          "font": {
           "color": "black",
           "family": "Times New Roman",
           "size": 25
          },
          "text": "Cost"
         },
         "zerolinecolor": "lightgrey",
         "zerolinewidth": 1
        },
        "yaxis": {
         "gridcolor": "lightgrey",
         "linecolor": "black",
         "mirror": true,
         "range": [
          -0.1,
          1.1
         ],
         "showline": true,
         "tickfont": {
          "color": "black",
          "family": "Times New Roman",
          "size": 20
         },
         "title": {
          "font": {
           "color": "black",
           "family": "Times New Roman",
           "size": 25
          },
          "text": "Worst Case Validity"
         },
         "zerolinecolor": "lightgrey",
         "zerolinewidth": 1
        }
       }
      }
     },
     "metadata": {},
     "output_type": "display_data"
    }
   ],
   "source": [
    "# colors = ['#1f77b4', '#17becf', '#9467bd', '#e377c2', '#2ca02c'] # Synthesis\n",
    "# colors = [ '#17becf', '#9467bd', '#e377c2', '#2ca02c'] # German\n",
    "colors = ['#17becf', '#9467bd', '#e377c2', '#2ca02c'] # SBA\n",
    "\n",
    "nc = len(colors)\n",
    "font_family = 'Times New Roman'\n",
    "font_color = 'black'\n",
    "width, height = 720, 540\n",
    "\n",
    "symbols = ['x' for _ in range(len(lambdas))] + ['circle', 'triangle-up']\n",
    "size = [7 for _ in range(len(lambdas))] + [5,8]\n",
    "\n",
    "show_errors = False\n",
    "y_axis = 'Worst Case Validity'\n",
    "# y_axis = 'Current Validity'\n",
    "\n",
    "fig = go.Figure()\n",
    "for i, alg in enumerate(df_results['Algorithm'].unique()):\n",
    "    temp = df_results[(df_results['Algorithm'] == alg)].sort_values(['Cost'], ascending=True)\n",
    "    x,y = find_pareto(temp['Cost'], temp[y_axis])\n",
    "    # x,y = temp['Cost'], temp[y_axis]\n",
    "    temp = pd.DataFrame({'Algorithm': [alg for _ in range(len(x))], 'Cost': x, y_axis: y})\n",
    "\n",
    "    fig.add_trace(go.Scatter(\n",
    "        x = temp['Cost'],\n",
    "        y = temp[y_axis],\n",
    "        marker = dict(color=colors[i], symbol=symbols[i], size=size[i]),\n",
    "        mode = 'lines+markers' if alg != 'WACHTER' else 'markers',\n",
    "        name = alg,\n",
    "        hovertemplate='Cost: %{x}<br>Validity: %{y}',\n",
    "        showlegend=True,\n",
    "    ))\n",
    "\n",
    "fig.update_xaxes(\n",
    "    title=dict(\n",
    "        text='Cost',\n",
    "        font=dict(\n",
    "            family=font_family,\n",
    "            color=font_color,\n",
    "            size=25\n",
    "        )\n",
    "        ), \n",
    "    showline=True, \n",
    "    mirror=True,\n",
    "    linecolor='black', \n",
    "    gridcolor='lightgrey', \n",
    "    zerolinewidth=1,\n",
    "    zerolinecolor='lightgrey',\n",
    "    )\n",
    "\n",
    "\n",
    "fig.update_yaxes(\n",
    "    title=dict(\n",
    "        text=y_axis,\n",
    "        font=dict(\n",
    "            family=font_family,\n",
    "            color=font_color,\n",
    "            size=25\n",
    "        ), \n",
    "        ), \n",
    "    showline=True, \n",
    "    mirror=True,\n",
    "    linecolor='black', \n",
    "    gridcolor='lightgrey',\n",
    "    zerolinewidth=1,\n",
    "    zerolinecolor='lightgrey',\n",
    "    )\n",
    "\n",
    "\n",
    "fig.update_layout(\n",
    "    legend=dict(\n",
    "        x=0.975, \n",
    "        y=0.025, \n",
    "        orientation='v',\n",
    "        xanchor='right',\n",
    "        font=dict(\n",
    "            family=font_family,\n",
    "            color=font_color,\n",
    "            size=15\n",
    "            ), \n",
    "        bgcolor='rgba(255, 255, 255, 0.7)',\n",
    "        bordercolor='lightgrey',\n",
    "        borderwidth=1,\n",
    "        entrywidth=100.5,\n",
    "        ),\n",
    "    width=width,\n",
    "    height=height,\n",
    "    plot_bgcolor='white',\n",
    "    paper_bgcolor='white',\n",
    "    xaxis=dict(\n",
    "        tickfont=dict(\n",
    "            family=font_family,\n",
    "            color=font_color,\n",
    "            size=20,\n",
    "        ),\n",
    "    ),\n",
    "    yaxis=dict(\n",
    "        tickfont=dict(\n",
    "            family=font_family,\n",
    "            color=font_color,\n",
    "            size=20\n",
    "        ),\n",
    "        range=[-0.1,1.1],\n",
    "    )\n",
    "    )\n",
    "\n",
    "fig.show()"
   ]
  },
  {
   "cell_type": "code",
   "execution_count": 10,
   "metadata": {},
   "outputs": [],
   "source": [
    "# fig.write_image(f'../figs/cost_validity_tradeoff_{params[\"base_model\"]}_{params[\"data\"]}.pdf')"
   ]
  }
 ],
 "metadata": {
  "kernelspec": {
   "display_name": ".env",
   "language": "python",
   "name": "python3"
  },
  "language_info": {
   "codemirror_mode": {
    "name": "ipython",
    "version": 3
   },
   "file_extension": ".py",
   "mimetype": "text/x-python",
   "name": "python",
   "nbconvert_exporter": "python",
   "pygments_lexer": "ipython3",
   "version": "3.12.7"
  }
 },
 "nbformat": 4,
 "nbformat_minor": 2
}
