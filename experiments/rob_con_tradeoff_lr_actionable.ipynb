{
 "cells": [
  {
   "cell_type": "code",
   "execution_count": 1,
   "metadata": {},
   "outputs": [],
   "source": [
    "import sys\n",
    "sys.path.append('..')"
   ]
  },
  {
   "cell_type": "code",
   "execution_count": 2,
   "metadata": {},
   "outputs": [],
   "source": [
    "import tqdm\n",
    "import warnings\n",
    "import numpy as np\n",
    "import pandas as pd\n",
    "import plotly.express as px\n",
    "import plotly.graph_objects as go\n",
    "from copy import deepcopy\n",
    "\n",
    "from src.data import *\n",
    "from src.model import *\n",
    "from src.recourse import *\n",
    "from src.utils import *\n",
    "\n",
    "warnings.filterwarnings('ignore')"
   ]
  },
  {
   "cell_type": "code",
   "execution_count": 3,
   "metadata": {},
   "outputs": [],
   "source": [
    "def append_result(d, alg_name, seed, alpha, lamb, i, x_0, theta_0, beta, x_r, theta_r, p, theta_p, J_r, J_c, robustness, consistency):\n",
    "    d['alg'].append(alg_name)\n",
    "    d['seed'].append(seed)\n",
    "    d['alpha'].append(alpha)\n",
    "    d['lambda'].append(lamb)\n",
    "    d['i'].append(i)\n",
    "    d['x_0'].append(x_0.round(4))\n",
    "    d['theta_0'].append(theta_0.round(4))\n",
    "    d['beta'].append(beta)\n",
    "    d['x_r'].append(x_r.round(4))\n",
    "    d['theta_r'].append(theta_r.round(4))\n",
    "    d['p'].append(p)\n",
    "    d['theta_p'].append(theta_p.round(4))\n",
    "    d['J_r'].append(J_r)\n",
    "    d['J_c'].append(J_c)\n",
    "    d['robustness'].append(robustness)\n",
    "    d['consistency'].append(consistency)"
   ]
  },
  {
   "cell_type": "code",
   "execution_count": 4,
   "metadata": {},
   "outputs": [],
   "source": [
    "def recourse_runner(seed: int, X: np.ndarray, lar_recourse: LARRecourse, roar_recourse: ROAR, params: dict, dataset: Dataset, predictions: List):\n",
    "    alpha = params['alpha']\n",
    "    lamb = params['lamb']\n",
    "    params['algs'] = [alg.lower() for alg in params['algs']]\n",
    "    betas = np.arange(0., 1.01, 0.01).round(2)\n",
    "    \n",
    "    results_opt = {'alg': [], 'seed': [], 'alpha': [], 'lambda': [], 'i': [], 'x_0': [], 'theta_0': [], 'beta': [], 'x_r': [], 'theta_r': [], 'p': [], 'theta_p': [], 'J_r': [], 'J_c': [], 'robustness': [], 'consistency': []}\n",
    "    results_roar = deepcopy(results_opt)\n",
    "    weights_0, bias_0 = lar_recourse.weights, lar_recourse.bias\n",
    "    theta_0 = np.hstack((weights_0, bias_0))\n",
    "    \n",
    "    n = len(X)\n",
    "    for i in tqdm.trange(n, desc=f'Evaluating recourse | alpha={alpha}; lambda={lamb}', colour='#0091ff'):\n",
    "        x_0 = X[i]\n",
    "        J = RecourseCost(x_0, lamb)\n",
    "        \n",
    "        # Robust Recourse\n",
    "        x_r = lar_recourse.get_recourse(x_0, beta=1.)\n",
    "        weights_r, bias_r = lar_recourse.calc_theta_adv(x_r)\n",
    "        theta_r = np.hstack((weights_r, bias_r))\n",
    "        J_r_opt = J.eval(x_r, weights_r, bias_r)\n",
    "        \n",
    "        for p, prediction in enumerate(predictions):\n",
    "            weights_p, bias_p = prediction[:-1], prediction[[-1]]\n",
    "            theta_p = (weights_p, bias_p)\n",
    "            \n",
    "            # Consistent Recourse\n",
    "            x_c = lar_recourse.get_recourse(x_0, beta=0., theta_p=theta_p)\n",
    "            J_c_opt = J.eval(x_c, *theta_p)\n",
    "            \n",
    "            # Learning Augmented Recourse\n",
    "            for beta in betas:\n",
    "                # Alg 1\n",
    "                if 'alg1' in params['algs']:\n",
    "                    x = lar_recourse.get_recourse(x_0, beta=beta, theta_p=theta_p)\n",
    "                    if params['post_process']:\n",
    "                        # Post process recourse\n",
    "                        x = hardmax(x, dataset.cat_features)\n",
    "                    weights_r, bias_r = lar_recourse.calc_theta_adv(x)\n",
    "                    theta_r = np.hstack((weights_r, bias_r))\n",
    "                    \n",
    "                    J_r = J.eval(x, weights_r, bias_r)\n",
    "                    J_c = J.eval(x, weights_p, bias_p)\n",
    "                    robustness = J_r - J_r_opt\n",
    "                    consistency = J_c - J_c_opt\n",
    "                    \n",
    "                    append_result(results_opt, 'OPT', seed, alpha, lamb, i, x_0, theta_0, beta, x, theta_r, p, prediction, J_r[0], J_c[0], robustness[0], consistency[0])\n",
    "                \n",
    "                # ROAR\n",
    "                if 'roar' in params['algs']:\n",
    "                    x, _ = roar_recourse.get_recourse(x_0, theta_p, beta)\n",
    "                    if params['post_process']:\n",
    "                        # Post process recourse\n",
    "                        x = hardmax(x, dataset.cat_features)\n",
    "                    weights_r, bias_r = lar_recourse.calc_theta_adv(x)\n",
    "                    theta_r = np.hstack((weights_r, bias_r))\n",
    "                    \n",
    "                    J_r = J.eval(x, weights_r, bias_r)\n",
    "                    J_c = J.eval(x, weights_p, bias_p)\n",
    "                    robustness = J_r - J_r_opt\n",
    "                    consistency = J_c - J_c_opt\n",
    "                    \n",
    "                    append_result(results_roar, 'ROAR', seed, alpha, lamb, i, x_0, theta_0, beta, x, theta_r, p, prediction, J_r[0], J_c[0], robustness[0], consistency[0])\n",
    "                \n",
    "    # Save results\n",
    "    df_results = pd.DataFrame()\n",
    "    if 'alg1' in params['algs']:\n",
    "        df_opt = pd.DataFrame(results_opt)\n",
    "        if params['save_history']:\n",
    "            print(f'[Alg1] Saving history for {dataset.name} run {seed}')\n",
    "            df_opt.to_pickle(f'../results/rob_con_tradeoff/history/lr_{dataset.name}_alg1_{seed}_actionable.pkl')\n",
    "        df_opt_agg = df_opt.groupby(['alg', 'p', 'beta'], as_index=False).mean(True)\n",
    "        if params['save_results']:\n",
    "            print(f'[Alg1] Saving results for {dataset.name} run {seed}')\n",
    "            df_opt_agg.to_pickle(f'../results/rob_con_tradeoff/output/lr_{dataset.name}_alg1_{seed}_actionable.pkl')\n",
    "        df_results = pd.concat((df_results, df_opt_agg))\n",
    "    \n",
    "    if 'roar' in params['algs']:\n",
    "        df_roar = pd.DataFrame(results_roar)\n",
    "        if params['save_history']:\n",
    "            print(f'[ROAR] Saving history for {dataset.name} run {seed}')\n",
    "            df_roar.to_pickle(f'../results/rob_con_tradeoff/history/lr_{dataset.name}_roar_{seed}_actionable.pkl')\n",
    "        df_roar_agg = df_roar.groupby(['alg', 'p', 'beta'], as_index=False).mean(True)\n",
    "        if params['save_results']:\n",
    "            print(f'[ROAR] Saving results for {dataset.name} run {seed}')\n",
    "            df_roar_agg.to_pickle(f'../results/rob_con_tradeoff/output/lr_{dataset.name}_roar_{seed}_actionable.pkl')\n",
    "        df_results = pd.concat((df_results, df_roar_agg))\n",
    "    \n",
    "    return df_results\n",
    "        "
   ]
  },
  {
   "cell_type": "code",
   "execution_count": 5,
   "metadata": {},
   "outputs": [],
   "source": [
    "def run_experiment(dataset: Dataset, params: dict, results: List):\n",
    "    alpha = params['alpha']\n",
    "    \n",
    "    for seed in params['seeds']:\n",
    "        (train_data, test_data) = dataset.get_data(seed)\n",
    "        X_train, y_train = train_data\n",
    "        X_test, y_test = test_data\n",
    "        \n",
    "        base_model = LR()\n",
    "        base_model.train(X_train.values, y_train.values)\n",
    "        \n",
    "        weights_0 = base_model.model.coef_[0]\n",
    "        bias_0 = base_model.model.intercept_\n",
    "        theta_0 = np.hstack((weights_0, bias_0))\n",
    "        \n",
    "        if seed == 0:\n",
    "            predictions = generate_lr_predictions(dataset, theta_0, alpha)\n",
    "        \n",
    "        recourse_needed_X_train = recourse_needed(base_model.predict, X_train.values)\n",
    "        recourse_needed_X_test = recourse_needed(base_model.predict, X_test.values)\n",
    "        \n",
    "        lar_recourse = LARRecourse(weights=weights_0, bias=bias_0, imm_features=dataset.imm_features, alpha=alpha)\n",
    "        roar_recourse = ROAR(weights=weights_0, bias=bias_0, alpha=alpha)\n",
    "        \n",
    "        params['lamb'] = lar_recourse.choose_lambda(recourse_needed_X_train, base_model.predict, X_train.values)\n",
    "        lar_recourse.lamb = params['lamb']\n",
    "        roar_recourse.lamb = params['lamb']\n",
    "        \n",
    "        df_results = recourse_runner(seed, recourse_needed_X_test, lar_recourse, roar_recourse, params, dataset, predictions)\n",
    "        results.append(df_results)"
   ]
  },
  {
   "cell_type": "code",
   "execution_count": 7,
   "metadata": {},
   "outputs": [
    {
     "name": "stdout",
     "output_type": "stream",
     "text": [
      "Running german data...\n",
      "Choosing lambda\n"
     ]
    },
    {
     "name": "stderr",
     "output_type": "stream",
     "text": [
      "lambda=0.1: 100%|██████████| 63/63 [00:00<00:00, 13507.88it/s]\n",
      "lambda=0.2: 100%|██████████| 63/63 [00:00<00:00, 15924.86it/s]\n",
      "lambda=0.3: 100%|██████████| 63/63 [00:00<00:00, 19768.17it/s]\n",
      "lambda=0.4: 100%|██████████| 63/63 [00:00<00:00, 25721.91it/s]\n",
      "lambda=0.5: 100%|██████████| 63/63 [00:00<00:00, 36477.24it/s]\n",
      "lambda=0.6: 100%|██████████| 63/63 [00:00<00:00, 29620.13it/s]\n",
      "lambda=0.7: 100%|██████████| 63/63 [00:00<00:00, 42163.90it/s]\n",
      "lambda=0.8: 100%|██████████| 63/63 [00:00<00:00, 45978.97it/s]\n",
      "Evaluating recourse | alpha=0.5; lambda=0.7: 100%|\u001b[38;2;0;145;255m██████████\u001b[0m| 16/16 [00:02<00:00,  5.80it/s]\n"
     ]
    },
    {
     "name": "stdout",
     "output_type": "stream",
     "text": [
      "[Alg1] Saving results for german run 0\n",
      "Choosing lambda\n"
     ]
    },
    {
     "name": "stderr",
     "output_type": "stream",
     "text": [
      "lambda=0.1: 100%|██████████| 33/33 [00:00<00:00, 15046.42it/s]\n",
      "lambda=0.2: 100%|██████████| 33/33 [00:00<00:00, 18352.17it/s]\n",
      "lambda=0.3: 100%|██████████| 33/33 [00:00<00:00, 22668.20it/s]\n",
      "lambda=0.4: 100%|██████████| 33/33 [00:00<00:00, 27665.81it/s]\n",
      "lambda=0.5: 100%|██████████| 33/33 [00:00<00:00, 29862.36it/s]\n",
      "lambda=0.6: 100%|██████████| 33/33 [00:00<00:00, 33611.47it/s]\n",
      "lambda=0.7: 100%|██████████| 33/33 [00:00<00:00, 33570.71it/s]\n",
      "lambda=0.8: 100%|██████████| 33/33 [00:00<00:00, 51492.57it/s]\n",
      "Evaluating recourse | alpha=0.5; lambda=0.7: 100%|\u001b[38;2;0;145;255m██████████\u001b[0m| 12/12 [00:01<00:00,  6.55it/s]\n"
     ]
    },
    {
     "name": "stdout",
     "output_type": "stream",
     "text": [
      "[Alg1] Saving results for german run 1\n",
      "Choosing lambda\n"
     ]
    },
    {
     "name": "stderr",
     "output_type": "stream",
     "text": [
      "lambda=0.1: 100%|██████████| 70/70 [00:00<00:00, 20914.75it/s]\n",
      "lambda=0.2: 100%|██████████| 70/70 [00:00<00:00, 21007.53it/s]\n",
      "lambda=0.3: 100%|██████████| 70/70 [00:00<00:00, 19465.71it/s]\n",
      "lambda=0.4: 100%|██████████| 70/70 [00:00<00:00, 24614.46it/s]\n",
      "lambda=0.5: 100%|██████████| 70/70 [00:00<00:00, 33782.22it/s]\n",
      "lambda=0.6: 100%|██████████| 70/70 [00:00<00:00, 33519.95it/s]\n",
      "Evaluating recourse | alpha=0.5; lambda=0.5: 100%|\u001b[38;2;0;145;255m██████████\u001b[0m| 11/11 [00:02<00:00,  4.05it/s]\n"
     ]
    },
    {
     "name": "stdout",
     "output_type": "stream",
     "text": [
      "[Alg1] Saving results for german run 2\n",
      "Choosing lambda\n"
     ]
    },
    {
     "name": "stderr",
     "output_type": "stream",
     "text": [
      "lambda=0.1: 100%|██████████| 61/61 [00:00<00:00, 19875.13it/s]\n",
      "lambda=0.2: 100%|██████████| 61/61 [00:00<00:00, 21576.37it/s]\n",
      "lambda=0.3: 100%|██████████| 61/61 [00:00<00:00, 23624.43it/s]\n",
      "lambda=0.4: 100%|██████████| 61/61 [00:00<00:00, 24005.68it/s]\n",
      "lambda=0.5: 100%|██████████| 61/61 [00:00<00:00, 29034.56it/s]\n",
      "lambda=0.6: 100%|██████████| 61/61 [00:00<00:00, 35803.60it/s]\n",
      "lambda=0.7: 100%|██████████| 61/61 [00:00<00:00, 34402.65it/s]\n",
      "lambda=0.8: 100%|██████████| 61/61 [00:00<00:00, 46962.65it/s]\n",
      "Evaluating recourse | alpha=0.5; lambda=0.7: 100%|\u001b[38;2;0;145;255m██████████\u001b[0m| 15/15 [00:02<00:00,  5.49it/s]\n"
     ]
    },
    {
     "name": "stdout",
     "output_type": "stream",
     "text": [
      "[Alg1] Saving results for german run 3\n",
      "Choosing lambda\n"
     ]
    },
    {
     "name": "stderr",
     "output_type": "stream",
     "text": [
      "lambda=0.1: 100%|██████████| 57/57 [00:00<00:00, 20270.93it/s]\n",
      "lambda=0.2: 100%|██████████| 57/57 [00:00<00:00, 20599.29it/s]\n",
      "lambda=0.3: 100%|██████████| 57/57 [00:00<00:00, 21763.80it/s]\n",
      "lambda=0.4: 100%|██████████| 57/57 [00:00<00:00, 22450.50it/s]\n",
      "lambda=0.5: 100%|██████████| 57/57 [00:00<00:00, 30451.58it/s]\n",
      "lambda=0.6: 100%|██████████| 57/57 [00:00<00:00, 30992.39it/s]\n",
      "lambda=0.7: 100%|██████████| 57/57 [00:00<00:00, 37129.26it/s]\n",
      "lambda=0.8: 100%|██████████| 57/57 [00:00<00:00, 46914.31it/s]\n",
      "Evaluating recourse | alpha=0.5; lambda=0.7: 100%|\u001b[38;2;0;145;255m██████████\u001b[0m| 14/14 [00:02<00:00,  5.67it/s]"
     ]
    },
    {
     "name": "stdout",
     "output_type": "stream",
     "text": [
      "[Alg1] Saving results for german run 4\n",
      "Finished german\n",
      "\n"
     ]
    },
    {
     "name": "stderr",
     "output_type": "stream",
     "text": [
      "\n"
     ]
    }
   ],
   "source": [
    "torch.manual_seed(0)\n",
    "\n",
    "d_results = {}\n",
    "params = {}\n",
    "params['alpha'] = 0.5\n",
    "params['lamb'] = None\n",
    "params['seeds'] = range(5)\n",
    "params['algs'] = ['alg1'] # 'alg1', 'roar\n",
    "params['post_process'] = True\n",
    "params['save_results'] = True\n",
    "params['save_history'] = False\n",
    "params['save_final_results'] = False\n",
    "\n",
    "\n",
    "datasets = [GermanDataset()]\n",
    "for dataset in datasets:\n",
    "    results = []\n",
    "    \n",
    "    print(f'Running {dataset.name} data...')\n",
    "    run_experiment(dataset, params, results)\n",
    "    \n",
    "    d_results[dataset.name] = pd.concat(results)\n",
    "    if params['save_final_results']:\n",
    "        d_results[dataset.name].to_pickle(f'../results/rob_con_tradeoff/output/lr_{dataset.name}_actionable')\n",
    "    \n",
    "    \n",
    "    print(f'Finished {dataset.name}\\n')"
   ]
  },
  {
   "cell_type": "code",
   "execution_count": 13,
   "metadata": {},
   "outputs": [],
   "source": [
    "df_results = d_results['german']\n",
    "df_agg = df_results.groupby(['alg', 'p', 'beta'], as_index=False).mean()\n",
    "df_im = df_agg.copy()"
   ]
  },
  {
   "cell_type": "code",
   "execution_count": 16,
   "metadata": {},
   "outputs": [
    {
     "name": "stdout",
     "output_type": "stream",
     "text": [
      "LR GERMAN Actionable Hardmax\n"
     ]
    },
    {
     "data": {
      "application/vnd.plotly.v1+json": {
       "config": {
        "plotlyServerURL": "https://plot.ly"
       },
       "data": [
        {
         "customdata": {
          "bdata": "AAAAAAAAAACkcD0K16PQP0jhehSuR9E/7FG4HoXr0T+PwvUoXI/SPzMzMzMzM9M/16NwPQrX0z97FK5H4XrUPx+F61G4HtU/w/UoXI/C1T9mZmZmZmbWPwrXo3A9Ctc/rkfhehSu1z9SuB6F61HYP/YoXI/C9dg/mpmZmZmZ2T89CtejcD3aP+F6FK5H4do/hetRuB6F2z8pXI/C9SjcP83MzMzMzNw/cT0K16Nw3T8UrkfhehTeP7gehetRuN4/XI/C9Shc3z8AAAAAAADgP1K4HoXrUeA/pHA9Ctej4D/2KFyPwvXgP0jhehSuR+E/mpmZmZmZ4T/sUbgehevhPz0K16NwPeI/j8L1KFyP4j/hehSuR+HiPzMzMzMzM+M/hetRuB6F4z/Xo3A9CtfjPylcj8L1KOQ/exSuR+F65D/NzMzMzMzkPx+F61G4HuU/cT0K16Nw5T/D9Shcj8LlPxSuR+F6FOY/ZmZmZmZm5j+4HoXrUbjmPwrXo3A9Cuc/XI/C9Shc5z+uR+F6FK7nPwAAAAAAAOg/UrgehetR6D/2KFyPwvXoP0jhehSuR+k/mpmZmZmZ6T89CtejcD3qP4/C9Shcj+o/4XoUrkfh6j8zMzMzMzPrP4XrUbgehes/16NwPQrX6z8pXI/C9SjsP3sUrkfheuw/H4XrUbge7T+4HoXrUbjuPwAAAAAAAPA/",
          "dtype": "f8"
         },
         "hovertemplate": "consistency: %{x}<br>robustness: %{y}<br>beta: %{customdata}",
         "marker": {
          "color": "#636EFA",
          "size": 3,
          "symbol": "circle"
         },
         "mode": "markers+lines",
         "name": "$\\hat\\theta_0 (Alg1)$",
         "type": "scatter",
         "x": {
          "bdata": "AAAAAAAAAABPWQOukcNCP4wW+HsFNVM/i6q8w9h+XT8c4IZDHyJkP7rkHdD+xGk/KpUKltbPcj8AKy5W8QF5P5WwFGayen8/Wl0bk8XMhD+y9t2VnKmMPyYq4LeHNJQ/han3dihjmT/lLE7D/LqfPzjRp5wOaqM/u+VpUmcRpz8ohJRcsd6qP/oi8xYgN64/INi9fY32sD/UttkI1qOyPw2ArJSkHLQ/3phf1wtVtT8codj0EQ22Px8TM6nqDbc/14RsJRDwtz9wPIIeMgG5P047AFGV5rk/8FPwPfWUuj/NVgGgKzC7Pzg+0v0jx7s/NdlIK5hBvD8Tx5v7GPC8P90CEpdvGb0/8F1BItO8vT/+rNuthdC9P6UTEgLJT74/23GLR82hvj/StcdhSxq/P+2vcEQMw78/9i/czR+rwD9n/r7CvR3CPwZcJDCbKcQ/KB9F2z5lxj+qharQGJLJP0J8hGdyds0/lvutCvfv0D8u3OCzRmfTP5JDVxNlntU/TaPqH9vi1z9GfJZYJEbaP96aCPGLmtw/gvVLqt523j+4VCw+i3fhP9YmZu2KgOI/xpbAsOnD4j/uFLlR3eTkP9tWf0W9tuU/mVcfnyzO5j+C3rvmRKjnPwPuy3RZkug/OFfh4qBf6T8SDB6xcVLqP/0ycef6Des/ynwKfDzU6z8wkEHUQ3ruP0N6+KqW4u8/",
          "dtype": "f8"
         },
         "y": {
          "bdata": "E/6VW6oa2j/C7b41n//ZP6UyDoCd5Nk/I3DmM6fJ2T/6Uk+zvq7ZP1s5It7mk9k/ToYoEv5d2T+VR92SMSjZPxspfDuH8tg/Gr3iyJui2D9tV79B/SrYP10YN9DZf9c/82vgF9Pv1j+1y+tvoEbWP1YxINKekdU/8wCEuOTe1D+OE+NStCzUPyjTSYT5ldM/cL2b+Tj10j9rXM05tmnSP+XREwaS89E//KnQwsmV0T/qKY7XtmDRPxDYwnJbGdE/jkkEYRPd0D/aqiopVJfQP/a2M+1RX9A/IlcrNYE20D/9pCC5ahPQP5BwdZ6W5c8/UId4nxqyzz9j300+sGzPP8bTPK+GXM8/AEHimGcgzz9C9hp3JRnPP46MoNd27c4/Gm3BELjSzj8WJ1dQCq3OP5MLqEJbes4/MDNcHOMGzj9tjKxxLjvNPztcUkCoJ8w/9vArNgIIyz8K0K0aAYHJP0VU/AdRt8c/qeDUMErIxT+eJ40eXrjDP03izdBd9ME/63wIh/U6wD9A7IUVEgK9P52YhqdJ0Lk/LqEpgBpntz+sU0W/K/+1P+ZuwuXWoLQ/6HCksQT1rj/bDv2FKziuP0NZWvdueKo/IqRL4ojxpz/puD+v9nykPzeZc2hcAaI/ELT7MnnqoD8NJdZ1JZibP3yj30R/jZg/kWVXUU5KhT/2Y/rn41lyP3AUt9HS0Ww/",
          "dtype": "f8"
         }
        },
        {
         "customdata": {
          "bdata": "AAAAAAAAAAC4HoXrUbi+P6RwPQrXo8A/7FG4HoXrwT8zMzMzMzPDP3sUrkfhesQ/w/UoXI/CxT8K16NwPQrHP1K4HoXrUcg/mpmZmZmZyT/hehSuR+HKPylcj8L1KMw/cT0K16NwzT+4HoXrUbjOPwAAAAAAANA/pHA9Ctej0D9I4XoUrkfRP+xRuB6F69E/j8L1KFyP0j8zMzMzMzPTP9ejcD0K19M/exSuR+F61D8fhetRuB7VP8P1KFyPwtU/ZmZmZmZm1j8K16NwPQrXP65H4XoUrtc/UrgehetR2D/2KFyPwvXYP5qZmZmZmdk/PQrXo3A92j/hehSuR+HaP4XrUbgehds/KVyPwvUo3D/NzMzMzMzcP3E9CtejcN0/FK5H4XoU3j+4HoXrUbjeP1yPwvUoXN8/AAAAAAAA4D9SuB6F61HgP6RwPQrXo+A/9ihcj8L14D9I4XoUrkfhP5qZmZmZmeE/7FG4HoXr4T89CtejcD3iP4/C9Shcj+I/4XoUrkfh4j8zMzMzMzPjP4XrUbgeheM/16NwPQrX4z8pXI/C9SjkP3sUrkfheuQ/zczMzMzM5D8fhetRuB7lP3E9CtejcOU/w/UoXI/C5T8UrkfhehTmP2ZmZmZmZuY/uB6F61G45j8K16NwPQrnP1yPwvUoXOc/rkfhehSu5z9SuB6F61HoP6RwPQrXo+g/9ihcj8L16D9I4XoUrkfpP5qZmZmZmek/7FG4HoXr6T89CtejcD3qP4/C9Shcj+o/4XoUrkfh6j8zMzMzMzPrP4XrUbgehes/16NwPQrX6z8pXI/C9SjsP3sUrkfheuw/zczMzMzM7D9xPQrXo3DtP2ZmZmZmZu4/CtejcD0K7z+uR+F6FK7vPwAAAAAAAPA/",
          "dtype": "f8"
         },
         "hovertemplate": "consistency: %{x}<br>robustness: %{y}<br>beta: %{customdata}",
         "marker": {
          "color": "#EF553B",
          "size": 3,
          "symbol": "circle"
         },
         "mode": "markers+lines",
         "name": "$\\hat\\theta_1 (Alg1)$",
         "type": "scatter",
         "x": {
          "bdata": "AAAAAAAAAABwWOmuY6McP37j5Ufoyy0/0iVjcCk8Nz/WdjM+KBhAP7LmUE7dAko/1t7YWkR4Tz8cJld2FaNSP3RBLcxut1U/cGCx7k36WD+C5KwUTLJfP/YhdxxSZWM/tkegzrQiZz9rKWfiTBJrP7WxnAANNW8/rnHv4XAbdD8T1hZamwp6P0zIiw+YZ4E/DTFZWE1ShT99suEaqByKP9q470zERpA/9o0cW7qkkz/+0V2hHQGWPz/siOQDL5k/miIiB5/PnT/6a4BHvaCgP1TnhW7VdqM/SuThlPyMpT/pdJsP0SKoP2DLUwz6g6o/c7HWMp5YrT/q/ccrAYGvP2Sj1xx7QbE/xkjdqWNZsj/dYR95zFmzPw2EeT/8F7Q/8Dy+1roytT+Su3E3DrG1P193s9b0ObY/X6uCymbmtj/IyAxa2F23PwWYkY5qs7c/AFnJCZsfuD9rk8MbqI24P9pd3Z1TM7k/Emdq6xsMuj/V+Q17obu6P/YY885O67s/XdAMhOdGvT9ID09l+4S/Px15dVFhuMA/TCWbQOH0wT+LZ3g3byzDP0b8KdcBC8U/h7pzKYdqxz+AA9zjd7zJPyXkpcXOocw/VZsdxnLjzz9EFwWg43vRP7aVSC8JF9M/iC4/MYTS1D8k+zbELUfWP/68tCbXH9g/qn8xR3vK2T+FBEYFyMjdP5Y63mS5Vd8/olew6l9p4D+uPUVPxibhP9KCe3g4z+E/LAHZiGOB4j8IgjUkKTfjP5N9LrEAueM/YvxF3ZCS5D8FOxq2XzzlP4Trq4VXFOY/dLEFyy++5j9L8Q+XZIfnP5sGzHmPLOg/ujjUejLD6D/CD24Vo9rpP2KZM31tMus/mwCja1nz6z/dGPsnqxfsPwL+XYDmcOw/",
          "dtype": "f8"
         },
         "y": {
          "bdata": "E/6VW6oa2j/C2Ka2Iw3aP8LtvjWf/9k/TVmGDx3y2T+lMg6AneTZPyNw5jOnydk/1llkDzG82T/6Uk+zvq7ZP3j1un9Qodk/Wzki3uaT2T+8NlR0k3nZP0vfLYBWX9k/2ne/KDJF2T9Zrh/HKCvZP5LmZeo8Edk/2/v0qLvc2D+gPzigbZvYP7U8frs+P9g/AQhheO7w1z8Aq3QDm5XXP3a6P2T4INc/qFGqZ7ys1j/9ZIKFa17WPxpDNe2n+NU/jngiMq1r1T9AlNalawfVPyyvBvyWadQ//h2Oe+L60z/fBGAFw3bTP9RCH9o4AtM/979PEgx90j9SJLE8fxvSPzNrz+kwmdE/VrDgAa8+0T/jZjWE9O7QPzY/VPAattA/w9ZE875k0D88js4rwEHQP2bZMotSHdA/wwCq9iDizz+Tp7wdw6fPP61bvfTWfs8/sAqfxNtNzz9Qu3753B3PP+heRqNZ2M4/yhf3RH2Bzj/SnBJpDj7OP/MsqFYNzs0/6nYUAhhTzT/Ot0FkBJDMP47LntLg78s/hitJVxIqyz8LM3Ndf2/KP2XBQG98XMk/iyBqsc4OyD/6YWLvLtbGP7QyHmstYMU/OkQG7zHPwz/GnBxlM2XCPxbZ9JJR/MA/veDDr6ITvz9rHFNmfcC8P80CN6OY8Lk/pTNydMSItz9qofoBzR23P5hZFn/uYbQ/4XvYI9F1sz/Gh8yx19GxP11nvLN6U68/NTJO7d6arD/mrKOZeZerP2qPqXO8R6g/xYKl68GQpT+OoY2z6R+lPy0zAOsfUqE/mHLbapMmoT/Sfu5+7rqbP8jm5j88OJc/NhxytwgDlT90jo4Ka5CRP+lyAErXZpA/HTszbyzGjj/CrhH1dXZtP3AUt9HS0Ww/",
          "dtype": "f8"
         }
        },
        {
         "customdata": {
          "bdata": "AAAAAAAAAABmZmZmZmbWPwrXo3A9Ctc/rkfhehSu1z9SuB6F61HYP/YoXI/C9dg/mpmZmZmZ2T89CtejcD3aP+F6FK5H4do/hetRuB6F2z8pXI/C9SjcP83MzMzMzNw/cT0K16Nw3T8UrkfhehTeP7gehetRuN4/XI/C9Shc3z8AAAAAAADgP1K4HoXrUeA/pHA9Ctej4D/2KFyPwvXgP0jhehSuR+E/mpmZmZmZ4T/sUbgehevhPz0K16NwPeI/j8L1KFyP4j/hehSuR+HiPzMzMzMzM+M/hetRuB6F4z/Xo3A9CtfjPylcj8L1KOQ/exSuR+F65D/NzMzMzMzkPx+F61G4HuU/cT0K16Nw5T/D9Shcj8LlPxSuR+F6FOY/ZmZmZmZm5j+4HoXrUbjmPwrXo3A9Cuc/XI/C9Shc5z+uR+F6FK7nPwAAAAAAAOg/UrgehetR6D+kcD0K16PoP0jhehSuR+k/mpmZmZmZ6T/sUbgehevpP+F6FK5H4eo/16NwPQrX6z8pXI/C9SjsP3sUrkfheuw/uB6F61G47j8K16NwPQrvP1yPwvUoXO8/AAAAAAAA8D8=",
          "dtype": "f8"
         },
         "hovertemplate": "consistency: %{x}<br>robustness: %{y}<br>beta: %{customdata}",
         "marker": {
          "color": "#00CC96",
          "size": 3,
          "symbol": "circle"
         },
         "mode": "markers+lines",
         "name": "$\\hat\\theta_2 (Alg1)$",
         "type": "scatter",
         "x": {
          "bdata": "AAAAAAAAAADgkAwGc/s8P2vjxh0QknI/Shn+arkNgT8K5R+fMCSJP5sOOGrmbI8/8JgTkxSelD/ztA/cH6adP34McvXh46I/nq283iUwqT/6PNbnm4yuPw+p4JFby7E/GqOPFo1wtD+/xHpeStS1Pwj8U9WsO7c/ReDDl35juD+Dlscd/I65P6oelcArkbo/wvDeM/CRuz8IxM+NycK8P+W8Uivxir0/yjuXc7SRvj9blcuUAnC/P1qI2DQYHcA/h8onV2x2wD/xpEww2brAP/qZ0McfF8E/lLWrKe1DwT/gmf78c4nBP+Y8qGfZ3ME//HMq/HQKwj8KfH7IbS7CPzcHCPtaXMI/5ggKiQ7Iwj8caz0OVZHDPwch35MV38U/WkE+GLEFyT8awpByRGLOP4StymlbYdI/38BvTdHD1T+K3tSjBtDYPxg5fDcwGdw/5gfBcduT3j8acNAwF43gP5V7JzK5H+M/e0mEyk8N5D+El45bTJnkP8sEndSYWug/a1+uCqGX6z/QltK0KMPsPyIzkLp/Au0/cekXGGMC8T/UsTjaBjXxP/tq6O/id/E/M6SwSJyL8T8=",
          "dtype": "f8"
         },
         "y": {
          "bdata": "E/6VW6oa2j+tGx5bFw3aP2JT/QY7k9k/c+p6dTYn2T8lJ+6zl7vYP7bYo9w+a9g/egAaRAHz1z/6UmxsCB/XPx5lxFZoZ9Y/puyFP1dW1T+CCrR1BnfUPwZhTPOordM/yhTfp8bi0j9ko3k3MXzSP5cbXq5IGNI/jlA74JTJ0T9PzVf8VX3RP/kHUn86PtE/0RJ+o/MB0T+O44h5Cr3QPy4iM0E1kdA/Ylsz6v5Z0D+un36HMy3QP61bh/cpBtA/KNazxi7Kzz8dPZtSe5nPPyB6CuqjWs8/YGMNvWA9zz+wPT6pZBHPP+7RdEpl384/BVHPnGLFzj9WnU7Xk7HOP6WQYySomc4/HTHIqg9kzj+63M4MawPOP0t15Sao9Mw/8LsFJ9qTyz+ao8gu2FbJP/aVAhd+y8Y/vzO9W0M6xD844+hchwfCP3WTpZBZj78/apAQNuFWvD+vnEfDbzq5P5yNgJ3RQrg/JNttTKNetT/KJWBeeqawP1a7+kGEhas/BFbsaBKHoT/gCLOFRmefPxMko8O+JJE/bsdxWx8/jD/wbCmeRlOLPxg2YJuReoo/cBS30dLRbD8=",
          "dtype": "f8"
         }
        },
        {
         "customdata": {
          "bdata": "AAAAAAAAAACamZmZmZmpP7gehetRuK4/7FG4HoXrsT97FK5H4Xq0PwrXo3A9Crc/mpmZmZmZuT8pXI/C9Si8P7gehetRuL4/pHA9CtejwD/sUbgehevBPzMzMzMzM8M/exSuR+F6xD/D9Shcj8LFPwrXo3A9Csc/UrgehetRyD+amZmZmZnJP+F6FK5H4co/KVyPwvUozD9xPQrXo3DNP7gehetRuM4/AAAAAAAA0D+kcD0K16PQP0jhehSuR9E/7FG4HoXr0T+PwvUoXI/SPzMzMzMzM9M/16NwPQrX0z97FK5H4XrUPx+F61G4HtU/w/UoXI/C1T9mZmZmZmbWPwrXo3A9Ctc/rkfhehSu1z9SuB6F61HYP/YoXI/C9dg/mpmZmZmZ2T89CtejcD3aP+F6FK5H4do/hetRuB6F2z8pXI/C9SjcP83MzMzMzNw/cT0K16Nw3T8UrkfhehTeP7gehetRuN4/XI/C9Shc3z8AAAAAAADgP1K4HoXrUeA/pHA9Ctej4D/2KFyPwvXgP0jhehSuR+E/mpmZmZmZ4T/sUbgehevhPz0K16NwPeI/j8L1KFyP4j/hehSuR+HiPzMzMzMzM+M/hetRuB6F4z/Xo3A9CtfjPylcj8L1KOQ/exSuR+F65D/NzMzMzMzkPx+F61G4HuU/cT0K16Nw5T/D9Shcj8LlPxSuR+F6FOY/ZmZmZmZm5j+4HoXrUbjmPwrXo3A9Cuc/XI/C9Shc5z+uR+F6FK7nPwAAAAAAAOg/UrgehetR6D+kcD0K16PoP/YoXI/C9eg/SOF6FK5H6T+amZmZmZnpP+xRuB6F6+k/PQrXo3A96j+PwvUoXI/qP+F6FK5H4eo/MzMzMzMz6z+F61G4HoXrPx+F61G4Hu0/uB6F61G47j8K16NwPQrvPwAAAAAAAPA/",
          "dtype": "f8"
         },
         "hovertemplate": "consistency: %{x}<br>robustness: %{y}<br>beta: %{customdata}",
         "marker": {
          "color": "#AB63FA",
          "size": 3,
          "symbol": "circle"
         },
         "mode": "markers+lines",
         "name": "$\\hat\\theta_3 (Alg1)$",
         "type": "scatter",
         "x": {
          "bdata": "AAAAAAAAAAAhT5VzTpYGP5WgJmQAQxg/HJZYhnN8Iz/p4ipuhXkyP/sGm6dykDc/AEBVqBUpPT8h79hSE6RBP9svQnjUOUw/p2D4t78HUj+Qt/a3YWVYP/vylYEk7GE/Pfnzd6raZj/ytFbLlGJtP+7EC6CLK3I/nq+p/QKldj/W255jAm57P25U+ryEQIA/uBEo1F1ggz/BIIPmLKmHP5qEdCYOLYs/ekKuXjNdjz/IDFkjzuCRP/AQcruA5JM/IdwCGwX/lT99O4leMXuYP7LjUy05bps/8mM2PDolnj9mnoakmyKgP7BTuevtUaE/SP/vV2LXoj8+J8EnqcyjP+vlUDQunKQ/gYKWfK3bpT8nN+XqvRqnP83zwvWz8qc/6gpTg1C0qT9OJ36tZ+SqP3q/L7Sfwqs/GKznk8TfrD9ylTXXBImtP4NHWmq5ja4/1dONREk9rz/bjEYg0u2vPxDClp2INbA/7s3svqHMsD8VbP+hqeywP3+Ptc7lo7E/E6jgkxwasj8etUgCdguzP8G3OLbyHbQ/K2TxhwzJtT+zxdFGnm+3P0Yyxmpd1rg/iq3Cygi7uj8C4a7/jfe8P/IJrMyru78/QaQUKXeXwT9uf/04reDDP7v2SIozv8U/xo6fPK8myD99+JvDWDrKP1LPKdz6qsw/Bj7MIsNgzz/NOWlkyuPQP7gKY/e/QNI/c9RkjPh60z+uYs3JRrjUP0qS28cBGNY/rm5VVLx/1z+ipDOQ9LHYP4gpeosJ39k/g5H194c72z+I8u5xhYHcP/oa/zdjbt0/ZloR1mGH3j+AtjkxBY3fP+i2DjCrN+A/lhL6YzzM4D/rtJBjsmvhP3k/Rs44DuI/W9q+Mguq4j+vHM0Ua0bjP2YADjWToOU/qPmW4Uxz5z+yBLDEQ8jnP/PzVeVYkeg/",
          "dtype": "f8"
         },
         "y": {
          "bdata": "E/6VW6oa2j/C2Ka2Iw3aP8LtvjWf/9k/TVmGDx3y2T/TblfJINfZPyNw5jOnydk/1llkDzG82T/6Uk+zvq7ZP1Yirl5rhtk/XgKeg45r2T8ydSK3TkPZP3jZWpj4/9g/ZbmbtUbK2D/lNvPzuIfYP1Vb3O9QRdg/oqZ54Lv11z9trSGoi6bXP0Y9+YudV9c/tVHipSj81j9WNdsPbobWPx9qgjvPK9Y/wYs+6iHF1T+WccgGDl/VPxQD26/yBdU/TwhKst6s1D8KezN5okjUP1vq1GHP19M/qRFD7FB10z9NC6L7iSvTPwg1xHw/3NI/nRw0rZJ70j+6CoRad0HSP33c72JvEtI/wGzOwdTM0T/CTfXYy4rRPyiTGaJhX9E/ztVl4usI0T8XHFKiHtHQP9copVf7qdA/rpI3JN150D8JaE0fcl7QP3dPE/2nNdA/Z7DmSZwb0D+o1miXJgLQP3jozaeU4c8/sAR3qzuRzz8S+WUcEoHPP210RYJ8J88/zhr2pP/vzj8GGnT2HIPOP0CqgvCxC84/M9U6+nVZzT++X4iJ07DMPzC3IbIUJ8w/GpMXv95zyz+A7F7kFanKP+D6JFfUt8k/2os5YVqXyD9y/5UXUinHP/NsVaneCsY/Ssrx92GpxD9PxUMmmoTDP+YVHPgyO8I/bqxB+C3ewD8wrG9bWG2/PwPL0TVO7Lw/SDZ7AQ7Fuj+40mhy16+4P8vA1VBjfbY/p4FDePxatD9ZydmI9qCyP5F2aYpkA7E/A/YQzMl8rj/G1FM4Zl6rP7hD7ReiOak/5ubCakvPpj9D+QsQC7OkP5L2fhsz/KI/xPw6TZXgoD8dT5Ay84edP88Whd/eg5k/khY0rwrxlT8aiR3ipZySP+pAEM57ToE/8e+1FOOycT+hWNEsxSNwP3AUt9HS0Ww/",
          "dtype": "f8"
         }
        },
        {
         "customdata": {
          "bdata": "AAAAAAAAAAD2KFyPwvXYP5qZmZmZmdk/PQrXo3A92j/hehSuR+HaP4XrUbgehds/KVyPwvUo3D/NzMzMzMzcP3E9CtejcN0/FK5H4XoU3j+4HoXrUbjeP1yPwvUoXN8/AAAAAAAA4D9SuB6F61HgP6RwPQrXo+A/9ihcj8L14D9I4XoUrkfhP5qZmZmZmeE/7FG4HoXr4T89CtejcD3iP4/C9Shcj+I/4XoUrkfh4j8zMzMzMzPjP4XrUbgeheM/16NwPQrX4z8pXI/C9SjkP3sUrkfheuQ/zczMzMzM5D8fhetRuB7lP3E9CtejcOU/w/UoXI/C5T8UrkfhehTmP2ZmZmZmZuY/uB6F61G45j8K16NwPQrnP1yPwvUoXOc/rkfhehSu5z8AAAAAAADoP1K4HoXrUeg/pHA9Ctej6D/2KFyPwvXoP0jhehSuR+k/mpmZmZmZ6T/sUbgehevpPz0K16NwPeo/j8L1KFyP6j/hehSuR+HqPzMzMzMzM+s/exSuR+F67D8fhetRuB7tP8P1KFyPwu0/FK5H4XoU7j9mZmZmZmbuP7gehetRuO4/CtejcD0K7z9cj8L1KFzvPwAAAAAAAPA/",
          "dtype": "f8"
         },
         "hovertemplate": "consistency: %{x}<br>robustness: %{y}<br>beta: %{customdata}",
         "marker": {
          "color": "#FFA15A",
          "size": 3,
          "symbol": "circle"
         },
         "mode": "markers+lines",
         "name": "$\\hat\\theta_4 (Alg1)$",
         "type": "scatter",
         "x": {
          "bdata": "AAAAAAAAAABZ5YVUzIVZPxv9Z89jYm4/mZZhDMDSgD9A/z82ATSJPypNS+5OvpI/z9rijc0TmT8ApovnGsegP80GOoJ7nqc/NaFrocmzrz9sP6HGqvuzPyQNUjl5Q7c/6thlfJRluj+g4W+P1FW8P+hKLGKX2L0/zrwT7Ax2vz86mvc5JFrAP/8etI5E5cA/XhGBHi1+wT+uRjIE/O/BPw5/GMWAZMI/Wj+94AzNwj+Zw6C0oSjDPzDK2gbXQMM/I1e7zNarwz8ml4ym+cTDP/jJWS7mC8Q/Mh0xlGZWxD8Fpsi3hmzEPy7UhN1AqsQ/R4ut9/O1xD/gUsSZfnrFPw1xmRSpOcc/Q7pK9Fb8yT8Tfx3syGDNP2cgyQo8uNE/ppETobl91T/KLBABq3DZP/rLAcltDd4/INDFmAHv4D8NMM9IlcnhP/4mh3lVtuM/dMgpLjHn5D/X0LPMT7nlP8KOL/HauuY/cu0Q+N3b5z/KDMOWwAPpP9Of9qK8x+k/Ky7W661G7z+Wkqu/jnrwPwBd0Le0PPE/YR7u1XaS8T9Wmm/bhMjxP+a24VJJMfI/E6JfKz1v8j+4KxWMi7XyP1QbT8P11/I/",
          "dtype": "f8"
         },
         "y": {
          "bdata": "E/6VW6oa2j9NWYYPHfLZP9ZZZA8xvNk/Mg+IDjxQ2T9b/nzh/vHYP0w0MNhtbdg/NKk7+Bvq1z8IaNmJH0HXP/YIsE58O9Y/bU1xrwcS1T8Whar8P+3TPyPsCJB9DdM/Z37A1dpA0j+Ta/ZRMsfRP4AJvdjma9E/+kKzGocO0T+SQlo2fsnQPzJDyjhSj9A/lpiGGYtR0D+WD6o+bSXQPyBmZWCN9M8/qgd0ijqqzz/ai2VrpmzPP8bTPK+GXM8/QvYadyUZzz/z8naHIgrPP7on7Z3J4M4/S+E3nAG4zj/LH3PaY6zOPyOf/xZOjc4/0MptoKOHzj+W2ioCyi3OP+L37M/tac0/iKct4hRCzD+T8hw4zejKP64iolvBnMg/3U1k0d3kxT+L485RRTDDPww3rMqbI8I/WleUEhdGwD8ATwgqO9O5P9YKwn6FNLk/tI/7hfCetz9fU/W6Px21P0dYIAZnzLI/xMFpjonisD8XCYfHyl+wPzpc8bSW0qU/jfyk1carpD9xMehi84ygP4rD37RJCJ0/La7ME29Tmz86AfbfbsaUPx3NhKkSo4w/LfaZ2eJ+iz/D55LvDZeKP3AUt9HS0Ww/",
          "dtype": "f8"
         }
        }
       ],
       "layout": {
        "height": 540,
        "legend": {
         "bgcolor": "rgba(255, 255, 255, 0.7)",
         "bordercolor": "lightgrey",
         "borderwidth": 1,
         "entrywidth": 0.1,
         "entrywidthmode": "pixels",
         "font": {
          "color": "black",
          "family": "Times New Roman",
          "size": 15
         },
         "x": 0.975,
         "xanchor": "right",
         "y": 0.975
        },
        "margin": {
         "b": 0,
         "l": 1,
         "r": 5,
         "t": 5
        },
        "paper_bgcolor": "white",
        "plot_bgcolor": "white",
        "template": {
         "data": {
          "bar": [
           {
            "error_x": {
             "color": "#2a3f5f"
            },
            "error_y": {
             "color": "#2a3f5f"
            },
            "marker": {
             "line": {
              "color": "#E5ECF6",
              "width": 0.5
             },
             "pattern": {
              "fillmode": "overlay",
              "size": 10,
              "solidity": 0.2
             }
            },
            "type": "bar"
           }
          ],
          "barpolar": [
           {
            "marker": {
             "line": {
              "color": "#E5ECF6",
              "width": 0.5
             },
             "pattern": {
              "fillmode": "overlay",
              "size": 10,
              "solidity": 0.2
             }
            },
            "type": "barpolar"
           }
          ],
          "carpet": [
           {
            "aaxis": {
             "endlinecolor": "#2a3f5f",
             "gridcolor": "white",
             "linecolor": "white",
             "minorgridcolor": "white",
             "startlinecolor": "#2a3f5f"
            },
            "baxis": {
             "endlinecolor": "#2a3f5f",
             "gridcolor": "white",
             "linecolor": "white",
             "minorgridcolor": "white",
             "startlinecolor": "#2a3f5f"
            },
            "type": "carpet"
           }
          ],
          "choropleth": [
           {
            "colorbar": {
             "outlinewidth": 0,
             "ticks": ""
            },
            "type": "choropleth"
           }
          ],
          "contour": [
           {
            "colorbar": {
             "outlinewidth": 0,
             "ticks": ""
            },
            "colorscale": [
             [
              0,
              "#0d0887"
             ],
             [
              0.1111111111111111,
              "#46039f"
             ],
             [
              0.2222222222222222,
              "#7201a8"
             ],
             [
              0.3333333333333333,
              "#9c179e"
             ],
             [
              0.4444444444444444,
              "#bd3786"
             ],
             [
              0.5555555555555556,
              "#d8576b"
             ],
             [
              0.6666666666666666,
              "#ed7953"
             ],
             [
              0.7777777777777778,
              "#fb9f3a"
             ],
             [
              0.8888888888888888,
              "#fdca26"
             ],
             [
              1,
              "#f0f921"
             ]
            ],
            "type": "contour"
           }
          ],
          "contourcarpet": [
           {
            "colorbar": {
             "outlinewidth": 0,
             "ticks": ""
            },
            "type": "contourcarpet"
           }
          ],
          "heatmap": [
           {
            "colorbar": {
             "outlinewidth": 0,
             "ticks": ""
            },
            "colorscale": [
             [
              0,
              "#0d0887"
             ],
             [
              0.1111111111111111,
              "#46039f"
             ],
             [
              0.2222222222222222,
              "#7201a8"
             ],
             [
              0.3333333333333333,
              "#9c179e"
             ],
             [
              0.4444444444444444,
              "#bd3786"
             ],
             [
              0.5555555555555556,
              "#d8576b"
             ],
             [
              0.6666666666666666,
              "#ed7953"
             ],
             [
              0.7777777777777778,
              "#fb9f3a"
             ],
             [
              0.8888888888888888,
              "#fdca26"
             ],
             [
              1,
              "#f0f921"
             ]
            ],
            "type": "heatmap"
           }
          ],
          "histogram": [
           {
            "marker": {
             "pattern": {
              "fillmode": "overlay",
              "size": 10,
              "solidity": 0.2
             }
            },
            "type": "histogram"
           }
          ],
          "histogram2d": [
           {
            "colorbar": {
             "outlinewidth": 0,
             "ticks": ""
            },
            "colorscale": [
             [
              0,
              "#0d0887"
             ],
             [
              0.1111111111111111,
              "#46039f"
             ],
             [
              0.2222222222222222,
              "#7201a8"
             ],
             [
              0.3333333333333333,
              "#9c179e"
             ],
             [
              0.4444444444444444,
              "#bd3786"
             ],
             [
              0.5555555555555556,
              "#d8576b"
             ],
             [
              0.6666666666666666,
              "#ed7953"
             ],
             [
              0.7777777777777778,
              "#fb9f3a"
             ],
             [
              0.8888888888888888,
              "#fdca26"
             ],
             [
              1,
              "#f0f921"
             ]
            ],
            "type": "histogram2d"
           }
          ],
          "histogram2dcontour": [
           {
            "colorbar": {
             "outlinewidth": 0,
             "ticks": ""
            },
            "colorscale": [
             [
              0,
              "#0d0887"
             ],
             [
              0.1111111111111111,
              "#46039f"
             ],
             [
              0.2222222222222222,
              "#7201a8"
             ],
             [
              0.3333333333333333,
              "#9c179e"
             ],
             [
              0.4444444444444444,
              "#bd3786"
             ],
             [
              0.5555555555555556,
              "#d8576b"
             ],
             [
              0.6666666666666666,
              "#ed7953"
             ],
             [
              0.7777777777777778,
              "#fb9f3a"
             ],
             [
              0.8888888888888888,
              "#fdca26"
             ],
             [
              1,
              "#f0f921"
             ]
            ],
            "type": "histogram2dcontour"
           }
          ],
          "mesh3d": [
           {
            "colorbar": {
             "outlinewidth": 0,
             "ticks": ""
            },
            "type": "mesh3d"
           }
          ],
          "parcoords": [
           {
            "line": {
             "colorbar": {
              "outlinewidth": 0,
              "ticks": ""
             }
            },
            "type": "parcoords"
           }
          ],
          "pie": [
           {
            "automargin": true,
            "type": "pie"
           }
          ],
          "scatter": [
           {
            "fillpattern": {
             "fillmode": "overlay",
             "size": 10,
             "solidity": 0.2
            },
            "type": "scatter"
           }
          ],
          "scatter3d": [
           {
            "line": {
             "colorbar": {
              "outlinewidth": 0,
              "ticks": ""
             }
            },
            "marker": {
             "colorbar": {
              "outlinewidth": 0,
              "ticks": ""
             }
            },
            "type": "scatter3d"
           }
          ],
          "scattercarpet": [
           {
            "marker": {
             "colorbar": {
              "outlinewidth": 0,
              "ticks": ""
             }
            },
            "type": "scattercarpet"
           }
          ],
          "scattergeo": [
           {
            "marker": {
             "colorbar": {
              "outlinewidth": 0,
              "ticks": ""
             }
            },
            "type": "scattergeo"
           }
          ],
          "scattergl": [
           {
            "marker": {
             "colorbar": {
              "outlinewidth": 0,
              "ticks": ""
             }
            },
            "type": "scattergl"
           }
          ],
          "scattermap": [
           {
            "marker": {
             "colorbar": {
              "outlinewidth": 0,
              "ticks": ""
             }
            },
            "type": "scattermap"
           }
          ],
          "scattermapbox": [
           {
            "marker": {
             "colorbar": {
              "outlinewidth": 0,
              "ticks": ""
             }
            },
            "type": "scattermapbox"
           }
          ],
          "scatterpolar": [
           {
            "marker": {
             "colorbar": {
              "outlinewidth": 0,
              "ticks": ""
             }
            },
            "type": "scatterpolar"
           }
          ],
          "scatterpolargl": [
           {
            "marker": {
             "colorbar": {
              "outlinewidth": 0,
              "ticks": ""
             }
            },
            "type": "scatterpolargl"
           }
          ],
          "scatterternary": [
           {
            "marker": {
             "colorbar": {
              "outlinewidth": 0,
              "ticks": ""
             }
            },
            "type": "scatterternary"
           }
          ],
          "surface": [
           {
            "colorbar": {
             "outlinewidth": 0,
             "ticks": ""
            },
            "colorscale": [
             [
              0,
              "#0d0887"
             ],
             [
              0.1111111111111111,
              "#46039f"
             ],
             [
              0.2222222222222222,
              "#7201a8"
             ],
             [
              0.3333333333333333,
              "#9c179e"
             ],
             [
              0.4444444444444444,
              "#bd3786"
             ],
             [
              0.5555555555555556,
              "#d8576b"
             ],
             [
              0.6666666666666666,
              "#ed7953"
             ],
             [
              0.7777777777777778,
              "#fb9f3a"
             ],
             [
              0.8888888888888888,
              "#fdca26"
             ],
             [
              1,
              "#f0f921"
             ]
            ],
            "type": "surface"
           }
          ],
          "table": [
           {
            "cells": {
             "fill": {
              "color": "#EBF0F8"
             },
             "line": {
              "color": "white"
             }
            },
            "header": {
             "fill": {
              "color": "#C8D4E3"
             },
             "line": {
              "color": "white"
             }
            },
            "type": "table"
           }
          ]
         },
         "layout": {
          "annotationdefaults": {
           "arrowcolor": "#2a3f5f",
           "arrowhead": 0,
           "arrowwidth": 1
          },
          "autotypenumbers": "strict",
          "coloraxis": {
           "colorbar": {
            "outlinewidth": 0,
            "ticks": ""
           }
          },
          "colorscale": {
           "diverging": [
            [
             0,
             "#8e0152"
            ],
            [
             0.1,
             "#c51b7d"
            ],
            [
             0.2,
             "#de77ae"
            ],
            [
             0.3,
             "#f1b6da"
            ],
            [
             0.4,
             "#fde0ef"
            ],
            [
             0.5,
             "#f7f7f7"
            ],
            [
             0.6,
             "#e6f5d0"
            ],
            [
             0.7,
             "#b8e186"
            ],
            [
             0.8,
             "#7fbc41"
            ],
            [
             0.9,
             "#4d9221"
            ],
            [
             1,
             "#276419"
            ]
           ],
           "sequential": [
            [
             0,
             "#0d0887"
            ],
            [
             0.1111111111111111,
             "#46039f"
            ],
            [
             0.2222222222222222,
             "#7201a8"
            ],
            [
             0.3333333333333333,
             "#9c179e"
            ],
            [
             0.4444444444444444,
             "#bd3786"
            ],
            [
             0.5555555555555556,
             "#d8576b"
            ],
            [
             0.6666666666666666,
             "#ed7953"
            ],
            [
             0.7777777777777778,
             "#fb9f3a"
            ],
            [
             0.8888888888888888,
             "#fdca26"
            ],
            [
             1,
             "#f0f921"
            ]
           ],
           "sequentialminus": [
            [
             0,
             "#0d0887"
            ],
            [
             0.1111111111111111,
             "#46039f"
            ],
            [
             0.2222222222222222,
             "#7201a8"
            ],
            [
             0.3333333333333333,
             "#9c179e"
            ],
            [
             0.4444444444444444,
             "#bd3786"
            ],
            [
             0.5555555555555556,
             "#d8576b"
            ],
            [
             0.6666666666666666,
             "#ed7953"
            ],
            [
             0.7777777777777778,
             "#fb9f3a"
            ],
            [
             0.8888888888888888,
             "#fdca26"
            ],
            [
             1,
             "#f0f921"
            ]
           ]
          },
          "colorway": [
           "#636efa",
           "#EF553B",
           "#00cc96",
           "#ab63fa",
           "#FFA15A",
           "#19d3f3",
           "#FF6692",
           "#B6E880",
           "#FF97FF",
           "#FECB52"
          ],
          "font": {
           "color": "#2a3f5f"
          },
          "geo": {
           "bgcolor": "white",
           "lakecolor": "white",
           "landcolor": "#E5ECF6",
           "showlakes": true,
           "showland": true,
           "subunitcolor": "white"
          },
          "hoverlabel": {
           "align": "left"
          },
          "hovermode": "closest",
          "mapbox": {
           "style": "light"
          },
          "paper_bgcolor": "white",
          "plot_bgcolor": "#E5ECF6",
          "polar": {
           "angularaxis": {
            "gridcolor": "white",
            "linecolor": "white",
            "ticks": ""
           },
           "bgcolor": "#E5ECF6",
           "radialaxis": {
            "gridcolor": "white",
            "linecolor": "white",
            "ticks": ""
           }
          },
          "scene": {
           "xaxis": {
            "backgroundcolor": "#E5ECF6",
            "gridcolor": "white",
            "gridwidth": 2,
            "linecolor": "white",
            "showbackground": true,
            "ticks": "",
            "zerolinecolor": "white"
           },
           "yaxis": {
            "backgroundcolor": "#E5ECF6",
            "gridcolor": "white",
            "gridwidth": 2,
            "linecolor": "white",
            "showbackground": true,
            "ticks": "",
            "zerolinecolor": "white"
           },
           "zaxis": {
            "backgroundcolor": "#E5ECF6",
            "gridcolor": "white",
            "gridwidth": 2,
            "linecolor": "white",
            "showbackground": true,
            "ticks": "",
            "zerolinecolor": "white"
           }
          },
          "shapedefaults": {
           "line": {
            "color": "#2a3f5f"
           }
          },
          "ternary": {
           "aaxis": {
            "gridcolor": "white",
            "linecolor": "white",
            "ticks": ""
           },
           "baxis": {
            "gridcolor": "white",
            "linecolor": "white",
            "ticks": ""
           },
           "bgcolor": "#E5ECF6",
           "caxis": {
            "gridcolor": "white",
            "linecolor": "white",
            "ticks": ""
           }
          },
          "title": {
           "x": 0.05
          },
          "xaxis": {
           "automargin": true,
           "gridcolor": "white",
           "linecolor": "white",
           "ticks": "",
           "title": {
            "standoff": 15
           },
           "zerolinecolor": "white",
           "zerolinewidth": 2
          },
          "yaxis": {
           "automargin": true,
           "gridcolor": "white",
           "linecolor": "white",
           "ticks": "",
           "title": {
            "standoff": 15
           },
           "zerolinecolor": "white",
           "zerolinewidth": 2
          }
         }
        },
        "width": 720,
        "xaxis": {
         "gridcolor": "lightgrey",
         "linecolor": "black",
         "mirror": true,
         "showline": true,
         "tickfont": {
          "color": "black",
          "family": "Times New Roman",
          "size": 20
         },
         "title": {
          "font": {
           "color": "black",
           "family": "Times New Roman",
           "size": 25
          },
          "text": "Consistency"
         },
         "zerolinecolor": "lightgrey",
         "zerolinewidth": 1
        },
        "yaxis": {
         "gridcolor": "lightgrey",
         "linecolor": "black",
         "mirror": true,
         "showline": true,
         "tickfont": {
          "color": "black",
          "family": "Times New Roman",
          "size": 20
         },
         "title": {
          "font": {
           "color": "black",
           "family": "Times New Roman",
           "size": 25
          },
          "text": "Robustness"
         },
         "zerolinecolor": "lightgrey",
         "zerolinewidth": 1
        }
       }
      }
     },
     "metadata": {},
     "output_type": "display_data"
    }
   ],
   "source": [
    "colors = px.colors.qualitative.Plotly\n",
    "nc = len(colors)\n",
    "font_family = 'Times New Roman'\n",
    "font_color = 'black'\n",
    "width, height = 720, 540\n",
    "\n",
    "params = {\n",
    "    'ROAR': {\n",
    "        'name': 'ROAR',\n",
    "        'symbol': 'star',\n",
    "        'size': 5\n",
    "    },\n",
    "    'OPT': {\n",
    "        'name': 'Alg1',\n",
    "        'symbol': 'circle',\n",
    "        'size': 3\n",
    "    }\n",
    "}\n",
    "\n",
    "x_val = 'consistency'\n",
    "y_val = 'robustness'\n",
    "\n",
    "fig = go.Figure()\n",
    "for alg in df_im['alg'].unique():\n",
    "    for p in df_im['p'].unique():\n",
    "        df_alg = df_im[(df_im['p'] == p) & (df_im['alg'] == alg)]\n",
    "        mask = pareto_frontier(df_alg[y_val], df_alg[x_val])\n",
    "        df_alg = df_alg.iloc[mask]\n",
    "        \n",
    "        t = '\\\\theta_{p}'.format(p=f'{int(p)}')\n",
    "        a = '{alg}'.format(alg=params[alg]['name'])\n",
    "        name = r'$\\hat{theta} ({a})$'.format(theta=t, a=params[alg]['name'])\n",
    "\n",
    "        fig.add_trace(go.Scatter(\n",
    "            x = df_alg[x_val],\n",
    "            y = df_alg[y_val],\n",
    "            marker = dict(color=colors[p], symbol=params[alg]['symbol'], size=params[alg]['size']),\n",
    "            mode = 'markers+lines',\n",
    "            name = name,\n",
    "            customdata=df_alg['beta'],\n",
    "            hovertemplate='consistency: %{x}<br>robustness: %{y}<br>beta: %{customdata}'\n",
    "        ))\n",
    "\n",
    "fig.update_xaxes(\n",
    "    title=dict(\n",
    "        text=x_val.capitalize(),\n",
    "        font=dict(\n",
    "            family=font_family,\n",
    "            color=font_color,\n",
    "            size=25\n",
    "        )\n",
    "        ), \n",
    "    showline=True, \n",
    "    mirror=True,\n",
    "    linecolor='black', \n",
    "    gridcolor='lightgrey', \n",
    "    zerolinewidth=1,\n",
    "    zerolinecolor='lightgrey',\n",
    "    )\n",
    "\n",
    "fig.update_yaxes(\n",
    "    title=dict(\n",
    "        text=y_val.capitalize(),\n",
    "        font=dict(\n",
    "            family=font_family,\n",
    "            color=font_color,\n",
    "            size=25\n",
    "        ), \n",
    "        ), \n",
    "    showline=True, \n",
    "    mirror=True,\n",
    "    linecolor='black', \n",
    "    gridcolor='lightgrey',\n",
    "    zerolinewidth=1,\n",
    "    zerolinecolor='lightgrey',\n",
    "    )\n",
    "\n",
    "fig.update_layout(\n",
    "    legend=dict(\n",
    "        # y=0.975, \n",
    "        # y=0.0255, \n",
    "        x=0.975, \n",
    "        y=0.975, \n",
    "        xanchor='right',\n",
    "        font=dict(\n",
    "            family=font_family,\n",
    "            color=font_color,\n",
    "            size=15\n",
    "            ), \n",
    "        bgcolor='rgba(255, 255, 255, 0.7)',\n",
    "        bordercolor='lightgrey',\n",
    "        borderwidth=1,\n",
    "        entrywidth=0.1,\n",
    "        entrywidthmode='pixels',\n",
    "        ),\n",
    "    margin=dict(t=5, b=0, l=1, r=5),\n",
    "    width=width,\n",
    "    height=height,\n",
    "    plot_bgcolor='white',\n",
    "    paper_bgcolor='white',\n",
    "    xaxis=dict(\n",
    "        tickfont=dict(\n",
    "            family=font_family,\n",
    "            color=font_color,\n",
    "            size=20,\n",
    "        ),\n",
    "    ),\n",
    "    yaxis=dict(\n",
    "        tickfont=dict(\n",
    "            family=font_family,\n",
    "            color=font_color,\n",
    "            size=20\n",
    "        )\n",
    "    )\n",
    "    )\n",
    "\n",
    "print('LR', dataset.name.upper(), 'Actionable', 'Hardmax')\n",
    "fig.show()"
   ]
  },
  {
   "cell_type": "code",
   "execution_count": null,
   "metadata": {},
   "outputs": [],
   "source": []
  }
 ],
 "metadata": {
  "kernelspec": {
   "display_name": ".env",
   "language": "python",
   "name": "python3"
  },
  "language_info": {
   "codemirror_mode": {
    "name": "ipython",
    "version": 3
   },
   "file_extension": ".py",
   "mimetype": "text/x-python",
   "name": "python",
   "nbconvert_exporter": "python",
   "pygments_lexer": "ipython3",
   "version": "3.12.7"
  }
 },
 "nbformat": 4,
 "nbformat_minor": 2
}
