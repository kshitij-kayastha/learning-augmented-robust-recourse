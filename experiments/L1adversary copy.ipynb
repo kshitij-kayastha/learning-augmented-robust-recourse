{
 "cells": [
  {
   "cell_type": "code",
   "execution_count": 2,
   "metadata": {},
   "outputs": [],
   "source": [
    "import tqdm\n",
    "import torch\n",
    "import numpy as np\n",
    "import pandas as pd\n",
    "import plotly.express as px"
   ]
  },
  {
   "cell_type": "code",
   "execution_count": 3,
   "metadata": {},
   "outputs": [],
   "source": [
    "def get_stats(x_0, x, theta, lamb):\n",
    "    f_x = torch.nn.Sigmoid()(torch.matmul(x, theta[:-1]) + theta[[-1]])\n",
    "    bce_loss = torch.nn.BCELoss()(f_x, torch.ones(1).float()).detach()\n",
    "    cost = torch.dist(x, x_0, 1).detach()\n",
    "    price = (bce_loss + lamb*cost).detach()\n",
    "    \n",
    "    return bce_loss, cost, price"
   ]
  },
  {
   "cell_type": "code",
   "execution_count": 4,
   "metadata": {},
   "outputs": [],
   "source": [
    "def display(x_0: torch.Tensor = None, theta_0: torch.Tensor = None, x: torch.Tensor = None, theta: torch.Tensor = None, alpha: float = None, lamb: float = None, ):\n",
    "    if theta_0 != None:\n",
    "        bce_loss, cost, price = get_stats(x_0, x_0, theta_0, lamb)\n",
    "        \n",
    "        print(f'x_0           : {x_0.round(decimals=4)}')\n",
    "        print(f'theta_0       : {theta_0.round(decimals=4)}')\n",
    "        print(f'alpha         : {alpha}')\n",
    "        print(f'lambda        : {lamb}')\n",
    "        print(f'Cost          : {cost:.4f}')\n",
    "        print(f'BCE Loss      : {bce_loss:.4f}')\n",
    "        print(f'Total Cost    : {price:.4f}\\n')\n",
    "    \n",
    "    if x != None and theta != None:\n",
    "        bce_loss, cost, price = get_stats(x_0, x, theta, lamb)\n",
    "        \n",
    "        print(f'x_r           : {x.round(decimals=4)}')\n",
    "        print(f'theta_r       : {theta.round(decimals=4)}')\n",
    "        print(f'alpha         : {alpha}')\n",
    "        print(f'lambda        : {lamb}')\n",
    "        print(f'Cost          : {cost:.4f}')\n",
    "        print(f'BCE Loss      : {bce_loss:.4f}')\n",
    "        print(f'Total Cost    : {price:.4f}')"
   ]
  },
  {
   "cell_type": "code",
   "execution_count": 5,
   "metadata": {},
   "outputs": [],
   "source": [
    "def calc_theta_r(x: torch.Tensor, theta_0: torch.Tensor, alpha: float):\n",
    "    theta_r = theta_0.clone()\n",
    "    x_t = torch.cat([x.clone(), torch.ones(1)], 0)\n",
    "    i = torch.argmax(torch.abs(x_t))\n",
    "    \n",
    "    # if multiple x values tie for max value\n",
    "    # pick the one where theta has the max value (hurts the most)\n",
    "    for j in range(len(x_t)):\n",
    "        if abs(x_t[j]) == abs(x_t[i]):\n",
    "            if abs(theta_r[j]) >= abs(theta_r[i]):\n",
    "                i = j\n",
    "    theta_r[i] -= (alpha * torch.sign(x_t[i]))\n",
    "    \n",
    "    return theta_r.detach().float()\n",
    "\n",
    "def calc_theta_r2(x: torch.Tensor, theta_0: torch.Tensor, alpha: float):\n",
    "    x_t = torch.cat([x.clone(), torch.ones(1)], 0)\n",
    "    theta_t = theta_0 - (alpha * torch.sign(x_t))\n",
    "    \n",
    "    f_x = torch.nn.Sigmoid()(torch.mul(x_t, theta_t))\n",
    "    bce_loss = torch.nn.BCELoss(reduction='none')(f_x, torch.ones(f_x.shape)).detach()\n",
    "    \n",
    "    i = torch.argmax(bce_loss)\n",
    "    theta_r = theta_0.clone()\n",
    "    theta_r[i] -= (alpha * torch.sign(x_t[i]))\n",
    "    return theta_r"
   ]
  },
  {
   "cell_type": "code",
   "execution_count": 8,
   "metadata": {},
   "outputs": [],
   "source": [
    "def get_recourse(x_0: torch.Tensor, theta_0: torch.Tensor, alpha: float, lamb: float):\n",
    "    x_r = x_0.clone().requires_grad_(True)\n",
    "    theta_r = theta_0.clone()\n",
    "    optimizer = torch.optim.Adam([x_r])\n",
    "\n",
    "    abstol = 1e-7\n",
    "    loss = torch.tensor(1.)\n",
    "    loss_diff = 1.\n",
    "\n",
    "    while loss_diff > abstol:\n",
    "        loss_prev = loss.clone().detach()\n",
    "        optimizer.zero_grad()\n",
    "        \n",
    "        theta_r = calc_theta_r(x_r, theta_0, alpha)\n",
    "        \n",
    "        f_x = torch.nn.Sigmoid()(torch.matmul(x_r, theta_r[:-1]) + theta_r[[-1]])\n",
    "        bce_loss = torch.nn.BCELoss()(f_x, torch.ones(1))\n",
    "        cost = torch.dist(x_0, x_r, 1)\n",
    "        loss = bce_loss + lamb*cost\n",
    "        \n",
    "        loss.backward()\n",
    "        optimizer.step()\n",
    "        \n",
    "        loss_diff = torch.dist(loss_prev, loss, 1)\n",
    "\n",
    "    return x_r.detach()"
   ]
  },
  {
   "cell_type": "code",
   "execution_count": 9,
   "metadata": {},
   "outputs": [],
   "source": [
    "def search_recourse(x_0: torch.Tensor, theta_0: torch.Tensor, alpha: float, lamb: float, n: int = 1001, return_grid: bool = False):\n",
    "    dx, dy = [-abs(x_0[0]), 2*abs(x_0[0])], [-abs(x_0[1]), 2*abs(x_0[1])]\n",
    "    delta_x = [\n",
    "            np.arange(x_0[0].item() + dx[0].item(), x_0[0].item() + dx[1].item(), 0.001), \n",
    "            np.arange(x_0[1].item() + dy[0].item(), x_0[1].item() + dy[1].item(), 0.001)]\n",
    "    X = np.array(np.meshgrid(*delta_x)).T.reshape(-1, 2)\n",
    "    X = torch.from_numpy(X).float()\n",
    "\n",
    "    results = {'x_r': [], 'theta_r': [], 'bce_loss': [], 'cost': [], 'total_cost': []}\n",
    "    for x in tqdm.tqdm(X):\n",
    "        theta_r = calc_theta_r(x, theta_0, alpha)\n",
    "        bce_loss, cost, total_cost = get_stats(x_0, x, theta_r, lamb)\n",
    "        \n",
    "        results['x_r'].append(x)\n",
    "        results['theta_r'].append(theta_r)\n",
    "        results['bce_loss'].append(bce_loss.item())\n",
    "        results['cost'].append(cost.item())\n",
    "        results['total_cost'].append(total_cost.item())\n",
    "        \n",
    "    results = pd.DataFrame(results)\n",
    "    i = np.argmin(results['total_cost'])\n",
    "    results_min = results.iloc[i]\n",
    "    if return_grid:\n",
    "        return results_min['x_r'], results\n",
    "    return results_min['x_r']"
   ]
  },
  {
   "cell_type": "markdown",
   "metadata": {},
   "source": [
    "### Case 1. $\\theta$ cannot switch signs"
   ]
  },
  {
   "cell_type": "code",
   "execution_count": 10,
   "metadata": {},
   "outputs": [
    {
     "name": "stdout",
     "output_type": "stream",
     "text": [
      "x_0           : tensor([-1.5000, -2.5000])\n",
      "theta_0       : tensor([1.0000, 2.0000, 0.2000])\n",
      "alpha         : 0.1\n",
      "lambda        : 1.0\n",
      "Cost          : 0.0000\n",
      "BCE Loss      : 6.3018\n",
      "Total Cost    : 6.3018\n",
      "\n"
     ]
    }
   ],
   "source": [
    "alpha = 0.1\n",
    "lamb = 1.\n",
    "x_0 = torch.tensor([-1.5, -2.5]).float()\n",
    "theta_0 = torch.tensor([1., 2., .2]).float()\n",
    "\n",
    "display(x_0, theta_0, alpha=alpha, lamb=lamb)"
   ]
  },
  {
   "cell_type": "code",
   "execution_count": 11,
   "metadata": {},
   "outputs": [
    {
     "name": "stdout",
     "output_type": "stream",
     "text": [
      "Gradient Descent Result\n",
      "\n",
      "x_0           : tensor([-1.5000, -2.5000])\n",
      "theta_0       : tensor([1.0000, 2.0000, 0.2000])\n",
      "alpha         : 0.1\n",
      "lambda        : 1.0\n",
      "Cost          : 0.0000\n",
      "BCE Loss      : 6.3018\n",
      "Total Cost    : 6.3018\n",
      "\n",
      "x_r           : tensor([-1.4996,  0.7011])\n",
      "theta_r       : tensor([1.1000, 2.0000, 0.2000])\n",
      "alpha         : 0.1\n",
      "lambda        : 1.0\n",
      "Cost          : 3.2014\n",
      "BCE Loss      : 0.7172\n",
      "Total Cost    : 3.9186\n"
     ]
    }
   ],
   "source": [
    "x_r = get_recourse(x_0, theta_0, alpha, lamb)\n",
    "theta_r = calc_theta_r(x_r, theta_0, alpha)\n",
    "\n",
    "print('Gradient Descent Result\\n')\n",
    "display(x_0, theta_0, x_r, theta_r, alpha, lamb)"
   ]
  },
  {
   "cell_type": "code",
   "execution_count": 12,
   "metadata": {},
   "outputs": [
    {
     "ename": "RuntimeError",
     "evalue": "dot : expected both vectors to have same dtype, but found Double and Float",
     "output_type": "error",
     "traceback": [
      "\u001b[31m---------------------------------------------------------------------------\u001b[39m",
      "\u001b[31mRuntimeError\u001b[39m                              Traceback (most recent call last)",
      "\u001b[36mCell\u001b[39m\u001b[36m \u001b[39m\u001b[32mIn[12]\u001b[39m\u001b[32m, line 1\u001b[39m\n\u001b[32m----> \u001b[39m\u001b[32m1\u001b[39m x_r = \u001b[43msearch_recourse\u001b[49m\u001b[43m(\u001b[49m\u001b[43mx_0\u001b[49m\u001b[43m,\u001b[49m\u001b[43m \u001b[49m\u001b[43mtheta_0\u001b[49m\u001b[43m,\u001b[49m\u001b[43m \u001b[49m\u001b[43malpha\u001b[49m\u001b[43m,\u001b[49m\u001b[43m \u001b[49m\u001b[43mlamb\u001b[49m\u001b[43m)\u001b[49m\n\u001b[32m      2\u001b[39m theta_r = calc_theta_r(x_r, theta_0, alpha)\n\u001b[32m      4\u001b[39m \u001b[38;5;28mprint\u001b[39m(\u001b[33m'\u001b[39m\u001b[33mGrid Search Result\u001b[39m\u001b[38;5;130;01m\\n\u001b[39;00m\u001b[33m'\u001b[39m)\n",
      "\u001b[36mCell\u001b[39m\u001b[36m \u001b[39m\u001b[32mIn[9]\u001b[39m\u001b[32m, line 12\u001b[39m, in \u001b[36msearch_recourse\u001b[39m\u001b[34m(x_0, theta_0, alpha, lamb, n, return_grid)\u001b[39m\n\u001b[32m     10\u001b[39m \u001b[38;5;28;01mfor\u001b[39;00m x \u001b[38;5;129;01min\u001b[39;00m X:\n\u001b[32m     11\u001b[39m     theta_r = calc_theta_r(x, theta_0, alpha)\n\u001b[32m---> \u001b[39m\u001b[32m12\u001b[39m     bce_loss, cost, total_cost = \u001b[43mget_stats\u001b[49m\u001b[43m(\u001b[49m\u001b[43mx_0\u001b[49m\u001b[43m,\u001b[49m\u001b[43m \u001b[49m\u001b[43mx\u001b[49m\u001b[43m,\u001b[49m\u001b[43m \u001b[49m\u001b[43mtheta_r\u001b[49m\u001b[43m,\u001b[49m\u001b[43m \u001b[49m\u001b[43mlamb\u001b[49m\u001b[43m)\u001b[49m\n\u001b[32m     14\u001b[39m     results[\u001b[33m'\u001b[39m\u001b[33mx_r\u001b[39m\u001b[33m'\u001b[39m].append(x)\n\u001b[32m     15\u001b[39m     results[\u001b[33m'\u001b[39m\u001b[33mtheta_r\u001b[39m\u001b[33m'\u001b[39m].append(theta_r)\n",
      "\u001b[36mCell\u001b[39m\u001b[36m \u001b[39m\u001b[32mIn[3]\u001b[39m\u001b[32m, line 2\u001b[39m, in \u001b[36mget_stats\u001b[39m\u001b[34m(x_0, x, theta, lamb)\u001b[39m\n\u001b[32m      1\u001b[39m \u001b[38;5;28;01mdef\u001b[39;00m\u001b[38;5;250m \u001b[39m\u001b[34mget_stats\u001b[39m(x_0, x, theta, lamb):\n\u001b[32m----> \u001b[39m\u001b[32m2\u001b[39m     f_x = torch.nn.Sigmoid()(\u001b[43mtorch\u001b[49m\u001b[43m.\u001b[49m\u001b[43mmatmul\u001b[49m\u001b[43m(\u001b[49m\u001b[43mx\u001b[49m\u001b[43m,\u001b[49m\u001b[43m \u001b[49m\u001b[43mtheta\u001b[49m\u001b[43m[\u001b[49m\u001b[43m:\u001b[49m\u001b[43m-\u001b[49m\u001b[32;43m1\u001b[39;49m\u001b[43m]\u001b[49m\u001b[43m)\u001b[49m + theta[[-\u001b[32m1\u001b[39m]])\n\u001b[32m      3\u001b[39m     bce_loss = torch.nn.BCELoss()(f_x, torch.ones(\u001b[32m1\u001b[39m)).detach()\n\u001b[32m      4\u001b[39m     cost = torch.dist(x, x_0, \u001b[32m1\u001b[39m).detach()\n",
      "\u001b[31mRuntimeError\u001b[39m: dot : expected both vectors to have same dtype, but found Double and Float"
     ]
    }
   ],
   "source": [
    "x_r = search_recourse(x_0, theta_0, alpha, lamb)\n",
    "theta_r = calc_theta_r(x_r, theta_0, alpha)\n",
    "\n",
    "print('Grid Search Result\\n')\n",
    "display(x_0, theta_0, x_r, theta_r, alpha, lamb)"
   ]
  },
  {
   "cell_type": "code",
   "execution_count": null,
   "metadata": {},
   "outputs": [],
   "source": [
    "x_t = x_r.clone()\n",
    "x_t[0] = -1.5\n",
    "x_t[1] = 0.7\n",
    "theta_t = calc_theta_r(x_t, theta_0, alpha)\n",
    "display(x_0, None, lamb, x_t, theta_t)"
   ]
  },
  {
   "cell_type": "markdown",
   "metadata": {},
   "source": [
    "### Case 2. $\\theta$ can change sign"
   ]
  },
  {
   "cell_type": "code",
   "execution_count": null,
   "metadata": {},
   "outputs": [],
   "source": [
    "alpha = 0.5\n",
    "lamb = 1.\n",
    "x_0 = torch.tensor([-.15, -2.5]).float()\n",
    "theta_0 = torch.tensor([1., 2., .2]).float()\n",
    "\n",
    "display(x_0, theta_0, lamb)"
   ]
  },
  {
   "cell_type": "code",
   "execution_count": null,
   "metadata": {},
   "outputs": [],
   "source": [
    "x_r = get_recourse(x_0, theta_0, alpha, lamb)\n",
    "theta_t = calc_theta_r(x_r, theta_0, alpha)\n",
    "\n",
    "display(x_0, theta_0, lamb, x_r, theta_t)"
   ]
  },
  {
   "cell_type": "code",
   "execution_count": null,
   "metadata": {},
   "outputs": [],
   "source": [
    "x_t = x_r.clone()\n",
    "x_t[0] = -0.15\n",
    "x_t[1] = 0.0557\n",
    "theta_t = calc_theta_r(x_t, theta_0, alpha)\n",
    "display(x_0, None, lamb, x_t, theta_t)"
   ]
  }
 ],
 "metadata": {
  "kernelspec": {
   "display_name": ".env",
   "language": "python",
   "name": "python3"
  },
  "language_info": {
   "codemirror_mode": {
    "name": "ipython",
    "version": 3
   },
   "file_extension": ".py",
   "mimetype": "text/x-python",
   "name": "python",
   "nbconvert_exporter": "python",
   "pygments_lexer": "ipython3",
   "version": "3.12.7"
  }
 },
 "nbformat": 4,
 "nbformat_minor": 2
}
