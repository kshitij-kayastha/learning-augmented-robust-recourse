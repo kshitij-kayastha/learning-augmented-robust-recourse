{
 "cells": [
  {
   "cell_type": "code",
   "execution_count": 1,
   "metadata": {},
   "outputs": [],
   "source": [
    "import sys\n",
    "sys.path.append('..')"
   ]
  },
  {
   "cell_type": "code",
   "execution_count": 2,
   "metadata": {},
   "outputs": [],
   "source": [
    "import tqdm\n",
    "import torch\n",
    "import pickle\n",
    "import warnings\n",
    "import numpy as np\n",
    "import pandas as pd\n",
    "import torch.optim as optim\n",
    "from copy import deepcopy\n",
    "import plotly.express as px\n",
    "import plotly.graph_objects as go\n",
    "\n",
    "from src.data import *\n",
    "from src.utils import *\n",
    "from src.model import *\n",
    "from src.recourse import *\n",
    "\n",
    "warnings.filterwarnings('ignore')"
   ]
  },
  {
   "cell_type": "code",
   "execution_count": 3,
   "metadata": {},
   "outputs": [],
   "source": [
    "def append_result(d, rob, loss, cost, m1_validity, wc_validity, m1_expectation, wc_expectation):\n",
    "    d['Cost'].append(cost)\n",
    "    d['M1 Validity'].append(m1_validity)\n",
    "    d['WC Validity'].append(wc_validity)\n",
    "    d['M1 Expectation'].append(m1_expectation)\n",
    "    d['WC Expectation'].append(wc_expectation)\n",
    "    d['J'].append(rob) \n",
    "    d['Loss'].append(loss)\n",
    "    \n",
    "def get_result(d, alg, seed, alpha, lamb, theta_0, theta_r):\n",
    "    result = {\n",
    "        'alg': alg, \n",
    "        'seed': seed,\n",
    "        'alpha': alpha,\n",
    "        'lambda': lamb,\n",
    "        'theta_0': theta_0,\n",
    "        'theta_r': theta_r\n",
    "        }\n",
    "    \n",
    "    for key in d.keys():\n",
    "        result[key] = np.mean(d[key])\n",
    "    return result"
   ]
  },
  {
   "cell_type": "code",
   "execution_count": 4,
   "metadata": {},
   "outputs": [],
   "source": [
    "def get_theta_adv_pga(X_0, X_r, theta_0, alpha, lamb, pga_max_iter: int = 100):\n",
    "    X_0 = torch.tensor(np.stack(X_0)).float()\n",
    "    X_r = torch.tensor(np.stack(X_r)).float()\n",
    "    \n",
    "    loss_fn = torch.nn.BCELoss(reduction='mean')\n",
    "    clf_adv = LogReg(X_0.shape[1])\n",
    "    optimizer = optim.Adam(clf_adv.model.parameters(), maximize=True)\n",
    "    weights_min, weights_max = [], []\n",
    "    bias_min, bias_max = [], []\n",
    "    for module in clf_adv.model:\n",
    "        if hasattr(module, 'weight'):\n",
    "            module.weight.data = torch.from_numpy(deepcopy(theta_0[:-1].reshape(1,-1))).float()\n",
    "            weights_min.append(deepcopy(module.weight.data - alpha))\n",
    "            weights_max.append(deepcopy(module.weight.data + alpha))\n",
    "            module.weight.data += torch.randn(module.weight.data.shape)\n",
    "        else:\n",
    "            weights_min.append(0)\n",
    "            weights_max.append(0)\n",
    "        if hasattr(module, 'bias'):\n",
    "            module.bias.data = torch.from_numpy(theta_0[[-1]]).float()\n",
    "            bias_min.append(deepcopy(module.bias.data - alpha))\n",
    "            bias_max.append(deepcopy(module.bias.data + alpha))\n",
    "            module.weight.data += torch.randn(module.bias.data.shape)\n",
    "        else:\n",
    "            bias_min.append(0)\n",
    "            bias_max.append(0)\n",
    "        \n",
    "    for epoch in range(pga_max_iter):\n",
    "        optimizer.zero_grad()\n",
    "        \n",
    "        f_x = clf_adv.forward(X_r)\n",
    "        y_target = torch.ones(f_x.shape).float()\n",
    "        bce_loss = loss_fn(f_x, y_target)\n",
    "        cost = torch.dist(X_r, X_0, 1)\n",
    "        loss = bce_loss + lamb*cost\n",
    "        \n",
    "        loss.backward()\n",
    "        optimizer.step()\n",
    "        \n",
    "        # clamp model parameters to -alpha, alpha range\n",
    "        for i, module in enumerate(clf_adv.model):\n",
    "            if hasattr(module, 'weight'):\n",
    "                module.weight.data = module.weight.data.clamp(weights_min[i], weights_max[i])\n",
    "            if hasattr(module, 'bias'):\n",
    "                module.bias.data = module.bias.data.clamp(bias_min[i], bias_max[i])\n",
    "                \n",
    "    \n",
    "    for i, module in enumerate(clf_adv.model):\n",
    "        if hasattr(module, 'weight'):\n",
    "            weights_r = module.weight.data.numpy()[0]\n",
    "        if hasattr(module, 'bias'):\n",
    "            bias_r = module.bias.data.numpy()\n",
    "            \n",
    "    theta_adv = np.hstack((weights_r, bias_r))\n",
    "    \n",
    "    print(f'Final Loss: {loss}')\n",
    "    print(f'Num Iterations: {i}')\n",
    "    print(f'theta_alpha: {np.linalg.norm(theta_adv-theta_0, ord=np.inf)}')\n",
    "    print()\n",
    "    \n",
    "    return theta_adv"
   ]
  },
  {
   "cell_type": "code",
   "execution_count": 5,
   "metadata": {},
   "outputs": [],
   "source": [
    "def get_theta_adv_search(X_0, X_r, theta_0, alpha, lamb):\n",
    "    \n",
    "    theta_adv = deepcopy(theta_0)\n",
    "    X_0 = torch.tensor(np.stack(X_0)).float()\n",
    "    X_r = torch.tensor(np.stack(X_r)).float()\n",
    "    \n",
    "    for i in range(X_0.shape[1]):\n",
    "        theta_r_min = deepcopy(theta_0)\n",
    "        theta_r_max = deepcopy(theta_0)\n",
    "        \n",
    "        theta_r_min[i] -= alpha\n",
    "        theta_r_max[i] += alpha\n",
    "        weights_r_min, bias_r_min = theta_r_min[:-1], theta_r_min[[-1]]\n",
    "        weights_r_max, bias_r_max = theta_r_max[:-1], theta_r_max[[-1]]\n",
    "        J_min, J_max = [], []\n",
    "        for xi in range(len(X_r)):\n",
    "            x_0 = X_0[xi]\n",
    "            x_r = X_r[xi]\n",
    "            J = RecourseCost(x_0, lamb)\n",
    "            j_min = J.eval(x_r, weights_r_min, bias_r_min)\n",
    "            j_max = J.eval(x_r, weights_r_max, bias_r_max)\n",
    "            J_min.append(j_min)\n",
    "            J_max.append(j_max)\n",
    "        \n",
    "        \n",
    "        if np.mean(J_min) > np.mean(J_max):\n",
    "            theta_adv[i] -= alpha\n",
    "        else:\n",
    "            theta_adv[i] += alpha\n",
    "    \n",
    "    return theta_adv"
   ]
  },
  {
   "cell_type": "code",
   "execution_count": 6,
   "metadata": {},
   "outputs": [],
   "source": [
    "def evaluate_performance(X_0, X_r, theta_0, alpha, lamb, seed, alg, method='search'):\n",
    "    results = {'Cost': [], 'M1 Validity': [], 'WC Validity': [], 'M1 Expectation': [], 'WC Expectation': [], 'J': [], 'Loss': []}\n",
    "    \n",
    "    weights_0, bias_0 = theta_0[:-1], theta_0[[-1]]\n",
    "    if method=='search':\n",
    "        theta_r = get_theta_adv_search(X_0, X_r, theta_0, alpha, lamb)\n",
    "    else:\n",
    "        theta_r = get_theta_adv_pga(X_0, X_r, theta_0, alpha, lamb, pga_max_iter=500)\n",
    "    for ti in range(len(theta_0)):\n",
    "        if np.abs(theta_r[ti] - (theta_0[ti]-alpha)) < np.abs(theta_r[ti] - (theta_0[ti]+alpha)):\n",
    "            theta_r[ti] = theta_0[ti]-alpha\n",
    "        else:\n",
    "            theta_r[ti] = theta_0[ti]+alpha\n",
    "    weights_r, bias_r = theta_r[:-1], theta_r[[-1]]\n",
    "        \n",
    "    n = len(X_r)\n",
    "    Y_0 = np.hstack((np.ones((n//2,)), np.zeros((n - n//2,))))\n",
    "    \n",
    "    cfr = LR()\n",
    "    cfr.train(X_0, Y_0)\n",
    "    cfr.model.coef_ = weights_0.reshape(1,-1)\n",
    "    cfr.model.intercept_ = bias_0\n",
    "    \n",
    "    cfr_adv = deepcopy(cfr)\n",
    "    cfr_adv.model.coef_ = weights_r.reshape(1,-1)\n",
    "    cfr_adv.model.intercept_ = bias_r\n",
    "\n",
    "    for i in tqdm.trange(n, desc=f'Eval alpha={alpha}; lambda={lamb}', colour='#0091ff'):\n",
    "        x_0 = X_0[i]\n",
    "        x_r = X_r[i]\n",
    "        J = RecourseCost(x_0, lamb)\n",
    "        \n",
    "        bce_loss_opt, cost_opt, rob_opt = J.eval(x_r, weights_r, bias_r, True)\n",
    "        m1_validity_opt = cfr.predict(x_r.reshape(1,-1))[0]\n",
    "        m1_expectation_opt = cfr.predict_proba(x_r.reshape(1,-1))[0,1]\n",
    "        \n",
    "        wc_validity_opt = cfr_adv.predict(x_r.reshape(1,-1))[0]\n",
    "        wc_expectation_opt = cfr_adv.predict_proba(x_r.reshape(1,-1))[0,1]\n",
    "        \n",
    "        append_result(results, rob_opt, bce_loss_opt, cost_opt, m1_validity_opt, wc_validity_opt, m1_expectation_opt, wc_expectation_opt)\n",
    "        \n",
    "    return get_result(results, alg, seed, alpha, lamb, theta_0, theta_r)"
   ]
  },
  {
   "cell_type": "code",
   "execution_count": 7,
   "metadata": {},
   "outputs": [],
   "source": [
    "method_map = {\n",
    "    'alg1_lamb0.05': 'Alg1 (λ=0.05)', \n",
    "    'alg1_lamb0.1': 'Alg1 (λ=0.1)',\n",
    "    'alg1_lamb0.2': 'Alg1 (λ=0.2)', \n",
    "    'alg1_lamb0.3': 'Alg1 (λ=0.3)',\n",
    "    'roar': 'ROAR ', \n",
    "    'rbr': 'RBR', \n",
    "    'wachter': 'WACHTER'\n",
    "    }\n",
    "\n",
    "data_map = {'synthetic': 'Synthetic', 'sba': 'Small Business Administration', 'german': 'German', 'income': 'ACS Income'}\n",
    "model_map = {'lr': 'Logistic Regression', 'nn': 'Neural Network'}"
   ]
  },
  {
   "cell_type": "code",
   "execution_count": 8,
   "metadata": {},
   "outputs": [
    {
     "name": "stderr",
     "output_type": "stream",
     "text": [
      "Eval alpha=0.0; lambda=0.1: 100%|\u001b[38;2;0;145;255m██████████\u001b[0m| 100/100 [00:00<00:00, 5759.43it/s]\n",
      "Eval alpha=0.02; lambda=0.1: 100%|\u001b[38;2;0;145;255m██████████\u001b[0m| 100/100 [00:00<00:00, 6069.38it/s]\n",
      "Eval alpha=0.04; lambda=0.1: 100%|\u001b[38;2;0;145;255m██████████\u001b[0m| 100/100 [00:00<00:00, 6404.10it/s]\n",
      "Eval alpha=0.06; lambda=0.1: 100%|\u001b[38;2;0;145;255m██████████\u001b[0m| 100/100 [00:00<00:00, 5927.59it/s]\n",
      "Eval alpha=0.08; lambda=0.1: 100%|\u001b[38;2;0;145;255m██████████\u001b[0m| 100/100 [00:00<00:00, 6309.22it/s]\n",
      "Eval alpha=0.1; lambda=0.1: 100%|\u001b[38;2;0;145;255m██████████\u001b[0m| 100/100 [00:00<00:00, 6203.86it/s]\n",
      "Eval alpha=0.12; lambda=0.1: 100%|\u001b[38;2;0;145;255m██████████\u001b[0m| 100/100 [00:00<00:00, 6445.83it/s]\n",
      "Eval alpha=0.14; lambda=0.1: 100%|\u001b[38;2;0;145;255m██████████\u001b[0m| 100/100 [00:00<00:00, 6283.04it/s]\n",
      "Eval alpha=0.16; lambda=0.1: 100%|\u001b[38;2;0;145;255m██████████\u001b[0m| 100/100 [00:00<00:00, 6393.07it/s]\n",
      "Eval alpha=0.18; lambda=0.1: 100%|\u001b[38;2;0;145;255m██████████\u001b[0m| 100/100 [00:00<00:00, 6420.57it/s]\n",
      "Eval alpha=0.2; lambda=0.1: 100%|\u001b[38;2;0;145;255m██████████\u001b[0m| 100/100 [00:00<00:00, 6117.00it/s]\n",
      "Eval alpha=0.0; lambda=0.2: 100%|\u001b[38;2;0;145;255m██████████\u001b[0m| 100/100 [00:00<00:00, 6435.05it/s]\n",
      "Eval alpha=0.02; lambda=0.2: 100%|\u001b[38;2;0;145;255m██████████\u001b[0m| 100/100 [00:00<00:00, 6635.30it/s]\n",
      "Eval alpha=0.04; lambda=0.2: 100%|\u001b[38;2;0;145;255m██████████\u001b[0m| 100/100 [00:00<00:00, 6337.63it/s]\n",
      "Eval alpha=0.06; lambda=0.2: 100%|\u001b[38;2;0;145;255m██████████\u001b[0m| 100/100 [00:00<00:00, 6184.74it/s]\n",
      "Eval alpha=0.08; lambda=0.2: 100%|\u001b[38;2;0;145;255m██████████\u001b[0m| 100/100 [00:00<00:00, 6216.18it/s]\n",
      "Eval alpha=0.1; lambda=0.2: 100%|\u001b[38;2;0;145;255m██████████\u001b[0m| 100/100 [00:00<00:00, 6454.96it/s]\n",
      "Eval alpha=0.12; lambda=0.2: 100%|\u001b[38;2;0;145;255m██████████\u001b[0m| 100/100 [00:00<00:00, 6201.20it/s]\n",
      "Eval alpha=0.14; lambda=0.2: 100%|\u001b[38;2;0;145;255m██████████\u001b[0m| 100/100 [00:00<00:00, 6140.46it/s]\n",
      "Eval alpha=0.16; lambda=0.2: 100%|\u001b[38;2;0;145;255m██████████\u001b[0m| 100/100 [00:00<00:00, 6147.39it/s]\n",
      "Eval alpha=0.18; lambda=0.2: 100%|\u001b[38;2;0;145;255m██████████\u001b[0m| 100/100 [00:00<00:00, 5928.51it/s]\n",
      "Eval alpha=0.2; lambda=0.2: 100%|\u001b[38;2;0;145;255m██████████\u001b[0m| 100/100 [00:00<00:00, 6353.27it/s]\n",
      "Eval alpha=0.0; lambda=0.3: 100%|\u001b[38;2;0;145;255m██████████\u001b[0m| 100/100 [00:00<00:00, 6234.10it/s]\n",
      "Eval alpha=0.02; lambda=0.3: 100%|\u001b[38;2;0;145;255m██████████\u001b[0m| 100/100 [00:00<00:00, 6164.11it/s]\n",
      "Eval alpha=0.04; lambda=0.3: 100%|\u001b[38;2;0;145;255m██████████\u001b[0m| 100/100 [00:00<00:00, 6315.20it/s]\n",
      "Eval alpha=0.06; lambda=0.3: 100%|\u001b[38;2;0;145;255m██████████\u001b[0m| 100/100 [00:00<00:00, 6409.49it/s]\n",
      "Eval alpha=0.08; lambda=0.3: 100%|\u001b[38;2;0;145;255m██████████\u001b[0m| 100/100 [00:00<00:00, 6361.75it/s]\n",
      "Eval alpha=0.1; lambda=0.3: 100%|\u001b[38;2;0;145;255m██████████\u001b[0m| 100/100 [00:00<00:00, 6481.29it/s]\n",
      "Eval alpha=0.12; lambda=0.3: 100%|\u001b[38;2;0;145;255m██████████\u001b[0m| 100/100 [00:00<00:00, 6184.65it/s]\n",
      "Eval alpha=0.14; lambda=0.3: 100%|\u001b[38;2;0;145;255m██████████\u001b[0m| 100/100 [00:00<00:00, 6146.94it/s]\n",
      "Eval alpha=0.16; lambda=0.3: 100%|\u001b[38;2;0;145;255m██████████\u001b[0m| 100/100 [00:00<00:00, 6105.42it/s]\n",
      "Eval alpha=0.18; lambda=0.3: 100%|\u001b[38;2;0;145;255m██████████\u001b[0m| 100/100 [00:00<00:00, 5665.38it/s]\n",
      "Eval alpha=0.2; lambda=0.3: 100%|\u001b[38;2;0;145;255m██████████\u001b[0m| 100/100 [00:00<00:00, 6255.11it/s]\n",
      "Eval alpha=0.0; lambda=0.1: 100%|\u001b[38;2;0;145;255m██████████\u001b[0m| 100/100 [00:00<00:00, 6204.68it/s]\n",
      "Eval alpha=0.02; lambda=0.1: 100%|\u001b[38;2;0;145;255m██████████\u001b[0m| 100/100 [00:00<00:00, 6371.90it/s]\n",
      "Eval alpha=0.04; lambda=0.1: 100%|\u001b[38;2;0;145;255m██████████\u001b[0m| 100/100 [00:00<00:00, 6540.31it/s]\n",
      "Eval alpha=0.06; lambda=0.1: 100%|\u001b[38;2;0;145;255m██████████\u001b[0m| 100/100 [00:00<00:00, 6488.71it/s]\n",
      "Eval alpha=0.08; lambda=0.1: 100%|\u001b[38;2;0;145;255m██████████\u001b[0m| 100/100 [00:00<00:00, 6584.98it/s]\n",
      "Eval alpha=0.1; lambda=0.1: 100%|\u001b[38;2;0;145;255m██████████\u001b[0m| 100/100 [00:00<00:00, 6227.81it/s]\n",
      "Eval alpha=0.12; lambda=0.1: 100%|\u001b[38;2;0;145;255m██████████\u001b[0m| 100/100 [00:00<00:00, 6164.74it/s]\n",
      "Eval alpha=0.14; lambda=0.1: 100%|\u001b[38;2;0;145;255m██████████\u001b[0m| 100/100 [00:00<00:00, 6354.81it/s]\n",
      "Eval alpha=0.16; lambda=0.1: 100%|\u001b[38;2;0;145;255m██████████\u001b[0m| 100/100 [00:00<00:00, 6393.56it/s]\n",
      "Eval alpha=0.18; lambda=0.1: 100%|\u001b[38;2;0;145;255m██████████\u001b[0m| 100/100 [00:00<00:00, 6188.84it/s]\n",
      "Eval alpha=0.2; lambda=0.1: 100%|\u001b[38;2;0;145;255m██████████\u001b[0m| 100/100 [00:00<00:00, 6254.27it/s]\n"
     ]
    }
   ],
   "source": [
    "torch.manual_seed(0)\n",
    "params = {}\n",
    "# 'synthetic', 'german', 'sba'\n",
    "params['data'] = 'sba'\n",
    "# 'lr', 'nn'\n",
    "params['base_model'] = 'lr'\n",
    "params['algs'] = ['alg1', 'roar']\n",
    "lambdas = [0.1, 0.2, 0.3]\n",
    "\n",
    "methods = []\n",
    "for method in params['algs']:\n",
    "    for li, lamb in enumerate(lambdas):\n",
    "        if method == 'alg1':\n",
    "            methods.append(f'{method}_lamb{lamb}')\n",
    "        else:\n",
    "            if li > 0:\n",
    "                break\n",
    "            methods.append(f'{method}')\n",
    "                \n",
    "results = {\n",
    "    'Algorithm': [],\n",
    "    'Cost': [],\n",
    "    'Current Validity': [],\n",
    "    'Worst Case Validity': [],\n",
    "    'alpha': []\n",
    "}\n",
    "                \n",
    "                \n",
    "for li, method in enumerate(methods):\n",
    "    with open(f\"../results/cost_validity/{params['base_model']}_{params['data']}_{method}.pickle\", 'rb') as f:\n",
    "        data = pickle.load(f)\n",
    "\n",
    "    lamb = lambdas[li%len(lambdas)]\n",
    "    \n",
    "    for i in range(len(data[\"params\"])):\n",
    "        alpha = data['params'][i]['delta_max']\n",
    "        \n",
    "        X_0 = data['x_0'][i]\n",
    "        X_r = data['x_r'][i]\n",
    "        \n",
    "        try:\n",
    "            weights_0, bias_0 = data['theta_0'][i][0]\n",
    "        except:\n",
    "            try:\n",
    "                weights_0, bias_0 = data['theta_0']['out.weight'].data.detach(), data['theta_0']['out.bias'].data.detach()\n",
    "            except:\n",
    "                weights_0, bias_0 = data['theta_0'][i]        \n",
    "        \n",
    "        weights_0, bias_0 = weights_0[0].numpy(), bias_0.numpy()\n",
    "        theta_0 = np.hstack((weights_0, bias_0))\n",
    "        \n",
    "        res = evaluate_performance(X_0, X_r, theta_0, alpha, lamb, i, method, 'search')\n",
    "        results['Algorithm'].append(method)\n",
    "        results['Cost'].append(res['Cost'])\n",
    "        results['Current Validity'].append(res['M1 Validity'])\n",
    "        results['Worst Case Validity'].append(res['WC Validity'])\n",
    "        results['alpha'].append(alpha)\n",
    "df_results = pd.DataFrame(results)"
   ]
  },
  {
   "cell_type": "code",
   "execution_count": 9,
   "metadata": {},
   "outputs": [
    {
     "name": "stdout",
     "output_type": "stream",
     "text": [
      "Small Business Administration  |  LR\n"
     ]
    },
    {
     "data": {
      "text/html": [
       "<div>\n",
       "<style scoped>\n",
       "    .dataframe tbody tr th:only-of-type {\n",
       "        vertical-align: middle;\n",
       "    }\n",
       "\n",
       "    .dataframe tbody tr th {\n",
       "        vertical-align: top;\n",
       "    }\n",
       "\n",
       "    .dataframe thead th {\n",
       "        text-align: right;\n",
       "    }\n",
       "</style>\n",
       "<table border=\"1\" class=\"dataframe\">\n",
       "  <thead>\n",
       "    <tr style=\"text-align: right;\">\n",
       "      <th></th>\n",
       "      <th>Cost</th>\n",
       "      <th>Current Validity</th>\n",
       "      <th>Worst Case Validity</th>\n",
       "      <th>alpha</th>\n",
       "    </tr>\n",
       "    <tr>\n",
       "      <th>Algorithm</th>\n",
       "      <th></th>\n",
       "      <th></th>\n",
       "      <th></th>\n",
       "      <th></th>\n",
       "    </tr>\n",
       "  </thead>\n",
       "  <tbody>\n",
       "    <tr>\n",
       "      <th>alg1_lamb0.1</th>\n",
       "      <td>4.54±1.37</td>\n",
       "      <td>0.98±0.03</td>\n",
       "      <td>0.94±0.01</td>\n",
       "      <td>0.1</td>\n",
       "    </tr>\n",
       "    <tr>\n",
       "      <th>alg1_lamb0.2</th>\n",
       "      <td>2.46±0.96</td>\n",
       "      <td>0.88±0.23</td>\n",
       "      <td>0.62±0.15</td>\n",
       "      <td>0.1</td>\n",
       "    </tr>\n",
       "    <tr>\n",
       "      <th>alg1_lamb0.3</th>\n",
       "      <td>1.36±0.83</td>\n",
       "      <td>0.38±0.37</td>\n",
       "      <td>0.11±0.06</td>\n",
       "      <td>0.1</td>\n",
       "    </tr>\n",
       "    <tr>\n",
       "      <th>roar</th>\n",
       "      <td>0.75±0.33</td>\n",
       "      <td>0.05±0.06</td>\n",
       "      <td>0.08±0.03</td>\n",
       "      <td>0.1</td>\n",
       "    </tr>\n",
       "  </tbody>\n",
       "</table>\n",
       "</div>"
      ],
      "text/plain": [
       "                   Cost Current Validity Worst Case Validity  alpha\n",
       "Algorithm                                                          \n",
       "alg1_lamb0.1  4.54±1.37        0.98±0.03           0.94±0.01    0.1\n",
       "alg1_lamb0.2  2.46±0.96        0.88±0.23           0.62±0.15    0.1\n",
       "alg1_lamb0.3  1.36±0.83        0.38±0.37           0.11±0.06    0.1\n",
       "roar          0.75±0.33        0.05±0.06           0.08±0.03    0.1"
      ]
     },
     "execution_count": 9,
     "metadata": {},
     "output_type": "execute_result"
    }
   ],
   "source": [
    "print(f'{data_map[params[\"data\"]]}  |  {params[\"base_model\"].upper()}')\n",
    "df_results_avg = df_results.groupby('Algorithm').mean(True)\n",
    "df_results_avg[['Cost', 'Current Validity', 'Worst Case Validity']] = df_results_avg[['Cost', 'Current Validity', 'Worst Case Validity']].round(2).astype(str) + '±' + df_results.groupby('Algorithm').std(numeric_only=True)[['Cost', 'Current Validity', 'Worst Case Validity']].round(2).astype(str)\n",
    "\n",
    "df_results_avg"
   ]
  },
  {
   "cell_type": "code",
   "execution_count": 10,
   "metadata": {},
   "outputs": [
    {
     "name": "stdout",
     "output_type": "stream",
     "text": [
      "Small Business Administration  |  LR\n"
     ]
    },
    {
     "data": {
      "application/vnd.plotly.v1+json": {
       "config": {
        "plotlyServerURL": "https://plot.ly"
       },
       "data": [
        {
         "customdata": {
          "bdata": "AAAAAAAAAAB7FK5H4XqUP3sUrkfheqQ/uB6F61G4rj97FK5H4Xq0P5qZmZmZmbk/exSuR+F6xD8K16NwPQrHPw==",
          "dtype": "f8"
         },
         "hovertemplate": "Cost: %{x}<br>Validity: %{y}<br>alpha: %{customdata}",
         "marker": {
          "color": "#17becf",
          "size": 7,
          "symbol": "x"
         },
         "mode": "lines+markers",
         "name": "Alg1 (λ=0.1)",
         "showlegend": true,
         "type": "scatter",
         "x": {
          "bdata": "pU0AVZgOBEDoSQoDpC4HQJ3k9F24eQpAO9zOEaOgDUDrZu3/XmYQQIIiIRM2BxJAnPDEC+gpF0DkMwEfe8QYQA==",
          "dtype": "f8"
         },
         "y": {
          "bdata": "w/UoXI/C7T/D9Shcj8LtP2ZmZmZmZu4/ZmZmZmZm7j9mZmZmZmbuP2ZmZmZmZu4/ZmZmZmZm7j9mZmZmZmbuPw==",
          "dtype": "f8"
         }
        },
        {
         "customdata": {
          "bdata": "AAAAAAAAAAB7FK5H4XqUP3sUrkfheqQ/exSuR+F6tD+amZmZmZm5P7gehetRuL4/",
          "dtype": "f8"
         },
         "hovertemplate": "Cost: %{x}<br>Validity: %{y}<br>alpha: %{customdata}",
         "marker": {
          "color": "#9467bd",
          "size": 7,
          "symbol": "x"
         },
         "mode": "lines+markers",
         "name": "Alg1 (λ=0.2)",
         "showlegend": true,
         "type": "scatter",
         "x": {
          "bdata": "z4g7iZdV7j8sTn/wgTr0P7zEUnzUivk/ne6yrmmtAUAe8fsNkQ8EQNE18UI4dQZA",
          "dtype": "f8"
         },
         "y": {
          "bdata": "cT0K16NwzT9SuB6F61HgP83MzMzMzOQ/cT0K16Nw5T+4HoXrUbjmP65H4XoUruc/",
          "dtype": "f8"
         }
        },
        {
         "customdata": {
          "bdata": "AAAAAAAAAAB7FK5H4XqUP3sUrkfheqQ/uB6F61G4rj+amZmZmZm5P7gehetRuL4/7FG4HoXrwT97FK5H4XrEPw==",
          "dtype": "f8"
         },
         "hovertemplate": "Cost: %{x}<br>Validity: %{y}<br>alpha: %{customdata}",
         "marker": {
          "color": "#e377c2",
          "size": 7,
          "symbol": "x"
         },
         "mode": "lines+markers",
         "name": "Alg1 (λ=0.3)",
         "showlegend": true,
         "type": "scatter",
         "x": {
          "bdata": "s6OUhOjbwT/bOFQccUzVP/nAUraggOE/oExPdMLq6z/YpvD+70r3P33jmTEkpvk/w+Gghb3J+z+kDd2+/F//Pw==",
          "dtype": "f8"
         },
         "y": {
          "bdata": "AAAAAAAAAAB7FK5H4XqkP+xRuB6F67E/KVyPwvUovD+4HoXrUbi+P+xRuB6F68E/exSuR+F6xD8K16NwPQrHPw==",
          "dtype": "f8"
         }
        },
        {
         "customdata": {
          "bdata": "AAAAAAAAAAB7FK5H4XqUP3sUrkfheqQ/uB6F61G4rj97FK5H4Xq0P5qZmZmZmbk/uB6F61G4vj/sUbgehevBP3sUrkfhesQ/CtejcD0Kxz+amZmZmZnJPw==",
          "dtype": "f8"
         },
         "hovertemplate": "Cost: %{x}<br>Validity: %{y}<br>alpha: %{customdata}",
         "marker": {
          "color": "#2ca02c",
          "size": 5,
          "symbol": "circle"
         },
         "mode": "lines+markers",
         "name": "ROAR ",
         "showlegend": true,
         "type": "scatter",
         "x": {
          "bdata": "CL0nKzei0z+fdbPyMBnYP8aC++lyzdw/fQHH0sDm4D9VFPG4PrHjP2aPeOFoyuY/jkeuNkou6j825WYA2tXtP8tzvTlX3vA/fOFQR+nf8j8xdI5gYvD0Pw==",
          "dtype": "f8"
         },
         "y": {
          "bdata": "AAAAAAAAAAB7FK5H4XqkP7gehetRuK4/7FG4HoXrsT8K16NwPQq3PwrXo3A9Crc/CtejcD0Ktz8K16NwPQq3PwrXo3A9Crc/KVyPwvUovD8pXI/C9Si8Pw==",
          "dtype": "f8"
         }
        }
       ],
       "layout": {
        "height": 540,
        "legend": {
         "bgcolor": "rgba(255, 255, 255, 0.7)",
         "bordercolor": "lightgrey",
         "borderwidth": 1,
         "entrywidth": 100.5,
         "font": {
          "color": "black",
          "family": "Times New Roman",
          "size": 15
         },
         "orientation": "v",
         "x": 0.975,
         "xanchor": "right",
         "y": 0.025
        },
        "paper_bgcolor": "white",
        "plot_bgcolor": "white",
        "template": {
         "data": {
          "bar": [
           {
            "error_x": {
             "color": "#2a3f5f"
            },
            "error_y": {
             "color": "#2a3f5f"
            },
            "marker": {
             "line": {
              "color": "#E5ECF6",
              "width": 0.5
             },
             "pattern": {
              "fillmode": "overlay",
              "size": 10,
              "solidity": 0.2
             }
            },
            "type": "bar"
           }
          ],
          "barpolar": [
           {
            "marker": {
             "line": {
              "color": "#E5ECF6",
              "width": 0.5
             },
             "pattern": {
              "fillmode": "overlay",
              "size": 10,
              "solidity": 0.2
             }
            },
            "type": "barpolar"
           }
          ],
          "carpet": [
           {
            "aaxis": {
             "endlinecolor": "#2a3f5f",
             "gridcolor": "white",
             "linecolor": "white",
             "minorgridcolor": "white",
             "startlinecolor": "#2a3f5f"
            },
            "baxis": {
             "endlinecolor": "#2a3f5f",
             "gridcolor": "white",
             "linecolor": "white",
             "minorgridcolor": "white",
             "startlinecolor": "#2a3f5f"
            },
            "type": "carpet"
           }
          ],
          "choropleth": [
           {
            "colorbar": {
             "outlinewidth": 0,
             "ticks": ""
            },
            "type": "choropleth"
           }
          ],
          "contour": [
           {
            "colorbar": {
             "outlinewidth": 0,
             "ticks": ""
            },
            "colorscale": [
             [
              0,
              "#0d0887"
             ],
             [
              0.1111111111111111,
              "#46039f"
             ],
             [
              0.2222222222222222,
              "#7201a8"
             ],
             [
              0.3333333333333333,
              "#9c179e"
             ],
             [
              0.4444444444444444,
              "#bd3786"
             ],
             [
              0.5555555555555556,
              "#d8576b"
             ],
             [
              0.6666666666666666,
              "#ed7953"
             ],
             [
              0.7777777777777778,
              "#fb9f3a"
             ],
             [
              0.8888888888888888,
              "#fdca26"
             ],
             [
              1,
              "#f0f921"
             ]
            ],
            "type": "contour"
           }
          ],
          "contourcarpet": [
           {
            "colorbar": {
             "outlinewidth": 0,
             "ticks": ""
            },
            "type": "contourcarpet"
           }
          ],
          "heatmap": [
           {
            "colorbar": {
             "outlinewidth": 0,
             "ticks": ""
            },
            "colorscale": [
             [
              0,
              "#0d0887"
             ],
             [
              0.1111111111111111,
              "#46039f"
             ],
             [
              0.2222222222222222,
              "#7201a8"
             ],
             [
              0.3333333333333333,
              "#9c179e"
             ],
             [
              0.4444444444444444,
              "#bd3786"
             ],
             [
              0.5555555555555556,
              "#d8576b"
             ],
             [
              0.6666666666666666,
              "#ed7953"
             ],
             [
              0.7777777777777778,
              "#fb9f3a"
             ],
             [
              0.8888888888888888,
              "#fdca26"
             ],
             [
              1,
              "#f0f921"
             ]
            ],
            "type": "heatmap"
           }
          ],
          "histogram": [
           {
            "marker": {
             "pattern": {
              "fillmode": "overlay",
              "size": 10,
              "solidity": 0.2
             }
            },
            "type": "histogram"
           }
          ],
          "histogram2d": [
           {
            "colorbar": {
             "outlinewidth": 0,
             "ticks": ""
            },
            "colorscale": [
             [
              0,
              "#0d0887"
             ],
             [
              0.1111111111111111,
              "#46039f"
             ],
             [
              0.2222222222222222,
              "#7201a8"
             ],
             [
              0.3333333333333333,
              "#9c179e"
             ],
             [
              0.4444444444444444,
              "#bd3786"
             ],
             [
              0.5555555555555556,
              "#d8576b"
             ],
             [
              0.6666666666666666,
              "#ed7953"
             ],
             [
              0.7777777777777778,
              "#fb9f3a"
             ],
             [
              0.8888888888888888,
              "#fdca26"
             ],
             [
              1,
              "#f0f921"
             ]
            ],
            "type": "histogram2d"
           }
          ],
          "histogram2dcontour": [
           {
            "colorbar": {
             "outlinewidth": 0,
             "ticks": ""
            },
            "colorscale": [
             [
              0,
              "#0d0887"
             ],
             [
              0.1111111111111111,
              "#46039f"
             ],
             [
              0.2222222222222222,
              "#7201a8"
             ],
             [
              0.3333333333333333,
              "#9c179e"
             ],
             [
              0.4444444444444444,
              "#bd3786"
             ],
             [
              0.5555555555555556,
              "#d8576b"
             ],
             [
              0.6666666666666666,
              "#ed7953"
             ],
             [
              0.7777777777777778,
              "#fb9f3a"
             ],
             [
              0.8888888888888888,
              "#fdca26"
             ],
             [
              1,
              "#f0f921"
             ]
            ],
            "type": "histogram2dcontour"
           }
          ],
          "mesh3d": [
           {
            "colorbar": {
             "outlinewidth": 0,
             "ticks": ""
            },
            "type": "mesh3d"
           }
          ],
          "parcoords": [
           {
            "line": {
             "colorbar": {
              "outlinewidth": 0,
              "ticks": ""
             }
            },
            "type": "parcoords"
           }
          ],
          "pie": [
           {
            "automargin": true,
            "type": "pie"
           }
          ],
          "scatter": [
           {
            "fillpattern": {
             "fillmode": "overlay",
             "size": 10,
             "solidity": 0.2
            },
            "type": "scatter"
           }
          ],
          "scatter3d": [
           {
            "line": {
             "colorbar": {
              "outlinewidth": 0,
              "ticks": ""
             }
            },
            "marker": {
             "colorbar": {
              "outlinewidth": 0,
              "ticks": ""
             }
            },
            "type": "scatter3d"
           }
          ],
          "scattercarpet": [
           {
            "marker": {
             "colorbar": {
              "outlinewidth": 0,
              "ticks": ""
             }
            },
            "type": "scattercarpet"
           }
          ],
          "scattergeo": [
           {
            "marker": {
             "colorbar": {
              "outlinewidth": 0,
              "ticks": ""
             }
            },
            "type": "scattergeo"
           }
          ],
          "scattergl": [
           {
            "marker": {
             "colorbar": {
              "outlinewidth": 0,
              "ticks": ""
             }
            },
            "type": "scattergl"
           }
          ],
          "scattermap": [
           {
            "marker": {
             "colorbar": {
              "outlinewidth": 0,
              "ticks": ""
             }
            },
            "type": "scattermap"
           }
          ],
          "scattermapbox": [
           {
            "marker": {
             "colorbar": {
              "outlinewidth": 0,
              "ticks": ""
             }
            },
            "type": "scattermapbox"
           }
          ],
          "scatterpolar": [
           {
            "marker": {
             "colorbar": {
              "outlinewidth": 0,
              "ticks": ""
             }
            },
            "type": "scatterpolar"
           }
          ],
          "scatterpolargl": [
           {
            "marker": {
             "colorbar": {
              "outlinewidth": 0,
              "ticks": ""
             }
            },
            "type": "scatterpolargl"
           }
          ],
          "scatterternary": [
           {
            "marker": {
             "colorbar": {
              "outlinewidth": 0,
              "ticks": ""
             }
            },
            "type": "scatterternary"
           }
          ],
          "surface": [
           {
            "colorbar": {
             "outlinewidth": 0,
             "ticks": ""
            },
            "colorscale": [
             [
              0,
              "#0d0887"
             ],
             [
              0.1111111111111111,
              "#46039f"
             ],
             [
              0.2222222222222222,
              "#7201a8"
             ],
             [
              0.3333333333333333,
              "#9c179e"
             ],
             [
              0.4444444444444444,
              "#bd3786"
             ],
             [
              0.5555555555555556,
              "#d8576b"
             ],
             [
              0.6666666666666666,
              "#ed7953"
             ],
             [
              0.7777777777777778,
              "#fb9f3a"
             ],
             [
              0.8888888888888888,
              "#fdca26"
             ],
             [
              1,
              "#f0f921"
             ]
            ],
            "type": "surface"
           }
          ],
          "table": [
           {
            "cells": {
             "fill": {
              "color": "#EBF0F8"
             },
             "line": {
              "color": "white"
             }
            },
            "header": {
             "fill": {
              "color": "#C8D4E3"
             },
             "line": {
              "color": "white"
             }
            },
            "type": "table"
           }
          ]
         },
         "layout": {
          "annotationdefaults": {
           "arrowcolor": "#2a3f5f",
           "arrowhead": 0,
           "arrowwidth": 1
          },
          "autotypenumbers": "strict",
          "coloraxis": {
           "colorbar": {
            "outlinewidth": 0,
            "ticks": ""
           }
          },
          "colorscale": {
           "diverging": [
            [
             0,
             "#8e0152"
            ],
            [
             0.1,
             "#c51b7d"
            ],
            [
             0.2,
             "#de77ae"
            ],
            [
             0.3,
             "#f1b6da"
            ],
            [
             0.4,
             "#fde0ef"
            ],
            [
             0.5,
             "#f7f7f7"
            ],
            [
             0.6,
             "#e6f5d0"
            ],
            [
             0.7,
             "#b8e186"
            ],
            [
             0.8,
             "#7fbc41"
            ],
            [
             0.9,
             "#4d9221"
            ],
            [
             1,
             "#276419"
            ]
           ],
           "sequential": [
            [
             0,
             "#0d0887"
            ],
            [
             0.1111111111111111,
             "#46039f"
            ],
            [
             0.2222222222222222,
             "#7201a8"
            ],
            [
             0.3333333333333333,
             "#9c179e"
            ],
            [
             0.4444444444444444,
             "#bd3786"
            ],
            [
             0.5555555555555556,
             "#d8576b"
            ],
            [
             0.6666666666666666,
             "#ed7953"
            ],
            [
             0.7777777777777778,
             "#fb9f3a"
            ],
            [
             0.8888888888888888,
             "#fdca26"
            ],
            [
             1,
             "#f0f921"
            ]
           ],
           "sequentialminus": [
            [
             0,
             "#0d0887"
            ],
            [
             0.1111111111111111,
             "#46039f"
            ],
            [
             0.2222222222222222,
             "#7201a8"
            ],
            [
             0.3333333333333333,
             "#9c179e"
            ],
            [
             0.4444444444444444,
             "#bd3786"
            ],
            [
             0.5555555555555556,
             "#d8576b"
            ],
            [
             0.6666666666666666,
             "#ed7953"
            ],
            [
             0.7777777777777778,
             "#fb9f3a"
            ],
            [
             0.8888888888888888,
             "#fdca26"
            ],
            [
             1,
             "#f0f921"
            ]
           ]
          },
          "colorway": [
           "#636efa",
           "#EF553B",
           "#00cc96",
           "#ab63fa",
           "#FFA15A",
           "#19d3f3",
           "#FF6692",
           "#B6E880",
           "#FF97FF",
           "#FECB52"
          ],
          "font": {
           "color": "#2a3f5f"
          },
          "geo": {
           "bgcolor": "white",
           "lakecolor": "white",
           "landcolor": "#E5ECF6",
           "showlakes": true,
           "showland": true,
           "subunitcolor": "white"
          },
          "hoverlabel": {
           "align": "left"
          },
          "hovermode": "closest",
          "mapbox": {
           "style": "light"
          },
          "paper_bgcolor": "white",
          "plot_bgcolor": "#E5ECF6",
          "polar": {
           "angularaxis": {
            "gridcolor": "white",
            "linecolor": "white",
            "ticks": ""
           },
           "bgcolor": "#E5ECF6",
           "radialaxis": {
            "gridcolor": "white",
            "linecolor": "white",
            "ticks": ""
           }
          },
          "scene": {
           "xaxis": {
            "backgroundcolor": "#E5ECF6",
            "gridcolor": "white",
            "gridwidth": 2,
            "linecolor": "white",
            "showbackground": true,
            "ticks": "",
            "zerolinecolor": "white"
           },
           "yaxis": {
            "backgroundcolor": "#E5ECF6",
            "gridcolor": "white",
            "gridwidth": 2,
            "linecolor": "white",
            "showbackground": true,
            "ticks": "",
            "zerolinecolor": "white"
           },
           "zaxis": {
            "backgroundcolor": "#E5ECF6",
            "gridcolor": "white",
            "gridwidth": 2,
            "linecolor": "white",
            "showbackground": true,
            "ticks": "",
            "zerolinecolor": "white"
           }
          },
          "shapedefaults": {
           "line": {
            "color": "#2a3f5f"
           }
          },
          "ternary": {
           "aaxis": {
            "gridcolor": "white",
            "linecolor": "white",
            "ticks": ""
           },
           "baxis": {
            "gridcolor": "white",
            "linecolor": "white",
            "ticks": ""
           },
           "bgcolor": "#E5ECF6",
           "caxis": {
            "gridcolor": "white",
            "linecolor": "white",
            "ticks": ""
           }
          },
          "title": {
           "x": 0.05
          },
          "xaxis": {
           "automargin": true,
           "gridcolor": "white",
           "linecolor": "white",
           "ticks": "",
           "title": {
            "standoff": 15
           },
           "zerolinecolor": "white",
           "zerolinewidth": 2
          },
          "yaxis": {
           "automargin": true,
           "gridcolor": "white",
           "linecolor": "white",
           "ticks": "",
           "title": {
            "standoff": 15
           },
           "zerolinecolor": "white",
           "zerolinewidth": 2
          }
         }
        },
        "width": 720,
        "xaxis": {
         "gridcolor": "lightgrey",
         "linecolor": "black",
         "mirror": true,
         "showline": true,
         "tickfont": {
          "color": "black",
          "family": "Times New Roman",
          "size": 20
         },
         "title": {
          "font": {
           "color": "black",
           "family": "Times New Roman",
           "size": 25
          },
          "text": "Cost"
         },
         "zerolinecolor": "lightgrey",
         "zerolinewidth": 1
        },
        "yaxis": {
         "gridcolor": "lightgrey",
         "linecolor": "black",
         "mirror": true,
         "range": [
          -0.1,
          1.1
         ],
         "showline": true,
         "tickfont": {
          "color": "black",
          "family": "Times New Roman",
          "size": 20
         },
         "title": {
          "font": {
           "color": "black",
           "family": "Times New Roman",
           "size": 25
          },
          "text": "Worst Case Validity"
         },
         "zerolinecolor": "lightgrey",
         "zerolinewidth": 1
        }
       }
      }
     },
     "metadata": {},
     "output_type": "display_data"
    }
   ],
   "source": [
    "# colors = ['#1f77b4', '#17becf', '#9467bd', '#e377c2', '#2ca02c'] # Synthesis\n",
    "# colors = ['#17becf', '#e377c2', '#2ca02c'] # German\n",
    "colors = ['#17becf', '#9467bd', '#e377c2', '#2ca02c'] # SBA\n",
    "\n",
    "nc = len(colors)\n",
    "font_family = 'Times New Roman'\n",
    "font_color = 'black'\n",
    "width, height = 720, 540\n",
    "\n",
    "symbols = ['x' for _ in range(len(lambdas))] + ['circle']\n",
    "size = [7 for _ in range(len(lambdas))] + [5]\n",
    "\n",
    "show_errors = False\n",
    "\n",
    "fig = go.Figure()\n",
    "for i, alg in enumerate(df_results['Algorithm'].unique()):\n",
    "    df_alg = df_results[(df_results['Algorithm'] == alg)].sort_values(['Cost'], ascending=True).copy().reset_index(drop=True)\n",
    "    x,y, mask = find_pareto(df_alg['Cost'], df_alg['Worst Case Validity'], return_index=True)\n",
    "    df_alg = pd.DataFrame({'Algorithm': [method_map[alg] for _ in range(len(x))], 'Cost': x, 'Worst Case Validity': y, 'alpha': df_alg['alpha'][mask]})\n",
    "\n",
    "    fig.add_trace(go.Scatter(\n",
    "        x = df_alg['Cost'],\n",
    "        y = df_alg['Worst Case Validity'],\n",
    "        marker = dict(color=colors[i], symbol=symbols[i], size=size[i]),\n",
    "        mode = 'lines+markers' if alg != 'wachter' else 'markers',\n",
    "        name = method_map[alg],\n",
    "        showlegend=True,\n",
    "        customdata=df_alg['alpha'],\n",
    "        hovertemplate='Cost: %{x}<br>Validity: %{y}<br>alpha: %{customdata}'\n",
    "    ))\n",
    "\n",
    "fig.update_xaxes(\n",
    "    title=dict(\n",
    "        text='Cost',\n",
    "        font=dict(\n",
    "            family=font_family,\n",
    "            color=font_color,\n",
    "            size=25\n",
    "        )\n",
    "        ), \n",
    "    showline=True, \n",
    "    mirror=True,\n",
    "    linecolor='black', \n",
    "    gridcolor='lightgrey', \n",
    "    zerolinewidth=1,\n",
    "    zerolinecolor='lightgrey',\n",
    "    )\n",
    "\n",
    "\n",
    "fig.update_yaxes(\n",
    "    title=dict(\n",
    "        text='Worst Case Validity',\n",
    "        font=dict(\n",
    "            family=font_family,\n",
    "            color=font_color,\n",
    "            size=25\n",
    "        ), \n",
    "        ), \n",
    "    showline=True, \n",
    "    mirror=True,\n",
    "    linecolor='black', \n",
    "    gridcolor='lightgrey',\n",
    "    zerolinewidth=1,\n",
    "    zerolinecolor='lightgrey',\n",
    "    )\n",
    "\n",
    "\n",
    "fig.update_layout(\n",
    "    legend=dict(\n",
    "        x=0.975, \n",
    "        y=0.025, \n",
    "        orientation='v',\n",
    "        xanchor='right',\n",
    "        font=dict(\n",
    "            family=font_family,\n",
    "            color=font_color,\n",
    "            size=15\n",
    "            ), \n",
    "        bgcolor='rgba(255, 255, 255, 0.7)',\n",
    "        bordercolor='lightgrey',\n",
    "        borderwidth=1,\n",
    "        entrywidth=100.5,\n",
    "        ),\n",
    "    width=width,\n",
    "    height=height,\n",
    "    plot_bgcolor='white',\n",
    "    paper_bgcolor='white',\n",
    "    xaxis=dict(\n",
    "        tickfont=dict(\n",
    "            family=font_family,\n",
    "            color=font_color,\n",
    "            size=20,\n",
    "        ),\n",
    "    ),\n",
    "    yaxis=dict(\n",
    "        tickfont=dict(\n",
    "            family=font_family,\n",
    "            color=font_color,\n",
    "            size=20\n",
    "        ),\n",
    "        range=[-0.1,1.1],\n",
    "    )\n",
    ")\n",
    "\n",
    "print(f'{data_map[params[\"data\"]]}  |  {params[\"base_model\"].upper()}')\n",
    "fig.show()"
   ]
  },
  {
   "cell_type": "code",
   "execution_count": 11,
   "metadata": {},
   "outputs": [],
   "source": [
    "# fig.write_image(f'../figs/cost_validity_tradeoff_{params[\"base_model\"]}_{params[\"data\"]}.pdf')"
   ]
  }
 ],
 "metadata": {
  "kernelspec": {
   "display_name": ".env",
   "language": "python",
   "name": "python3"
  },
  "language_info": {
   "codemirror_mode": {
    "name": "ipython",
    "version": 3
   },
   "file_extension": ".py",
   "mimetype": "text/x-python",
   "name": "python",
   "nbconvert_exporter": "python",
   "pygments_lexer": "ipython3",
   "version": "3.12.7"
  }
 },
 "nbformat": 4,
 "nbformat_minor": 2
}
