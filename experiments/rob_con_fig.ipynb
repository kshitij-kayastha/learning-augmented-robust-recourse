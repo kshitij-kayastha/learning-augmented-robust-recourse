{
 "cells": [
  {
   "cell_type": "code",
   "execution_count": 7,
   "metadata": {},
   "outputs": [],
   "source": [
    "import sys\n",
    "sys.path.append('..')"
   ]
  },
  {
   "cell_type": "code",
   "execution_count": 8,
   "metadata": {},
   "outputs": [],
   "source": [
    "import numpy as np\n",
    "import pandas as pd\n",
    "import plotly.express as px\n",
    "import plotly.graph_objects as go\n",
    "\n",
    "from src.utils import pareto_frontier"
   ]
  },
  {
   "cell_type": "code",
   "execution_count": 32,
   "metadata": {},
   "outputs": [],
   "source": [
    "dataset = 'synthetic'\n",
    "base_model = 'nn'\n",
    "algs = ['roar']\n",
    "seeds = range(5)\n",
    "\n",
    "df_results = pd.DataFrame()\n",
    "for alg in algs:\n",
    "    for seed in seeds:\n",
    "        df_results = pd.concat((df_results, pd.read_pickle(f'../results/rob_con_tradeoff/output/{base_model}_{dataset}_{alg}_{seed}.pkl')))"
   ]
  },
  {
   "cell_type": "code",
   "execution_count": 33,
   "metadata": {},
   "outputs": [],
   "source": [
    "df_agg = df_results.groupby(['alg', 'p', 'beta'], as_index=False).mean()\n",
    "df_im = df_agg.copy()"
   ]
  },
  {
   "cell_type": "code",
   "execution_count": 35,
   "metadata": {},
   "outputs": [
    {
     "name": "stdout",
     "output_type": "stream",
     "text": [
      "NN SYNTHETIC\n"
     ]
    },
    {
     "data": {
      "application/vnd.plotly.v1+json": {
       "config": {
        "plotlyServerURL": "https://plot.ly"
       },
       "data": [
        {
         "customdata": {
          "bdata": "AAAAAAAAAAB7FK5H4XqEP3sUrkfhepQ/uB6F61G4nj97FK5H4XqkP5qZmZmZmak/uB6F61G4rj/sUbgeheuxP3sUrkfherQ/CtejcD0Ktz+amZmZmZm5Pylcj8L1KLw/uB6F61G4vj+kcD0K16PAP+xRuB6F68E/MzMzMzMzwz97FK5H4XrEP8P1KFyPwsU/CtejcD0Kxz9SuB6F61HIP5qZmZmZmck/4XoUrkfhyj8pXI/C9SjMP3E9CtejcM0/uB6F61G4zj8AAAAAAADQP6RwPQrXo9A/SOF6FK5H0T/sUbgehevRP4/C9Shcj9I/MzMzMzMz0z/Xo3A9CtfTP3sUrkfhetQ/H4XrUbge1T/D9Shcj8LVP2ZmZmZmZtY/CtejcD0K1z+uR+F6FK7XP1K4HoXrUdg/9ihcj8L12D+amZmZmZnZPz0K16NwPdo/4XoUrkfh2j+F61G4HoXbPylcj8L1KNw/zczMzMzM3D9xPQrXo3DdPxSuR+F6FN4/uB6F61G43j9cj8L1KFzfPwAAAAAAAOA/UrgehetR4D+kcD0K16PgP/YoXI/C9eA/SOF6FK5H4T+amZmZmZnhP+xRuB6F6+E/PQrXo3A94j+PwvUoXI/iP+F6FK5H4eI/MzMzMzMz4z+F61G4HoXjP9ejcD0K1+M/KVyPwvUo5D97FK5H4XrkP83MzMzMzOQ/H4XrUbge5T9xPQrXo3DlP8P1KFyPwuU/FK5H4XoU5j9mZmZmZmbmP7gehetRuOY/CtejcD0K5z9cj8L1KFznP65H4XoUruc/AAAAAAAA6D9SuB6F61HoP6RwPQrXo+g/9ihcj8L16D9I4XoUrkfpP5qZmZmZmek/7FG4HoXr6T89CtejcD3qP4/C9Shcj+o/4XoUrkfh6j8zMzMzMzPrP4XrUbgehes/16NwPQrX6z8pXI/C9SjsP3sUrkfheuw/zczMzMzM7D8fhetRuB7tP3E9CtejcO0/w/UoXI/C7T8UrkfhehTuP2ZmZmZmZu4/uB6F61G47j8K16NwPQrvP1yPwvUoXO8/rkfhehSu7z8AAAAAAADwPw==",
          "dtype": "f8"
         },
         "hovertemplate": "consistency: %{x}<br>robustness: %{y}<br>beta: %{customdata}",
         "marker": {
          "color": "#636EFA",
          "size": 5,
          "symbol": "star"
         },
         "mode": "markers+lines",
         "name": "$\\hat\\theta_0 (ROAR)$",
         "type": "scatter",
         "x": {
          "bdata": "4+eHvU/sI0ADV8FtC+wjQCntk93e6yNAzab0wZIGJEC/QKjdJiEkQOgBKHwEISRAPkuAwc85JEAYF/+OR1IkQMsWl5XuhCRAQ+phzMOEJEACRLZKvpwkQAB8U2BftCRAkjdLDk20JEBRPcv8Gs0kQFvjmsab5yRAS8lC8SkZJUB+wR0PHTIlQA1nY1ICMiVAE84hPapMJUCmiKDyuUwlQPaFfx5vZCVAaM6skf1+JUDiv7NB9X4lQDkvBZYMsiVA7g2RjdnKJUDJ6Uj89MolQGEXLBzpyiVAXnzXnxnlJUAthwHKCeUlQN4jnrYW5SVAYj257gvlJUBLp/d8k/0lQBZx9mKh/SVAVm/xI5gVJkA1ny/lgi4mQJ2ZJN1RYyZA+td3JV5jJkAIEg4+ZmMmQLTfS6IjriZAkoeqTjSuJkCsskm1vt8mQDWG8Dc0+iZADMGEWA0vJ0BzRcttHS8nQEkqf88dLydAJwBqtFV5J0C7VTkxeXknQHnp5Ri1kSdAEEVzvrymJ0Ai8y9cV8EnQJzqCqBo2idAPjvp18Q8KEAyNR152jwoQGJeXBPyPChAAuKh0gA9KEBipTskGz0oQFGeSiKyVihAZhQC/cxWKEAdQrVrzVYoQGCQPhxqcShAPo1roh2JKEDCeqoKMokoQCzOSY8ziShAEZ7+n0aJKEAD9tFO2KAoQISsKSo1HClAktUOfMBMKUArlDMJiH8pQFsMRL7tlylAcIitrEDiKUCWCp5/1S0qQJXt2Y6mXipAjSC1hm2QKkAz7WzKt8EqQMsgmJCO2ipAprHEyb7yKkAbMPyxuPIqQKOismPi8ipAXvDA5fEMK0BzU+noZDsrQF1cAo4laytAVYDPz7q1K0By6ISQgAMsQHh56PJrHSxAevAGcXBlLEBNhg9SqJUsQOPIHPRfxCxAk810qAPzLEBGbcYrHQotQEU/zUfpOy1Ag64DWA5ULUBD73hSmrotQPsS8f1c6y1Ag3Aw5a01LkClrr5cWWUuQIqSHkXJ3y5AAjAld70PL0DmvdhcwlgvQDHPzX56MDBAYQI3GpQwMEAawUnJJ1QwQA==",
          "dtype": "f8"
         },
         "y": {
          "bdata": "78QvDUpOJkCTpmr7L00mQADR+0cwTCZAxrtqs7NoJkArvt0q7oQmQLui0X8AhCZACv34VFOeJkBOQi7hPbgmQOiwU7Yg7yZAdh6Nsi7uJkB1gNIzxwcnQGv1eTgWISdAYbGcrUcgJ0C2OgS9sDonQNvAO6wIVydAvVmz88KMJ0A27LDUiacnQOetJR2/pidAzM/G1VjDJ0BEBdnxvsInQPva35Uo3CdA0mLseJ34J0Cr5p6G8fcnQDR3tR5dLyhAkpVEIuVJKECyHFe+Z0koQKMA6njBSChA7jIMaOVkKEAdwad7QGQoQOMejhm8YyhAYjx9Gh9jKEBSnvxRfn0oQCZMVisCfShAmiG37LiWKEAu9EoqkbEoQNsQvCXw6ihAbn1MQ3vqKEA1xJVHAuooQCwpQxajOylAiJwEPTo7KUAmborqI3EpQPL8qNanjSlAW23/biTHKUBl+bBswsYpQD6tBRVSxilAvSyrQHYXKkDwObDCLxcqQDCkZCReMSpAKqS3bRBJKkBlOn5S22UqQK3io1/zgCpAu1Jp3pbsKkBWnG+PT+wqQH4DTU8M7CpAvUuhP8DrKkAO9C2kgusqQNj6RndQBytA+GK8+BUHK0BNsZsxwQYrQCB2iTiTIytAJjDzyko9K0DQw+fzDz0rQM3KyfjAPCtAtX+FuIY8K0D6xo59LVYrQO2gDi8/3StAUNY1Ji4SLEAAdEE/kUksQBCGo9IDZCxAGKWh90G1LEDOdgNrzQctQABQg8QMPS1A0mNMvmFzLUDWOFCgMqktQF3BcH4gxC1AduzPJWfeLUCikB9YJd4tQJ18V14X3i1AY5Hmi276LUCNx9AlUS4uQGY7hpSKYi5AiuPBTBW0LkAlThqWDgkvQBWhpEU3JS9ApYddYCN0L0AOtDd6zqgvQBrLJfsE3C9AO0c8EYAHMECmTgX5GRQwQBVHOoY/LzBAnlZy+GU8MEDC8m6DdHQwQCW6/T0djzBAKy5uycW3MEDM0cFK79EwQO+ZHIcAFTFAPai0tjQvMUBDoNnNNFcxQNJipObj5zFAX048Ke/nMUBlqv1/1A4yQA==",
          "dtype": "f8"
         }
        },
        {
         "customdata": {
          "bdata": "AAAAAAAAAAB7FK5H4XqEP3sUrkfhepQ/uB6F61G4nj97FK5H4XqkP5qZmZmZmak/uB6F61G4rj/sUbgeheuxP3sUrkfherQ/CtejcD0Ktz+amZmZmZm5Pylcj8L1KLw/uB6F61G4vj+kcD0K16PAP+xRuB6F68E/MzMzMzMzwz97FK5H4XrEP8P1KFyPwsU/CtejcD0Kxz9SuB6F61HIP5qZmZmZmck/4XoUrkfhyj8pXI/C9SjMP3E9CtejcM0/uB6F61G4zj8AAAAAAADQP6RwPQrXo9A/SOF6FK5H0T/sUbgehevRP4/C9Shcj9I/MzMzMzMz0z/Xo3A9CtfTP3sUrkfhetQ/H4XrUbge1T/D9Shcj8LVP2ZmZmZmZtY/CtejcD0K1z+uR+F6FK7XP1K4HoXrUdg/9ihcj8L12D+amZmZmZnZPz0K16NwPdo/4XoUrkfh2j+F61G4HoXbPylcj8L1KNw/zczMzMzM3D9xPQrXo3DdPxSuR+F6FN4/uB6F61G43j9cj8L1KFzfPwAAAAAAAOA/UrgehetR4D+kcD0K16PgP/YoXI/C9eA/SOF6FK5H4T+amZmZmZnhP+xRuB6F6+E/PQrXo3A94j+PwvUoXI/iP+F6FK5H4eI/MzMzMzMz4z+F61G4HoXjP9ejcD0K1+M/KVyPwvUo5D97FK5H4XrkP83MzMzMzOQ/H4XrUbge5T9xPQrXo3DlP8P1KFyPwuU/FK5H4XoU5j9mZmZmZmbmP7gehetRuOY/CtejcD0K5z9cj8L1KFznP65H4XoUruc/AAAAAAAA6D9SuB6F61HoP6RwPQrXo+g/9ihcj8L16D9I4XoUrkfpP5qZmZmZmek/7FG4HoXr6T89CtejcD3qP4/C9Shcj+o/4XoUrkfh6j8zMzMzMzPrP4XrUbgehes/16NwPQrX6z8pXI/C9SjsP3sUrkfheuw/zczMzMzM7D8fhetRuB7tP3E9CtejcO0/w/UoXI/C7T8UrkfhehTuP2ZmZmZmZu4/uB6F61G47j8K16NwPQrvP1yPwvUoXO8/rkfhehSu7z8AAAAAAADwPw==",
          "dtype": "f8"
         },
         "hovertemplate": "consistency: %{x}<br>robustness: %{y}<br>beta: %{customdata}",
         "marker": {
          "color": "#EF553B",
          "size": 5,
          "symbol": "star"
         },
         "mode": "markers+lines",
         "name": "$\\hat\\theta_1 (ROAR)$",
         "type": "scatter",
         "x": {
          "bdata": "iIX82iNsIECqrR1RMmwgQJnL63n+ayBA+GFo55yEIEBfaWbmO7UgQJqhJ/IH6CBAtoBHXvXnIEBAOFfZ2gAhQB6V/r1mGyFAjjDeMzUzIUAWo3rTGTMhQPU/0RZzSSFAzFbt+19JIUDYbxIDTkkhQBLp+9tGYiFAUrEcakhiIUCrJ0x/XXwhQH7R8z0PlCFA23bM4hiUIUAR4ajrEZQhQFrWiwgWlCFATu9WfPyTIUBqkqtnfsUhQNKvpDSe3yFAjt7tP7ApIkDKYoEEvykiQHlLwQh3QyJA8pgY+eFxIkClEMqo7XEiQKcDlWfkcSJAne+TuOeLIkBSd6sUJ6YiQCD9j7Z/1CJACvMIea/pIkA/T7tnLQIjQKLA9seYGiNATFiLiJcaI0BIboXm7DMjQEU7cdzgMyNAst8gcvlNI0Bwm+Kx6H4jQMZK2vIQmSNATftaaamwI0AMQ0WZxbAjQNLtFOImySNAcihCIWP6I0BdnncwdBQkQCHTDiqoLCRAYSj2/MIsJEAC+ybGunkkQFi8ukC3eSRAbhgaAe2TJECVpYNr+ZMkQO4sN49YxSRA/GKA9LH2JEB24iU8ww4lQIYD21ZGJiVA+vRYul4mJUCu9b67bnIlQH7yxi6EuiVAJu8E6enOJUA6Mo3sBc8lQIZuoggbzyVAKwLtJNUAJkBqvCEOWRkmQAuTdGc4MCZAYrOeT8p2JkB7Mdt2MKYmQLrj0p3bvSZAiIjlMm0HJ0BG5TK6ox8nQCvEIwFeUCdASaXOTM5oJ0B5/rt4GbQnQMdIPLDbyydAYRorCS38J0BlruRnxkQoQEsmM8icXihAQk9bnbeoKEAVOZciiTMpQKsFTKlcTSlAkmfFHoZNKUBFB6FHVpQpQHW+Kj0VxSlA8JfwE+sLKkADPpfAlSUqQOqM3wt6tSpA0gi4QF/MKkCb0lDhYRUrQDX8mWazjCtAezYYC2m9K0B4ppHs7zAsQDvUFLqOjyxAq9pRmsgdLUCjJePWkcotQJXPg1RSEi5AKOZw8ymHLkA27B3dkOcuQCCSP8KkoS9Aqhh+V9ahL0B90yIKT+cvQA==",
          "dtype": "f8"
         },
         "y": {
          "bdata": "bZXkcO6vIkAOex1yqK8iQBIsObsWryJAgBqVWPDKIkBOylkQPwIjQOJG43mNOyNA5xvZpCU7I0C73uYmH1cjQE65nR7gdCNATmtLd6yPI0Dem3OiO48jQHpBAgltqiNAGKKhSQqqI0A+Q5aIqakjQJ7qSkqzxSNA6m/AE2rFI0DCji8wXeIjQKRj5bT2/CNAQzBDhLj8I0BcsqzpaPwjQO6beIkn/CNAfmhQm8X7I0AS2PSoyzIkQLzI2MHITyRAk7ttjOajJECU6o3Zt6MkQI5JdJQuwSRAlzjtafb2JEAPXb7YyfYkQMBw3nqG9iRAUuTo1N4TJUDSwk9lJDElQOIyYBNiZiVAhP4MbS+AJUA/WFaR45slQFsCaEABtyVAe9hDfs22JUCicd6NONQlQNCbH/z80yVA8jByM1PxJUB1mG2yLykmQBqTpp5dRiZAdOHtjXpgJkBz43BMbmAmQAc2CvZieyZAeuaw2s2yJkCakW9Q4c8mQIMIeTQV6yZAQE5imgvrJkAtA4DVkkEnQIbJm1dnQSdAiHtpNbdeJ0AEAJGin14nQPLXlciSlidAJl5+mBXOJ0DpJ8r7/egnQPFonBCVAyhA4WobCY4DKEDa026W1lgoQPofQPiJqihAehKIApbCKECQuEfqlcIoQIBfoEGOwihAJd9AWSH6KEAS2WFTmBUpQEMxP7LgLylAxzMoSTZ/KUBjyuKR6LQpQAWyoZ3XzylAk3Xf5jUkKkAyxrQ7hT8qQOBz6uJLdipAraBuVLWRKkAO5G2DnOUqQD6jCLMJACtAhiGAKsU1K0CLM0yBd4YrQE6hwGweoytAMFtgmbz2K0BY2iqXVJUsQA6QWODIsSxA/ZIrI+KxLEBzielT4QEtQDAkLwENOS1A1kZCUhOJLUAzQZmyuqUtQM6E/uD+SC5AVmaRErRiLkBm7QiCQLQuQHapRgaHOi9AsjiwMG5xL0CKKxbmI/QvQB2nlWkKLzBAFkkypRV/MECm7EkLXt8wQBtXBcW+BzFAqJryRjNJMUAKuXnvU38xQCrlsabZ5zFA/0PGcu/nMUBlqv1/1A4yQA==",
          "dtype": "f8"
         }
        },
        {
         "customdata": {
          "bdata": "AAAAAAAAAAB7FK5H4XqEP3sUrkfhepQ/uB6F61G4nj97FK5H4XqkP5qZmZmZmak/uB6F61G4rj/sUbgeheuxP3sUrkfherQ/CtejcD0Ktz+amZmZmZm5Pylcj8L1KLw/uB6F61G4vj+kcD0K16PAP+xRuB6F68E/MzMzMzMzwz97FK5H4XrEP8P1KFyPwsU/CtejcD0Kxz9SuB6F61HIP5qZmZmZmck/4XoUrkfhyj8pXI/C9SjMP3E9CtejcM0/uB6F61G4zj8AAAAAAADQP6RwPQrXo9A/SOF6FK5H0T/sUbgehevRP4/C9Shcj9I/MzMzMzMz0z/Xo3A9CtfTP3sUrkfhetQ/H4XrUbge1T/D9Shcj8LVP2ZmZmZmZtY/CtejcD0K1z+uR+F6FK7XP1K4HoXrUdg/9ihcj8L12D+amZmZmZnZPz0K16NwPdo/4XoUrkfh2j+F61G4HoXbPylcj8L1KNw/zczMzMzM3D9xPQrXo3DdPxSuR+F6FN4/uB6F61G43j9cj8L1KFzfPwAAAAAAAOA/UrgehetR4D+kcD0K16PgP/YoXI/C9eA/SOF6FK5H4T+amZmZmZnhP+xRuB6F6+E/PQrXo3A94j+PwvUoXI/iP+F6FK5H4eI/MzMzMzMz4z+F61G4HoXjP9ejcD0K1+M/KVyPwvUo5D97FK5H4XrkP83MzMzMzOQ/H4XrUbge5T9xPQrXo3DlP8P1KFyPwuU/FK5H4XoU5j9mZmZmZmbmP7gehetRuOY/CtejcD0K5z9cj8L1KFznP65H4XoUruc/AAAAAAAA6D9SuB6F61HoP6RwPQrXo+g/9ihcj8L16D9I4XoUrkfpP5qZmZmZmek/7FG4HoXr6T89CtejcD3qP4/C9Shcj+o/4XoUrkfh6j8zMzMzMzPrP4XrUbgehes/16NwPQrX6z8pXI/C9SjsP3sUrkfheuw/zczMzMzM7D8fhetRuB7tP3E9CtejcO0/w/UoXI/C7T8UrkfhehTuP2ZmZmZmZu4/uB6F61G47j8K16NwPQrvP1yPwvUoXO8/rkfhehSu7z8AAAAAAADwPw==",
          "dtype": "f8"
         },
         "hovertemplate": "consistency: %{x}<br>robustness: %{y}<br>beta: %{customdata}",
         "marker": {
          "color": "#00CC96",
          "size": 5,
          "symbol": "star"
         },
         "mode": "markers+lines",
         "name": "$\\hat\\theta_2 (ROAR)$",
         "type": "scatter",
         "x": {
          "bdata": "Gt5ZqhZi+z+Lj0QAytX8P/MnvbKJo/0/ZT9CtD+i/T87dLbdWmX+P9CvcWWyJ/8/NnWTzLtfAEDDa6AU/r8AQOCC9ZmcfgFAW+xEunt+AUByNttxXkkCQJTLBEH9SAJAOfZDMQ5JAkA9fC9Vx0gCQBSeNRmjSAJA1PHJAi5IAkCOznJEkAQDQNMD/SNQBANA4l8WHxsEA0CziuUE/V4DQNrXdd0/hgRASlJvgz/lBEC7bVrDIj4FQJZW48QWPgVA3ZhPyuQIBkCld0e9zggGQD4V6jZQLgdAMwopk0eKB0B6//t8VooHQEWNm5RkRQhAVsH1/x7GCUC9TU5Mxz0LQMI1Cnlj8AtAcyVYXXvwC0CoD6HGQ/ALQNt+DvAzew1A4LZUHfk4DkB+wb8ZCpcOQI3hOq3RuA9AcHEh79O4D0BzsuYGwrgPQOJBRP2qlRBAQ0m1pbt+EUBALZdEyTQSQGziDK3aNBJA+T+3fLxPE0Dox3+3iH4TQDhtE7porBNA4CwMils6FEAFoBnyb1cVQO2zlrAnuRVAa1UTSgbtFUBS8rb1TR0WQOqNvZPTqhZANgbShI4wF0AouDZMfJMXQJTtwUM87BdAkhPktRdSGECFShMAsN0YQNn/e+tobxlAGocV0ecnGkCAErqGCigaQH3aPBb7GBtACl0jCCEBHEBLNUKT+locQH2RsZJx6BxAsPRIjGXYHUBayodeKwYeQJ02w/TbNB5Ac27vDuDDHkDd0G4ZToAfQF6Y2CWMBSBAP8KI1ZkzIEAmJn/Q9XcgQE1GI+dmpCBAeQOYYc3/IEB7B9lViG4hQPxiqFbDxyFAKhqGW7wNIkD1IaT9BCciQGQvD1Y/ViJAt6B0BZqfIkBCMqqoqbYiQIpSbeWWKCNAX3gfSJrPI0AiSXOKYCskQMyCzo6f5CRA6WCps8RYJkA/uLrMX0MnQBha+BhNtyhAspQs67zNKUAuo4qHELAqQPXNZtpx8ypAs+Sb5Y2rK0BjxeDQGgssQKKF38sJfixA0PMwDSXvLEB6UQcqMDQtQI3s2oVK5y1AkDyzIHXnLUC9AM6yIyouQA==",
          "dtype": "f8"
         },
         "y": {
          "bdata": "dyrcYp7WAECEaUsatbkBQNxsi39pNAJAPvxDpmgyAkB9b5iY9aUCQD4alcaRHQNALF8aOEYSBECtLr9yGIUEQOPJ/m1ybgVAEJaEuydtBUAprPo+iGEGQEzd8a76XwZAN5ptzPleBkB0IO8Jk10GQGMPd7lXXAZAPpMKob9aBkCRTSW81UEHQK6AnsaDQAdAhmjI9UA/B0DOM18uO60HQDCGRDu8EwlADVFEjBGGCUA2LLihlPUJQA68gEKa9AlAikyZGbnnCkBbwPsBs+YKQI6ByflBSwxABhr6Z7e8DEAFHyJh67sMQI2pAxjvng1ApYiK4k90D0DQkhhbNKAQQCrtHuEDEBFAWdTMAa4PEUBPkYYwJg8RQDJPOOOr/BFATWNg9mZuEkC2QzNHrqYSQAUCO+6TVBNAuWiUajZUE0CmCJnny1MTQFhCovpxMxRA5pbZlgNOFUAiEBNdJS4WQFbW0N7lLRZA1dHkXx6CF0D6nhJME7oXQIeqHUAq8RdAejV2ZMibGECN4HZ8PfQZQHBa3BVRaBpANbKmeGmlGkAqpspved4aQLsTTyFohxtAdUh0bDsrHED6+FBQ16AcQK1MK7vIDR1AmN1BxV+GHUBqrW2jWS0eQIYUDjp92h5Arlj3VLG+H0C+R3lemr4fQBsaenLxbyBAIgOBW2D8IEC1cMZdajMhQB6qbEFkhyFAOTuC9TwWIkCCFD0FbTEiQKv/bM4YTSJAwMynTcGhIkB9I2kd0xIjQDqqZcIXaCNAdKqSl7eeI0D7Wl2wOfMjQGPrkrfyKCRABp5ccZaXJEB2IF8moR8lQLMqKIm1jCVAkwEIEhzgJUCcnr4nnv0lQL/Io36MNSZAS6AMPdeLJkAnJ28RBKcmQI7ZPmZGLydA6N+0JbD0J0Auk3JLNmIoQGX/MX6ZPSlAy9nSofT0KkAw0QhPnggsQFUkb2HLvC1AfQBXjEcDL0Bzpsb8ZgYwQINDQlPNLTBA04dreMCZMECDnm9ze9EwQOrOJjrGFDFAKI1BG/tWMUBcNmK5Un8xQApQbqfi5zFAWqa7DvfnMUBlqv1/1A4yQA==",
          "dtype": "f8"
         }
        },
        {
         "customdata": {
          "bdata": "AAAAAAAAAAB7FK5H4XqEP3sUrkfhepQ/uB6F61G4nj97FK5H4XqkP5qZmZmZmak/uB6F61G4rj/sUbgeheuxP3sUrkfherQ/CtejcD0Ktz+amZmZmZm5Pylcj8L1KLw/uB6F61G4vj+kcD0K16PAP+xRuB6F68E/MzMzMzMzwz97FK5H4XrEP8P1KFyPwsU/CtejcD0Kxz9SuB6F61HIP5qZmZmZmck/4XoUrkfhyj8pXI/C9SjMP3E9CtejcM0/uB6F61G4zj8AAAAAAADQP6RwPQrXo9A/SOF6FK5H0T/sUbgehevRP4/C9Shcj9I/MzMzMzMz0z/Xo3A9CtfTP3sUrkfhetQ/H4XrUbge1T/D9Shcj8LVP2ZmZmZmZtY/CtejcD0K1z+uR+F6FK7XP1K4HoXrUdg/9ihcj8L12D+amZmZmZnZPz0K16NwPdo/4XoUrkfh2j+F61G4HoXbPylcj8L1KNw/zczMzMzM3D9xPQrXo3DdPxSuR+F6FN4/uB6F61G43j9cj8L1KFzfPwAAAAAAAOA/UrgehetR4D+kcD0K16PgP/YoXI/C9eA/SOF6FK5H4T+amZmZmZnhP+xRuB6F6+E/PQrXo3A94j+PwvUoXI/iP+F6FK5H4eI/MzMzMzMz4z+F61G4HoXjP9ejcD0K1+M/KVyPwvUo5D97FK5H4XrkP83MzMzMzOQ/H4XrUbge5T9xPQrXo3DlP8P1KFyPwuU/FK5H4XoU5j9mZmZmZmbmP7gehetRuOY/CtejcD0K5z9cj8L1KFznP65H4XoUruc/AAAAAAAA6D9SuB6F61HoP6RwPQrXo+g/9ihcj8L16D9I4XoUrkfpP5qZmZmZmek/7FG4HoXr6T89CtejcD3qP4/C9Shcj+o/4XoUrkfh6j8zMzMzMzPrP4XrUbgehes/16NwPQrX6z8pXI/C9SjsP3sUrkfheuw/zczMzMzM7D8fhetRuB7tP3E9CtejcO0/w/UoXI/C7T8UrkfhehTuP2ZmZmZmZu4/uB6F61G47j8K16NwPQrvP1yPwvUoXO8/rkfhehSu7z8AAAAAAADwPw==",
          "dtype": "f8"
         },
         "hovertemplate": "consistency: %{x}<br>robustness: %{y}<br>beta: %{customdata}",
         "marker": {
          "color": "#AB63FA",
          "size": 5,
          "symbol": "star"
         },
         "mode": "markers+lines",
         "name": "$\\hat\\theta_3 (ROAR)$",
         "type": "scatter",
         "x": {
          "bdata": "98vQ1VczKEB6/k9PDTMoQIqJmK56TShABXGSww9oKEDEdQeL7mcoQICsm5WmZyhAQ0HBXAOBKEAzvwXIXbYoQKc3b0g6tihAR25FqwG2KEDCmjZhxtAoQKi4fhdH6ihA2xmqhSXqKEAXgA1UHuooQM4EiYb86ShALiKTpPfpKEAccKyF9gQpQGcn4YedHylAsHZh7bAfKUDitjC8qB8pQCCElGcmOSlAhK9TOio5KUB6Uj4vZFEpQOiFjqeXbClABqNmp6lsKUDW9QHpl4cpQIOttNyqhylActRhSsWHKUBOOwz53ocpQBY059h5oilAxsoUCiu4KUAAbNBNR9EpQFao4x1Y0SlAAx1i3H7RKUD76xFX9OopQCuUGknCAypAUDATl/EDKkAmEppBGAQqQNuZY/ycHCpAUxMKEb8cKkAWQ8L53BwqQAYr4tD9HCpAvpaAZi0dKkDS9et0JlAqQIP26a8VaSpAIAXQSkdpKkBi8Xp7MJoqQGbh/O0vsypAYMqWNG2zKkDT/u+q9c0qQCaLlMVOzipABvh62m/OKkBojPTyoecqQDZVl+zR5ypASGKwSW1NK0BVQEYCn00rQHahDnrgTStASkUNQAJOK0ByZN9vlmgrQAV4yJbCmytAg5bWewa1K0CaLih1L7UrQG42b49KzStA/SklAYHNK0CtmBb07/8rQE0GHTL3SSxA4wOv2pSVLEBiDUiE7JUsQJCQ96bXxixAc+00Ex/fLEBte9uVV98sQIhE7RRG9yxAw0Fy0IH3LEBm1AT4pfcsQFtVgInCQi1AcDK6VvCRLUBTNPK9JZItQJUf/jbv9i1Aui+bpSv3LUCWLRmhXyYuQNa5Px/oPS5Ae0npzSVyLkCQiopxP3IuQMP3MHM1ii5Am80uNmaKLkCCtlsKv/EuQGq5hrj88S5ARkDgY1sML0A7Miojkz4vQCJFLqXePi9A9ZBbTKpWL0CdUIIov4gvQJKmQ1bziC9Ac4cp6pABMECGxtb84A0wQPpFpcHTQDBAGg9p2ymMMEDUcgni0rswQKbrayDvxzBAMutqjA7IMEDWZHiHWuwwQA==",
          "dtype": "f8"
         },
         "y": {
          "bdata": "rZCJtTkfKkCmwBTWHR0qQL1qbBBvNypA7SPp2/1RKkD7L6J8DFAqQBK62wz1TSpAomMB5jlnKkBq8xV+YJ4qQCWk2dpwnCpAQkSygm+aKkDCCpANJbUqQDUY/BSOzipAqromTqzMKkBTHWTV5coqQGhuOvsKySpA482EiU/HKkDelZCgfeIqQF1WDq+2/CpAy4GYhSP7KkA4p+4Nf/kqQA1sBKPQEitAHcUQpUYRK0BYOLbYtikrQBK0t4MmRStAe35jncFDK0Cg6AD2Nl8rQEuqK6zjXStAipd2fZ9cK0BQFQQiYFsrQFaJ1ZY0ditAahL2z6WMK0AgQgNwfaYrQD2a0r1fpStAinD9il+kK0Dwm0qwWr4rQAKZgfXp1ytA8LspaQjXK0CwnU8BJNYrQMZchEw27ytAFjFB8FnuK0BqNw1Kfu0rQNX76Zmt7CtA3dmoxfDrK0AzppfKlyEsQDtGdtZBOyxA/gRi+5U6LECY1bFoLm4sQC3Kkxb7hyxAtViFH2+HLECYWutFF6MsQGvaE12voixAiPC3hxOiLECIdg1Ra7wsQAMgAqzpuyxAU4p5iB0oLUAAHhG3oyctQNWYVr8/Jy1Ale339b0mLUBSwLo/uUItQPoRLtM5eS1AkAE/VIeTLUAqiP81HJMtQNs+58SXrC1AblAh4kGsLUDik957JuItQNK8WbVHMS5AYGzEOH6BLkDS6qt9WYEuQD6bCISRtS5ANi5COgLPLkAWGQFSxc4uQNJ1T6q+5y5AXcxBHornLkD9TJAHQOcuQMqSbt94Ny9AHemf1cWLL0Alg0hSlYsvQBagHYXk9y9AiNGMvsL3L0Ae8bPhNhUwQFgAofJtITBAzX0QgFs9MEC6HQ23PD0wQJbj7xsWSjBAGFQSAwVKMECSCpP/AIEwQEPyBSb4gDBA9g/ecgCPMEBuvJKky6kwQA6sPzvNqTBAL2pBRI+2MEC4UCKeUdEwQAifXtRI0TBA+tPtM1ETMUDfTHgvcCAxQNbHxxF8VzFAzSbp0QOoMUAyxrPl8toxQGY+S18A6DFAx+i7xgToMUBlqv1/1A4yQA==",
          "dtype": "f8"
         }
        },
        {
         "customdata": {
          "bdata": "AAAAAAAAAAB7FK5H4XqEP3sUrkfhepQ/uB6F61G4nj97FK5H4XqkP5qZmZmZmak/uB6F61G4rj/sUbgeheuxP3sUrkfherQ/CtejcD0Ktz+amZmZmZm5Pylcj8L1KLw/uB6F61G4vj+kcD0K16PAP+xRuB6F68E/MzMzMzMzwz97FK5H4XrEP8P1KFyPwsU/CtejcD0Kxz9SuB6F61HIP5qZmZmZmck/4XoUrkfhyj8pXI/C9SjMP3E9CtejcM0/uB6F61G4zj8AAAAAAADQP6RwPQrXo9A/SOF6FK5H0T/sUbgehevRP4/C9Shcj9I/MzMzMzMz0z/Xo3A9CtfTP3sUrkfhetQ/H4XrUbge1T/D9Shcj8LVP2ZmZmZmZtY/CtejcD0K1z+uR+F6FK7XP1K4HoXrUdg/9ihcj8L12D+amZmZmZnZPz0K16NwPdo/4XoUrkfh2j+F61G4HoXbPylcj8L1KNw/zczMzMzM3D9xPQrXo3DdPxSuR+F6FN4/uB6F61G43j9cj8L1KFzfPwAAAAAAAOA/UrgehetR4D+kcD0K16PgP/YoXI/C9eA/SOF6FK5H4T+amZmZmZnhP+xRuB6F6+E/PQrXo3A94j+PwvUoXI/iP+F6FK5H4eI/MzMzMzMz4z+F61G4HoXjP9ejcD0K1+M/KVyPwvUo5D97FK5H4XrkP83MzMzMzOQ/H4XrUbge5T9xPQrXo3DlP8P1KFyPwuU/FK5H4XoU5j9mZmZmZmbmP7gehetRuOY/CtejcD0K5z9cj8L1KFznP65H4XoUruc/AAAAAAAA6D9SuB6F61HoP6RwPQrXo+g/9ihcj8L16D9I4XoUrkfpP5qZmZmZmek/7FG4HoXr6T89CtejcD3qP4/C9Shcj+o/4XoUrkfh6j8zMzMzMzPrP4XrUbgehes/16NwPQrX6z8pXI/C9SjsP3sUrkfheuw/zczMzMzM7D8fhetRuB7tP3E9CtejcO0/w/UoXI/C7T8UrkfhehTuP2ZmZmZmZu4/uB6F61G47j8K16NwPQrvP1yPwvUoXO8/rkfhehSu7z8AAAAAAADwPw==",
          "dtype": "f8"
         },
         "hovertemplate": "consistency: %{x}<br>robustness: %{y}<br>beta: %{customdata}",
         "marker": {
          "color": "#FFA15A",
          "size": 5,
          "symbol": "star"
         },
         "mode": "markers+lines",
         "name": "$\\hat\\theta_4 (ROAR)$",
         "type": "scatter",
         "x": {
          "bdata": "rr7Z5xhLLkD6QkS08EouQO0Bl323Si5AHejku5ZlLkCw3ASIXWUuQEpnHPoPfi5AsqDYbAOZLkDo5I4Z+5guQBicJU28mC5AAk4cB6KYLkCtqujtiZguQM3urQVTyy5AbW82uDXLLkCG5YZuA8suQKIhe8Ky4y5A+92Y/qHjLkBYMFEl4/wuQN0vDSjR/C5ATXw7Bs78LkDalK5jvfwuQIqSKpXR/C5AZdr2rqf8LkBL8JHwUBUvQCUlMQVKFS9AyM9NXfAtL0Ad8YX1Ay4vQNLHji7WRi9ALf66e8dGL0B22rqL7EYvQMD2Y2XtRi9Awsqi4fdGL0AKx6PZDEcvQJssqgY2Ry9Azdr+zT1HL0CS/2OXWkcvQALSI9ZwRy9AoqmeomNHL0CDW0mwUGEvQOAoHJlIYS9Aw2yeEH5hL0BYNzrZGXsvQNKgEE83li9AltfBA2OWL0A6+FbceZYvQHu22VGlli9A4N9W8LOWL0DiKhFD1ZYvQK5u0+jqli9AtS/LUV2yL0B4aNScxc0vQGMk7LUx6S9Auo2RgEzpL0DZ6Yo4KAIwQJ0Hii9GAjBADepp4cQOMEB2S0CTMBswQICQaJm0KDBAo/HeGMUoMEC9ifkg5ygwQIt+tNfqKDBA4HBDOuQ0MEAr4FWukUIwQNViu9CjQjBAKn87DFFQMEDNBuQPZlAwQPxqoazcXTBAQ/C6tOddMEBmRckf+l0wQAEsHKxqajBAWpDN1oBqMEChyXMbhJIwQORQyAmhkjBAvlULQHmfMEDTBXeTeZ8wQAgr8QyRnzBAOjEQma+fMEAi+GFuFbkwQCIFPU4euTBAdGGgb0a5MEDu+orzTLkwQFIyYc6UxjBAjvzK0DDgMECAf7qcOeAwQOVIdGFN4DBAlrWJq3DgMEC+Sk5vgOAwQO3SsU5i+zBA9jfYw5MHMUBIHgWf+y0xQJlWGQLtRjFAAsB+i05UMUBJUqjUaFQxQNUk2X0IbTFAo9ZdaR5tMUD+2c92M20xQAte5j9MbTFAL7RgrFltMUCv+DmZbm0xQMCjl0x4bTFAIMWOnuKFMUCrumCsNJMxQA==",
          "dtype": "f8"
         },
         "y": {
          "bdata": "O88RrDdkL0CYqDBcu2IvQKt/74QvYS9AkyxDV1R7L0DaBy1eyXkvQP3ujxPCkS9AYh3YFRmsL0Ab1BvfxaovQDMnN508qS9AZeRVUtinL0CaXlHBeKYvQDalOXkh2S9AbXI19sLXL0B7zP2mUtYvQADrvddo7i9Ao5dU1CDtL0C/2lGY8QIwQCqkAHlQAjBAUj8vVbgBMEBtNNp+HAEwQB39idmUADBAQKAh1N7/L0AAuo6C8wswQHqCcFBkCzBAU2zK+3cXMEBOhOo6+xYwQIIMN907IzBAroV5CrIiMEDTlaD/RCIwQBDwYEDIITBAisaOEVIhMEBqnbfc4yAwQH2jUpiBIDBAyRtofhEgMEB/mf74rR8wQK12FJdIHzBAYqtQbtQeMECqgYmpuSswQKLhiCxMKzBAAkLDFQArMEDric8RujcwQMbSb/5BRTBAseATavdEMEAs0dz7pEQwQO9/r8pdRDBAa1M82QpEMECtF7LRwkMwQEV5EO92QzBApVL03z9RMEDGSXBwCl8wQDjwYInZbDBAy99MXphsMEBSTCgDMHowQKdtsYMBejBAWloc0ZGGMEAqhZUuCJMwQMZMsQqooDBA4AbxV3OgMEAPeiJhUqAwQGYXIFEToDBACiy40BysMEBslLhG87kwQL89OErHuTBA1hsqAZ/HMECgQuIfeccwQGTZhwgb1TBAj86kNe7UMEA6MBhGydQwQBal+ixl4TBA21L2MEbhMEClcd99QQoxQKYe3v0sCjFAfM8DRj0XMUB2IqfFDRcxQLgJwa/2FjFAGtAPj+cWMUD4JUSy7zAxQNbCsyzNMDFANjMbX8kwMUA8IMkQpjAxQDWME7UtPjFA0h2wLHRYMUB4EXOaVVgxQLWvTCdCWDFArd2KBj9YMUDDtKkPKVgxQEOg0abGczFArac9RjmAMUDMFdeFvqcxQDt6SrZfwTFAeezb1AzPMUBn8DooBs8xQACExLxS6DFAsWOCuUjoMUC0hga7PugxQMqEJQ856DFA3gxZeSjoMUBwADsuH+gxQMR2kNUL6DFAvjdVOywBMkBlqv1/1A4yQA==",
          "dtype": "f8"
         }
        }
       ],
       "layout": {
        "height": 540,
        "legend": {
         "bgcolor": "rgba(255, 255, 255, 0.7)",
         "bordercolor": "lightgrey",
         "borderwidth": 1,
         "entrywidth": 0.1,
         "entrywidthmode": "pixels",
         "font": {
          "color": "black",
          "family": "Times New Roman",
          "size": 15
         },
         "x": 0.975,
         "xanchor": "right",
         "y": 0.975
        },
        "margin": {
         "b": 0,
         "l": 1,
         "r": 5,
         "t": 5
        },
        "paper_bgcolor": "white",
        "plot_bgcolor": "white",
        "template": {
         "data": {
          "bar": [
           {
            "error_x": {
             "color": "#2a3f5f"
            },
            "error_y": {
             "color": "#2a3f5f"
            },
            "marker": {
             "line": {
              "color": "#E5ECF6",
              "width": 0.5
             },
             "pattern": {
              "fillmode": "overlay",
              "size": 10,
              "solidity": 0.2
             }
            },
            "type": "bar"
           }
          ],
          "barpolar": [
           {
            "marker": {
             "line": {
              "color": "#E5ECF6",
              "width": 0.5
             },
             "pattern": {
              "fillmode": "overlay",
              "size": 10,
              "solidity": 0.2
             }
            },
            "type": "barpolar"
           }
          ],
          "carpet": [
           {
            "aaxis": {
             "endlinecolor": "#2a3f5f",
             "gridcolor": "white",
             "linecolor": "white",
             "minorgridcolor": "white",
             "startlinecolor": "#2a3f5f"
            },
            "baxis": {
             "endlinecolor": "#2a3f5f",
             "gridcolor": "white",
             "linecolor": "white",
             "minorgridcolor": "white",
             "startlinecolor": "#2a3f5f"
            },
            "type": "carpet"
           }
          ],
          "choropleth": [
           {
            "colorbar": {
             "outlinewidth": 0,
             "ticks": ""
            },
            "type": "choropleth"
           }
          ],
          "contour": [
           {
            "colorbar": {
             "outlinewidth": 0,
             "ticks": ""
            },
            "colorscale": [
             [
              0,
              "#0d0887"
             ],
             [
              0.1111111111111111,
              "#46039f"
             ],
             [
              0.2222222222222222,
              "#7201a8"
             ],
             [
              0.3333333333333333,
              "#9c179e"
             ],
             [
              0.4444444444444444,
              "#bd3786"
             ],
             [
              0.5555555555555556,
              "#d8576b"
             ],
             [
              0.6666666666666666,
              "#ed7953"
             ],
             [
              0.7777777777777778,
              "#fb9f3a"
             ],
             [
              0.8888888888888888,
              "#fdca26"
             ],
             [
              1,
              "#f0f921"
             ]
            ],
            "type": "contour"
           }
          ],
          "contourcarpet": [
           {
            "colorbar": {
             "outlinewidth": 0,
             "ticks": ""
            },
            "type": "contourcarpet"
           }
          ],
          "heatmap": [
           {
            "colorbar": {
             "outlinewidth": 0,
             "ticks": ""
            },
            "colorscale": [
             [
              0,
              "#0d0887"
             ],
             [
              0.1111111111111111,
              "#46039f"
             ],
             [
              0.2222222222222222,
              "#7201a8"
             ],
             [
              0.3333333333333333,
              "#9c179e"
             ],
             [
              0.4444444444444444,
              "#bd3786"
             ],
             [
              0.5555555555555556,
              "#d8576b"
             ],
             [
              0.6666666666666666,
              "#ed7953"
             ],
             [
              0.7777777777777778,
              "#fb9f3a"
             ],
             [
              0.8888888888888888,
              "#fdca26"
             ],
             [
              1,
              "#f0f921"
             ]
            ],
            "type": "heatmap"
           }
          ],
          "histogram": [
           {
            "marker": {
             "pattern": {
              "fillmode": "overlay",
              "size": 10,
              "solidity": 0.2
             }
            },
            "type": "histogram"
           }
          ],
          "histogram2d": [
           {
            "colorbar": {
             "outlinewidth": 0,
             "ticks": ""
            },
            "colorscale": [
             [
              0,
              "#0d0887"
             ],
             [
              0.1111111111111111,
              "#46039f"
             ],
             [
              0.2222222222222222,
              "#7201a8"
             ],
             [
              0.3333333333333333,
              "#9c179e"
             ],
             [
              0.4444444444444444,
              "#bd3786"
             ],
             [
              0.5555555555555556,
              "#d8576b"
             ],
             [
              0.6666666666666666,
              "#ed7953"
             ],
             [
              0.7777777777777778,
              "#fb9f3a"
             ],
             [
              0.8888888888888888,
              "#fdca26"
             ],
             [
              1,
              "#f0f921"
             ]
            ],
            "type": "histogram2d"
           }
          ],
          "histogram2dcontour": [
           {
            "colorbar": {
             "outlinewidth": 0,
             "ticks": ""
            },
            "colorscale": [
             [
              0,
              "#0d0887"
             ],
             [
              0.1111111111111111,
              "#46039f"
             ],
             [
              0.2222222222222222,
              "#7201a8"
             ],
             [
              0.3333333333333333,
              "#9c179e"
             ],
             [
              0.4444444444444444,
              "#bd3786"
             ],
             [
              0.5555555555555556,
              "#d8576b"
             ],
             [
              0.6666666666666666,
              "#ed7953"
             ],
             [
              0.7777777777777778,
              "#fb9f3a"
             ],
             [
              0.8888888888888888,
              "#fdca26"
             ],
             [
              1,
              "#f0f921"
             ]
            ],
            "type": "histogram2dcontour"
           }
          ],
          "mesh3d": [
           {
            "colorbar": {
             "outlinewidth": 0,
             "ticks": ""
            },
            "type": "mesh3d"
           }
          ],
          "parcoords": [
           {
            "line": {
             "colorbar": {
              "outlinewidth": 0,
              "ticks": ""
             }
            },
            "type": "parcoords"
           }
          ],
          "pie": [
           {
            "automargin": true,
            "type": "pie"
           }
          ],
          "scatter": [
           {
            "fillpattern": {
             "fillmode": "overlay",
             "size": 10,
             "solidity": 0.2
            },
            "type": "scatter"
           }
          ],
          "scatter3d": [
           {
            "line": {
             "colorbar": {
              "outlinewidth": 0,
              "ticks": ""
             }
            },
            "marker": {
             "colorbar": {
              "outlinewidth": 0,
              "ticks": ""
             }
            },
            "type": "scatter3d"
           }
          ],
          "scattercarpet": [
           {
            "marker": {
             "colorbar": {
              "outlinewidth": 0,
              "ticks": ""
             }
            },
            "type": "scattercarpet"
           }
          ],
          "scattergeo": [
           {
            "marker": {
             "colorbar": {
              "outlinewidth": 0,
              "ticks": ""
             }
            },
            "type": "scattergeo"
           }
          ],
          "scattergl": [
           {
            "marker": {
             "colorbar": {
              "outlinewidth": 0,
              "ticks": ""
             }
            },
            "type": "scattergl"
           }
          ],
          "scattermap": [
           {
            "marker": {
             "colorbar": {
              "outlinewidth": 0,
              "ticks": ""
             }
            },
            "type": "scattermap"
           }
          ],
          "scattermapbox": [
           {
            "marker": {
             "colorbar": {
              "outlinewidth": 0,
              "ticks": ""
             }
            },
            "type": "scattermapbox"
           }
          ],
          "scatterpolar": [
           {
            "marker": {
             "colorbar": {
              "outlinewidth": 0,
              "ticks": ""
             }
            },
            "type": "scatterpolar"
           }
          ],
          "scatterpolargl": [
           {
            "marker": {
             "colorbar": {
              "outlinewidth": 0,
              "ticks": ""
             }
            },
            "type": "scatterpolargl"
           }
          ],
          "scatterternary": [
           {
            "marker": {
             "colorbar": {
              "outlinewidth": 0,
              "ticks": ""
             }
            },
            "type": "scatterternary"
           }
          ],
          "surface": [
           {
            "colorbar": {
             "outlinewidth": 0,
             "ticks": ""
            },
            "colorscale": [
             [
              0,
              "#0d0887"
             ],
             [
              0.1111111111111111,
              "#46039f"
             ],
             [
              0.2222222222222222,
              "#7201a8"
             ],
             [
              0.3333333333333333,
              "#9c179e"
             ],
             [
              0.4444444444444444,
              "#bd3786"
             ],
             [
              0.5555555555555556,
              "#d8576b"
             ],
             [
              0.6666666666666666,
              "#ed7953"
             ],
             [
              0.7777777777777778,
              "#fb9f3a"
             ],
             [
              0.8888888888888888,
              "#fdca26"
             ],
             [
              1,
              "#f0f921"
             ]
            ],
            "type": "surface"
           }
          ],
          "table": [
           {
            "cells": {
             "fill": {
              "color": "#EBF0F8"
             },
             "line": {
              "color": "white"
             }
            },
            "header": {
             "fill": {
              "color": "#C8D4E3"
             },
             "line": {
              "color": "white"
             }
            },
            "type": "table"
           }
          ]
         },
         "layout": {
          "annotationdefaults": {
           "arrowcolor": "#2a3f5f",
           "arrowhead": 0,
           "arrowwidth": 1
          },
          "autotypenumbers": "strict",
          "coloraxis": {
           "colorbar": {
            "outlinewidth": 0,
            "ticks": ""
           }
          },
          "colorscale": {
           "diverging": [
            [
             0,
             "#8e0152"
            ],
            [
             0.1,
             "#c51b7d"
            ],
            [
             0.2,
             "#de77ae"
            ],
            [
             0.3,
             "#f1b6da"
            ],
            [
             0.4,
             "#fde0ef"
            ],
            [
             0.5,
             "#f7f7f7"
            ],
            [
             0.6,
             "#e6f5d0"
            ],
            [
             0.7,
             "#b8e186"
            ],
            [
             0.8,
             "#7fbc41"
            ],
            [
             0.9,
             "#4d9221"
            ],
            [
             1,
             "#276419"
            ]
           ],
           "sequential": [
            [
             0,
             "#0d0887"
            ],
            [
             0.1111111111111111,
             "#46039f"
            ],
            [
             0.2222222222222222,
             "#7201a8"
            ],
            [
             0.3333333333333333,
             "#9c179e"
            ],
            [
             0.4444444444444444,
             "#bd3786"
            ],
            [
             0.5555555555555556,
             "#d8576b"
            ],
            [
             0.6666666666666666,
             "#ed7953"
            ],
            [
             0.7777777777777778,
             "#fb9f3a"
            ],
            [
             0.8888888888888888,
             "#fdca26"
            ],
            [
             1,
             "#f0f921"
            ]
           ],
           "sequentialminus": [
            [
             0,
             "#0d0887"
            ],
            [
             0.1111111111111111,
             "#46039f"
            ],
            [
             0.2222222222222222,
             "#7201a8"
            ],
            [
             0.3333333333333333,
             "#9c179e"
            ],
            [
             0.4444444444444444,
             "#bd3786"
            ],
            [
             0.5555555555555556,
             "#d8576b"
            ],
            [
             0.6666666666666666,
             "#ed7953"
            ],
            [
             0.7777777777777778,
             "#fb9f3a"
            ],
            [
             0.8888888888888888,
             "#fdca26"
            ],
            [
             1,
             "#f0f921"
            ]
           ]
          },
          "colorway": [
           "#636efa",
           "#EF553B",
           "#00cc96",
           "#ab63fa",
           "#FFA15A",
           "#19d3f3",
           "#FF6692",
           "#B6E880",
           "#FF97FF",
           "#FECB52"
          ],
          "font": {
           "color": "#2a3f5f"
          },
          "geo": {
           "bgcolor": "white",
           "lakecolor": "white",
           "landcolor": "#E5ECF6",
           "showlakes": true,
           "showland": true,
           "subunitcolor": "white"
          },
          "hoverlabel": {
           "align": "left"
          },
          "hovermode": "closest",
          "mapbox": {
           "style": "light"
          },
          "paper_bgcolor": "white",
          "plot_bgcolor": "#E5ECF6",
          "polar": {
           "angularaxis": {
            "gridcolor": "white",
            "linecolor": "white",
            "ticks": ""
           },
           "bgcolor": "#E5ECF6",
           "radialaxis": {
            "gridcolor": "white",
            "linecolor": "white",
            "ticks": ""
           }
          },
          "scene": {
           "xaxis": {
            "backgroundcolor": "#E5ECF6",
            "gridcolor": "white",
            "gridwidth": 2,
            "linecolor": "white",
            "showbackground": true,
            "ticks": "",
            "zerolinecolor": "white"
           },
           "yaxis": {
            "backgroundcolor": "#E5ECF6",
            "gridcolor": "white",
            "gridwidth": 2,
            "linecolor": "white",
            "showbackground": true,
            "ticks": "",
            "zerolinecolor": "white"
           },
           "zaxis": {
            "backgroundcolor": "#E5ECF6",
            "gridcolor": "white",
            "gridwidth": 2,
            "linecolor": "white",
            "showbackground": true,
            "ticks": "",
            "zerolinecolor": "white"
           }
          },
          "shapedefaults": {
           "line": {
            "color": "#2a3f5f"
           }
          },
          "ternary": {
           "aaxis": {
            "gridcolor": "white",
            "linecolor": "white",
            "ticks": ""
           },
           "baxis": {
            "gridcolor": "white",
            "linecolor": "white",
            "ticks": ""
           },
           "bgcolor": "#E5ECF6",
           "caxis": {
            "gridcolor": "white",
            "linecolor": "white",
            "ticks": ""
           }
          },
          "title": {
           "x": 0.05
          },
          "xaxis": {
           "automargin": true,
           "gridcolor": "white",
           "linecolor": "white",
           "ticks": "",
           "title": {
            "standoff": 15
           },
           "zerolinecolor": "white",
           "zerolinewidth": 2
          },
          "yaxis": {
           "automargin": true,
           "gridcolor": "white",
           "linecolor": "white",
           "ticks": "",
           "title": {
            "standoff": 15
           },
           "zerolinecolor": "white",
           "zerolinewidth": 2
          }
         }
        },
        "width": 720,
        "xaxis": {
         "gridcolor": "lightgrey",
         "linecolor": "black",
         "mirror": true,
         "showline": true,
         "tickfont": {
          "color": "black",
          "family": "Times New Roman",
          "size": 20
         },
         "title": {
          "font": {
           "color": "black",
           "family": "Times New Roman",
           "size": 25
          },
          "text": "Consistency"
         },
         "zerolinecolor": "lightgrey",
         "zerolinewidth": 1
        },
        "yaxis": {
         "gridcolor": "lightgrey",
         "linecolor": "black",
         "mirror": true,
         "showline": true,
         "tickfont": {
          "color": "black",
          "family": "Times New Roman",
          "size": 20
         },
         "title": {
          "font": {
           "color": "black",
           "family": "Times New Roman",
           "size": 25
          },
          "text": "Robustness"
         },
         "zerolinecolor": "lightgrey",
         "zerolinewidth": 1
        }
       }
      }
     },
     "metadata": {},
     "output_type": "display_data"
    }
   ],
   "source": [
    "colors = px.colors.qualitative.Plotly\n",
    "nc = len(colors)\n",
    "font_family = 'Times New Roman'\n",
    "font_color = 'black'\n",
    "width, height = 720, 540\n",
    "\n",
    "params = {\n",
    "    'ROAR': {\n",
    "        'name': 'ROAR',\n",
    "        'symbol': 'star',\n",
    "        'size': 5\n",
    "    },\n",
    "    'OPT': {\n",
    "        'name': 'Alg1',\n",
    "        'symbol': 'circle',\n",
    "        'size': 3\n",
    "    }\n",
    "}\n",
    "\n",
    "x_val = 'consistency'\n",
    "y_val = 'robustness'\n",
    "\n",
    "fig = go.Figure()\n",
    "for alg in df_im['alg'].unique():\n",
    "    for p in df_im['p'].unique():\n",
    "        df_alg = df_im[(df_im['p'] == p) & (df_im['alg'] == alg)]\n",
    "        mask = pareto_frontier(df_alg[y_val], df_alg[x_val])\n",
    "        # df_alg = df_alg.iloc[mask]\n",
    "        \n",
    "        t = '\\\\theta_{p}'.format(p=f'{int(p)}')\n",
    "        a = '{alg}'.format(alg=params[alg]['name'])\n",
    "        name = r'$\\hat{theta} ({a})$'.format(theta=t, a=params[alg]['name'])\n",
    "\n",
    "        fig.add_trace(go.Scatter(\n",
    "            x = df_alg[x_val],\n",
    "            y = df_alg[y_val],\n",
    "            marker = dict(color=colors[p], symbol=params[alg]['symbol'], size=params[alg]['size']),\n",
    "            mode = 'markers+lines',\n",
    "            name = name,\n",
    "            customdata=df_alg['beta'],\n",
    "            hovertemplate='consistency: %{x}<br>robustness: %{y}<br>beta: %{customdata}'\n",
    "        ))\n",
    "\n",
    "fig.update_xaxes(\n",
    "    title=dict(\n",
    "        text=x_val.capitalize(),\n",
    "        font=dict(\n",
    "            family=font_family,\n",
    "            color=font_color,\n",
    "            size=25\n",
    "        )\n",
    "        ), \n",
    "    showline=True, \n",
    "    mirror=True,\n",
    "    linecolor='black', \n",
    "    gridcolor='lightgrey', \n",
    "    zerolinewidth=1,\n",
    "    zerolinecolor='lightgrey',\n",
    "    )\n",
    "\n",
    "fig.update_yaxes(\n",
    "    title=dict(\n",
    "        text=y_val.capitalize(),\n",
    "        font=dict(\n",
    "            family=font_family,\n",
    "            color=font_color,\n",
    "            size=25\n",
    "        ), \n",
    "        ), \n",
    "    showline=True, \n",
    "    mirror=True,\n",
    "    linecolor='black', \n",
    "    gridcolor='lightgrey',\n",
    "    zerolinewidth=1,\n",
    "    zerolinecolor='lightgrey',\n",
    "    )\n",
    "\n",
    "fig.update_layout(\n",
    "    legend=dict(\n",
    "        # y=0.975, \n",
    "        # y=0.0255, \n",
    "        x=0.975, \n",
    "        y=0.975, \n",
    "        xanchor='right',\n",
    "        font=dict(\n",
    "            family=font_family,\n",
    "            color=font_color,\n",
    "            size=15\n",
    "            ), \n",
    "        bgcolor='rgba(255, 255, 255, 0.7)',\n",
    "        bordercolor='lightgrey',\n",
    "        borderwidth=1,\n",
    "        entrywidth=0.1,\n",
    "        entrywidthmode='pixels',\n",
    "        ),\n",
    "    margin=dict(t=5, b=0, l=1, r=5),\n",
    "    width=width,\n",
    "    height=height,\n",
    "    plot_bgcolor='white',\n",
    "    paper_bgcolor='white',\n",
    "    xaxis=dict(\n",
    "        tickfont=dict(\n",
    "            family=font_family,\n",
    "            color=font_color,\n",
    "            size=20,\n",
    "        ),\n",
    "    ),\n",
    "    yaxis=dict(\n",
    "        tickfont=dict(\n",
    "            family=font_family,\n",
    "            color=font_color,\n",
    "            size=20\n",
    "        )\n",
    "    )\n",
    "    )\n",
    "\n",
    "print(base_model.upper(), dataset.upper())\n",
    "fig.show()"
   ]
  },
  {
   "cell_type": "code",
   "execution_count": 28,
   "metadata": {},
   "outputs": [],
   "source": [
    "fig.write_image(f'../figures/rob_con_tradeoff/rob_con_{base_model}_{dataset}.pdf')"
   ]
  }
 ],
 "metadata": {
  "kernelspec": {
   "display_name": ".env",
   "language": "python",
   "name": "python3"
  },
  "language_info": {
   "codemirror_mode": {
    "name": "ipython",
    "version": 3
   },
   "file_extension": ".py",
   "mimetype": "text/x-python",
   "name": "python",
   "nbconvert_exporter": "python",
   "pygments_lexer": "ipython3",
   "version": "3.12.7"
  }
 },
 "nbformat": 4,
 "nbformat_minor": 2
}
