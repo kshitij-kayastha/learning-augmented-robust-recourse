{
 "cells": [
  {
   "cell_type": "code",
   "execution_count": 1,
   "metadata": {},
   "outputs": [],
   "source": [
    "import sys\n",
    "sys.path.append('..')"
   ]
  },
  {
   "cell_type": "code",
   "execution_count": 2,
   "metadata": {},
   "outputs": [],
   "source": [
    "import warnings\n",
    "import pandas as pd\n",
    "import plotly.express as px\n",
    "import plotly.graph_objects as go\n",
    "from plotly.subplots import make_subplots\n",
    "\n",
    "warnings.filterwarnings('ignore')"
   ]
  },
  {
   "cell_type": "code",
   "execution_count": 24,
   "metadata": {},
   "outputs": [],
   "source": [
    "dataset = 'synthetic'\n",
    "base_model = 'nn'\n",
    "algs = ['alg1', 'roar']\n",
    "seeds = range(5)\n",
    "\n",
    "df_results = pd.DataFrame()\n",
    "for alg in algs:\n",
    "    for seed in seeds:\n",
    "        df_results = pd.concat((df_results, pd.read_pickle(f'../results/smoothness/output/{base_model}_{dataset}_{alg}_{seed}.pkl')))"
   ]
  },
  {
   "cell_type": "code",
   "execution_count": 25,
   "metadata": {},
   "outputs": [],
   "source": [
    "df_agg = df_results.groupby(['alg', 'beta', 'p'], as_index=False).mean(True)\n",
    "df_im = df_agg.copy()"
   ]
  },
  {
   "cell_type": "code",
   "execution_count": 26,
   "metadata": {},
   "outputs": [
    {
     "name": "stdout",
     "output_type": "stream",
     "text": [
      "NN SYNTHETIC\n"
     ]
    },
    {
     "data": {
      "application/vnd.plotly.v1+json": {
       "config": {
        "plotlyServerURL": "https://plot.ly"
       },
       "data": [
        {
         "hovertemplate": "Cost: %{x}<br>Validity: %{y}",
         "marker": {
          "color": "#FF97FF",
          "size": 5,
          "symbol": "circle"
         },
         "mode": "lines+markers",
         "name": "$\\hat\\theta_s-2\\epsilon$       ",
         "showlegend": true,
         "type": "scatter",
         "x": {
          "bdata": "AAAAAAAAAAB7FK5H4XqEP3sUrkfhepQ/uB6F61G4nj97FK5H4XqkP5qZmZmZmak/uB6F61G4rj/sUbgeheuxP3sUrkfherQ/CtejcD0Ktz+amZmZmZm5Pylcj8L1KLw/uB6F61G4vj+kcD0K16PAP+xRuB6F68E/MzMzMzMzwz97FK5H4XrEP8P1KFyPwsU/CtejcD0Kxz9SuB6F61HIP5qZmZmZmck/4XoUrkfhyj8pXI/C9SjMP3E9CtejcM0/uB6F61G4zj8AAAAAAADQP6RwPQrXo9A/SOF6FK5H0T/sUbgehevRP4/C9Shcj9I/MzMzMzMz0z/Xo3A9CtfTP3sUrkfhetQ/H4XrUbge1T/D9Shcj8LVP2ZmZmZmZtY/CtejcD0K1z+uR+F6FK7XP1K4HoXrUdg/9ihcj8L12D+amZmZmZnZPz0K16NwPdo/4XoUrkfh2j+F61G4HoXbPylcj8L1KNw/zczMzMzM3D9xPQrXo3DdPxSuR+F6FN4/uB6F61G43j9cj8L1KFzfPwAAAAAAAOA/UrgehetR4D+kcD0K16PgP/YoXI/C9eA/SOF6FK5H4T+amZmZmZnhP+xRuB6F6+E/PQrXo3A94j+PwvUoXI/iP+F6FK5H4eI/MzMzMzMz4z+F61G4HoXjP9ejcD0K1+M/KVyPwvUo5D97FK5H4XrkP83MzMzMzOQ/H4XrUbge5T9xPQrXo3DlP8P1KFyPwuU/FK5H4XoU5j9mZmZmZmbmP7gehetRuOY/CtejcD0K5z9cj8L1KFznP65H4XoUruc/AAAAAAAA6D9SuB6F61HoP6RwPQrXo+g/9ihcj8L16D9I4XoUrkfpP5qZmZmZmek/7FG4HoXr6T89CtejcD3qP4/C9Shcj+o/4XoUrkfh6j8zMzMzMzPrP4XrUbgehes/16NwPQrX6z8pXI/C9SjsP3sUrkfheuw/zczMzMzM7D8fhetRuB7tP3E9CtejcO0/w/UoXI/C7T8UrkfhehTuP2ZmZmZmZu4/uB6F61G47j8K16NwPQrvP1yPwvUoXO8/rkfhehSu7z8AAAAAAADwPw==",
          "dtype": "f8"
         },
         "xaxis": "x",
         "y": {
          "bdata": "Or71CL1Miz+isUSmikqSPx7EkY83G5U/Uo3rEOPXlz+7xeDtQzubP9aveqwGTZ0/tCSSOFWXoD/nF5DcxneiP6N3SUOGbaQ/rE3iBpcYpj/ZaDQo5L2nP83d6ck/8qg/YALFTW7Xqj+1rslfj/yrP90/ZM7BDa0/a6/4SWcFrj9F17byXNGuP6q3nhulW68/XRMcn3+Trz8qCoFGjumvP/Pm024pHrA/E31JeOhBsD+17ZG35mKwP5ZzCjKeb7A/0bGMfSiLsD8qXJO5v6uwPyNH9LQat7A/G94/6r7IsD+esRo6DdewP0MV9oZS3bA/QxX2hlLdsD9DFfaGUt2wP3qDf4Q+6bA/eoN/hD7psD96g3+EPumwP0Wqr8oF7rA/RaqvygXusD9Fqq/KBe6wP0Wqr8oF7rA/RaqvygXusD9Fqq/KBe6wP0Wqr8oF7rA/IgS1tDjzsD/tzx0qWviwP+3PHSpa+LA/7c8dKlr4sD/SJHzXUv2wP9IkfNdS/bA/0iR811L9sD/SJHzXUv2wP9IkfNdS/bA/wleMzU8CsT+DMHqRTwexP4MwepFPB7E/gzB6kU8HsT+DMHqRTwexP4MwepFPB7E/gzB6kU8HsT+DMHqRTwexP4MwepFPB7E/gzB6kU8HsT+DMHqRTwexP4MwepFPB7E/gzB6kU8HsT9QBazZzAyxP6T0S3i1EbE/1lp2AZ8WsT/WWnYBnxaxP9MnPrgRHLE/lb+GZQMhsT+Vv4ZlAyGxP5W/hmUDIbE/+jGlJGEmsT/26BIQzzCxP0MaUxVCNrE/8pV6+vZFsT/ylXr69kWxP/KVevr2RbE/8pV6+vZFsT/ylXr69kWxP/KVevr2RbE/8pV6+vZFsT/ylXr69kWxP23Q3kyMS7E/bdDeTIxLsT9t0N5MjEuxP23Q3kyMS7E/bdDeTIxLsT8zMUOZh1CxPzMxQ5mHULE/TpK0OHBVsT9OkrQ4cFWxP06StDhwVbE/TpK0OHBVsT9OkrQ4cFWxPyTlUtyHWrE/JOVS3IdasT8k5VLch1qxP4ZzAP6RX7E/hnMA/pFfsT+zeR+o+RmxPw==",
          "dtype": "f8"
         },
         "yaxis": "y"
        },
        {
         "hovertemplate": "Cost: %{x}<br>Validity: %{y}",
         "marker": {
          "color": "#FF97FF",
          "size": 5,
          "symbol": "circle"
         },
         "mode": "lines+markers",
         "name": "$\\hat\\theta_s-2\\epsilon$       ",
         "showlegend": false,
         "type": "scatter",
         "x": {
          "bdata": "AAAAAAAAAACamZmZmZnJP5qZmZmZmdk/mpmZmZmZ6T8AAAAAAADwPw==",
          "dtype": "f8"
         },
         "xaxis": "x2",
         "y": {
          "bdata": "KW4rVlclB0CN20fWq7APQODppKvUThdAHU751s/4JEDuXio6+lowQA==",
          "dtype": "f8"
         },
         "yaxis": "y2"
        },
        {
         "hovertemplate": "Cost: %{x}<br>Validity: %{y}",
         "marker": {
          "color": "#19D3F3",
          "size": 5,
          "symbol": "circle"
         },
         "mode": "lines+markers",
         "name": "$\\hat\\theta_s-\\epsilon$       ",
         "showlegend": true,
         "type": "scatter",
         "x": {
          "bdata": "AAAAAAAAAAB7FK5H4XqEP3sUrkfhepQ/uB6F61G4nj97FK5H4XqkP5qZmZmZmak/uB6F61G4rj/sUbgeheuxP3sUrkfherQ/CtejcD0Ktz+amZmZmZm5Pylcj8L1KLw/uB6F61G4vj+kcD0K16PAP+xRuB6F68E/MzMzMzMzwz97FK5H4XrEP8P1KFyPwsU/CtejcD0Kxz9SuB6F61HIP5qZmZmZmck/4XoUrkfhyj8pXI/C9SjMP3E9CtejcM0/uB6F61G4zj8AAAAAAADQP6RwPQrXo9A/SOF6FK5H0T/sUbgehevRP4/C9Shcj9I/MzMzMzMz0z/Xo3A9CtfTP3sUrkfhetQ/H4XrUbge1T/D9Shcj8LVP2ZmZmZmZtY/CtejcD0K1z+uR+F6FK7XP1K4HoXrUdg/9ihcj8L12D+amZmZmZnZPz0K16NwPdo/4XoUrkfh2j+F61G4HoXbPylcj8L1KNw/zczMzMzM3D9xPQrXo3DdPxSuR+F6FN4/uB6F61G43j9cj8L1KFzfPwAAAAAAAOA/UrgehetR4D+kcD0K16PgP/YoXI/C9eA/SOF6FK5H4T+amZmZmZnhP+xRuB6F6+E/PQrXo3A94j+PwvUoXI/iP+F6FK5H4eI/MzMzMzMz4z+F61G4HoXjP9ejcD0K1+M/KVyPwvUo5D97FK5H4XrkP83MzMzMzOQ/H4XrUbge5T9xPQrXo3DlP8P1KFyPwuU/FK5H4XoU5j9mZmZmZmbmP7gehetRuOY/CtejcD0K5z9cj8L1KFznP65H4XoUruc/AAAAAAAA6D9SuB6F61HoP6RwPQrXo+g/9ihcj8L16D9I4XoUrkfpP5qZmZmZmek/7FG4HoXr6T89CtejcD3qP4/C9Shcj+o/4XoUrkfh6j8zMzMzMzPrP4XrUbgehes/16NwPQrX6z8pXI/C9SjsP3sUrkfheuw/zczMzMzM7D8fhetRuB7tP3E9CtejcO0/w/UoXI/C7T8UrkfhehTuP2ZmZmZmZu4/uB6F61G47j8K16NwPQrvP1yPwvUoXO8/rkfhehSu7z8AAAAAAADwPw==",
          "dtype": "f8"
         },
         "xaxis": "x",
         "y": {
          "bdata": "HUPs5ctLaz9adqLOXymAP5ASlzNN+4Q/auLItGBxiz+DJ3v/QaaQP3pKI9uYKZU/OMAMOEjZmD+DWx5/adadPxjORGhK3KA/JrGOHagOoz/AnZu8IVClPxcXRl9WgaY/sPJNMOU0qD+euw8eBXGpP34wwAKmV6o/0o8/77T2qj/62JplLkurPyKeSjJSz6s/qmhQhoRMrD89JtCuSJ6sPyZT9++F+aw/9h4/cOcvrT/6IkUkD0atP3bGHrhaf60/kDYePcSmrT/dmW17CLStP+qqULUCyK0/mDxrL73crT8YGuuWAeqtP7Y8NDPp8K0/pVT9jEz4rT+lVP2MTPitP6VU/YxM+K0/Q7QNRsX/rT8jGZaLYxSuP/MhvGhhKq4/1jtZpwsyrj/o1PcpSDmuP3N14wwiR64/cDY4KDlWrj/tTyUF72uuPyVhX/kVi64/Wt0lJ8SZrj9CEnlCkqCuP93rBHy9qK4/TW6j30HHrj9KPq0HRN+uP4bLcmrN5q4/duzywTP9rj9Tb7ndvwWvP0OxtiyOFq8/g/L540snrz+WTW5sZkCvP2MuJ5mSUa8/ivwBEw1Zrz8mlUgcjWqvP5LMIYochK8/PR5nzi6erz+qLexhbtKvP6ot7GFu0q8/K/i8U3Pirz+9G4utj+qvP1qsCQsbArA/yLoQbkEGsD/DAmcebwqwP0Psj0gVD7A/CqbmHXclsD+2kaXANCqwP2XJ4A1tM7A/n3hO6jE8sD9t90r+4kmwPz0CkxRmTrA/SEbi6UpTsD+d5LN0IFywPxEWVxJ0YLA/D2dOHHhlsD8IDkD83W6wP7LOBN5zeLA/fJKCWh99sD/YD7hMt4GwPxIt2HM9lbA/hE3Zx+WesD9Ggz0Ahq2wP9QinduYsrA/LZioGJC8sD9t3WqQ6s+wP41Dxop05LA/eoN/hD7psD9Fqq/KBe6wP+3PHSpa+LA/0iR811L9sD+DMHqRTwexP4MwepFPB7E/pPRLeLURsT+Vv4ZlAyGxP1pOHg40O7E/8pV6+vZFsT9t0N5MjEuxP06StDhwVbE/JOVS3IdasT+zeR+o+RmxPw==",
          "dtype": "f8"
         },
         "yaxis": "y"
        },
        {
         "hovertemplate": "Cost: %{x}<br>Validity: %{y}",
         "marker": {
          "color": "#19D3F3",
          "size": 5,
          "symbol": "circle"
         },
         "mode": "lines+markers",
         "name": "$\\hat\\theta_s-\\epsilon$       ",
         "showlegend": false,
         "type": "scatter",
         "x": {
          "bdata": "AAAAAAAAAACamZmZmZnJP5qZmZmZmdk/mpmZmZmZ6T8AAAAAAADwPw==",
          "dtype": "f8"
         },
         "xaxis": "x2",
         "y": {
          "bdata": "VUgnSiosHUBOirldbTMgQA3/VFvwzyJAwobKJEXNKEDuXio6+lowQA==",
          "dtype": "f8"
         },
         "yaxis": "y2"
        },
        {
         "hovertemplate": "Cost: %{x}<br>Validity: %{y}",
         "marker": {
          "color": "#EF553B",
          "size": 5,
          "symbol": "circle"
         },
         "mode": "lines+markers",
         "name": "$\\hat\\theta_s$       ",
         "showlegend": true,
         "type": "scatter",
         "x": {
          "bdata": "AAAAAAAAAAB7FK5H4XqEP3sUrkfhepQ/uB6F61G4nj97FK5H4XqkP5qZmZmZmak/uB6F61G4rj/sUbgeheuxP3sUrkfherQ/CtejcD0Ktz+amZmZmZm5Pylcj8L1KLw/uB6F61G4vj+kcD0K16PAP+xRuB6F68E/MzMzMzMzwz97FK5H4XrEP8P1KFyPwsU/CtejcD0Kxz9SuB6F61HIP5qZmZmZmck/4XoUrkfhyj8pXI/C9SjMP3E9CtejcM0/uB6F61G4zj8AAAAAAADQP6RwPQrXo9A/SOF6FK5H0T/sUbgehevRP4/C9Shcj9I/MzMzMzMz0z/Xo3A9CtfTP3sUrkfhetQ/H4XrUbge1T/D9Shcj8LVP2ZmZmZmZtY/CtejcD0K1z+uR+F6FK7XP1K4HoXrUdg/9ihcj8L12D+amZmZmZnZPz0K16NwPdo/4XoUrkfh2j+F61G4HoXbPylcj8L1KNw/zczMzMzM3D9xPQrXo3DdPxSuR+F6FN4/uB6F61G43j9cj8L1KFzfPwAAAAAAAOA/UrgehetR4D+kcD0K16PgP/YoXI/C9eA/SOF6FK5H4T+amZmZmZnhP+xRuB6F6+E/PQrXo3A94j+PwvUoXI/iP+F6FK5H4eI/MzMzMzMz4z+F61G4HoXjP9ejcD0K1+M/KVyPwvUo5D97FK5H4XrkP83MzMzMzOQ/H4XrUbge5T9xPQrXo3DlP8P1KFyPwuU/FK5H4XoU5j9mZmZmZmbmP7gehetRuOY/CtejcD0K5z9cj8L1KFznP65H4XoUruc/AAAAAAAA6D9SuB6F61HoP6RwPQrXo+g/9ihcj8L16D9I4XoUrkfpP5qZmZmZmek/7FG4HoXr6T89CtejcD3qP4/C9Shcj+o/4XoUrkfh6j8zMzMzMzPrP4XrUbgehes/16NwPQrX6z8pXI/C9SjsP3sUrkfheuw/zczMzMzM7D8fhetRuB7tP3E9CtejcO0/w/UoXI/C7T8UrkfhehTuP2ZmZmZmZu4/uB6F61G47j8K16NwPQrvP1yPwvUoXO8/rkfhehSu7z8AAAAAAADwPw==",
          "dtype": "f8"
         },
         "xaxis": "x",
         "y": {
          "bdata": "AAAAAAAAAAAKME6saKNqP2CNKmk+t3Q/loCLO912gT/9YNDd83uIP91OXHJZtZE/AqItZHTilj/ar/XPflecP/py9JsxkKA/eEC1U9n4oj/hqx5bD8GkPyo6iDCdMKY/LnkAkj6npz/PEAbc+UeoP75OsdYp6qg/zq444+DLqT/azgXGh/apP4IgXDhHaKo/7jFCSIuoqj96lD9/vPqqP7K0PKEoDas/bb2dPeAiqz9oUFav71erP23jrnsyZ6s/c5VYeJ1/qz/Y7BC4XYarPw4eGt3dias/dtQlVz+bqz9g0qcY76mrP3ZBnCqpzqs/wDUiUBDaqz8qQQY64umrP2NFJogi7qs/cn7wVFT6qz+aDfRSvBSsP1M2Ueg+Jqw/kNcNTi44rD92GQPJPUusP1r2pJy8Yaw/E+338BtrrD91z/iZ0XmsP1sigmTTg6w/mtE6ZrqXrD8gx0SWWLKsP538+yPxx6w/et5V1H3orD/QFEGdjgStPzpoRPabKK0/jWMAccY5rT+WMF/X7kStP5YwX9fuRK0/HfoGYdBjrT/azaCKeGqtP7MrFU3qdq0/04sZ8tGErT+7674tN62tP4pdX33fzq0/GBrrlgHqrT+2PDQz6fCtP6VU/YxM+K0/Q7QNRsX/rT/A5Jjt0COuP9Y7WacLMq4/Ju/JPlFArj+SigunYF2uPyVhX/kVi64/Wt0lJ8SZrj+e5Epz5LCuP0o+rQdE364/pk7Ebbn+rj9Tb7ndvwWvP0su7bsFMK8/s9vL8B1Jrz8mlUgcjWqvP1pccanrjK8/qi3sYW7Srz+qLexhbtKvP4uGfraa868/yLoQbkEGsD9D7I9IFQ+wP7aRpcA0KrA/ZcngDW0zsD/VyB/oN0WwP0hG4ulKU7A/neSzdCBcsD8PZ04ceGWwP7LOBN5zeLA/fJKCWh99sD8SLdhzPZWwP822qZK4qLA/0FPhXU63sD/ocUkuL8uwP3qDf4Q+6bA/RaqvygXusD/SJHzXUv2wP4MwepFPB7E/1lp2AZ8WsT9aTh4ONDuxP23Q3kyMS7E/TpK0OHBVsT+zeR+o+RmxPw==",
          "dtype": "f8"
         },
         "yaxis": "y"
        },
        {
         "hovertemplate": "Cost: %{x}<br>Validity: %{y}",
         "marker": {
          "color": "#EF553B",
          "size": 5,
          "symbol": "circle"
         },
         "mode": "lines+markers",
         "name": "$\\hat\\theta_s$       ",
         "showlegend": false,
         "type": "scatter",
         "x": {
          "bdata": "AAAAAAAAAACamZmZmZnJP5qZmZmZmdk/mpmZmZmZ6T8AAAAAAADwPw==",
          "dtype": "f8"
         },
         "xaxis": "x2",
         "y": {
          "bdata": "4jSHn/noI0BVxByUSRYlQBBYrwhlXCZAg/yjiuiAK0DuXio6+lowQA==",
          "dtype": "f8"
         },
         "yaxis": "y2"
        },
        {
         "hovertemplate": "Cost: %{x}<br>Validity: %{y}",
         "marker": {
          "color": "#636EFA",
          "size": 5,
          "symbol": "circle"
         },
         "mode": "lines+markers",
         "name": "$\\hat\\theta_s+\\epsilon$       ",
         "showlegend": true,
         "type": "scatter",
         "x": {
          "bdata": "AAAAAAAAAAB7FK5H4XqEP3sUrkfhepQ/uB6F61G4nj97FK5H4XqkP5qZmZmZmak/uB6F61G4rj/sUbgeheuxP3sUrkfherQ/CtejcD0Ktz+amZmZmZm5Pylcj8L1KLw/uB6F61G4vj+kcD0K16PAP+xRuB6F68E/MzMzMzMzwz97FK5H4XrEP8P1KFyPwsU/CtejcD0Kxz9SuB6F61HIP5qZmZmZmck/4XoUrkfhyj8pXI/C9SjMP3E9CtejcM0/uB6F61G4zj8AAAAAAADQP6RwPQrXo9A/SOF6FK5H0T/sUbgehevRP4/C9Shcj9I/MzMzMzMz0z/Xo3A9CtfTP3sUrkfhetQ/H4XrUbge1T/D9Shcj8LVP2ZmZmZmZtY/CtejcD0K1z+uR+F6FK7XP1K4HoXrUdg/9ihcj8L12D+amZmZmZnZPz0K16NwPdo/4XoUrkfh2j+F61G4HoXbPylcj8L1KNw/zczMzMzM3D9xPQrXo3DdPxSuR+F6FN4/uB6F61G43j9cj8L1KFzfPwAAAAAAAOA/UrgehetR4D+kcD0K16PgP/YoXI/C9eA/SOF6FK5H4T+amZmZmZnhP+xRuB6F6+E/PQrXo3A94j+PwvUoXI/iP+F6FK5H4eI/MzMzMzMz4z+F61G4HoXjP9ejcD0K1+M/KVyPwvUo5D97FK5H4XrkP83MzMzMzOQ/H4XrUbge5T9xPQrXo3DlP8P1KFyPwuU/FK5H4XoU5j9mZmZmZmbmP7gehetRuOY/CtejcD0K5z9cj8L1KFznP65H4XoUruc/AAAAAAAA6D9SuB6F61HoP6RwPQrXo+g/9ihcj8L16D9I4XoUrkfpP5qZmZmZmek/7FG4HoXr6T89CtejcD3qP4/C9Shcj+o/4XoUrkfh6j8zMzMzMzPrP4XrUbgehes/16NwPQrX6z8pXI/C9SjsP3sUrkfheuw/zczMzMzM7D8fhetRuB7tP3E9CtejcO0/w/UoXI/C7T8UrkfhehTuP2ZmZmZmZu4/uB6F61G47j8K16NwPQrvP1yPwvUoXO8/rkfhehSu7z8AAAAAAADwPw==",
          "dtype": "f8"
         },
         "xaxis": "x",
         "y": {
          "bdata": "IjlZFnQiaz+mb6smNVt3PxjfKOTYu3w/F0U3lAa7hj9CI39yAh2QP8OUtweHtZQ/bldi/4PImj+NfnaM4GygP453z3Vs5aI/A/Kw1cV3pT/WA1mX6famP/iBR0jgZqg/fpm/67L7qD/VktsIjIKpP7Yttc0Z+ak/Jj9tLus/qj81JJeDjraqPzjOrEM4x6o/ozGnVCzhqj8qjEeboNCqP71JNbSLxao/4lnd5zK9qj8+2PLI+a+qP91EG0lCqqo/e1aSjzWmqj9glUtcyqCqP3NjupoPoKo/6iUwUFKgqj9tglhEWqSqP2A3VhC8qKo/20zT/oWqqj/NmF1MJbCqP7P3Bumht6o/xiTfNsXAqj9rHdrAb82qP4B6YY4C2ao/5oGbCnvlqj+Wo0rU+fqqPx1Wnz1OC6s/0GW5T98Wqz91pCxwlx6rP864Fo6uPqs/NjOuMNVSqz87rwrf6GqrP8ChVWhcgKs/c3JC01yNqz96FQQWo5urPwN6oOhLwKs/G8nqcwLiqz9jRSaIIu6rP1BBmEf2+qs/mg30UrwUrD+i7pvwrSasP56sF6mcVKw/UFSpMuRdrD9ubCOyIHCsP5XhHiJhiaw/UHmK4+KcrD+tM9l1CcOsPxNUP30D7qw/8H1osz4RrT/T94f9ZzStP5YwX9fuRK0/gJksIGlXrT9CSJVB2HCtP7MrFU3qdq0/AoLlg82ZrT+9EpIwDsKtP+bBVUtL460/pVT9jEz4rT+gaM4qsAauP8DkmO3QI64/E1YrvBQ5rj/oCAdSkWSuP1qdvtKQkq4/tq/3Vxaqrj9KPq0HRN+uP6ZOxG25/q4/c7OehEwfrz+z28vwHUmvPzNWcjecc68/vpCws4HKrz+qLexhbtKvP1qsCQsbArA/Q+yPSBUPsD+2kaXANCqwPyzS+VOpN7A/SEbi6UpTsD+d5LN0IFywP/tH38l9arA/fJKCWh99sD8SLdhzPZWwP0aDPQCGrbA/faKLJh/BsD96g3+EPumwP+3PHSpa+LA/gzB6kU8HsT/WWnYBnxaxP/KVevr2RbE/MzFDmYdQsT+zeR+o+RmxPw==",
          "dtype": "f8"
         },
         "yaxis": "y"
        },
        {
         "hovertemplate": "Cost: %{x}<br>Validity: %{y}",
         "marker": {
          "color": "#636EFA",
          "size": 5,
          "symbol": "circle"
         },
         "mode": "lines+markers",
         "name": "$\\hat\\theta_s+\\epsilon$       ",
         "showlegend": false,
         "type": "scatter",
         "x": {
          "bdata": "AAAAAAAAAACamZmZmZnJP5qZmZmZmdk/mpmZmZmZ6T8AAAAAAADwPw==",
          "dtype": "f8"
         },
         "xaxis": "x2",
         "y": {
          "bdata": "Yi8T5XENKEBdqSCcC9IoQDhdvnjJDipAQi8jtNdKLUDuXio6+lowQA==",
          "dtype": "f8"
         },
         "yaxis": "y2"
        },
        {
         "hovertemplate": "Cost: %{x}<br>Validity: %{y}",
         "marker": {
          "color": "#FECB52",
          "size": 5,
          "symbol": "circle"
         },
         "mode": "lines+markers",
         "name": "$\\hat\\theta_s+2\\epsilon$       ",
         "showlegend": true,
         "type": "scatter",
         "x": {
          "bdata": "AAAAAAAAAAB7FK5H4XqEP3sUrkfhepQ/uB6F61G4nj97FK5H4XqkP5qZmZmZmak/uB6F61G4rj/sUbgeheuxP3sUrkfherQ/CtejcD0Ktz+amZmZmZm5Pylcj8L1KLw/uB6F61G4vj+kcD0K16PAP+xRuB6F68E/MzMzMzMzwz97FK5H4XrEP8P1KFyPwsU/CtejcD0Kxz9SuB6F61HIP5qZmZmZmck/4XoUrkfhyj8pXI/C9SjMP3E9CtejcM0/uB6F61G4zj8AAAAAAADQP6RwPQrXo9A/SOF6FK5H0T/sUbgehevRP4/C9Shcj9I/MzMzMzMz0z/Xo3A9CtfTP3sUrkfhetQ/H4XrUbge1T/D9Shcj8LVP2ZmZmZmZtY/CtejcD0K1z+uR+F6FK7XP1K4HoXrUdg/9ihcj8L12D+amZmZmZnZPz0K16NwPdo/4XoUrkfh2j+F61G4HoXbPylcj8L1KNw/zczMzMzM3D9xPQrXo3DdPxSuR+F6FN4/uB6F61G43j9cj8L1KFzfPwAAAAAAAOA/UrgehetR4D+kcD0K16PgP/YoXI/C9eA/SOF6FK5H4T+amZmZmZnhP+xRuB6F6+E/PQrXo3A94j+PwvUoXI/iP+F6FK5H4eI/MzMzMzMz4z+F61G4HoXjP9ejcD0K1+M/KVyPwvUo5D97FK5H4XrkP83MzMzMzOQ/H4XrUbge5T9xPQrXo3DlP8P1KFyPwuU/FK5H4XoU5j9mZmZmZmbmP7gehetRuOY/CtejcD0K5z9cj8L1KFznP65H4XoUruc/AAAAAAAA6D9SuB6F61HoP6RwPQrXo+g/9ihcj8L16D9I4XoUrkfpP5qZmZmZmek/7FG4HoXr6T89CtejcD3qP4/C9Shcj+o/4XoUrkfh6j8zMzMzMzPrP4XrUbgehes/16NwPQrX6z8pXI/C9SjsP3sUrkfheuw/zczMzMzM7D8fhetRuB7tP3E9CtejcO0/w/UoXI/C7T8UrkfhehTuP2ZmZmZmZu4/uB6F61G47j8K16NwPQrvP1yPwvUoXO8/rkfhehSu7z8AAAAAAADwPw==",
          "dtype": "f8"
         },
         "xaxis": "x",
         "y": {
          "bdata": "Xon6Wdv3ij8T5FSiN7CMP6BsaFK38I0/mIrjNUtCkT9x6ktCToCWP4PtpTqIhZ0/5qTof2jKoT96c8jVZu2kPw3mfiiH0qc/uTLEe8WQqT8gDMHD/AerP6PxcqRGW6s/A3r9dKp1rD8deUmQ7bisP4U+762M1qw/ZXYKONYgrT+OJXptfR6tP7v2eFjY9qw/1nEnILnTrD+FwitLFLCsP/YRiKbajaw/dZ1hnHBdrD9i2rosvTisP+JGcpMGDaw/DRzwYTvqqz/QrnnfAsGrP2WUa7N1lqs/7T1OEClzqz+tiCFuv0urPyPcCsUYPas/U1NbB58aqz/TvgX5zAerP21Y4gNW7Ko/KHDJtULcqj/LhuOjjsyqP+ORNhu0wKo/coJ93d6wqj9Ame3tbquqP6VIWyFPpao/wEcWLHuhqj87LFTFeqCqP4pDrmKCpKo/bV+DdI6pqj/6aamnia6qP7P3Bumht6o/PvSIrcXGqj92aelcnc6qPx12m6yj46o/FTK2UQnzqj/mluYXvBCrP5shdYjsG6s/jf5f9Mwuqz9Y8tIIvk+rP20QwevEbqs/KG8BdsF9qz/do4DCjpWrP0B+qQbVtas/kJDqsIHbqz8zalH/AOqrPxA8HJajDKw/Q6Pd+xEirD8K//5gGFCsPwOdy6+qYqw/qE3IMll2rD+V4R4iYYmsPyODfzSvvaw/E1Q/fQPurD8jAB/flx2tP6UQhFs0Oq0/OqgY9dpKrT8d+gZh0GOtP0JIlUHYcK0/ykKUI4ygrT9FRrIzl9ytPwYytPBk8a0/Q7QNRsX/rT/A5Jjt0COuP4X1CFRqSK4/elVgnrJ0rj/2trFg76GuP2IJWux12K4/pk7Ebbn+rj9dm4J+ujivPxogbLZ1Wq8/Qko+Xkq4rz+qLexhbtKvP8i6EG5BBrA/H9Zc7hocsD9lyeANbTOwPz0CkxRmTrA/neSzdCBcsD/7R9/JfWqwP3ySgloffbA/0k3nUxeksD8tmKgYkLywP3qDf4Q+6bA/0iR811L9sD+DMHqRTwexP7rIetLgK7E/bdDeTIxLsT+zeR+o+RmxPw==",
          "dtype": "f8"
         },
         "yaxis": "y"
        },
        {
         "hovertemplate": "Cost: %{x}<br>Validity: %{y}",
         "marker": {
          "color": "#FECB52",
          "size": 5,
          "symbol": "circle"
         },
         "mode": "lines+markers",
         "name": "$\\hat\\theta_s+2\\epsilon$       ",
         "showlegend": false,
         "type": "scatter",
         "x": {
          "bdata": "AAAAAAAAAACamZmZmZnJP5qZmZmZmdk/mpmZmZmZ6T8AAAAAAADwPw==",
          "dtype": "f8"
         },
         "xaxis": "x2",
         "y": {
          "bdata": "C49I46ifK0Cdp0rxB/krQBL7h9Kj0yxA0ghh2cruLkDuXio6+lowQA==",
          "dtype": "f8"
         },
         "yaxis": "y2"
        }
       ],
       "layout": {
        "annotations": [
         {
          "font": {
           "family": "Times New Roman",
           "size": 25
          },
          "showarrow": false,
          "text": "Algorithm 1",
          "x": 0.225,
          "xanchor": "center",
          "xref": "paper",
          "y": 1,
          "yanchor": "bottom",
          "yref": "paper"
         },
         {
          "font": {
           "family": "Times New Roman",
           "size": 25
          },
          "showarrow": false,
          "text": "ROAR",
          "x": 0.775,
          "xanchor": "center",
          "xref": "paper",
          "y": 1,
          "yanchor": "bottom",
          "yref": "paper"
         }
        ],
        "height": 540,
        "legend": {
         "bgcolor": "rgba(255, 255, 255, 0.7)",
         "bordercolor": "lightgrey",
         "borderwidth": 1,
         "font": {
          "color": "black",
          "family": "Times New Roman",
          "size": 15
         },
         "orientation": "v",
         "x": 0.44,
         "xanchor": "right",
         "y": 0.025
        },
        "margin": {
         "b": 1,
         "l": 5,
         "r": 10,
         "t": 35
        },
        "paper_bgcolor": "white",
        "plot_bgcolor": "white",
        "template": {
         "data": {
          "bar": [
           {
            "error_x": {
             "color": "#2a3f5f"
            },
            "error_y": {
             "color": "#2a3f5f"
            },
            "marker": {
             "line": {
              "color": "#E5ECF6",
              "width": 0.5
             },
             "pattern": {
              "fillmode": "overlay",
              "size": 10,
              "solidity": 0.2
             }
            },
            "type": "bar"
           }
          ],
          "barpolar": [
           {
            "marker": {
             "line": {
              "color": "#E5ECF6",
              "width": 0.5
             },
             "pattern": {
              "fillmode": "overlay",
              "size": 10,
              "solidity": 0.2
             }
            },
            "type": "barpolar"
           }
          ],
          "carpet": [
           {
            "aaxis": {
             "endlinecolor": "#2a3f5f",
             "gridcolor": "white",
             "linecolor": "white",
             "minorgridcolor": "white",
             "startlinecolor": "#2a3f5f"
            },
            "baxis": {
             "endlinecolor": "#2a3f5f",
             "gridcolor": "white",
             "linecolor": "white",
             "minorgridcolor": "white",
             "startlinecolor": "#2a3f5f"
            },
            "type": "carpet"
           }
          ],
          "choropleth": [
           {
            "colorbar": {
             "outlinewidth": 0,
             "ticks": ""
            },
            "type": "choropleth"
           }
          ],
          "contour": [
           {
            "colorbar": {
             "outlinewidth": 0,
             "ticks": ""
            },
            "colorscale": [
             [
              0,
              "#0d0887"
             ],
             [
              0.1111111111111111,
              "#46039f"
             ],
             [
              0.2222222222222222,
              "#7201a8"
             ],
             [
              0.3333333333333333,
              "#9c179e"
             ],
             [
              0.4444444444444444,
              "#bd3786"
             ],
             [
              0.5555555555555556,
              "#d8576b"
             ],
             [
              0.6666666666666666,
              "#ed7953"
             ],
             [
              0.7777777777777778,
              "#fb9f3a"
             ],
             [
              0.8888888888888888,
              "#fdca26"
             ],
             [
              1,
              "#f0f921"
             ]
            ],
            "type": "contour"
           }
          ],
          "contourcarpet": [
           {
            "colorbar": {
             "outlinewidth": 0,
             "ticks": ""
            },
            "type": "contourcarpet"
           }
          ],
          "heatmap": [
           {
            "colorbar": {
             "outlinewidth": 0,
             "ticks": ""
            },
            "colorscale": [
             [
              0,
              "#0d0887"
             ],
             [
              0.1111111111111111,
              "#46039f"
             ],
             [
              0.2222222222222222,
              "#7201a8"
             ],
             [
              0.3333333333333333,
              "#9c179e"
             ],
             [
              0.4444444444444444,
              "#bd3786"
             ],
             [
              0.5555555555555556,
              "#d8576b"
             ],
             [
              0.6666666666666666,
              "#ed7953"
             ],
             [
              0.7777777777777778,
              "#fb9f3a"
             ],
             [
              0.8888888888888888,
              "#fdca26"
             ],
             [
              1,
              "#f0f921"
             ]
            ],
            "type": "heatmap"
           }
          ],
          "histogram": [
           {
            "marker": {
             "pattern": {
              "fillmode": "overlay",
              "size": 10,
              "solidity": 0.2
             }
            },
            "type": "histogram"
           }
          ],
          "histogram2d": [
           {
            "colorbar": {
             "outlinewidth": 0,
             "ticks": ""
            },
            "colorscale": [
             [
              0,
              "#0d0887"
             ],
             [
              0.1111111111111111,
              "#46039f"
             ],
             [
              0.2222222222222222,
              "#7201a8"
             ],
             [
              0.3333333333333333,
              "#9c179e"
             ],
             [
              0.4444444444444444,
              "#bd3786"
             ],
             [
              0.5555555555555556,
              "#d8576b"
             ],
             [
              0.6666666666666666,
              "#ed7953"
             ],
             [
              0.7777777777777778,
              "#fb9f3a"
             ],
             [
              0.8888888888888888,
              "#fdca26"
             ],
             [
              1,
              "#f0f921"
             ]
            ],
            "type": "histogram2d"
           }
          ],
          "histogram2dcontour": [
           {
            "colorbar": {
             "outlinewidth": 0,
             "ticks": ""
            },
            "colorscale": [
             [
              0,
              "#0d0887"
             ],
             [
              0.1111111111111111,
              "#46039f"
             ],
             [
              0.2222222222222222,
              "#7201a8"
             ],
             [
              0.3333333333333333,
              "#9c179e"
             ],
             [
              0.4444444444444444,
              "#bd3786"
             ],
             [
              0.5555555555555556,
              "#d8576b"
             ],
             [
              0.6666666666666666,
              "#ed7953"
             ],
             [
              0.7777777777777778,
              "#fb9f3a"
             ],
             [
              0.8888888888888888,
              "#fdca26"
             ],
             [
              1,
              "#f0f921"
             ]
            ],
            "type": "histogram2dcontour"
           }
          ],
          "mesh3d": [
           {
            "colorbar": {
             "outlinewidth": 0,
             "ticks": ""
            },
            "type": "mesh3d"
           }
          ],
          "parcoords": [
           {
            "line": {
             "colorbar": {
              "outlinewidth": 0,
              "ticks": ""
             }
            },
            "type": "parcoords"
           }
          ],
          "pie": [
           {
            "automargin": true,
            "type": "pie"
           }
          ],
          "scatter": [
           {
            "fillpattern": {
             "fillmode": "overlay",
             "size": 10,
             "solidity": 0.2
            },
            "type": "scatter"
           }
          ],
          "scatter3d": [
           {
            "line": {
             "colorbar": {
              "outlinewidth": 0,
              "ticks": ""
             }
            },
            "marker": {
             "colorbar": {
              "outlinewidth": 0,
              "ticks": ""
             }
            },
            "type": "scatter3d"
           }
          ],
          "scattercarpet": [
           {
            "marker": {
             "colorbar": {
              "outlinewidth": 0,
              "ticks": ""
             }
            },
            "type": "scattercarpet"
           }
          ],
          "scattergeo": [
           {
            "marker": {
             "colorbar": {
              "outlinewidth": 0,
              "ticks": ""
             }
            },
            "type": "scattergeo"
           }
          ],
          "scattergl": [
           {
            "marker": {
             "colorbar": {
              "outlinewidth": 0,
              "ticks": ""
             }
            },
            "type": "scattergl"
           }
          ],
          "scattermap": [
           {
            "marker": {
             "colorbar": {
              "outlinewidth": 0,
              "ticks": ""
             }
            },
            "type": "scattermap"
           }
          ],
          "scattermapbox": [
           {
            "marker": {
             "colorbar": {
              "outlinewidth": 0,
              "ticks": ""
             }
            },
            "type": "scattermapbox"
           }
          ],
          "scatterpolar": [
           {
            "marker": {
             "colorbar": {
              "outlinewidth": 0,
              "ticks": ""
             }
            },
            "type": "scatterpolar"
           }
          ],
          "scatterpolargl": [
           {
            "marker": {
             "colorbar": {
              "outlinewidth": 0,
              "ticks": ""
             }
            },
            "type": "scatterpolargl"
           }
          ],
          "scatterternary": [
           {
            "marker": {
             "colorbar": {
              "outlinewidth": 0,
              "ticks": ""
             }
            },
            "type": "scatterternary"
           }
          ],
          "surface": [
           {
            "colorbar": {
             "outlinewidth": 0,
             "ticks": ""
            },
            "colorscale": [
             [
              0,
              "#0d0887"
             ],
             [
              0.1111111111111111,
              "#46039f"
             ],
             [
              0.2222222222222222,
              "#7201a8"
             ],
             [
              0.3333333333333333,
              "#9c179e"
             ],
             [
              0.4444444444444444,
              "#bd3786"
             ],
             [
              0.5555555555555556,
              "#d8576b"
             ],
             [
              0.6666666666666666,
              "#ed7953"
             ],
             [
              0.7777777777777778,
              "#fb9f3a"
             ],
             [
              0.8888888888888888,
              "#fdca26"
             ],
             [
              1,
              "#f0f921"
             ]
            ],
            "type": "surface"
           }
          ],
          "table": [
           {
            "cells": {
             "fill": {
              "color": "#EBF0F8"
             },
             "line": {
              "color": "white"
             }
            },
            "header": {
             "fill": {
              "color": "#C8D4E3"
             },
             "line": {
              "color": "white"
             }
            },
            "type": "table"
           }
          ]
         },
         "layout": {
          "annotationdefaults": {
           "arrowcolor": "#2a3f5f",
           "arrowhead": 0,
           "arrowwidth": 1
          },
          "autotypenumbers": "strict",
          "coloraxis": {
           "colorbar": {
            "outlinewidth": 0,
            "ticks": ""
           }
          },
          "colorscale": {
           "diverging": [
            [
             0,
             "#8e0152"
            ],
            [
             0.1,
             "#c51b7d"
            ],
            [
             0.2,
             "#de77ae"
            ],
            [
             0.3,
             "#f1b6da"
            ],
            [
             0.4,
             "#fde0ef"
            ],
            [
             0.5,
             "#f7f7f7"
            ],
            [
             0.6,
             "#e6f5d0"
            ],
            [
             0.7,
             "#b8e186"
            ],
            [
             0.8,
             "#7fbc41"
            ],
            [
             0.9,
             "#4d9221"
            ],
            [
             1,
             "#276419"
            ]
           ],
           "sequential": [
            [
             0,
             "#0d0887"
            ],
            [
             0.1111111111111111,
             "#46039f"
            ],
            [
             0.2222222222222222,
             "#7201a8"
            ],
            [
             0.3333333333333333,
             "#9c179e"
            ],
            [
             0.4444444444444444,
             "#bd3786"
            ],
            [
             0.5555555555555556,
             "#d8576b"
            ],
            [
             0.6666666666666666,
             "#ed7953"
            ],
            [
             0.7777777777777778,
             "#fb9f3a"
            ],
            [
             0.8888888888888888,
             "#fdca26"
            ],
            [
             1,
             "#f0f921"
            ]
           ],
           "sequentialminus": [
            [
             0,
             "#0d0887"
            ],
            [
             0.1111111111111111,
             "#46039f"
            ],
            [
             0.2222222222222222,
             "#7201a8"
            ],
            [
             0.3333333333333333,
             "#9c179e"
            ],
            [
             0.4444444444444444,
             "#bd3786"
            ],
            [
             0.5555555555555556,
             "#d8576b"
            ],
            [
             0.6666666666666666,
             "#ed7953"
            ],
            [
             0.7777777777777778,
             "#fb9f3a"
            ],
            [
             0.8888888888888888,
             "#fdca26"
            ],
            [
             1,
             "#f0f921"
            ]
           ]
          },
          "colorway": [
           "#636efa",
           "#EF553B",
           "#00cc96",
           "#ab63fa",
           "#FFA15A",
           "#19d3f3",
           "#FF6692",
           "#B6E880",
           "#FF97FF",
           "#FECB52"
          ],
          "font": {
           "color": "#2a3f5f"
          },
          "geo": {
           "bgcolor": "white",
           "lakecolor": "white",
           "landcolor": "#E5ECF6",
           "showlakes": true,
           "showland": true,
           "subunitcolor": "white"
          },
          "hoverlabel": {
           "align": "left"
          },
          "hovermode": "closest",
          "mapbox": {
           "style": "light"
          },
          "paper_bgcolor": "white",
          "plot_bgcolor": "#E5ECF6",
          "polar": {
           "angularaxis": {
            "gridcolor": "white",
            "linecolor": "white",
            "ticks": ""
           },
           "bgcolor": "#E5ECF6",
           "radialaxis": {
            "gridcolor": "white",
            "linecolor": "white",
            "ticks": ""
           }
          },
          "scene": {
           "xaxis": {
            "backgroundcolor": "#E5ECF6",
            "gridcolor": "white",
            "gridwidth": 2,
            "linecolor": "white",
            "showbackground": true,
            "ticks": "",
            "zerolinecolor": "white"
           },
           "yaxis": {
            "backgroundcolor": "#E5ECF6",
            "gridcolor": "white",
            "gridwidth": 2,
            "linecolor": "white",
            "showbackground": true,
            "ticks": "",
            "zerolinecolor": "white"
           },
           "zaxis": {
            "backgroundcolor": "#E5ECF6",
            "gridcolor": "white",
            "gridwidth": 2,
            "linecolor": "white",
            "showbackground": true,
            "ticks": "",
            "zerolinecolor": "white"
           }
          },
          "shapedefaults": {
           "line": {
            "color": "#2a3f5f"
           }
          },
          "ternary": {
           "aaxis": {
            "gridcolor": "white",
            "linecolor": "white",
            "ticks": ""
           },
           "baxis": {
            "gridcolor": "white",
            "linecolor": "white",
            "ticks": ""
           },
           "bgcolor": "#E5ECF6",
           "caxis": {
            "gridcolor": "white",
            "linecolor": "white",
            "ticks": ""
           }
          },
          "title": {
           "x": 0.05
          },
          "xaxis": {
           "automargin": true,
           "gridcolor": "white",
           "linecolor": "white",
           "ticks": "",
           "title": {
            "standoff": 15
           },
           "zerolinecolor": "white",
           "zerolinewidth": 2
          },
          "yaxis": {
           "automargin": true,
           "gridcolor": "white",
           "linecolor": "white",
           "ticks": "",
           "title": {
            "standoff": 15
           },
           "zerolinecolor": "white",
           "zerolinewidth": 2
          }
         }
        },
        "width": 1200,
        "xaxis": {
         "anchor": "y",
         "domain": [
          0,
          0.45
         ],
         "gridcolor": "lightgrey",
         "linecolor": "black",
         "mirror": true,
         "showline": true,
         "tickfont": {
          "color": "black",
          "family": "Times New Roman",
          "size": 20
         },
         "title": {
          "font": {
           "color": "black",
           "family": "Times New Roman",
           "size": 25
          },
          "text": "$\\beta$"
         },
         "zerolinecolor": "lightgrey",
         "zerolinewidth": 1
        },
        "xaxis2": {
         "anchor": "y2",
         "domain": [
          0.55,
          1
         ],
         "gridcolor": "lightgrey",
         "linecolor": "black",
         "mirror": true,
         "showline": true,
         "tickfont": {
          "color": "black",
          "family": "Times New Roman",
          "size": 20
         },
         "title": {
          "font": {
           "color": "black",
           "family": "Times New Roman",
           "size": 25
          },
          "text": "$\\beta$"
         },
         "zerolinecolor": "lightgrey",
         "zerolinewidth": 1
        },
        "yaxis": {
         "anchor": "x",
         "domain": [
          0,
          1
         ],
         "gridcolor": "lightgrey",
         "linecolor": "black",
         "mirror": true,
         "rangemode": "tozero",
         "showline": true,
         "tickfont": {
          "color": "black",
          "family": "Times New Roman",
          "size": 20
         },
         "title": {
          "font": {
           "color": "black",
           "family": "Times New Roman",
           "size": 25
          },
          "text": "Smoothness"
         },
         "zerolinecolor": "lightgrey",
         "zerolinewidth": 1
        },
        "yaxis2": {
         "anchor": "x2",
         "domain": [
          0,
          1
         ],
         "gridcolor": "lightgrey",
         "linecolor": "black",
         "mirror": true,
         "rangemode": "tozero",
         "showline": true,
         "tickfont": {
          "color": "black",
          "family": "Times New Roman",
          "size": 20
         },
         "zerolinecolor": "lightgrey",
         "zerolinewidth": 1
        }
       }
      }
     },
     "metadata": {},
     "output_type": "display_data"
    }
   ],
   "source": [
    "colors = ['#FF97FF','#19D3F3','#EF553B','#636EFA','#FECB52','#AB63FA','#FFA15A','#636EFA']\n",
    "pnames = ['theta_s-2\\epsilon', 'theta_s-\\epsilon', 'theta_s', 'theta_s+\\epsilon', 'theta_s+2\\epsilon']\n",
    "\n",
    "font_family = 'Times New Roman'\n",
    "font_color = 'black'\n",
    "width, height = 1200, 540\n",
    "\n",
    "symbols = ['circle', 'x', 'x', 'circle', 'triangle-up', 'star']\n",
    "size = [7, 7, 7, 5, 8, 10]\n",
    "show_errors = False\n",
    "\n",
    "fig = go.Figure()\n",
    "fig = make_subplots(cols=2, rows=1, subplot_titles=['Algorithm 1', 'ROAR'])\n",
    "\n",
    "for i, p in enumerate(pnames):\n",
    "    for alg in df_im['alg'].unique():\n",
    "        df_alg = df_im[(df_im['alg'] == alg) & (df_im['p'] == p)].sort_values(['beta'], ascending=True)\n",
    "        t = '\\\\theta_s{p}'.format(p=f'{p.split(\"_s\")[-1]}')\n",
    "\n",
    "        fig.add_trace(go.Scatter(\n",
    "            x = df_alg['beta'],\n",
    "            y = df_alg['J'],\n",
    "            marker = dict(color=colors[i], symbol='circle', size=5),\n",
    "            mode = 'lines+markers',\n",
    "            name = r'$\\hat{theta}$       '.format(theta=t),\n",
    "            hovertemplate='Cost: %{x}<br>Validity: %{y}',\n",
    "            showlegend=alg=='Alg1',\n",
    "        ),col=1 if alg=='Alg1' else 2, row=1)\n",
    "\n",
    "fig.update_xaxes(\n",
    "    title=dict(\n",
    "        text=r'$\\beta$',\n",
    "        font=dict(\n",
    "            family=font_family,\n",
    "            color=font_color,\n",
    "            size=25\n",
    "        )\n",
    "        ), \n",
    "    showline=True, \n",
    "    mirror=True,\n",
    "    linecolor='black', \n",
    "    gridcolor='lightgrey', \n",
    "    zerolinewidth=1,\n",
    "    zerolinecolor='lightgrey',\n",
    "    tickfont=dict(\n",
    "            family=font_family,\n",
    "            color=font_color,\n",
    "            size=20\n",
    "        )\n",
    "    )\n",
    "\n",
    "\n",
    "fig.update_yaxes(\n",
    "    title=dict(\n",
    "        text='Smoothness',\n",
    "        font=dict(\n",
    "            family=font_family,\n",
    "            color=font_color,\n",
    "            size=25\n",
    "        ), \n",
    "        ), \n",
    "    showline=True, \n",
    "    mirror=True,\n",
    "    linecolor='black', \n",
    "    gridcolor='lightgrey',\n",
    "    zerolinewidth=1,\n",
    "    zerolinecolor='lightgrey',\n",
    "    tickfont=dict(\n",
    "            family=font_family,\n",
    "            color=font_color,\n",
    "            size=20\n",
    "        ),\n",
    "    rangemode='tozero',\n",
    "    col=1\n",
    "    )\n",
    "\n",
    "fig.update_yaxes(\n",
    "    showline=True, \n",
    "    mirror=True,\n",
    "    linecolor='black', \n",
    "    gridcolor='lightgrey',\n",
    "    zerolinewidth=1,\n",
    "    zerolinecolor='lightgrey',\n",
    "    tickfont=dict(\n",
    "            family=font_family,\n",
    "            color=font_color,\n",
    "            size=20\n",
    "        ),\n",
    "    rangemode='tozero',\n",
    "    col=2\n",
    "    )\n",
    "\n",
    "fig.update_layout(\n",
    "    legend=dict(\n",
    "        x=0.440, \n",
    "        y=0.025, \n",
    "        # y=0.975, \n",
    "        # x=0.025, \n",
    "        orientation='v',\n",
    "        xanchor='right',\n",
    "        font=dict(\n",
    "            family=font_family,\n",
    "            color=font_color,\n",
    "            size=15\n",
    "            ), \n",
    "        bgcolor='rgba(255, 255, 255, 0.7)',\n",
    "        bordercolor='lightgrey',\n",
    "        borderwidth=1,\n",
    "        ),\n",
    "    width=width,\n",
    "    height=height,\n",
    "    plot_bgcolor='white',\n",
    "    paper_bgcolor='white',\n",
    "    margin=dict(r=10, l=5, t=35, b=1)\n",
    "    )\n",
    "\n",
    "fig.update_annotations(font_size=25, font_family=font_family)\n",
    "\n",
    "print(base_model.upper(), dataset.upper())\n",
    "fig.show()"
   ]
  },
  {
   "cell_type": "code",
   "execution_count": 27,
   "metadata": {},
   "outputs": [],
   "source": [
    "fig.write_image(f'../figures/smoothness/smoothness_{base_model}_{dataset}.pdf')"
   ]
  }
 ],
 "metadata": {
  "kernelspec": {
   "display_name": ".env",
   "language": "python",
   "name": "python3"
  },
  "language_info": {
   "codemirror_mode": {
    "name": "ipython",
    "version": 3
   },
   "file_extension": ".py",
   "mimetype": "text/x-python",
   "name": "python",
   "nbconvert_exporter": "python",
   "pygments_lexer": "ipython3",
   "version": "3.12.7"
  }
 },
 "nbformat": 4,
 "nbformat_minor": 2
}
